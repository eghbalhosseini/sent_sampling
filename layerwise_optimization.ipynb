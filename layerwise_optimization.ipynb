{
 "cells": [
  {
   "cell_type": "code",
   "execution_count": 1,
   "metadata": {},
   "outputs": [
    {

     "name": "stdout",
     "output_type": "stream",
     "text": [
      "Loading lookup from /om/user/ehoseini/miniconda3/lib/python3.7/site-packages/brainio_collection/lookup.csv\n"

     ]
    },
    {
     "name": "stderr",
     "output_type": "stream",
     "text": [
     ]
    }
   ],
   "source": [
    "import importlib\n",
    "import utils\n",
    "importlib.reload(utils.optim_utils)\n",
    "importlib.reload(utils)\n",
    "\n",
    "from utils import extract_pool\n",
    "from tqdm import tqdm\n",
    "import tqdm.notebook as tq\n",
    "from time import sleep\n",
    "from tqdm import tqdm_notebook\n",
    "import pandas as pd \n",
    "import utils.optim_utils\n",
    "from utils.data_utils import load_obj, SAVE_DIR, UD_PARENT, RESULTS_DIR, LEX_PATH_SET, save_obj\n",
    "importlib.reload(utils.optim_utils)\n",
    "from utils.optim_utils import optim, optim_pool ,pt_create_corr_rdm_short\n",
    "import torch \n",
    "import numpy as np \n",
    "import matplotlib.pyplot as plt \n",
    "from scipy.spatial.distance import pdist, squareform\n",
    "import os\n",
    "import matplotlib.pyplot as plt\n",
    "import matplotlib.cm as cm\n",
    "import matplotlib as mpl\n",
    "from time import sleep\n",
    "ANALYZE_DIR='/om/user/ehoseini/MyData/sent_sampling/analysis/'"
   ]
  },
  {
   "cell_type": "code",
   "execution_count": 2,
   "metadata": {},
   "outputs": [
    {
     "data": {
      "text/plain": [
       "'GeForce GTX TITAN X'"
      ]
     },
     "execution_count": 2,
     "metadata": {},
     "output_type": "execute_result"
    }
   ],
   "source": [
    "torch.cuda.get_device_name(0)"
   ]
  },
  {
   "cell_type": "code",
   "execution_count": 129,
   "metadata": {},
   "outputs": [],
   "source": [
    "model='ctrl'\n",
    "pereira='best_performing_pereira_1'\n",
    "name=f'group={pereira}-dataset={dataset}-{activatiion_type}-bench=None-ave={average}'\n",
    "test=extract_pool[name]()\n",
    "\n",
    "pereira_layer=model_layers[test.model_spec.index(model)]\n",
    "pereira_layer_id=test.layer_spec[test.model_spec.index(model)]\n",
    "\n"
   ]
  },
  {
   "cell_type": "markdown",
   "metadata": {},
   "source": [
    "# extract representations "
   ]
  },
  {
   "cell_type": "code",
   "execution_count": 130,
   "metadata": {},
   "outputs": [
    {
     "name": "stdout",
     "output_type": "stream",
     "text": [
      "loading /om/user/ehoseini/MyData/Universal Dependencies 2.6/ud_sentencez_data_token_filter_v3_no_dup.pkl\n"
     ]
    },
    {
     "name": "stderr",
     "output_type": "stream",
     "text": [
      "934it [00:00, 187996.93it/s]\n",
      "934it [00:00, 142874.65it/s]\n",
      "935it [00:00, 149243.61it/s]\n",
      "934it [00:00, 182905.96it/s]\n",
      "934it [00:00, 156199.36it/s]\n",
      "935it [00:00, 162650.83it/s]\n",
      "934it [00:00, 183850.19it/s]\n",
      "934it [00:00, 152046.57it/s]\n",
      "935it [00:00, 157049.15it/s]\n"
     ]
    },
    {
     "name": "stdout",
     "output_type": "stream",
     "text": [
      "extracting network activations for ctrl\n",
      "ud_sentencez_token_filter_v3_ctrl_layer_0_activation_ave_False.pkl already exists, loading...\n",
      "loading /om/user/ehoseini/MyData/sent_sampling/ud_sentencez_token_filter_v3_ctrl_layer_0_activation_ave_False.pkl\n",
      "adding activations to set\n",
      "extracting network activations for ctrl\n",
      "ud_sentencez_token_filter_v3_ctrl_layer_1_activation_ave_False.pkl already exists, loading...\n",
      "loading /om/user/ehoseini/MyData/sent_sampling/ud_sentencez_token_filter_v3_ctrl_layer_1_activation_ave_False.pkl\n",
      "adding activations to set\n",
      "extracting network activations for ctrl\n",
      "ud_sentencez_token_filter_v3_ctrl_layer_2_activation_ave_False.pkl already exists, loading...\n",
      "loading /om/user/ehoseini/MyData/sent_sampling/ud_sentencez_token_filter_v3_ctrl_layer_2_activation_ave_False.pkl\n",
      "adding activations to set\n",
      "extracting network activations for ctrl\n",
      "ud_sentencez_token_filter_v3_ctrl_layer_3_activation_ave_False.pkl already exists, loading...\n",
      "loading /om/user/ehoseini/MyData/sent_sampling/ud_sentencez_token_filter_v3_ctrl_layer_3_activation_ave_False.pkl\n",
      "adding activations to set\n",
      "extracting network activations for ctrl\n",
      "ud_sentencez_token_filter_v3_ctrl_layer_4_activation_ave_False.pkl already exists, loading...\n",
      "loading /om/user/ehoseini/MyData/sent_sampling/ud_sentencez_token_filter_v3_ctrl_layer_4_activation_ave_False.pkl\n",
      "adding activations to set\n",
      "extracting network activations for ctrl\n",
      "ud_sentencez_token_filter_v3_ctrl_layer_5_activation_ave_False.pkl already exists, loading...\n",
      "loading /om/user/ehoseini/MyData/sent_sampling/ud_sentencez_token_filter_v3_ctrl_layer_5_activation_ave_False.pkl\n",
      "adding activations to set\n",
      "extracting network activations for ctrl\n",
      "ud_sentencez_token_filter_v3_ctrl_layer_6_activation_ave_False.pkl already exists, loading...\n",
      "loading /om/user/ehoseini/MyData/sent_sampling/ud_sentencez_token_filter_v3_ctrl_layer_6_activation_ave_False.pkl\n",
      "adding activations to set\n",
      "extracting network activations for ctrl\n",
      "ud_sentencez_token_filter_v3_ctrl_layer_7_activation_ave_False.pkl already exists, loading...\n",
      "loading /om/user/ehoseini/MyData/sent_sampling/ud_sentencez_token_filter_v3_ctrl_layer_7_activation_ave_False.pkl\n",
      "adding activations to set\n",
      "extracting network activations for ctrl\n",
      "ud_sentencez_token_filter_v3_ctrl_layer_8_activation_ave_False.pkl already exists, loading...\n",
      "loading /om/user/ehoseini/MyData/sent_sampling/ud_sentencez_token_filter_v3_ctrl_layer_8_activation_ave_False.pkl\n",
      "adding activations to set\n",
      "extracting network activations for ctrl\n",
      "ud_sentencez_token_filter_v3_ctrl_layer_9_activation_ave_False.pkl already exists, loading...\n",
      "loading /om/user/ehoseini/MyData/sent_sampling/ud_sentencez_token_filter_v3_ctrl_layer_9_activation_ave_False.pkl\n",
      "adding activations to set\n",
      "extracting network activations for ctrl\n",
      "ud_sentencez_token_filter_v3_ctrl_layer_10_activation_ave_False.pkl already exists, loading...\n",
      "loading /om/user/ehoseini/MyData/sent_sampling/ud_sentencez_token_filter_v3_ctrl_layer_10_activation_ave_False.pkl\n",
      "adding activations to set\n",
      "extracting network activations for ctrl\n",
      "ud_sentencez_token_filter_v3_ctrl_layer_11_activation_ave_False.pkl already exists, loading...\n",
      "loading /om/user/ehoseini/MyData/sent_sampling/ud_sentencez_token_filter_v3_ctrl_layer_11_activation_ave_False.pkl\n",
      "adding activations to set\n",
      "extracting network activations for ctrl\n",
      "ud_sentencez_token_filter_v3_ctrl_layer_12_activation_ave_False.pkl already exists, loading...\n",
      "loading /om/user/ehoseini/MyData/sent_sampling/ud_sentencez_token_filter_v3_ctrl_layer_12_activation_ave_False.pkl\n",
      "adding activations to set\n",
      "extracting network activations for ctrl\n",
      "ud_sentencez_token_filter_v3_ctrl_layer_13_activation_ave_False.pkl already exists, loading...\n",
      "loading /om/user/ehoseini/MyData/sent_sampling/ud_sentencez_token_filter_v3_ctrl_layer_13_activation_ave_False.pkl\n",
      "adding activations to set\n",
      "extracting network activations for ctrl\n",
      "ud_sentencez_token_filter_v3_ctrl_layer_14_activation_ave_False.pkl already exists, loading...\n",
      "loading /om/user/ehoseini/MyData/sent_sampling/ud_sentencez_token_filter_v3_ctrl_layer_14_activation_ave_False.pkl\n",
      "adding activations to set\n",
      "extracting network activations for ctrl\n",
      "ud_sentencez_token_filter_v3_ctrl_layer_15_activation_ave_False.pkl already exists, loading...\n",
      "loading /om/user/ehoseini/MyData/sent_sampling/ud_sentencez_token_filter_v3_ctrl_layer_15_activation_ave_False.pkl\n",
      "adding activations to set\n",
      "extracting network activations for ctrl\n",
      "ud_sentencez_token_filter_v3_ctrl_layer_16_activation_ave_False.pkl already exists, loading...\n",
      "loading /om/user/ehoseini/MyData/sent_sampling/ud_sentencez_token_filter_v3_ctrl_layer_16_activation_ave_False.pkl\n",
      "adding activations to set\n",
      "extracting network activations for ctrl\n",
      "ud_sentencez_token_filter_v3_ctrl_layer_17_activation_ave_False.pkl already exists, loading...\n",
      "loading /om/user/ehoseini/MyData/sent_sampling/ud_sentencez_token_filter_v3_ctrl_layer_17_activation_ave_False.pkl\n",
      "adding activations to set\n",
      "extracting network activations for ctrl\n",
      "ud_sentencez_token_filter_v3_ctrl_layer_18_activation_ave_False.pkl already exists, loading...\n",
      "loading /om/user/ehoseini/MyData/sent_sampling/ud_sentencez_token_filter_v3_ctrl_layer_18_activation_ave_False.pkl\n",
      "adding activations to set\n",
      "extracting network activations for ctrl\n",
      "ud_sentencez_token_filter_v3_ctrl_layer_19_activation_ave_False.pkl already exists, loading...\n",
      "loading /om/user/ehoseini/MyData/sent_sampling/ud_sentencez_token_filter_v3_ctrl_layer_19_activation_ave_False.pkl\n",
      "adding activations to set\n",
      "extracting network activations for ctrl\n",
      "ud_sentencez_token_filter_v3_ctrl_layer_20_activation_ave_False.pkl already exists, loading...\n",
      "loading /om/user/ehoseini/MyData/sent_sampling/ud_sentencez_token_filter_v3_ctrl_layer_20_activation_ave_False.pkl\n",
      "adding activations to set\n",
      "extracting network activations for ctrl\n",
      "ud_sentencez_token_filter_v3_ctrl_layer_21_activation_ave_False.pkl already exists, loading...\n",
      "loading /om/user/ehoseini/MyData/sent_sampling/ud_sentencez_token_filter_v3_ctrl_layer_21_activation_ave_False.pkl\n",
      "adding activations to set\n",
      "extracting network activations for ctrl\n",
      "ud_sentencez_token_filter_v3_ctrl_layer_22_activation_ave_False.pkl already exists, loading...\n",
      "loading /om/user/ehoseini/MyData/sent_sampling/ud_sentencez_token_filter_v3_ctrl_layer_22_activation_ave_False.pkl\n",
      "adding activations to set\n",
      "extracting network activations for ctrl\n",
      "ud_sentencez_token_filter_v3_ctrl_layer_23_activation_ave_False.pkl already exists, loading...\n",
      "loading /om/user/ehoseini/MyData/sent_sampling/ud_sentencez_token_filter_v3_ctrl_layer_23_activation_ave_False.pkl\n",
      "adding activations to set\n",
      "extracting network activations for ctrl\n",
      "ud_sentencez_token_filter_v3_ctrl_layer_24_activation_ave_False.pkl already exists, loading...\n",
      "loading /om/user/ehoseini/MyData/sent_sampling/ud_sentencez_token_filter_v3_ctrl_layer_24_activation_ave_False.pkl\n",
      "adding activations to set\n",
      "extracting network activations for ctrl\n",
      "ud_sentencez_token_filter_v3_ctrl_layer_25_activation_ave_False.pkl already exists, loading...\n",
      "loading /om/user/ehoseini/MyData/sent_sampling/ud_sentencez_token_filter_v3_ctrl_layer_25_activation_ave_False.pkl\n",
      "adding activations to set\n",
      "extracting network activations for ctrl\n",
      "ud_sentencez_token_filter_v3_ctrl_layer_26_activation_ave_False.pkl already exists, loading...\n",
      "loading /om/user/ehoseini/MyData/sent_sampling/ud_sentencez_token_filter_v3_ctrl_layer_26_activation_ave_False.pkl\n",
      "adding activations to set\n",
      "extracting network activations for ctrl\n",
      "ud_sentencez_token_filter_v3_ctrl_layer_27_activation_ave_False.pkl already exists, loading...\n",
      "loading /om/user/ehoseini/MyData/sent_sampling/ud_sentencez_token_filter_v3_ctrl_layer_27_activation_ave_False.pkl\n",
      "adding activations to set\n",
      "extracting network activations for ctrl\n",
      "ud_sentencez_token_filter_v3_ctrl_layer_28_activation_ave_False.pkl already exists, loading...\n",
      "loading /om/user/ehoseini/MyData/sent_sampling/ud_sentencez_token_filter_v3_ctrl_layer_28_activation_ave_False.pkl\n",
      "adding activations to set\n",
      "extracting network activations for ctrl\n",
      "ud_sentencez_token_filter_v3_ctrl_layer_29_activation_ave_False.pkl already exists, loading...\n",
      "loading /om/user/ehoseini/MyData/sent_sampling/ud_sentencez_token_filter_v3_ctrl_layer_29_activation_ave_False.pkl\n",
      "adding activations to set\n",
      "extracting network activations for ctrl\n",
      "ud_sentencez_token_filter_v3_ctrl_layer_30_activation_ave_False.pkl already exists, loading...\n",
      "loading /om/user/ehoseini/MyData/sent_sampling/ud_sentencez_token_filter_v3_ctrl_layer_30_activation_ave_False.pkl\n",
      "adding activations to set\n",
      "extracting network activations for ctrl\n",
      "ud_sentencez_token_filter_v3_ctrl_layer_31_activation_ave_False.pkl already exists, loading...\n",
      "loading /om/user/ehoseini/MyData/sent_sampling/ud_sentencez_token_filter_v3_ctrl_layer_31_activation_ave_False.pkl\n",
      "adding activations to set\n",
      "extracting network activations for ctrl\n",
      "ud_sentencez_token_filter_v3_ctrl_layer_32_activation_ave_False.pkl already exists, loading...\n",
      "loading /om/user/ehoseini/MyData/sent_sampling/ud_sentencez_token_filter_v3_ctrl_layer_32_activation_ave_False.pkl\n",
      "adding activations to set\n",
      "extracting network activations for ctrl\n",
      "ud_sentencez_token_filter_v3_ctrl_layer_33_activation_ave_False.pkl already exists, loading...\n",
      "loading /om/user/ehoseini/MyData/sent_sampling/ud_sentencez_token_filter_v3_ctrl_layer_33_activation_ave_False.pkl\n",
      "adding activations to set\n",
      "extracting network activations for ctrl\n",
      "ud_sentencez_token_filter_v3_ctrl_layer_34_activation_ave_False.pkl already exists, loading...\n",
      "loading /om/user/ehoseini/MyData/sent_sampling/ud_sentencez_token_filter_v3_ctrl_layer_34_activation_ave_False.pkl\n",
      "adding activations to set\n",
      "extracting network activations for ctrl\n",
      "ud_sentencez_token_filter_v3_ctrl_layer_35_activation_ave_False.pkl already exists, loading...\n",
      "loading /om/user/ehoseini/MyData/sent_sampling/ud_sentencez_token_filter_v3_ctrl_layer_35_activation_ave_False.pkl\n",
      "adding activations to set\n",
      "extracting network activations for ctrl\n",
      "ud_sentencez_token_filter_v3_ctrl_layer_36_activation_ave_False.pkl already exists, loading...\n",
      "loading /om/user/ehoseini/MyData/sent_sampling/ud_sentencez_token_filter_v3_ctrl_layer_36_activation_ave_False.pkl\n",
      "adding activations to set\n",
      "extracting network activations for ctrl\n",
      "ud_sentencez_token_filter_v3_ctrl_layer_37_activation_ave_False.pkl already exists, loading...\n",
      "loading /om/user/ehoseini/MyData/sent_sampling/ud_sentencez_token_filter_v3_ctrl_layer_37_activation_ave_False.pkl\n",
      "adding activations to set\n",
      "extracting network activations for ctrl\n",
      "ud_sentencez_token_filter_v3_ctrl_layer_38_activation_ave_False.pkl already exists, loading...\n",
      "loading /om/user/ehoseini/MyData/sent_sampling/ud_sentencez_token_filter_v3_ctrl_layer_38_activation_ave_False.pkl\n",
      "adding activations to set\n",
      "extracting network activations for ctrl\n",
      "ud_sentencez_token_filter_v3_ctrl_layer_39_activation_ave_False.pkl already exists, loading...\n",
      "loading /om/user/ehoseini/MyData/sent_sampling/ud_sentencez_token_filter_v3_ctrl_layer_39_activation_ave_False.pkl\n",
      "adding activations to set\n",
      "extracting network activations for ctrl\n",
      "ud_sentencez_token_filter_v3_ctrl_layer_40_activation_ave_False.pkl already exists, loading...\n",
      "loading /om/user/ehoseini/MyData/sent_sampling/ud_sentencez_token_filter_v3_ctrl_layer_40_activation_ave_False.pkl\n",
      "adding activations to set\n",
      "extracting network activations for ctrl\n",
      "ud_sentencez_token_filter_v3_ctrl_layer_41_activation_ave_False.pkl already exists, loading...\n",
      "loading /om/user/ehoseini/MyData/sent_sampling/ud_sentencez_token_filter_v3_ctrl_layer_41_activation_ave_False.pkl\n",
      "adding activations to set\n",
      "extracting network activations for ctrl\n",
      "ud_sentencez_token_filter_v3_ctrl_layer_42_activation_ave_False.pkl already exists, loading...\n",
      "loading /om/user/ehoseini/MyData/sent_sampling/ud_sentencez_token_filter_v3_ctrl_layer_42_activation_ave_False.pkl\n",
      "adding activations to set\n",
      "extracting network activations for ctrl\n",
      "ud_sentencez_token_filter_v3_ctrl_layer_43_activation_ave_False.pkl already exists, loading...\n",
      "loading /om/user/ehoseini/MyData/sent_sampling/ud_sentencez_token_filter_v3_ctrl_layer_43_activation_ave_False.pkl\n",
      "adding activations to set\n",
      "extracting network activations for ctrl\n",
      "ud_sentencez_token_filter_v3_ctrl_layer_44_activation_ave_False.pkl already exists, loading...\n",
      "loading /om/user/ehoseini/MyData/sent_sampling/ud_sentencez_token_filter_v3_ctrl_layer_44_activation_ave_False.pkl\n",
      "adding activations to set\n",
      "extracting network activations for ctrl\n",
      "ud_sentencez_token_filter_v3_ctrl_layer_45_activation_ave_False.pkl already exists, loading...\n",
      "loading /om/user/ehoseini/MyData/sent_sampling/ud_sentencez_token_filter_v3_ctrl_layer_45_activation_ave_False.pkl\n",
      "adding activations to set\n",
      "extracting network activations for ctrl\n",
      "ud_sentencez_token_filter_v3_ctrl_layer_46_activation_ave_False.pkl already exists, loading...\n",
      "loading /om/user/ehoseini/MyData/sent_sampling/ud_sentencez_token_filter_v3_ctrl_layer_46_activation_ave_False.pkl\n",
      "adding activations to set\n",
      "extracting network activations for ctrl\n",
      "ud_sentencez_token_filter_v3_ctrl_layer_47_activation_ave_False.pkl already exists, loading...\n",
      "loading /om/user/ehoseini/MyData/sent_sampling/ud_sentencez_token_filter_v3_ctrl_layer_47_activation_ave_False.pkl\n",
      "adding activations to set\n",
      "extracting network activations for ctrl\n",
      "ud_sentencez_token_filter_v3_ctrl_layer_48_activation_ave_False.pkl already exists, loading...\n",
      "loading /om/user/ehoseini/MyData/sent_sampling/ud_sentencez_token_filter_v3_ctrl_layer_48_activation_ave_False.pkl\n",
      "adding activations to set\n"
     ]
    }
   ],
   "source": [
    "\n",
    "group=f'{model}_layers'\n",
    "\n",
    "#group='roberta-base_layers'\n",
    "#group='xlnet-large-cased_layers'\n",
    "#group='bert-large-uncased-whole-word-masking_layers'\n",
    "#group='xlm-mlm-en-2048_layers'\n",
    "#group='albert-xxlarge-v2_layers'\n",
    "#group='ctrl_layers'\n",
    "dataset='ud_sentencez_token_filter_v3'\n",
    "activatiion_type='activation'\n",
    "average='False'\n",
    "name=f'group={group}-dataset={dataset}-{activatiion_type}-bench=None-ave={average}'\n",
    "test=extract_pool[name]()\n",
    "model_layers=test.layer_name\n",
    "test.load_dataset()\n",
    "test()"
   ]
  },
  {
   "cell_type": "code",
   "execution_count": 131,
   "metadata": {},
   "outputs": [],
   "source": [
    "optim_name='coordinate_ascent_eh-obj=D_s_var-n_iter=50-n_samples=25-n_init=1-run_gpu=True'\n",
    "optim_obj=optim_pool[optim_name]()\n",
    "optim_obj.load_extractor(test)\n",
    "del test"
   ]
  },
  {
   "cell_type": "code",
   "execution_count": 3,
   "metadata": {},
   "outputs": [],
   "source": [
    "scores=pd.read_csv(os.path.join(SAVE_DIR,'scoresscoresscores','scores-Pereira2018-encoding-normalized.csv'))"
   ]
  },
  {
   "cell_type": "code",
   "execution_count": 132,
   "metadata": {},
   "outputs": [],
   "source": [
    "\n",
    "score_layer=list(scores['layer'][scores['model']==model])\n",
    "score_benchmark=list(scores['benchmark'][scores['model']==model])\n",
    "score_score=np.asarray(scores['score'][scores['model']==model])\n",
    "score_error=np.asarray(scores['error'][scores['model']==model])\n"
   ]
  },
  {
   "cell_type": "code",
   "execution_count": 23,
   "metadata": {},
   "outputs": [
    {
     "data": {
      "text/plain": [
       "12"
      ]
     },
     "execution_count": 23,
     "metadata": {},
     "output_type": "execute_result"
    }
   ],
   "source": [
    "scores['score'][scores['model']=='gpt2'].argmax()\n"
   ]
  },
  {
   "cell_type": "code",
   "execution_count": 42,
   "metadata": {},
   "outputs": [],
   "source": [
    "model_classes=['glove','ETM','word2vec','lm_1b','skip-thoughts','bert-','roberta','xlm','xlm-roberta-','transfo-xl','xlnet','ctrl','t5','albert-','gpt']\n",
    "\n",
    "color_groups=['Greys', 'Purples', 'Blues', 'Greens', 'Oranges', 'Reds','YlOrBr', 'YlOrRd', 'OrRd', 'PuRd', 'RdPu', 'BuPu',\n",
    "            'GnBu', 'PuBu', 'YlGnBu', 'PuBuGn', 'BuGn', 'YlGn']"
   ]
  },
  {
   "cell_type": "code",
   "execution_count": 174,
   "metadata": {},
   "outputs": [],
   "source": [
    "# \n",
    "color_ids=[]\n",
    "model_set=scores['model'].unique()\n",
    "model_perf=[]\n",
    "model_names=[]\n",
    "model_layers=[]\n",
    "for model_id in model_set:\n",
    "    model_score=scores['score'][scores['model']==model_id]\n",
    "    model_error=scores['error'][scores['model']==model_id]\n",
    "    model_layer=scores['layer'][scores['model']==model_id]\n",
    "    if model_id.find('untrained')==-1:\n",
    "        model_perf.append([model_score.max(),model_error[model_score.idxmax()]])\n",
    "        model_names.append(f\"{model_id} - ({model_layer[model_score.idxmax()]})\")\n",
    "\n",
    "        if model_id=='xlm-roberta-base' or model_id=='xlm-roberta-large':\n",
    "            color_loc=8\n",
    "        else:\n",
    "            color_loc=int(np.argwhere([model_id.find(x)!=-1  for x in model_classes])[-1].squeeze())\n",
    "        color_ids.append(color_loc)"
   ]
  },
  {
   "cell_type": "code",
   "execution_count": 114,
   "metadata": {},
   "outputs": [],
   "source": [
    "h0s=[cm.get_cmap(color_groups[idx],len(np.where(np.asarray(color_ids)==x)[0])) for idx, x in enumerate(np.unique(color_ids))]\n",
    "num_cols=[len(np.where(np.asarray(color_ids)==x)[0]) for idx, x in enumerate(np.unique(color_ids))]\n",
    "\n",
    "all_colors=[np.flipud(h0s[idx](np.arange(x+1)/(x+1))) for idx,x in enumerate(num_cols)]\n",
    "all_colors = [item for sublist in all_colors for item in sublist]\n",
    "#h0=cm.get_cmap('viridis_r',num_colors)\n"
   ]
  },
  {
   "cell_type": "code",
   "execution_count": 128,
   "metadata": {},
   "outputs": [
    {
     "data": {
      "text/plain": [
       "[1, 1, 1, 1, 1, 5, 3, 5, 2, 1, 2, 1, 5, 8, 6]"
      ]
     },
     "execution_count": 128,
     "metadata": {},
     "output_type": "execute_result"
    }
   ],
   "source": [
    "num_cols"
   ]
  },
  {
   "cell_type": "code",
   "execution_count": 175,
   "metadata": {},
   "outputs": [],
   "source": [
    "h0s=[cm.get_cmap(color_groups[x],num_cols[idx]+2) for idx, x in enumerate(np.unique(color_ids))]\n",
    "all_colors=[np.flipud(x(np.arange(num_cols[idx])/(num_cols[idx]+1))) for idx, x in enumerate(h0s)]\n",
    "#all_colors=[x(np.arange(num_cols[idx])/(num_cols[idx]+1)) for idx, x in enumerate(h0s)]\n",
    "all_colors = [item for sublist in all_colors for item in sublist]"
   ]
  },
  {
   "cell_type": "code",
   "execution_count": 170,
   "metadata": {},
   "outputs": [
    {
     "data": {
      "text/plain": [
       "['glove',\n",
       " 'ETM',\n",
       " 'word2vec',\n",
       " 'lm_1b',\n",
       " 'skip-thoughts',\n",
       " 'distilbert-base-uncased',\n",
       " 'bert-base-uncased',\n",
       " 'bert-base-multilingual-cased',\n",
       " 'bert-large-uncased',\n",
       " 'bert-large-uncased-whole-word-masking',\n",
       " 'distilroberta-base',\n",
       " 'roberta-base',\n",
       " 'roberta-large',\n",
       " 'xlm-mlm-enfr-1024',\n",
       " 'xlm-clm-enfr-1024',\n",
       " 'xlm-mlm-xnli15-1024',\n",
       " 'xlm-mlm-100-1280',\n",
       " 'xlm-mlm-en-2048',\n",
       " 'xlm-roberta-base',\n",
       " 'xlm-roberta-large',\n",
       " 'transfo-xl-wt103',\n",
       " 'xlnet-base-cased',\n",
       " 'xlnet-large-cased',\n",
       " 'ctrl',\n",
       " 't5-small',\n",
       " 't5-base',\n",
       " 't5-large',\n",
       " 't5-3b',\n",
       " 't5-11b',\n",
       " 'albert-base-v1',\n",
       " 'albert-base-v2',\n",
       " 'albert-large-v1',\n",
       " 'albert-large-v2',\n",
       " 'albert-xlarge-v1',\n",
       " 'albert-xlarge-v2',\n",
       " 'albert-xxlarge-v1',\n",
       " 'albert-xxlarge-v2',\n",
       " 'openaigpt',\n",
       " 'distilgpt2',\n",
       " 'gpt2',\n",
       " 'gpt2-medium',\n",
       " 'gpt2-large',\n",
       " 'gpt2-xl']"
      ]
     },
     "execution_count": 170,
     "metadata": {},
     "output_type": "execute_result"
    }
   ],
   "source": []
  },
  {
   "cell_type": "code",
   "execution_count": 176,
   "metadata": {},
   "outputs": [
    {
     "data": {
      "text/plain": [
       "[Text(0, 0, 'glove - (projection)'),\n",
       " Text(0, 1, 'ETM - (projection)'),\n",
       " Text(0, 2, 'word2vec - (projection)'),\n",
       " Text(0, 3, 'lm_1b - (lstm/lstm_1/control_dependency)'),\n",
       " Text(0, 4, 'skip-thoughts - (encoder)'),\n",
       " Text(0, 5, 'distilbert-base-uncased - (transformer.layer.5)'),\n",
       " Text(0, 6, 'bert-base-uncased - (encoder.layer.11.output)'),\n",
       " Text(0, 7, 'bert-base-multilingual-cased - (encoder.layer.11.output)'),\n",
       " Text(0, 8, 'bert-large-uncased - (encoder.layer.7.output)'),\n",
       " Text(0, 9, 'bert-large-uncased-whole-word-masking - (encoder.layer.11.output)'),\n",
       " Text(0, 10, 'distilroberta-base - (encoder.layer.5)'),\n",
       " Text(0, 11, 'roberta-base - (encoder.layer.1)'),\n",
       " Text(0, 12, 'roberta-large - (encoder.layer.0)'),\n",
       " Text(0, 13, 'xlm-mlm-enfr-1024 - (encoder.layer_norm2.5)'),\n",
       " Text(0, 14, 'xlm-clm-enfr-1024 - (encoder.layer_norm2.5)'),\n",
       " Text(0, 15, 'xlm-mlm-xnli15-1024 - (encoder.layer_norm2.11)'),\n",
       " Text(0, 16, 'xlm-mlm-100-1280 - (encoder.layer_norm2.4)'),\n",
       " Text(0, 17, 'xlm-mlm-en-2048 - (encoder.layer_norm2.11)'),\n",
       " Text(0, 18, 'xlm-roberta-base - (encoder.layer.11)'),\n",
       " Text(0, 19, 'xlm-roberta-large - (encoder.layer.0)'),\n",
       " Text(0, 20, 'transfo-xl-wt103 - (encoder.layers.13)'),\n",
       " Text(0, 21, 'xlnet-base-cased - (encoder.layer.11)'),\n",
       " Text(0, 22, 'xlnet-large-cased - (encoder.layer.23)'),\n",
       " Text(0, 23, 'ctrl - (h.46)'),\n",
       " Text(0, 24, 't5-small - (encoder.block.4)'),\n",
       " Text(0, 25, 't5-base - (encoder.block.8)'),\n",
       " Text(0, 26, 't5-large - (encoder.block.20)'),\n",
       " Text(0, 27, 't5-3b - (encoder.block.16)'),\n",
       " Text(0, 28, 't5-11b - (encoder.block.12)'),\n",
       " Text(0, 29, 'albert-base-v1 - (encoder.albert_layer_groups.11)'),\n",
       " Text(0, 30, 'albert-base-v2 - (encoder.albert_layer_groups.0)'),\n",
       " Text(0, 31, 'albert-large-v1 - (encoder.albert_layer_groups.4)'),\n",
       " Text(0, 32, 'albert-large-v2 - (encoder.albert_layer_groups.2)'),\n",
       " Text(0, 33, 'albert-xlarge-v1 - (encoder.albert_layer_groups.3)'),\n",
       " Text(0, 34, 'albert-xlarge-v2 - (encoder.albert_layer_groups.9)'),\n",
       " Text(0, 35, 'albert-xxlarge-v1 - (encoder.albert_layer_groups.2)'),\n",
       " Text(0, 36, 'albert-xxlarge-v2 - (encoder.albert_layer_groups.4)'),\n",
       " Text(0, 37, 'openaigpt - (encoder.h.11.ln_2)'),\n",
       " Text(0, 38, 'distilgpt2 - (encoder.h.5)'),\n",
       " Text(0, 39, 'gpt2 - (encoder.h.11)'),\n",
       " Text(0, 40, 'gpt2-medium - (encoder.h.22)'),\n",
       " Text(0, 41, 'gpt2-large - (encoder.h.33)'),\n",
       " Text(0, 42, 'gpt2-xl - (encoder.h.43)')]"
      ]
     },
     "execution_count": 176,
     "metadata": {},
     "output_type": "execute_result"
    },
    {
  
      "text/plain": [
       "<Figure size 1080x1440 with 1 Axes>"
      ]
     },
     "metadata": {
      "needs_background": "light"
     },
     "output_type": "display_data"
    }
   ],
   "source": [
    "y_pos = np.arange(len(model_names))\n",
    "\n",
    "fig=plt.figure(figsize=(15,20))\n",
    "ax = fig.add_axes((.3,.05,.6,.9))\n",
    "ax.barh(y_pos, np.asarray(model_perf)[:,0], xerr=np.asarray(model_perf)[:,1], align='center',color=np.asarray(all_colors),edgecolor=(0,0,0),linewidth=2)\n",
    "ax.set_yticks(y_pos)\n",
    "ax.set_yticklabels(model_names,fontsize=12,fontweight='bold')\n"
   ]
  },
  {
   "cell_type": "code",
   "execution_count": 181,
   "metadata": {},
   "outputs": [
    {
     "data": {
      "text/plain": [
       "[Text(0, 0, 'glove - (projection)'),\n",
       " Text(0, 1, 'ETM - (projection)'),\n",
       " Text(0, 2, 'word2vec - (projection)'),\n",
       " Text(0, 3, 'lm_1b - (lstm/lstm_1/control_dependency)'),\n",
       " Text(0, 4, 'skip-thoughts - (encoder)'),\n",
       " Text(0, 5, 'distilbert-base-uncased - (transformer.layer.5)'),\n",
       " Text(0, 6, 'bert-base-uncased - (encoder.layer.11.output)'),\n",
       " Text(0, 7, 'bert-base-multilingual-cased - (encoder.layer.11.output)'),\n",
       " Text(0, 8, 'bert-large-uncased - (encoder.layer.7.output)'),\n",
       " Text(0, 9, 'bert-large-uncased-whole-word-masking - (encoder.layer.11.output)'),\n",
       " Text(0, 10, 'distilroberta-base - (encoder.layer.5)'),\n",
       " Text(0, 11, 'roberta-base - (encoder.layer.1)'),\n",
       " Text(0, 12, 'roberta-large - (encoder.layer.0)'),\n",
       " Text(0, 13, 'xlm-mlm-enfr-1024 - (encoder.layer_norm2.5)'),\n",
       " Text(0, 14, 'xlm-clm-enfr-1024 - (encoder.layer_norm2.5)'),\n",
       " Text(0, 15, 'xlm-mlm-xnli15-1024 - (encoder.layer_norm2.11)'),\n",
       " Text(0, 16, 'xlm-mlm-100-1280 - (encoder.layer_norm2.4)'),\n",
       " Text(0, 17, 'xlm-mlm-en-2048 - (encoder.layer_norm2.11)'),\n",
       " Text(0, 18, 'xlm-roberta-base - (encoder.layer.11)'),\n",
       " Text(0, 19, 'xlm-roberta-large - (encoder.layer.0)'),\n",
       " Text(0, 20, 'transfo-xl-wt103 - (encoder.layers.13)'),\n",
       " Text(0, 21, 'xlnet-base-cased - (encoder.layer.11)'),\n",
       " Text(0, 22, 'xlnet-large-cased - (encoder.layer.23)'),\n",
       " Text(0, 23, 'ctrl - (h.46)'),\n",
       " Text(0, 24, 't5-small - (encoder.block.4)'),\n",
       " Text(0, 25, 't5-base - (encoder.block.8)'),\n",
       " Text(0, 26, 't5-large - (encoder.block.20)'),\n",
       " Text(0, 27, 't5-3b - (encoder.block.16)'),\n",
       " Text(0, 28, 't5-11b - (encoder.block.12)'),\n",
       " Text(0, 29, 'albert-base-v1 - (encoder.albert_layer_groups.11)'),\n",
       " Text(0, 30, 'albert-base-v2 - (encoder.albert_layer_groups.0)'),\n",
       " Text(0, 31, 'albert-large-v1 - (encoder.albert_layer_groups.4)'),\n",
       " Text(0, 32, 'albert-large-v2 - (encoder.albert_layer_groups.2)'),\n",
       " Text(0, 33, 'albert-xlarge-v1 - (encoder.albert_layer_groups.3)'),\n",
       " Text(0, 34, 'albert-xlarge-v2 - (encoder.albert_layer_groups.9)'),\n",
       " Text(0, 35, 'albert-xxlarge-v1 - (encoder.albert_layer_groups.2)'),\n",
       " Text(0, 36, 'albert-xxlarge-v2 - (encoder.albert_layer_groups.4)'),\n",
       " Text(0, 37, 'openaigpt - (encoder.h.11.ln_2)'),\n",
       " Text(0, 38, 'distilgpt2 - (encoder.h.5)'),\n",
       " Text(0, 39, 'gpt2 - (encoder.h.11)'),\n",
       " Text(0, 40, 'gpt2-medium - (encoder.h.22)'),\n",
       " Text(0, 41, 'gpt2-large - (encoder.h.33)'),\n",
       " Text(0, 42, 'gpt2-xl - (encoder.h.43)')]"
      ]
     },
     "execution_count": 181,
     "metadata": {},
     "output_type": "execute_result"
    },
    {
     "data": {
      "image/png": ,
      "text/plain": [
       "<Figure size 1080x1440 with 1 Axes>"
      ]
     },
     "metadata": {
      "needs_background": "light"
     },
     "output_type": "display_data"
    }
   ],
   "source": [
    "y_pos = np.arange(len(model_names))\n",
    "\n",
    "fig=plt.figure(figsize=(15,20))\n",
    "ax = fig.add_axes((.3,.05,.6,.9))\n",
    "new_order=np.argsort(np.asarray(model_perf)[:,0])\n",
    "ax.barh(y_pos, np.asarray(model_perf)[new_order,0], xerr=np.asarray(model_perf)[new_order,1], align='center',color=np.asarray(all_colors)[new_order,:],edgecolor=(0,0,0),linewidth=2)\n",
    "ax.set_yticks(y_pos)\n",
    "ax.set_yticklabels(model_names,fontsize=12,fontweight='bold')\n",
    "\n"
   ]
  },
  {
   "cell_type": "code",
   "execution_count": 179,
   "metadata": {},
   "outputs": [
    {
     "data": {
      "text/plain": [
       "array([ 1,  2,  0, 15, 10, 24, 12, 32, 30, 31, 13,  7, 11, 19, 14,  4, 21,\n",
       "        6, 18, 25, 29,  3, 16,  5, 20, 28, 26, 33, 35, 34,  8,  9, 27, 36,\n",
       "       17, 38, 22, 37, 39, 23, 40, 41, 42])"
      ]
     },
     "execution_count": 179,
     "metadata": {},
     "output_type": "execute_result"
    }
   ],
   "source": [
    "\n",
    "\n"
   ]
  },
  {
   "cell_type": "code",
   "execution_count": 31,
   "metadata": {},
   "outputs": [],
   "source": []
  },
  {
   "cell_type": "code",
   "execution_count": 133,
   "metadata": {},
   "outputs": [
    {
     "name": "stderr",
     "output_type": "stream",
     "text": [
      "49it [01:39,  2.04s/it]\n"
     ]
    }
   ],
   "source": [
    "activation_list=[]\n",
    "var_explained=[]\n",
    "loadings=[]\n",
    "components=[]\n",
    "for idx, act_dict in tqdm(enumerate(optim_obj.activations)):\n",
    "    act=torch.tensor(act_dict['activations'], dtype=float, device=optim_obj.device, requires_grad=False)\n",
    "    # act must be in m sample * n feature shape \n",
    "    u,s,v=torch.pca_lowrank(act,q=500)\n",
    "    # keep 85% variance explained \n",
    "    idx_85=torch.cumsum(s**2,dim=0)/torch.sum(s**2)<.85\n",
    "    cols=list(torch.where(idx_85)[0].cpu().numpy())\n",
    "    act_50=torch.matmul(act,v[:,:300])\n",
    "    act_85=torch.matmul(act,v[:,cols])\n",
    "    activation_list.append(act_50)\n",
    "    var_explained.append(torch.cumsum(s**2,dim=0)/torch.sum(s**2))\n",
    "var_explained=torch.stack(var_explained).cpu()"
   ]
  },
  {
   "cell_type": "code",
   "execution_count": 134,
   "metadata": {},
   "outputs": [],
   "source": [
    "layer_id_list = [int(x['layer']) for x in optim_obj.activations]"
   ]
  },
  {
   "cell_type": "code",
   "execution_count": 135,
   "metadata": {},
   "outputs": [
    {
     "name": "stderr",
     "output_type": "stream",
     "text": [
      "/om/user/ehoseini/miniconda3/lib/python3.7/site-packages/ipykernel_launcher.py:17: MatplotlibDeprecationWarning: savefig() got unexpected keyword argument \"frameon\" which is no longer supported as of 3.3 and will become an error two minor releases later\n",
      "/om/user/ehoseini/miniconda3/lib/python3.7/site-packages/ipykernel_launcher.py:27: MatplotlibDeprecationWarning: savefig() got unexpected keyword argument \"frameon\" which is no longer supported as of 3.3 and will become an error two minor releases later\n"
     ]
    },
    {
     "data": {
      "image/png": ,
      "text/plain": [
       "<Figure size 720x720 with 2 Axes>"
      ]
     },
     "metadata": {
      "needs_background": "light"
     },
     "output_type": "display_data"
    }
   ],
   "source": [
    "num_colors=len(activation_list)+1\n",
    "h0=cm.get_cmap('viridis_r',num_colors)\n",
    "line_cols=np.flipud(h0(np.arange(num_colors)/num_colors))\n",
    "\n",
    "\n",
    "plt.figure(figsize=(10,10))\n",
    "\n",
    "plt.suptitle(f\"{group}\\n{name}\",fontsize=16)\n",
    "ax=plt.subplot(2,1,1)\n",
    "ax.imshow(var_explained,aspect='auto',interpolation='none')\n",
    "ax.set_yticks(np.arange(var_explained.shape[0]))\n",
    "ax.set_yticklabels([f\"{optim_obj.activations[idx]['model_name']}, Layer {optim_obj.activations[idx]['layer']}\" for idx,x in enumerate(var_explained) ])\n",
    "ax.set_xlabel('#PC')\n",
    "plt.savefig(os.path.join(ANALYZE_DIR,f\"{name}_PCA_explained_var.png\"), dpi=None, facecolor='w', edgecolor='w',\n",
    "        orientation='landscape',\n",
    "        transparent=True, bbox_inches=None, pad_inches=0.1,\n",
    "        frameon=False)\n",
    "ax=plt.subplot(2,1,2)\n",
    "[ax.plot(x,color=line_cols[idx,:],linewidth=2,label=f\"{optim_obj.activations[idx]['model_name']}, Layer {optim_obj.activations[idx]['layer']}\") for idx,x in enumerate(var_explained)]\n",
    "ax.legend()\n",
    "ax.set_xlabel('#PC')\n",
    "ax.set_ylabel('var explained')\n",
    "ax.set_title(f\"{name}\",fontsize=16)\n",
    "plt.savefig(os.path.join(ANALYZE_DIR,f\"{name}_layer_var_explained.png\"), dpi=None, facecolor='w', edgecolor='w',\n",
    "        orientation='landscape',\n",
    "        transparent=True, bbox_inches=None, pad_inches=0.1,\n",
    "        frameon=False)"
   ]
  },
  {
   "cell_type": "code",
   "execution_count": 136,
   "metadata": {},
   "outputs": [],
   "source": [
    "act_list_norm=[(X-X.mean(axis=1,keepdim=True)) for X in activation_list]\n",
    "act_list_norm=[torch.nn.functional.normalize(X) for X in act_list_norm]"
   ]
  },
  {
   "cell_type": "markdown",
   "metadata": {},
   "source": [
    "# get an estimate of the euclidean distance between random pairs of sentneces in each layer "
   ]
  },
  {
   "cell_type": "code",
   "execution_count": 137,
   "metadata": {},
   "outputs": [
    {
     "name": "stderr",
     "output_type": "stream",
     "text": [
      "/om/user/ehoseini/miniconda3/lib/python3.7/site-packages/ipykernel_launcher.py:6: TqdmDeprecationWarning: This function will be removed in tqdm==5.0.0\n",
      "Please use `tqdm.notebook.tqdm` instead of `tqdm.tqdm_notebook`\n",
      "  \n"
     ]
    },
    {
     "data": {
      "application/vnd.jupyter.widget-view+json": {
       "model_id": "9629bd3805fa443994aff65b6c7093de",
       "version_major": 2,
       "version_minor": 0
      },
      "text/plain": [
       "  0%|          | 0/49 [00:00<?, ?it/s]"
      ]
     },
     "metadata": {},
     "output_type": "display_data"
    },
    {
     "name": "stderr",
     "output_type": "stream",
     "text": [
      "/om/user/ehoseini/miniconda3/lib/python3.7/site-packages/ipykernel_launcher.py:8: TqdmDeprecationWarning: This function will be removed in tqdm==5.0.0\n",
      "Please use `tqdm.notebook.tqdm` instead of `tqdm.tqdm_notebook`\n",
      "  \n"
     ]
    },
    {
     "data": {
      "application/vnd.jupyter.widget-view+json": {
       "model_id": "f8c7f21350254c9286a12bbbca8e17c4",
       "version_major": 2,
       "version_minor": 0
      },
      "text/plain": [
       "  0%|          | 0/49 [00:00<?, ?it/s]"
      ]
     },
     "metadata": {},
     "output_type": "display_data"
    },
    {
     "data": {
      "application/vnd.jupyter.widget-view+json": {
       "model_id": "0b040f13238040a183edfe4ca55970fe",
       "version_major": 2,
       "version_minor": 0
      },
      "text/plain": [
       "  0%|          | 0/49 [00:00<?, ?it/s]"
      ]
     },
     "metadata": {},
     "output_type": "display_data"
    },
    {
     "data": {
      "application/vnd.jupyter.widget-view+json": {
       "model_id": "6f713c773bf24064948ab564ab3dbe99",
       "version_major": 2,
       "version_minor": 0
      },
      "text/plain": [
       "  0%|          | 0/49 [00:00<?, ?it/s]"
      ]
     },
     "metadata": {},
     "output_type": "display_data"
    },
    {
     "data": {
      "application/vnd.jupyter.widget-view+json": {
       "model_id": "2b791a5b80254df1ba0561cfae626432",
       "version_major": 2,
       "version_minor": 0
      },
      "text/plain": [
       "  0%|          | 0/49 [00:00<?, ?it/s]"
      ]
     },
     "metadata": {},
     "output_type": "display_data"
    },
    {
     "data": {
      "application/vnd.jupyter.widget-view+json": {
       "model_id": "6e8c2a3d12904e14af33a96be05bfe75",
       "version_major": 2,
       "version_minor": 0
      },
      "text/plain": [
       "  0%|          | 0/49 [00:00<?, ?it/s]"
      ]
     },
     "metadata": {},
     "output_type": "display_data"
    },
    {
     "data": {
      "application/vnd.jupyter.widget-view+json": {
       "model_id": "7e111fdecd0444ad8330eed6acec00fc",
       "version_major": 2,
       "version_minor": 0
      },
      "text/plain": [
       "  0%|          | 0/49 [00:00<?, ?it/s]"
      ]
     },
     "metadata": {},
     "output_type": "display_data"
    },
    {
     "data": {
      "application/vnd.jupyter.widget-view+json": {
       "model_id": "46093a8c38ee4623a25f4f2e9e8746ea",
       "version_major": 2,
       "version_minor": 0
      },
      "text/plain": [
       "  0%|          | 0/49 [00:00<?, ?it/s]"
      ]
     },
     "metadata": {},
     "output_type": "display_data"
    },
    {
     "data": {
      "application/vnd.jupyter.widget-view+json": {
       "model_id": "ff5b46587ea8485785db4368b9b80b08",
       "version_major": 2,
       "version_minor": 0
      },
      "text/plain": [
       "  0%|          | 0/49 [00:00<?, ?it/s]"
      ]
     },
     "metadata": {},
     "output_type": "display_data"
    },
    {
     "data": {
      "application/vnd.jupyter.widget-view+json": {
       "model_id": "9e7cfc6a7e5249278f9bef41ef83a9a9",
       "version_major": 2,
       "version_minor": 0
      },
      "text/plain": [
       "  0%|          | 0/49 [00:00<?, ?it/s]"
      ]
     },
     "metadata": {},
     "output_type": "display_data"
    },
    {
     "data": {
      "application/vnd.jupyter.widget-view+json": {
       "model_id": "0df8c84eb4874c26b4261bb27ea74843",
       "version_major": 2,
       "version_minor": 0
      },
      "text/plain": [
       "  0%|          | 0/49 [00:00<?, ?it/s]"
      ]
     },
     "metadata": {},
     "output_type": "display_data"
    },
    {
     "data": {
      "application/vnd.jupyter.widget-view+json": {
       "model_id": "e1ee2e3872ca494581d9c038f19a6d9b",
       "version_major": 2,
       "version_minor": 0
      },
      "text/plain": [
       "  0%|          | 0/49 [00:00<?, ?it/s]"
      ]
     },
     "metadata": {},
     "output_type": "display_data"
    },
    {
     "data": {
      "application/vnd.jupyter.widget-view+json": {
       "model_id": "6e50df95264b4674bdcc8a01a8084cca",
       "version_major": 2,
       "version_minor": 0
      },
      "text/plain": [
       "  0%|          | 0/49 [00:00<?, ?it/s]"
      ]
     },
     "metadata": {},
     "output_type": "display_data"
    },
    {
     "data": {
      "application/vnd.jupyter.widget-view+json": {
       "model_id": "5445f3cbc4ab4da597c08d7bc7b3ae97",
       "version_major": 2,
       "version_minor": 0
      },
      "text/plain": [
       "  0%|          | 0/49 [00:00<?, ?it/s]"
      ]
     },
     "metadata": {},
     "output_type": "display_data"
    },
    {
     "data": {
      "application/vnd.jupyter.widget-view+json": {
       "model_id": "ced665e1f248498c88f9fb6490fe90f7",
       "version_major": 2,
       "version_minor": 0
      },
      "text/plain": [
       "  0%|          | 0/49 [00:00<?, ?it/s]"
      ]
     },
     "metadata": {},
     "output_type": "display_data"
    },
    {
     "data": {
      "application/vnd.jupyter.widget-view+json": {
       "model_id": "588261c8cc8b40f29f6fbdef6a286030",
       "version_major": 2,
       "version_minor": 0
      },
      "text/plain": [
       "  0%|          | 0/49 [00:00<?, ?it/s]"
      ]
     },
     "metadata": {},
     "output_type": "display_data"
    },
    {
     "data": {
      "application/vnd.jupyter.widget-view+json": {
       "model_id": "aa523080f63942888819525d08ea2e83",
       "version_major": 2,
       "version_minor": 0
      },
      "text/plain": [
       "  0%|          | 0/49 [00:00<?, ?it/s]"
      ]
     },
     "metadata": {},
     "output_type": "display_data"
    },
    {
     "data": {
      "application/vnd.jupyter.widget-view+json": {
       "model_id": "bee9a04511444e88829226926f846a74",
       "version_major": 2,
       "version_minor": 0
      },
      "text/plain": [
       "  0%|          | 0/49 [00:00<?, ?it/s]"
      ]
     },
     "metadata": {},
     "output_type": "display_data"
    },
    {
     "data": {
      "application/vnd.jupyter.widget-view+json": {
       "model_id": "9798bda1588441c09005b73021611e75",
       "version_major": 2,
       "version_minor": 0
      },
      "text/plain": [
       "  0%|          | 0/49 [00:00<?, ?it/s]"
      ]
     },
     "metadata": {},
     "output_type": "display_data"
    },
    {
     "data": {
      "application/vnd.jupyter.widget-view+json": {
       "model_id": "42681f7c9da8421980cb8feb9ea1227b",
       "version_major": 2,
       "version_minor": 0
      },
      "text/plain": [
       "  0%|          | 0/49 [00:00<?, ?it/s]"
      ]
     },
     "metadata": {},
     "output_type": "display_data"
    },
    {
     "data": {
      "application/vnd.jupyter.widget-view+json": {
       "model_id": "ca4e67a5dd424a499985ce998ff83b46",
       "version_major": 2,
       "version_minor": 0
      },
      "text/plain": [
       "  0%|          | 0/49 [00:00<?, ?it/s]"
      ]
     },
     "metadata": {},
     "output_type": "display_data"
    },
    {
     "data": {
      "application/vnd.jupyter.widget-view+json": {
       "model_id": "7526d41ef83b487c8e40b563820bf74f",
       "version_major": 2,
       "version_minor": 0
      },
      "text/plain": [
       "  0%|          | 0/49 [00:00<?, ?it/s]"
      ]
     },
     "metadata": {},
     "output_type": "display_data"
    },
    {
     "data": {
      "application/vnd.jupyter.widget-view+json": {
       "model_id": "3522460c3bfb42a8ba6d219adf748b3d",
       "version_major": 2,
       "version_minor": 0
      },
      "text/plain": [
       "  0%|          | 0/49 [00:00<?, ?it/s]"
      ]
     },
     "metadata": {},
     "output_type": "display_data"
    },
    {
     "data": {
      "application/vnd.jupyter.widget-view+json": {
       "model_id": "7dc5caac36ad43ec98d2c591f1cadfff",
       "version_major": 2,
       "version_minor": 0
      },
      "text/plain": [
       "  0%|          | 0/49 [00:00<?, ?it/s]"
      ]
     },
     "metadata": {},
     "output_type": "display_data"
    },
    {
     "data": {
      "application/vnd.jupyter.widget-view+json": {
       "model_id": "8165df14722c45aab4b7f701b181228d",
       "version_major": 2,
       "version_minor": 0
      },
      "text/plain": [
       "  0%|          | 0/49 [00:00<?, ?it/s]"
      ]
     },
     "metadata": {},
     "output_type": "display_data"
    },
    {
     "data": {
      "application/vnd.jupyter.widget-view+json": {
       "model_id": "f4e30da9aecf4d7ebee971a2f9cd0d06",
       "version_major": 2,
       "version_minor": 0
      },
      "text/plain": [
       "  0%|          | 0/49 [00:00<?, ?it/s]"
      ]
     },
     "metadata": {},
     "output_type": "display_data"
    },
    {
     "data": {
      "application/vnd.jupyter.widget-view+json": {
       "model_id": "48b2c0cc4ebc448eadb7c89b96ffa469",
       "version_major": 2,
       "version_minor": 0
      },
      "text/plain": [
       "  0%|          | 0/49 [00:00<?, ?it/s]"
      ]
     },
     "metadata": {},
     "output_type": "display_data"
    },
    {
     "data": {
      "application/vnd.jupyter.widget-view+json": {
       "model_id": "e5eab9cd12e34434bc0a3a6218ea659c",
       "version_major": 2,
       "version_minor": 0
      },
      "text/plain": [
       "  0%|          | 0/49 [00:00<?, ?it/s]"
      ]
     },
     "metadata": {},
     "output_type": "display_data"
    },
    {
     "data": {
      "application/vnd.jupyter.widget-view+json": {
       "model_id": "425ed283e2d349329b0212c4a78d74d2",
       "version_major": 2,
       "version_minor": 0
      },
      "text/plain": [
       "  0%|          | 0/49 [00:00<?, ?it/s]"
      ]
     },
     "metadata": {},
     "output_type": "display_data"
    },
    {
     "data": {
      "application/vnd.jupyter.widget-view+json": {
       "model_id": "d275eb28174b498aa99aa9eccf26db3f",
       "version_major": 2,
       "version_minor": 0
      },
      "text/plain": [
       "  0%|          | 0/49 [00:00<?, ?it/s]"
      ]
     },
     "metadata": {},
     "output_type": "display_data"
    },
    {
     "data": {
      "application/vnd.jupyter.widget-view+json": {
       "model_id": "21f67b19150641a68191b969b4b68044",
       "version_major": 2,
       "version_minor": 0
      },
      "text/plain": [
       "  0%|          | 0/49 [00:00<?, ?it/s]"
      ]
     },
     "metadata": {},
     "output_type": "display_data"
    },
    {
     "data": {
      "application/vnd.jupyter.widget-view+json": {
       "model_id": "48406dacc67240a4b5460c38850ece9b",
       "version_major": 2,
       "version_minor": 0
      },
      "text/plain": [
       "  0%|          | 0/49 [00:00<?, ?it/s]"
      ]
     },
     "metadata": {},
     "output_type": "display_data"
    },
    {
     "data": {
      "application/vnd.jupyter.widget-view+json": {
       "model_id": "86e3928aaa3b4ab9ae9e5f176bcc9217",
       "version_major": 2,
       "version_minor": 0
      },
      "text/plain": [
       "  0%|          | 0/49 [00:00<?, ?it/s]"
      ]
     },
     "metadata": {},
     "output_type": "display_data"
    },
    {
     "data": {
      "application/vnd.jupyter.widget-view+json": {
       "model_id": "b309fa1453544c38921df8473f8cd4d1",
       "version_major": 2,
       "version_minor": 0
      },
      "text/plain": [
       "  0%|          | 0/49 [00:00<?, ?it/s]"
      ]
     },
     "metadata": {},
     "output_type": "display_data"
    },
    {
     "data": {
      "application/vnd.jupyter.widget-view+json": {
       "model_id": "b77a9f848f27477faec2a8b0ef13d0c0",
       "version_major": 2,
       "version_minor": 0
      },
      "text/plain": [
       "  0%|          | 0/49 [00:00<?, ?it/s]"
      ]
     },
     "metadata": {},
     "output_type": "display_data"
    },
    {
     "data": {
      "application/vnd.jupyter.widget-view+json": {
       "model_id": "53d068ea3dc24377b4ec87711c152bd0",
       "version_major": 2,
       "version_minor": 0
      },
      "text/plain": [
       "  0%|          | 0/49 [00:00<?, ?it/s]"
      ]
     },
     "metadata": {},
     "output_type": "display_data"
    },
    {
     "data": {
      "application/vnd.jupyter.widget-view+json": {
       "model_id": "21c8c7ba42934cb0b43df474b2935b27",
       "version_major": 2,
       "version_minor": 0
      },
      "text/plain": [
       "  0%|          | 0/49 [00:00<?, ?it/s]"
      ]
     },
     "metadata": {},
     "output_type": "display_data"
    },
    {
     "data": {
      "application/vnd.jupyter.widget-view+json": {
       "model_id": "57b08a6020c449aba15ad7b593315f61",
       "version_major": 2,
       "version_minor": 0
      },
      "text/plain": [
       "  0%|          | 0/49 [00:00<?, ?it/s]"
      ]
     },
     "metadata": {},
     "output_type": "display_data"
    },
    {
     "data": {
      "application/vnd.jupyter.widget-view+json": {
       "model_id": "aa9f3c3ceb444c1c916d5e4f1ca3e036",
       "version_major": 2,
       "version_minor": 0
      },
      "text/plain": [
       "  0%|          | 0/49 [00:00<?, ?it/s]"
      ]
     },
     "metadata": {},
     "output_type": "display_data"
    },
    {
     "data": {
      "application/vnd.jupyter.widget-view+json": {
       "model_id": "2b1d4f00f73a4ea68d3337744e94d796",
       "version_major": 2,
       "version_minor": 0
      },
      "text/plain": [
       "  0%|          | 0/49 [00:00<?, ?it/s]"
      ]
     },
     "metadata": {},
     "output_type": "display_data"
    },
    {
     "data": {
      "application/vnd.jupyter.widget-view+json": {
       "model_id": "471dcda052d54012bcb7d01f1d38f69e",
       "version_major": 2,
       "version_minor": 0
      },
      "text/plain": [
       "  0%|          | 0/49 [00:00<?, ?it/s]"
      ]
     },
     "metadata": {},
     "output_type": "display_data"
    },
    {
     "data": {
      "application/vnd.jupyter.widget-view+json": {
       "model_id": "d4c04e2dab364b5c919c1dfd4750d573",
       "version_major": 2,
       "version_minor": 0
      },
      "text/plain": [
       "  0%|          | 0/49 [00:00<?, ?it/s]"
      ]
     },
     "metadata": {},
     "output_type": "display_data"
    },
    {
     "data": {
      "application/vnd.jupyter.widget-view+json": {
       "model_id": "88f482eb0c4942048d24add5ab0d8923",
       "version_major": 2,
       "version_minor": 0
      },
      "text/plain": [
       "  0%|          | 0/49 [00:00<?, ?it/s]"
      ]
     },
     "metadata": {},
     "output_type": "display_data"
    },
    {
     "data": {
      "application/vnd.jupyter.widget-view+json": {
       "model_id": "2072ec9593cf49aa9db6166e45ff8b3a",
       "version_major": 2,
       "version_minor": 0
      },
      "text/plain": [
       "  0%|          | 0/49 [00:00<?, ?it/s]"
      ]
     },
     "metadata": {},
     "output_type": "display_data"
    },
    {
     "data": {
      "application/vnd.jupyter.widget-view+json": {
       "model_id": "406059323bcb416181925ce5bf2ee69e",
       "version_major": 2,
       "version_minor": 0
      },
      "text/plain": [
       "  0%|          | 0/49 [00:00<?, ?it/s]"
      ]
     },
     "metadata": {},
     "output_type": "display_data"
    },
    {
     "data": {
      "application/vnd.jupyter.widget-view+json": {
       "model_id": "1ff6e8065601437f9a38cf2880dd4e23",
       "version_major": 2,
       "version_minor": 0
      },
      "text/plain": [
       "  0%|          | 0/49 [00:00<?, ?it/s]"
      ]
     },
     "metadata": {},
     "output_type": "display_data"
    },
    {
     "data": {
      "application/vnd.jupyter.widget-view+json": {
       "model_id": "a36389b30a644bee8afe53ff3a1230eb",
       "version_major": 2,
       "version_minor": 0
      },
      "text/plain": [
       "  0%|          | 0/49 [00:00<?, ?it/s]"
      ]
     },
     "metadata": {},
     "output_type": "display_data"
    },
    {
     "data": {
      "application/vnd.jupyter.widget-view+json": {
       "model_id": "fdefc9bac1e9475eaa74e9d94c28cfe3",
       "version_major": 2,
       "version_minor": 0
      },
      "text/plain": [
       "  0%|          | 0/49 [00:00<?, ?it/s]"
      ]
     },
     "metadata": {},
     "output_type": "display_data"
    },
    {
     "data": {
      "application/vnd.jupyter.widget-view+json": {
       "model_id": "b99d46c30f10405db098fcee9fd22fc8",
       "version_major": 2,
       "version_minor": 0
      },
      "text/plain": [
       "  0%|          | 0/49 [00:00<?, ?it/s]"
      ]
     },
     "metadata": {},
     "output_type": "display_data"
    },
    {
     "data": {
      "application/vnd.jupyter.widget-view+json": {
       "model_id": "4202187cd7614b888f7fdbeb6132152b",
       "version_major": 2,
       "version_minor": 0
      },
      "text/plain": [
       "  0%|          | 0/49 [00:00<?, ?it/s]"
      ]
     },
     "metadata": {},
     "output_type": "display_data"
    },
    {
     "name": "stdout",
     "output_type": "stream",
     "text": [
      "Done!\n"
     ]
    }
   ],
   "source": [
    "num_iter=5\n",
    "total_sent=activation_list[0].shape[0]\n",
    "num_samples=100\n",
    "\n",
    "layer_dist=[]\n",
    "for idx in tqdm_notebook(range(len(activation_list))):\n",
    "    pair_dist=[]\n",
    "    for idy in tqdm_notebook(range(len(activation_list)),position=1):\n",
    "        sample_dist=[]\n",
    "        for sample_iter in range(num_iter):\n",
    "            samples=np.random.choice(total_sent,100,replace=False)\n",
    "            X=act_list_norm[idx][samples,:]\n",
    "            Y=act_list_norm[idy][samples,:]\n",
    "            XY_corr=torch.tensor(1,device=X.device,dtype = float,requires_grad=False)-torch.mm(X,torch.transpose(Y,1,0))\n",
    "            sample_dist.append(torch.diag(XY_corr))\n",
    "        pair_dist.append(torch.mean(torch.stack(sample_dist),axis=1))\n",
    "    layer_dist.append(pair_dist)\n",
    "print(\"Done!\")"
   ]
  },
  {
   "cell_type": "code",
   "execution_count": 138,
   "metadata": {},
   "outputs": [
    {
     "name": "stderr",
     "output_type": "stream",
     "text": [
      "/om/user/ehoseini/miniconda3/lib/python3.7/site-packages/ipykernel_launcher.py:20: MatplotlibDeprecationWarning: savefig() got unexpected keyword argument \"frameon\" which is no longer supported as of 3.3 and will become an error two minor releases later\n"
     ]
    },
    {
     "data": {
      "image/png": ",
      "text/plain": [
       "<Figure size 720x864 with 3 Axes>"
      ]
     },
     "metadata": {
      "needs_background": "light"
     },
     "output_type": "display_data"
    }
   ],
   "source": [
    "from mpl_toolkits.axes_grid1 import make_axes_locatable\n",
    "fig = plt.figure(figsize=(10,12))\n",
    "ax = fig.add_axes((.2,.1,.8,.6))\n",
    "divider = make_axes_locatable(ax)\n",
    "cax = divider.append_axes('right', size=\"2%\", pad=0.5,)\n",
    "im = ax.imshow(torch.stack([torch.stack([x.mean() for x in y]) for y in layer_dist]).cpu(),aspect='auto',interpolation='none')\n",
    "ax.set_yticks(np.arange(var_explained.shape[0]))\n",
    "ax.set_xticks(np.arange(var_explained.shape[0]))\n",
    "ax.set_yticklabels([f\"{optim_obj.activations[idx]['model_name']}, Layer {optim_obj.activations[idx]['layer']}\" for idx,x in enumerate(var_explained) ])\n",
    "ax.set_xticklabels([f\"{optim_obj.activations[idx]['model_name']}, Layer {optim_obj.activations[idx]['layer']}\" for idx,x in enumerate(var_explained) ],rotation=90)\n",
    "\n",
    "\n",
    "cbar = fig.colorbar(im, cax=cax);\n",
    "ax = fig.add_axes((.2,.72,.73,.15))\n",
    "ax.errorbar(np.arange(len(layer_id_list)),score_score[layer_id_list],yerr=score_error[layer_id_list],markersize=10,marker='o',linewidth=0,elinewidth=2,label=f'score {score_benchmark[0]}')\n",
    "ax.set_ylabel('score')\n",
    "plt.savefig(os.path.join(ANALYZE_DIR,f\"{name}_layerwise_corr_dist_vs_score.png\"), dpi=None, facecolor='w', edgecolor='w',\n",
    "        orientation='landscape',\n",
    "        transparent=True, bbox_inches=None, pad_inches=0.1,\n",
    "        frameon=False)"
   ]
  },
  {
   "cell_type": "markdown",
   "metadata": {},
   "source": [
    "# get an estimate of the similarity distance between random pairs of sentneces in each layer "
   ]
  },
  {
   "cell_type": "code",
   "execution_count": null,
   "metadata": {},
   "outputs": [],
   "source": []
  },
  {
   "cell_type": "code",
   "execution_count": 139,
   "metadata": {},
   "outputs": [
    {
     "name": "stderr",
     "output_type": "stream",
     "text": [
      "/om/user/ehoseini/miniconda3/lib/python3.7/site-packages/ipykernel_launcher.py:5: TqdmDeprecationWarning: This function will be removed in tqdm==5.0.0\n",
      "Please use `tqdm.notebook.tqdm` instead of `tqdm.tqdm_notebook`\n",
      "  \"\"\"\n"
     ]
    },
    {
     "data": {
      "application/vnd.jupyter.widget-view+json": {
       "model_id": "43e8368d5f30467d925fe4e2d611464d",
       "version_major": 2,
       "version_minor": 0
      },
      "text/plain": [
       "  0%|          | 0/49 [00:00<?, ?it/s]"
      ]
     },
     "metadata": {},
     "output_type": "display_data"
    },
    {
     "name": "stderr",
     "output_type": "stream",
     "text": [
      "/om/user/ehoseini/miniconda3/lib/python3.7/site-packages/ipykernel_launcher.py:7: TqdmDeprecationWarning: This function will be removed in tqdm==5.0.0\n",
      "Please use `tqdm.notebook.tqdm` instead of `tqdm.tqdm_notebook`\n",
      "  import sys\n"
     ]
    },
    {
     "data": {
      "application/vnd.jupyter.widget-view+json": {
       "model_id": "fd59ed74b8df47f9bce1da0046363100",
       "version_major": 2,
       "version_minor": 0
      },
      "text/plain": [
       "  0%|          | 0/49 [00:00<?, ?it/s]"
      ]
     },
     "metadata": {},
     "output_type": "display_data"
    },
    {
     "data": {
      "application/vnd.jupyter.widget-view+json": {
       "model_id": "b3bd096c682343babfdf127c127a7894",
       "version_major": 2,
       "version_minor": 0
      },
      "text/plain": [
       "  0%|          | 0/49 [00:00<?, ?it/s]"
      ]
     },
     "metadata": {},
     "output_type": "display_data"
    },
    {
     "data": {
      "application/vnd.jupyter.widget-view+json": {
       "model_id": "126d8977eb754b9584c0f77e33f84fca",
       "version_major": 2,
       "version_minor": 0
      },
      "text/plain": [
       "  0%|          | 0/49 [00:00<?, ?it/s]"
      ]
     },
     "metadata": {},
     "output_type": "display_data"
    },
    {
     "data": {
      "application/vnd.jupyter.widget-view+json": {
       "model_id": "26441b23a90842e8b4603be693478b51",
       "version_major": 2,
       "version_minor": 0
      },
      "text/plain": [
       "  0%|          | 0/49 [00:00<?, ?it/s]"
      ]
     },
     "metadata": {},
     "output_type": "display_data"
    },
    {
     "data": {
      "application/vnd.jupyter.widget-view+json": {
       "model_id": "28eae93fe242475b9b4bb5c3a3e945d3",
       "version_major": 2,
       "version_minor": 0
      },
      "text/plain": [
       "  0%|          | 0/49 [00:00<?, ?it/s]"
      ]
     },
     "metadata": {},
     "output_type": "display_data"
    },
    {
     "data": {
      "application/vnd.jupyter.widget-view+json": {
       "model_id": "9639e1f45de34919a29f2aa72e0dd0c2",
       "version_major": 2,
       "version_minor": 0
      },
      "text/plain": [
       "  0%|          | 0/49 [00:00<?, ?it/s]"
      ]
     },
     "metadata": {},
     "output_type": "display_data"
    },
    {
     "data": {
      "application/vnd.jupyter.widget-view+json": {
       "model_id": "a5f2f678581a43dab8330eb23f93004f",
       "version_major": 2,
       "version_minor": 0
      },
      "text/plain": [
       "  0%|          | 0/49 [00:00<?, ?it/s]"
      ]
     },
     "metadata": {},
     "output_type": "display_data"
    },
    {
     "data": {
      "application/vnd.jupyter.widget-view+json": {
       "model_id": "f808393e8d76458d805b1c532814a2ea",
       "version_major": 2,
       "version_minor": 0
      },
      "text/plain": [
       "  0%|          | 0/49 [00:00<?, ?it/s]"
      ]
     },
     "metadata": {},
     "output_type": "display_data"
    },
    {
     "data": {
      "application/vnd.jupyter.widget-view+json": {
       "model_id": "60f60f5349e2402680bd174da0accd2f",
       "version_major": 2,
       "version_minor": 0
      },
      "text/plain": [
       "  0%|          | 0/49 [00:00<?, ?it/s]"
      ]
     },
     "metadata": {},
     "output_type": "display_data"
    },
    {
     "data": {
      "application/vnd.jupyter.widget-view+json": {
       "model_id": "402cfe7ed53147cba6417c0e1fd88ccf",
       "version_major": 2,
       "version_minor": 0
      },
      "text/plain": [
       "  0%|          | 0/49 [00:00<?, ?it/s]"
      ]
     },
     "metadata": {},
     "output_type": "display_data"
    },
    {
     "data": {
      "application/vnd.jupyter.widget-view+json": {
       "model_id": "85b4a88ceecb46939c9dec9a3aa241db",
       "version_major": 2,
       "version_minor": 0
      },
      "text/plain": [
       "  0%|          | 0/49 [00:00<?, ?it/s]"
      ]
     },
     "metadata": {},
     "output_type": "display_data"
    },
    {
     "data": {
      "application/vnd.jupyter.widget-view+json": {
       "model_id": "2da92e9dbcef420992471b0923d1b114",
       "version_major": 2,
       "version_minor": 0
      },
      "text/plain": [
       "  0%|          | 0/49 [00:00<?, ?it/s]"
      ]
     },
     "metadata": {},
     "output_type": "display_data"
    },
    {
     "data": {
      "application/vnd.jupyter.widget-view+json": {
       "model_id": "1dcf92da2bb44d8daed267921c5233b6",
       "version_major": 2,
       "version_minor": 0
      },
      "text/plain": [
       "  0%|          | 0/49 [00:00<?, ?it/s]"
      ]
     },
     "metadata": {},
     "output_type": "display_data"
    },
    {
     "data": {
      "application/vnd.jupyter.widget-view+json": {
       "model_id": "9d0bb8a6e70f43aba6157def78467b51",
       "version_major": 2,
       "version_minor": 0
      },
      "text/plain": [
       "  0%|          | 0/49 [00:00<?, ?it/s]"
      ]
     },
     "metadata": {},
     "output_type": "display_data"
    },
    {
     "data": {
      "application/vnd.jupyter.widget-view+json": {
       "model_id": "19f050ab56de4a38a57220ae5cfa489b",
       "version_major": 2,
       "version_minor": 0
      },
      "text/plain": [
       "  0%|          | 0/49 [00:00<?, ?it/s]"
      ]
     },
     "metadata": {},
     "output_type": "display_data"
    },
    {
     "data": {
      "application/vnd.jupyter.widget-view+json": {
       "model_id": "a52478307c2c45059d6aafd4a8b0f0a6",
       "version_major": 2,
       "version_minor": 0
      },
      "text/plain": [
       "  0%|          | 0/49 [00:00<?, ?it/s]"
      ]
     },
     "metadata": {},
     "output_type": "display_data"
    },
    {
     "data": {
      "application/vnd.jupyter.widget-view+json": {
       "model_id": "ab5314b784cf45ca9d842a45bf680341",
       "version_major": 2,
       "version_minor": 0
      },
      "text/plain": [
       "  0%|          | 0/49 [00:00<?, ?it/s]"
      ]
     },
     "metadata": {},
     "output_type": "display_data"
    },
    {
     "data": {
      "application/vnd.jupyter.widget-view+json": {
       "model_id": "5fcdc9c6659845f6ba3718f899e7a86a",
       "version_major": 2,
       "version_minor": 0
      },
      "text/plain": [
       "  0%|          | 0/49 [00:00<?, ?it/s]"
      ]
     },
     "metadata": {},
     "output_type": "display_data"
    },
    {
     "data": {
      "application/vnd.jupyter.widget-view+json": {
       "model_id": "aa000c3147ad4f8ba7c7da29eca8ebda",
       "version_major": 2,
       "version_minor": 0
      },
      "text/plain": [
       "  0%|          | 0/49 [00:00<?, ?it/s]"
      ]
     },
     "metadata": {},
     "output_type": "display_data"
    },
    {
     "data": {
      "application/vnd.jupyter.widget-view+json": {
       "model_id": "01594d6ce8b64bc7b451cbb9a200aa95",
       "version_major": 2,
       "version_minor": 0
      },
      "text/plain": [
       "  0%|          | 0/49 [00:00<?, ?it/s]"
      ]
     },
     "metadata": {},
     "output_type": "display_data"
    },
    {
     "data": {
      "application/vnd.jupyter.widget-view+json": {
       "model_id": "61acc811543e4e648c3ba4303ee81eb9",
       "version_major": 2,
       "version_minor": 0
      },
      "text/plain": [
       "  0%|          | 0/49 [00:00<?, ?it/s]"
      ]
     },
     "metadata": {},
     "output_type": "display_data"
    },
    {
     "data": {
      "application/vnd.jupyter.widget-view+json": {
       "model_id": "5e6e074e32124d41b389b3392110c682",
       "version_major": 2,
       "version_minor": 0
      },
      "text/plain": [
       "  0%|          | 0/49 [00:00<?, ?it/s]"
      ]
     },
     "metadata": {},
     "output_type": "display_data"
    },
    {
     "data": {
      "application/vnd.jupyter.widget-view+json": {
       "model_id": "823b78e20aff4a31b228779991dc98dc",
       "version_major": 2,
       "version_minor": 0
      },
      "text/plain": [
       "  0%|          | 0/49 [00:00<?, ?it/s]"
      ]
     },
     "metadata": {},
     "output_type": "display_data"
    },
    {
     "data": {
      "application/vnd.jupyter.widget-view+json": {
       "model_id": "03a08dffccb04e82a76ec23610e61f36",
       "version_major": 2,
       "version_minor": 0
      },
      "text/plain": [
       "  0%|          | 0/49 [00:00<?, ?it/s]"
      ]
     },
     "metadata": {},
     "output_type": "display_data"
    },
    {
     "data": {
      "application/vnd.jupyter.widget-view+json": {
       "model_id": "675957b798b44b9d95b71ac684558596",
       "version_major": 2,
       "version_minor": 0
      },
      "text/plain": [
       "  0%|          | 0/49 [00:00<?, ?it/s]"
      ]
     },
     "metadata": {},
     "output_type": "display_data"
    },
    {
     "data": {
      "application/vnd.jupyter.widget-view+json": {
       "model_id": "7684fd9eb6c347b582852c2d6d7733cd",
       "version_major": 2,
       "version_minor": 0
      },
      "text/plain": [
       "  0%|          | 0/49 [00:00<?, ?it/s]"
      ]
     },
     "metadata": {},
     "output_type": "display_data"
    },
    {
     "data": {
      "application/vnd.jupyter.widget-view+json": {
       "model_id": "c74873e88021428fbd9751e6ec87a9db",
       "version_major": 2,
       "version_minor": 0
      },
      "text/plain": [
       "  0%|          | 0/49 [00:00<?, ?it/s]"
      ]
     },
     "metadata": {},
     "output_type": "display_data"
    },
    {
     "data": {
      "application/vnd.jupyter.widget-view+json": {
       "model_id": "271b975f76bd438e9a91e23827cd1d16",
       "version_major": 2,
       "version_minor": 0
      },
      "text/plain": [
       "  0%|          | 0/49 [00:00<?, ?it/s]"
      ]
     },
     "metadata": {},
     "output_type": "display_data"
    },
    {
     "data": {
      "application/vnd.jupyter.widget-view+json": {
       "model_id": "a2ebb2416ed04f109f78751a5148b577",
       "version_major": 2,
       "version_minor": 0
      },
      "text/plain": [
       "  0%|          | 0/49 [00:00<?, ?it/s]"
      ]
     },
     "metadata": {},
     "output_type": "display_data"
    },
    {
     "data": {
      "application/vnd.jupyter.widget-view+json": {
       "model_id": "a3942f32c0444b57828049fda7a86ced",
       "version_major": 2,
       "version_minor": 0
      },
      "text/plain": [
       "  0%|          | 0/49 [00:00<?, ?it/s]"
      ]
     },
     "metadata": {},
     "output_type": "display_data"
    },
    {
     "data": {
      "application/vnd.jupyter.widget-view+json": {
       "model_id": "9cb31b29ee4a4bafa2481729e371af3c",
       "version_major": 2,
       "version_minor": 0
      },
      "text/plain": [
       "  0%|          | 0/49 [00:00<?, ?it/s]"
      ]
     },
     "metadata": {},
     "output_type": "display_data"
    },
    {
     "data": {
      "application/vnd.jupyter.widget-view+json": {
       "model_id": "c8543725922a46f0a8387e01c5e649a5",
       "version_major": 2,
       "version_minor": 0
      },
      "text/plain": [
       "  0%|          | 0/49 [00:00<?, ?it/s]"
      ]
     },
     "metadata": {},
     "output_type": "display_data"
    },
    {
     "data": {
      "application/vnd.jupyter.widget-view+json": {
       "model_id": "d0d94773fd8f4eebbcf0f97b3adb51e1",
       "version_major": 2,
       "version_minor": 0
      },
      "text/plain": [
       "  0%|          | 0/49 [00:00<?, ?it/s]"
      ]
     },
     "metadata": {},
     "output_type": "display_data"
    },
    {
     "data": {
      "application/vnd.jupyter.widget-view+json": {
       "model_id": "77432ba11d3d43cd9363ff551802bacb",
       "version_major": 2,
       "version_minor": 0
      },
      "text/plain": [
       "  0%|          | 0/49 [00:00<?, ?it/s]"
      ]
     },
     "metadata": {},
     "output_type": "display_data"
    },
    {
     "data": {
      "application/vnd.jupyter.widget-view+json": {
       "model_id": "d13ae34af4d84c2bb9ce676887fd1483",
       "version_major": 2,
       "version_minor": 0
      },
      "text/plain": [
       "  0%|          | 0/49 [00:00<?, ?it/s]"
      ]
     },
     "metadata": {},
     "output_type": "display_data"
    },
    {
     "data": {
      "application/vnd.jupyter.widget-view+json": {
       "model_id": "f6f9d7f527164d1c85513b5c665a0a38",
       "version_major": 2,
       "version_minor": 0
      },
      "text/plain": [
       "  0%|          | 0/49 [00:00<?, ?it/s]"
      ]
     },
     "metadata": {},
     "output_type": "display_data"
    },
    {
     "data": {
      "application/vnd.jupyter.widget-view+json": {
       "model_id": "d5e91ad15f4e4430841d7695e099f03b",
       "version_major": 2,
       "version_minor": 0
      },
      "text/plain": [
       "  0%|          | 0/49 [00:00<?, ?it/s]"
      ]
     },
     "metadata": {},
     "output_type": "display_data"
    },
    {
     "data": {
      "application/vnd.jupyter.widget-view+json": {
       "model_id": "52651c3030ce41219864d555f09f521d",
       "version_major": 2,
       "version_minor": 0
      },
      "text/plain": [
       "  0%|          | 0/49 [00:00<?, ?it/s]"
      ]
     },
     "metadata": {},
     "output_type": "display_data"
    },
    {
     "data": {
      "application/vnd.jupyter.widget-view+json": {
       "model_id": "83bae4d95c104564b92648e02efe2176",
       "version_major": 2,
       "version_minor": 0
      },
      "text/plain": [
       "  0%|          | 0/49 [00:00<?, ?it/s]"
      ]
     },
     "metadata": {},
     "output_type": "display_data"
    },
    {
     "data": {
      "application/vnd.jupyter.widget-view+json": {
       "model_id": "7eb41b3790784025b223fd7377755d99",
       "version_major": 2,
       "version_minor": 0
      },
      "text/plain": [
       "  0%|          | 0/49 [00:00<?, ?it/s]"
      ]
     },
     "metadata": {},
     "output_type": "display_data"
    },
    {
     "data": {
      "application/vnd.jupyter.widget-view+json": {
       "model_id": "a3a23e64d99746258bbcae5ac85b16ef",
       "version_major": 2,
       "version_minor": 0
      },
      "text/plain": [
       "  0%|          | 0/49 [00:00<?, ?it/s]"
      ]
     },
     "metadata": {},
     "output_type": "display_data"
    },
    {
     "data": {
      "application/vnd.jupyter.widget-view+json": {
       "model_id": "93e72641c16b4090bba72efa5e443d53",
       "version_major": 2,
       "version_minor": 0
      },
      "text/plain": [
       "  0%|          | 0/49 [00:00<?, ?it/s]"
      ]
     },
     "metadata": {},
     "output_type": "display_data"
    },
    {
     "data": {
      "application/vnd.jupyter.widget-view+json": {
       "model_id": "61052a23d2f04883beb9e38648777d3e",
       "version_major": 2,
       "version_minor": 0
      },
      "text/plain": [
       "  0%|          | 0/49 [00:00<?, ?it/s]"
      ]
     },
     "metadata": {},
     "output_type": "display_data"
    },
    {
     "data": {
      "application/vnd.jupyter.widget-view+json": {
       "model_id": "c74e0cc612ea427aa127508d3eb2401a",
       "version_major": 2,
       "version_minor": 0
      },
      "text/plain": [
       "  0%|          | 0/49 [00:00<?, ?it/s]"
      ]
     },
     "metadata": {},
     "output_type": "display_data"
    },
    {
     "data": {
      "application/vnd.jupyter.widget-view+json": {
       "model_id": "9ba57c8d4f39422e8780e85389ec99a5",
       "version_major": 2,
       "version_minor": 0
      },
      "text/plain": [
       "  0%|          | 0/49 [00:00<?, ?it/s]"
      ]
     },
     "metadata": {},
     "output_type": "display_data"
    },
    {
     "data": {
      "application/vnd.jupyter.widget-view+json": {
       "model_id": "884d140e829144909ad7f9f936a55493",
       "version_major": 2,
       "version_minor": 0
      },
      "text/plain": [
       "  0%|          | 0/49 [00:00<?, ?it/s]"
      ]
     },
     "metadata": {},
     "output_type": "display_data"
    },
    {
     "data": {
      "application/vnd.jupyter.widget-view+json": {
       "model_id": "69d0d8c6922547d89b89a31cc599bc79",
       "version_major": 2,
       "version_minor": 0
      },
      "text/plain": [
       "  0%|          | 0/49 [00:00<?, ?it/s]"
      ]
     },
     "metadata": {},
     "output_type": "display_data"
    },
    {
     "data": {
      "application/vnd.jupyter.widget-view+json": {
       "model_id": "8ec78efba83b45b9ba3c80e4e20e43d7",
       "version_major": 2,
       "version_minor": 0
      },
      "text/plain": [
       "  0%|          | 0/49 [00:00<?, ?it/s]"
      ]
     },
     "metadata": {},
     "output_type": "display_data"
    },
    {
     "data": {
      "application/vnd.jupyter.widget-view+json": {
       "model_id": "e51182c2993d436ba617aa2567a1b5bd",
       "version_major": 2,
       "version_minor": 0
      },
      "text/plain": [
       "  0%|          | 0/49 [00:00<?, ?it/s]"
      ]
     },
     "metadata": {},
     "output_type": "display_data"
    },
    {
     "name": "stdout",
     "output_type": "stream",
     "text": [
      "Done!\n"
     ]
    }
   ],
   "source": [
    "num_iter=50\n",
    "total_sent=activation_list[0].shape[0]\n",
    "num_samples=100\n",
    "layer_dist=[]\n",
    "for idx in tqdm_notebook(range(len(activation_list))):\n",
    "    pair_dist=[]\n",
    "    for idy in tqdm_notebook(range(len(activation_list)),position=1):\n",
    "        sample_dist=[]\n",
    "        pair_list_norm=[act_list_norm[idx],act_list_norm[idy]]\n",
    "        XY_corr_list = [torch.tensor(1, device=X.device, dtype=float) - torch.mm(X, torch.transpose(X, 1, 0)) for X in\n",
    "                        pair_list_norm]\n",
    "        \n",
    "        for sample_iter in range(num_iter):\n",
    "            samples=torch.tensor(np.random.choice(total_sent,num_samples,replace=False), dtype = torch.long, device = act_list_norm[0].device)\n",
    "            pairs = torch.combinations(samples, with_replacement=False)\n",
    "            XY_corr_sample = [XY_corr[pairs[:, 0], pairs[:, 1]] for XY_corr in XY_corr_list]\n",
    "            XY_corr_sample_tensor = torch.stack(XY_corr_sample)\n",
    "            XY_corr_sample_tensor = torch.transpose(XY_corr_sample_tensor, 1, 0)\n",
    "            if XY_corr_sample_tensor.shape[1] < XY_corr_sample_tensor.shape[0]:\n",
    "                XY_corr_sample_tensor = torch.transpose(XY_corr_sample_tensor, 1, 0)\n",
    "            assert (XY_corr_sample_tensor.shape[1] > XY_corr_sample_tensor.shape[0])\n",
    "            d_mat = pt_create_corr_rdm_short(XY_corr_sample_tensor, device=samples.device)\n",
    "            #n1 = d_mat.shape[1]\n",
    "            #correction = n1 * n1 / (n1 * (n1 - 1) / 2)\n",
    "            #d_val = correction * d_mat.mean(dim=(0, 1))\n",
    "            d_val = d_mat[0,1]\n",
    "            sample_dist.append(d_val)\n",
    "        pair_dist.append(torch.stack(sample_dist))\n",
    "    layer_dist.append(pair_dist)\n",
    "print(\"Done!\")"
   ]
  },
  {
   "cell_type": "code",
   "execution_count": 140,
   "metadata": {},
   "outputs": [],
   "source": [
    "\n",
    "Pereira_dist=torch.mean(torch.stack(layer_dist[pereira_layer_id]),dim=1)\n",
    "dist_val,dist_idx=torch.sort(Pereira_dist)\n",
    "\n",
    "assert(dist_idx[0]==pereira_layer_id)\n",
    "\n",
    "cuts=np.linspace(dist_val.cpu().numpy().min(),dist_val.cpu().numpy().max(),4,endpoint=False)\n",
    "\n",
    "\n",
    "\n"
   ]
  },
  {
   "cell_type": "code",
   "execution_count": 141,
   "metadata": {},
   "outputs": [],
   "source": [
    "#optim_name='coordinate_ascent_eh-obj=D_s-n_iter=50-n_samples=50-n_init=1-run_gpu=True'\n",
    "#optim_obj=optim_pool[optim_name]()\n",
    "#optim_obj.load_extractor(test)\n",
    "#optim_obj.precompute_corr_rdm_on_gpu()\n",
    "#S_opt_d, DS_opt_d = optim_obj()\n"
   ]
  },
  {
   "cell_type": "code",
   "execution_count": 142,
   "metadata": {},
   "outputs": [
    {
     "name": "stderr",
     "output_type": "stream",
     "text": [
      "/om/user/ehoseini/miniconda3/lib/python3.7/site-packages/ipykernel_launcher.py:37: MatplotlibDeprecationWarning: savefig() got unexpected keyword argument \"frameon\" which is no longer supported as of 3.3 and will become an error two minor releases later\n"
     ]
    },
    {
     "data": {
      "image/png": 
      "text/plain": [
       "<Figure size 720x1080 with 4 Axes>"
      ]
     },
     "metadata": {
      "needs_background": "light"
     },
     "output_type": "display_data"
    }
   ],
   "source": [
    "from mpl_toolkits.axes_grid1 import make_axes_locatable\n",
    "fig = plt.figure(figsize=(10,15))\n",
    "ax = fig.add_axes((.1,.4,.5*1.5,.5))\n",
    "divider = make_axes_locatable(ax)\n",
    "cax = divider.append_axes('right', size=\"2%\", pad=0.5,)\n",
    "im = ax.imshow(torch.stack([torch.stack([x.mean() for x in y]) for y in layer_dist]).cpu(),aspect='auto',interpolation='none')\n",
    "ax.set_yticks(np.arange(var_explained.shape[0]))\n",
    "ax.set_xticks(np.arange(var_explained.shape[0]))\n",
    "ax.set_yticklabels([f\"{optim_obj.activations[idx]['model_name']}, Layer {optim_obj.activations[idx]['layer']}\" for idx,x in enumerate(var_explained) ])\n",
    "ax.set_xticklabels([f\"{optim_obj.activations[idx]['model_name']}, Layer {optim_obj.activations[idx]['layer']}\" for idx,x in enumerate(var_explained) ],rotation=90)\n",
    "\n",
    "\n",
    "cbar = fig.colorbar(im, cax=cax);\n",
    "ax = fig.add_axes((.1,.91,.5*1.37,.05))\n",
    "ax.errorbar(np.arange(len(layer_id_list)),score_score[layer_id_list],yerr=score_error[layer_id_list],markersize=10,marker='o',linewidth=0,elinewidth=2,label=f'score {score_benchmark[0]}')\n",
    "ax.set_ylabel('score')\n",
    "ax.set_xticks([])\n",
    "\n",
    "ax = fig.add_axes((.1,.05,.5*1.37,.22))\n",
    "\n",
    "ax.scatter(np.arange(dist_val.cpu().shape[0]),dist_val.cpu())\n",
    "ax.set_xlim((-1,dist_val.cpu().shape[0]+1))\n",
    "ax.set_ylim((0-.05,np.max(dist_val.cpu().numpy())+.05))\n",
    "[ax.plot(plt.xlim(),[x,x],'k--') for x in cuts]\n",
    "closest_points=[np.argmin(np.abs(dist_val.cpu()-x)) for x in cuts]\n",
    "\n",
    "[ax.scatter(x.cpu().numpy(),dist_val[int(x.cpu().numpy())].cpu().numpy(),60,color=(0,0,0)) for x in closest_points]\n",
    "\n",
    "ax.set_xticks(tuple(np.arange(dist_val.cpu().shape[0])))\n",
    "#ax.set_xticklabels(dist_idx.cpu().numpy())\n",
    "ax.set_xticklabels([model_layers[int(x)] for x in dist_idx.cpu().numpy()],rotation=90)\n",
    "[ax.plot([x.cpu().numpy(),x.cpu().numpy()],plt.ylim(),'k-') for x in closest_points]\n",
    "ax.set_xlim((0-.5,len(dist_idx)-.5))\n",
    "plt.savefig(os.path.join(ANALYZE_DIR,f\"{name}_layerwise_similiarty_dist_vs_score.png\"), dpi=None, facecolor='w', edgecolor='w',\n",
    "        orientation='portrait',\n",
    "        transparent=True, bbox_inches=None, pad_inches=0.1,\n",
    "        frameon=False)"
   ]
  },
  {
   "cell_type": "code",
   "execution_count": 62,
   "metadata": {},
   "outputs": [
    {
     "data": {
      "text/plain": [
       "'group=roberta-base_layers-dataset=ud_sentencez_token_filter_v3-activation-bench=None-ave=False'"
      ]
     },
     "execution_count": 62,
     "metadata": {},
     "output_type": "execute_result"
    }
   ],
   "source": []
  },
  {
   "cell_type": "markdown",
   "metadata": {},
   "source": [
    "## order the activity based on the best Pereira layer"
   ]
  },
  {
   "cell_type": "code",
   "execution_count": 127,
   "metadata": {},
   "outputs": [],
   "source": [
    "model='roberta-base'\n"
   ]
  },
  {
   "cell_type": "code",
   "execution_count": null,
   "metadata": {},
   "outputs": [],
   "source": []
  },
  {
   "cell_type": "code",
   "execution_count": 128,
   "metadata": {},
   "outputs": [],
   "source": []
  },
  {
   "cell_type": "code",
   "execution_count": 129,
   "metadata": {},
   "outputs": [],
   "source": [
    "pereira_layer=model_layers[test.model_spec.index(model)]\n",
    "pereira_layer_id=test.layer_spec[test.model_spec.index(model)]"
   ]
  },
  {
   "cell_type": "code",
   "execution_count": 130,
   "metadata": {},
   "outputs": [],
   "source": []
  },
  {
   "cell_type": "code",
   "execution_count": 131,
   "metadata": {},
   "outputs": [],
   "source": [
    "dist_val,dist_idx=torch.sort(Pereira_dist)\n",
    "assert(dist_idx[0]==pereira_layer_id)\n"
   ]
  },
  {
   "cell_type": "code",
   "execution_count": 132,
   "metadata": {},
   "outputs": [
    {
     "data": {
      "text/plain": [
       "[[<matplotlib.lines.Line2D at 0x2ac64955c210>],\n",
       " [<matplotlib.lines.Line2D at 0x2ac649558bd0>],\n",
       " [<matplotlib.lines.Line2D at 0x2ac6495586d0>],\n",
       " [<matplotlib.lines.Line2D at 0x2ac649558f50>]]"
      ]
     },
     "execution_count": 132,
     "metadata": {},
     "output_type": "execute_result"
    },
    {
     "data": {
      "image/png": ",
      "text/plain": [
       "<Figure size 1080x576 with 1 Axes>"
      ]
     },
     "metadata": {
      "needs_background": "light"
     },
     "output_type": "display_data"
    }
   ],
   "source": [
    "cuts=np.linspace(dist_val.cpu().numpy().min(),dist_val.cpu().numpy().max(),4,endpoint=False)\n",
    "\n",
    "fig = plt.figure(figsize=(15,8))\n",
    "ax = fig.add_axes((.2,.1,.8,.6))\n",
    "\n",
    "ax.scatter(np.arange(dist_val.cpu().shape[0]),dist_val.cpu())\n",
    "ax.set_xlim((-1,dist_val.cpu().shape[0]+1))\n",
    "ax.set_ylim((0-.05,np.max(dist_val.cpu().numpy())+.05))\n",
    "[ax.plot(plt.xlim(),[x,x],'k--') for x in cuts]\n",
    "closest_points=[np.argmin(np.abs(dist_val.cpu()-x)) for x in cuts]\n",
    "\n",
    "[ax.scatter(x.cpu().numpy(),dist_val[int(x.cpu().numpy())].cpu().numpy(),50,color=(0,0,0)) for x in closest_points]\n",
    "\n",
    "ax.set_xticks(tuple(np.arange(dist_val.cpu().shape[0])))\n",
    "#ax.set_xticklabels(dist_idx.cpu().numpy())\n",
    "ax.set_xticklabels([model_layers[int(x)] for x in dist_idx.cpu().numpy()],rotation=90)\n",
    "[ax.plot([x.cpu().numpy(),x.cpu().numpy()],plt.ylim(),'k-') for x in closest_points]"
   ]
  },
  {
   "cell_type": "code",
   "execution_count": 26,
   "metadata": {},
   "outputs": [],
   "source": [
    "selected_layers=dist_idx[torch.stack(closest_points)]\n",
    "all_similairities=torch.stack([torch.stack([x.mean() for x in y]) for y in layer_dist])"
   ]
  },
  {
   "cell_type": "code",
   "execution_count": 27,
   "metadata": {},
   "outputs": [],
   "source": [
    "selected_similarities=all_similairities[selected_layers,:]\n",
    "selected_similarities=selected_similarities[:,selected_layers]"
   ]
  },
  {
   "cell_type": "code",
   "execution_count": 133,
   "metadata": {},
   "outputs": [
    {
     "data": {
      "text/plain": [
       "<matplotlib.image.AxesImage at 0x2ac6495949d0>"
      ]
     },
     "execution_count": 133,
     "metadata": {},
     "output_type": "execute_result"
    },
    {
     "data": {
      "image/png": 
      "text/plain": [
       "<Figure size 432x288 with 1 Axes>"
      ]
     },
     "metadata": {
      "needs_background": "light"
     },
     "output_type": "display_data"
    }
   ],
   "source": [
    "\n",
    "\n",
    "plt.imshow(selected_similarities.cpu(),aspect= 1,interpolation='none')"
   ]
  },
  {
   "cell_type": "code",
   "execution_count": null,
   "metadata": {},
   "outputs": [],
   "source": []
  },
  {
   "cell_type": "markdown",
   "metadata": {},
   "source": [
    "# try optimization based on the current method"
   ]
  },
  {
   "cell_type": "code",
   "execution_count": 137,
   "metadata": {},
   "outputs": [
    {
     "name": "stdout",
     "output_type": "stream",
     "text": [
      "loading /om/user/ehoseini/MyData/Universal Dependencies 2.6/ud_sentencez_data_token_filter_v3_no_dup.pkl\n"
     ]
    },
    {
     "name": "stderr",
     "output_type": "stream",
     "text": [
      "934it [00:00, 204878.40it/s]\n",
      "934it [00:00, 193992.27it/s]\n",
      "935it [00:00, 185500.89it/s]\n",
      "934it [00:00, 170733.49it/s]\n",
      "934it [00:00, 173148.28it/s]\n",
      "935it [00:00, 166292.42it/s]\n",
      "934it [00:00, 199993.87it/s]\n",
      "934it [00:00, 158660.24it/s]\n",
      "935it [00:00, 195341.41it/s]\n"
     ]
    },
    {
     "name": "stdout",
     "output_type": "stream",
     "text": [
      "extracting network activations for roberta-base\n",
      "ud_sentencez_token_filter_v3_roberta-base_layer_1_activation_ave_False.pkl already exists, loading...\n",
      "loading /om/user/ehoseini/MyData/sent_sampling/ud_sentencez_token_filter_v3_roberta-base_layer_1_activation_ave_False.pkl\n",
      "adding activations to set\n",
      "extracting network activations for roberta-base\n",
      "ud_sentencez_token_filter_v3_roberta-base_layer_2_activation_ave_False.pkl already exists, loading...\n",
      "loading /om/user/ehoseini/MyData/sent_sampling/ud_sentencez_token_filter_v3_roberta-base_layer_2_activation_ave_False.pkl\n",
      "adding activations to set\n",
      "extracting network activations for roberta-base\n",
      "ud_sentencez_token_filter_v3_roberta-base_layer_5_activation_ave_False.pkl already exists, loading...\n",
      "loading /om/user/ehoseini/MyData/sent_sampling/ud_sentencez_token_filter_v3_roberta-base_layer_5_activation_ave_False.pkl\n",
      "adding activations to set\n",
      "extracting network activations for roberta-base\n",
      "ud_sentencez_token_filter_v3_roberta-base_layer_6_activation_ave_False.pkl already exists, loading...\n",
      "loading /om/user/ehoseini/MyData/sent_sampling/ud_sentencez_token_filter_v3_roberta-base_layer_6_activation_ave_False.pkl\n",
      "adding activations to set\n",
      "extracting network activations for roberta-base\n",
      "ud_sentencez_token_filter_v3_roberta-base_layer_12_activation_ave_False.pkl already exists, loading...\n",
      "loading /om/user/ehoseini/MyData/sent_sampling/ud_sentencez_token_filter_v3_roberta-base_layer_12_activation_ave_False.pkl\n",
      "adding activations to set\n"
     ]
    }
   ],
   "source": [
    "\n",
    "group=f'{model}_layer_compare'\n",
    "dataset='ud_sentencez_token_filter_v3'\n",
    "activatiion_type='activation'\n",
    "average='False'\n",
    "\n",
    "extractor_id=f'group={group}-dataset={dataset}-{activatiion_type}-bench=None-ave={average}'\n",
    "extractor_obj = extract_pool[extractor_id]()\n",
    "extractor_obj.load_dataset()\n",
    "extractor_obj()"
   ]
  },
  {
   "cell_type": "code",
   "execution_count": 138,
   "metadata": {},
   "outputs": [],
   "source": [
    "optimizer_id='coordinate_ascent_eh-obj=D_s_var-n_iter=500-n_samples=50-n_init=1-run_gpu=True'\n",
    "optimizer_obj = optim_pool[optimizer_id]()\n",
    "optimizer_obj.load_extractor(extractor_obj)\n",
    "optimizer_obj.precompute_corr_rdm_on_gpu()\n",
    "\n",
    "    "
   ]
  },
  {
   "cell_type": "code",
   "execution_count": null,
   "metadata": {},
   "outputs": [],
   "source": []
  },
  {
   "cell_type": "code",
   "execution_count": null,
   "metadata": {},
   "outputs": [
    {
     "name": "stderr",
     "output_type": "stream",
     "text": [
      "2021-02-27 12:28:45,917 [INFO] [OPT-EXP-DSGN - coordinate_ascent_eh] ===> Starting init 0, initial f(S) = 0.37248\n",
      "2021-02-27 12:28:45,923 [INFO] [OPT-EXP-DSGN - coordinate_ascent_eh] [1/1] [t = 1] id = 0, 3899 to 2195 after 2 swaps,  f(S) = 0.37427\n",
      "2021-02-27 12:28:45,928 [INFO] [OPT-EXP-DSGN - coordinate_ascent_eh] [1/1] [t = 1] id = 1, 2905 to 5910 after 2 swaps,  f(S) = 0.38086\n",
      "2021-02-27 12:28:45,932 [INFO] [OPT-EXP-DSGN - coordinate_ascent_eh] [1/1] [t = 1] id = 2, 8188 to 7401 after 0 swaps,  f(S) = 0.38580\n",
      "2021-02-27 12:28:45,936 [INFO] [OPT-EXP-DSGN - coordinate_ascent_eh] [1/1] [t = 1] id = 3, 526 to 3529 after 1 swaps,  f(S) = 0.38819\n",
      "2021-02-27 12:28:45,942 [INFO] [OPT-EXP-DSGN - coordinate_ascent_eh] [1/1] [t = 1] id = 4, 2661 to 4493 after 4 swaps,  f(S) = 0.39659\n",
      "2021-02-27 12:28:45,950 [INFO] [OPT-EXP-DSGN - coordinate_ascent_eh] [1/1] [t = 1] id = 5, 6369 to 6033 after 6 swaps,  f(S) = 0.39845\n",
      "2021-02-27 12:28:45,953 [INFO] [OPT-EXP-DSGN - coordinate_ascent_eh] [1/1] [t = 1] id = 6, 3196 to 7870 after 0 swaps,  f(S) = 0.40590\n",
      "2021-02-27 12:28:45,956 [INFO] [OPT-EXP-DSGN - coordinate_ascent_eh] [1/1] [t = 1] id = 7, 892 to 7862 after 0 swaps,  f(S) = 0.40620\n",
      "2021-02-27 12:28:45,961 [INFO] [OPT-EXP-DSGN - coordinate_ascent_eh] [1/1] [t = 1] id = 8, 931 to 447 after 3 swaps,  f(S) = 0.41014\n",
      "2021-02-27 12:28:45,964 [INFO] [OPT-EXP-DSGN - coordinate_ascent_eh] [1/1] [t = 1] id = 9, 90 to 3550 after 0 swaps,  f(S) = 0.41293\n",
      "2021-02-27 12:28:45,967 [INFO] [OPT-EXP-DSGN - coordinate_ascent_eh] [1/1] [t = 1] id = 10, 6025 to 752 after 0 swaps,  f(S) = 0.41789\n",
      "2021-02-27 12:28:45,970 [INFO] [OPT-EXP-DSGN - coordinate_ascent_eh] [1/1] [t = 1] id = 11, 3340 to 6481 after 0 swaps,  f(S) = 0.42208\n",
      "2021-02-27 12:28:45,973 [INFO] [OPT-EXP-DSGN - coordinate_ascent_eh] [1/1] [t = 1] id = 12, 4974 to 4323 after 1 swaps,  f(S) = 0.42583\n",
      "2021-02-27 12:28:45,977 [INFO] [OPT-EXP-DSGN - coordinate_ascent_eh] [1/1] [t = 1] id = 13, 5809 to 8389 after 1 swaps,  f(S) = 0.42789\n",
      "2021-02-27 12:28:45,982 [INFO] [OPT-EXP-DSGN - coordinate_ascent_eh] [1/1] [t = 1] id = 14, 7440 to 6416 after 2 swaps,  f(S) = 0.42793\n",
      "2021-02-27 12:28:45,984 [INFO] [OPT-EXP-DSGN - coordinate_ascent_eh] [1/1] [t = 1] id = 15, 6681 to 3090 after 0 swaps,  f(S) = 0.43509\n",
      "2021-02-27 12:28:45,990 [INFO] [OPT-EXP-DSGN - coordinate_ascent_eh] [1/1] [t = 1] id = 16, 4250 to 3143 after 3 swaps,  f(S) = 0.43598\n",
      "2021-02-27 12:28:45,992 [INFO] [OPT-EXP-DSGN - coordinate_ascent_eh] [1/1] [t = 1] id = 17, 6113 to 2330 after 0 swaps,  f(S) = 0.44169\n",
      "2021-02-27 12:28:45,996 [INFO] [OPT-EXP-DSGN - coordinate_ascent_eh] [1/1] [t = 1] id = 18, 4477 to 3749 after 1 swaps,  f(S) = 0.44786\n",
      "2021-02-27 12:28:45,999 [INFO] [OPT-EXP-DSGN - coordinate_ascent_eh] [1/1] [t = 1] id = 19, 5007 to 4542 after 0 swaps,  f(S) = 0.47188\n",
      "2021-02-27 12:28:46,002 [INFO] [OPT-EXP-DSGN - coordinate_ascent_eh] [1/1] [t = 1] id = 20, 2681 to 5398 after 1 swaps,  f(S) = 0.47225\n",
      "2021-02-27 12:28:46,039 [INFO] [OPT-EXP-DSGN - coordinate_ascent_eh] [1/1] [t = 1] id = 21, 3314 to 4406 after 42 swaps,  f(S) = 0.47292\n",
      "2021-02-27 12:28:46,046 [INFO] [OPT-EXP-DSGN - coordinate_ascent_eh] [1/1] [t = 1] id = 22, 804 to 7470 after 5 swaps,  f(S) = 0.47512\n",
      "2021-02-27 12:28:46,049 [INFO] [OPT-EXP-DSGN - coordinate_ascent_eh] [1/1] [t = 1] id = 23, 5890 to 2902 after 0 swaps,  f(S) = 0.48145\n",
      "2021-02-27 12:28:46,052 [INFO] [OPT-EXP-DSGN - coordinate_ascent_eh] [1/1] [t = 1] id = 24, 210 to 7788 after 0 swaps,  f(S) = 0.48829\n",
      "2021-02-27 12:28:46,055 [INFO] [OPT-EXP-DSGN - coordinate_ascent_eh] [1/1] [t = 1] id = 25, 2788 to 2116 after 0 swaps,  f(S) = 0.49192\n",
      "2021-02-27 12:28:46,072 [INFO] [OPT-EXP-DSGN - coordinate_ascent_eh] [1/1] [t = 1] id = 26, 839 to 1499 after 15 swaps,  f(S) = 0.49543\n",
      "2021-02-27 12:28:46,075 [INFO] [OPT-EXP-DSGN - coordinate_ascent_eh] [1/1] [t = 1] id = 27, 5020 to 3743 after 0 swaps,  f(S) = 0.49568\n",
      "2021-02-27 12:28:46,079 [INFO] [OPT-EXP-DSGN - coordinate_ascent_eh] [1/1] [t = 1] id = 28, 1780 to 7648 after 1 swaps,  f(S) = 0.49571\n",
      "2021-02-27 12:28:46,082 [INFO] [OPT-EXP-DSGN - coordinate_ascent_eh] [1/1] [t = 1] id = 29, 3745 to 1610 after 1 swaps,  f(S) = 0.49614\n",
      "2021-02-27 12:28:46,085 [INFO] [OPT-EXP-DSGN - coordinate_ascent_eh] [1/1] [t = 1] id = 30, 2340 to 3172 after 0 swaps,  f(S) = 0.50042\n",
      "2021-02-27 12:28:46,099 [INFO] [OPT-EXP-DSGN - coordinate_ascent_eh] [1/1] [t = 1] id = 31, 4649 to 632 after 14 swaps,  f(S) = 0.50552\n",
      "2021-02-27 12:28:46,102 [INFO] [OPT-EXP-DSGN - coordinate_ascent_eh] [1/1] [t = 1] id = 32, 1818 to 2235 after 0 swaps,  f(S) = 0.51585\n",
      "2021-02-27 12:28:46,105 [INFO] [OPT-EXP-DSGN - coordinate_ascent_eh] [1/1] [t = 1] id = 33, 3653 to 1294 after 0 swaps,  f(S) = 0.53242\n",
      "2021-02-27 12:28:46,109 [INFO] [OPT-EXP-DSGN - coordinate_ascent_eh] [1/1] [t = 1] id = 34, 3324 to 141 after 1 swaps,  f(S) = 0.53795\n",
      "2021-02-27 12:28:46,114 [INFO] [OPT-EXP-DSGN - coordinate_ascent_eh] [1/1] [t = 1] id = 35, 8091 to 3274 after 3 swaps,  f(S) = 0.54064\n",
      "2021-02-27 12:28:46,117 [INFO] [OPT-EXP-DSGN - coordinate_ascent_eh] [1/1] [t = 1] id = 36, 4400 to 5238 after 0 swaps,  f(S) = 0.55617\n",
      "2021-02-27 12:28:46,122 [INFO] [OPT-EXP-DSGN - coordinate_ascent_eh] [1/1] [t = 1] id = 37, 2297 to 3797 after 3 swaps,  f(S) = 0.55780\n",
      "2021-02-27 12:28:46,127 [INFO] [OPT-EXP-DSGN - coordinate_ascent_eh] [1/1] [t = 1] id = 38, 7727 to 8315 after 2 swaps,  f(S) = 0.56140\n",
      "2021-02-27 12:28:46,131 [INFO] [OPT-EXP-DSGN - coordinate_ascent_eh] [1/1] [t = 1] id = 39, 5601 to 4014 after 2 swaps,  f(S) = 0.56198\n",
      "2021-02-27 12:28:46,134 [INFO] [OPT-EXP-DSGN - coordinate_ascent_eh] [1/1] [t = 1] id = 40, 2641 to 146 after 1 swaps,  f(S) = 0.59119\n",
      "2021-02-27 12:28:46,138 [INFO] [OPT-EXP-DSGN - coordinate_ascent_eh] [1/1] [t = 1] id = 41, 5479 to 8125 after 1 swaps,  f(S) = 0.60063\n",
      "2021-02-27 12:28:46,162 [INFO] [OPT-EXP-DSGN - coordinate_ascent_eh] [1/1] [t = 1] id = 42, 1753 to 6075 after 26 swaps,  f(S) = 0.60391\n",
      "2021-02-27 12:28:46,168 [INFO] [OPT-EXP-DSGN - coordinate_ascent_eh] [1/1] [t = 1] id = 43, 1344 to 8071 after 3 swaps,  f(S) = 0.61007\n",
      "2021-02-27 12:28:46,241 [INFO] [OPT-EXP-DSGN - coordinate_ascent_eh] [1/1] [t = 1] id = 44, 2276 to 2634 after 86 swaps,  f(S) = 0.61094\n",
      "2021-02-27 12:28:46,244 [INFO] [OPT-EXP-DSGN - coordinate_ascent_eh] [1/1] [t = 1] id = 45, 8078 to 2144 after 1 swaps,  f(S) = 0.61381\n",
      "2021-02-27 12:28:46,248 [INFO] [OPT-EXP-DSGN - coordinate_ascent_eh] [1/1] [t = 1] id = 46, 6978 to 388 after 1 swaps,  f(S) = 0.61639\n",
      "2021-02-27 12:28:46,251 [INFO] [OPT-EXP-DSGN - coordinate_ascent_eh] [1/1] [t = 1] id = 47, 2240 to 2353 after 0 swaps,  f(S) = 0.62225\n",
      "2021-02-27 12:28:46,253 [INFO] [OPT-EXP-DSGN - coordinate_ascent_eh] [1/1] [t = 1] id = 48, 3205 to 6036 after 0 swaps,  f(S) = 0.62971\n",
      "2021-02-27 12:28:46,256 [INFO] [OPT-EXP-DSGN - coordinate_ascent_eh] [1/1] [t = 1] id = 49, 5805 to 3611 after 0 swaps,  f(S) = 0.63632\n",
      "2021-02-27 12:28:46,257 [INFO] [OPT-EXP-DSGN - coordinate_ascent_eh] loop 1 done, loop total time 0.346163, f(S) = 0.63632\n",
      "2021-02-27 12:28:46,274 [INFO] [OPT-EXP-DSGN - coordinate_ascent_eh] [1/1] [t = 2] id = 0, 447 to 4595 after 17 swaps,  f(S) = 0.63712\n",
      "2021-02-27 12:28:46,278 [INFO] [OPT-EXP-DSGN - coordinate_ascent_eh] [1/1] [t = 2] id = 1, 7862 to 7389 after 1 swaps,  f(S) = 0.63825\n",
      "2021-02-27 12:28:46,284 [INFO] [OPT-EXP-DSGN - coordinate_ascent_eh] [1/1] [t = 2] id = 2, 8125 to 2862 after 4 swaps,  f(S) = 0.63947\n",
      "2021-02-27 12:28:46,288 [INFO] [OPT-EXP-DSGN - coordinate_ascent_eh] [1/1] [t = 2] id = 3, 7648 to 5193 after 2 swaps,  f(S) = 0.65367\n",
      "2021-02-27 12:28:46,295 [INFO] [OPT-EXP-DSGN - coordinate_ascent_eh] [1/1] [t = 2] id = 4, 388 to 5644 after 5 swaps,  f(S) = 0.65702\n",
      "2021-02-27 12:28:46,298 [INFO] [OPT-EXP-DSGN - coordinate_ascent_eh] [1/1] [t = 2] id = 5, 3172 to 6064 after 0 swaps,  f(S) = 0.67127\n",
      "2021-02-27 12:28:46,301 [INFO] [OPT-EXP-DSGN - coordinate_ascent_eh] [1/1] [t = 2] id = 6, 3611 to 4369 after 1 swaps,  f(S) = 0.67167\n",
      "2021-02-27 12:28:46,304 [INFO] [OPT-EXP-DSGN - coordinate_ascent_eh] [1/1] [t = 2] id = 7, 146 to 2312 after 0 swaps,  f(S) = 0.67303\n",
      "2021-02-27 12:28:46,309 [INFO] [OPT-EXP-DSGN - coordinate_ascent_eh] [1/1] [t = 2] id = 8, 2330 to 6679 after 3 swaps,  f(S) = 0.67508\n",
      "2021-02-27 12:28:46,313 [INFO] [OPT-EXP-DSGN - coordinate_ascent_eh] [1/1] [t = 2] id = 9, 2235 to 1589 after 1 swaps,  f(S) = 0.67613\n",
      "2021-02-27 12:28:46,316 [INFO] [OPT-EXP-DSGN - coordinate_ascent_eh] [1/1] [t = 2] id = 10, 3529 to 2602 after 1 swaps,  f(S) = 0.67709\n",
      "2021-02-27 12:28:46,319 [INFO] [OPT-EXP-DSGN - coordinate_ascent_eh] [1/1] [t = 2] id = 11, 8315 to 353 after 0 swaps,  f(S) = 0.68163\n",
      "2021-02-27 12:28:46,322 [INFO] [OPT-EXP-DSGN - coordinate_ascent_eh] [1/1] [t = 2] id = 12, 6416 to 1028 after 0 swaps,  f(S) = 0.68484\n",
      "2021-02-27 12:28:46,324 [INFO] [OPT-EXP-DSGN - coordinate_ascent_eh] [1/1] [t = 2] id = 13, 3743 to 5900 after 0 swaps,  f(S) = 0.68561\n",
      "2021-02-27 12:28:46,330 [INFO] [OPT-EXP-DSGN - coordinate_ascent_eh] [1/1] [t = 2] id = 14, 3090 to 3136 after 3 swaps,  f(S) = 0.69418\n",
      "2021-02-27 12:28:46,333 [INFO] [OPT-EXP-DSGN - coordinate_ascent_eh] [1/1] [t = 2] id = 15, 1610 to 5683 after 0 swaps,  f(S) = 0.69469\n",
      "2021-02-27 12:28:46,337 [INFO] [OPT-EXP-DSGN - coordinate_ascent_eh] [1/1] [t = 2] id = 16, 6033 to 4110 after 2 swaps,  f(S) = 0.69687\n",
      "2021-02-27 12:28:46,339 [INFO] [OPT-EXP-DSGN - coordinate_ascent_eh] [1/1] [t = 2] id = 17, 7401 to 4041 after 0 swaps,  f(S) = 0.70284\n",
      "2021-02-27 12:28:46,350 [INFO] [OPT-EXP-DSGN - coordinate_ascent_eh] [1/1] [t = 2] id = 18, 6075 to 4519 after 9 swaps,  f(S) = 0.70299\n",
      "2021-02-27 12:28:46,360 [INFO] [OPT-EXP-DSGN - coordinate_ascent_eh] [1/1] [t = 2] id = 19, 6481 to 214 after 10 swaps,  f(S) = 0.70450\n",
      "2021-02-27 12:28:46,364 [INFO] [OPT-EXP-DSGN - coordinate_ascent_eh] [1/1] [t = 2] id = 20, 5398 to 3453 after 1 swaps,  f(S) = 0.70580\n",
      "2021-02-27 12:28:46,374 [INFO] [OPT-EXP-DSGN - coordinate_ascent_eh] [1/1] [t = 2] id = 21, 2634 to 6864 after 9 swaps,  f(S) = 0.70822\n",
      "2021-02-27 12:28:46,398 [INFO] [OPT-EXP-DSGN - coordinate_ascent_eh] [1/1] [t = 2] id = 22, 2902 to 6142 after 26 swaps,  f(S) = 0.70848\n",
      "2021-02-27 12:28:46,401 [INFO] [OPT-EXP-DSGN - coordinate_ascent_eh] [1/1] [t = 2] id = 23, 3143 to 2352 after 1 swaps,  f(S) = 0.71052\n",
      "2021-02-27 12:28:46,406 [INFO] [OPT-EXP-DSGN - coordinate_ascent_eh] [1/1] [t = 2] id = 24, 141 to 1529 after 3 swaps,  f(S) = 0.71178\n",
      "2021-02-27 12:28:46,409 [INFO] [OPT-EXP-DSGN - coordinate_ascent_eh] [1/1] [t = 2] id = 25, 752 to 2635 after 0 swaps,  f(S) = 0.71812\n",
      "2021-02-27 12:28:46,412 [INFO] [OPT-EXP-DSGN - coordinate_ascent_eh] [1/1] [t = 2] id = 26, 4014 to 4477 after 0 swaps,  f(S) = 0.72487\n",
      "2021-02-27 12:28:46,415 [INFO] [OPT-EXP-DSGN - coordinate_ascent_eh] [1/1] [t = 2] id = 27, 7470 to 7921 after 0 swaps,  f(S) = 0.72662\n",
      "2021-02-27 12:28:46,418 [INFO] [OPT-EXP-DSGN - coordinate_ascent_eh] [1/1] [t = 2] id = 28, 2353 to 6173 after 0 swaps,  f(S) = 0.72987\n",
      "2021-02-27 12:28:46,423 [INFO] [OPT-EXP-DSGN - coordinate_ascent_eh] [1/1] [t = 2] id = 29, 3274 to 7749 after 2 swaps,  f(S) = 0.73262\n",
      "2021-02-27 12:28:46,429 [INFO] [OPT-EXP-DSGN - coordinate_ascent_eh] [1/1] [t = 2] id = 30, 6036 to 3980 after 4 swaps,  f(S) = 0.73795\n",
      "2021-02-27 12:28:46,525 [INFO] [OPT-EXP-DSGN - coordinate_ascent_eh] [1/1] [t = 2] id = 31, 2116 to 342 after 103 swaps,  f(S) = 0.73969\n",
      "2021-02-27 12:28:46,529 [INFO] [OPT-EXP-DSGN - coordinate_ascent_eh] [1/1] [t = 2] id = 32, 2195 to 2696 after 1 swaps,  f(S) = 0.74220\n",
      "2021-02-27 12:28:46,532 [INFO] [OPT-EXP-DSGN - coordinate_ascent_eh] [1/1] [t = 2] id = 33, 5910 to 5788 after 0 swaps,  f(S) = 0.75075\n",
      "2021-02-27 12:28:46,554 [INFO] [OPT-EXP-DSGN - coordinate_ascent_eh] [1/1] [t = 2] id = 34, 4323 to 3692 after 19 swaps,  f(S) = 0.75196\n",
      "2021-02-27 12:28:46,563 [INFO] [OPT-EXP-DSGN - coordinate_ascent_eh] [1/1] [t = 2] id = 35, 3797 to 7500 after 6 swaps,  f(S) = 0.75395\n",
      "2021-02-27 12:28:46,570 [INFO] [OPT-EXP-DSGN - coordinate_ascent_eh] [1/1] [t = 2] id = 36, 2144 to 4004 after 4 swaps,  f(S) = 0.75558\n",
      "2021-02-27 12:28:46,657 [INFO] [OPT-EXP-DSGN - coordinate_ascent_eh] [1/1] [t = 2] id = 37, 4493 to 1776 after 99 swaps,  f(S) = 0.76195\n",
      "2021-02-27 12:28:46,660 [INFO] [OPT-EXP-DSGN - coordinate_ascent_eh] [1/1] [t = 2] id = 38, 1294 to 2887 after 0 swaps,  f(S) = 0.77132\n",
      "2021-02-27 12:28:46,666 [INFO] [OPT-EXP-DSGN - coordinate_ascent_eh] [1/1] [t = 2] id = 39, 3550 to 7034 after 4 swaps,  f(S) = 0.77167\n",
      "2021-02-27 12:28:46,669 [INFO] [OPT-EXP-DSGN - coordinate_ascent_eh] [1/1] [t = 2] id = 40, 8389 to 1600 after 0 swaps,  f(S) = 0.77530\n",
      "2021-02-27 12:28:46,679 [INFO] [OPT-EXP-DSGN - coordinate_ascent_eh] [1/1] [t = 2] id = 41, 8071 to 6677 after 9 swaps,  f(S) = 0.77586\n",
      "2021-02-27 12:28:46,682 [INFO] [OPT-EXP-DSGN - coordinate_ascent_eh] [1/1] [t = 2] id = 42, 1499 to 181 after 1 swaps,  f(S) = 0.77726\n",
      "2021-02-27 12:28:46,915 [INFO] [OPT-EXP-DSGN - coordinate_ascent_eh] [1/1] [t = 2] id = 43, 632 to 8067 after 278 swaps,  f(S) = 0.77866\n",
      "2021-02-27 12:28:46,929 [INFO] [OPT-EXP-DSGN - coordinate_ascent_eh] [1/1] [t = 2] id = 44, 7870 to 8061 after 13 swaps,  f(S) = 0.78190\n",
      "2021-02-27 12:28:46,933 [INFO] [OPT-EXP-DSGN - coordinate_ascent_eh] [1/1] [t = 2] id = 45, 7788 to 338 after 1 swaps,  f(S) = 0.79342\n",
      "2021-02-27 12:28:46,945 [INFO] [OPT-EXP-DSGN - coordinate_ascent_eh] [1/1] [t = 2] id = 46, 4406 to 2276 after 12 swaps,  f(S) = 0.79957\n",
      "2021-02-27 12:28:46,968 [INFO] [OPT-EXP-DSGN - coordinate_ascent_eh] [1/1] [t = 2] id = 47, 3749 to 6019 after 24 swaps,  f(S) = 0.80018\n",
      "2021-02-27 12:28:47,095 [INFO] [OPT-EXP-DSGN - coordinate_ascent_eh] [1/1] [t = 2] id = 48, 5238 to 6625 after 150 swaps,  f(S) = 0.80337\n",
      "2021-02-27 12:28:47,099 [INFO] [OPT-EXP-DSGN - coordinate_ascent_eh] [1/1] [t = 2] id = 49, 4542 to 4234 after 1 swaps,  f(S) = 0.80490\n",
      "2021-02-27 12:28:47,099 [INFO] [OPT-EXP-DSGN - coordinate_ascent_eh] loop 2 done, loop total time 0.848755, f(S) = 0.80490\n",
      "2021-02-27 12:28:47,151 [INFO] [OPT-EXP-DSGN - coordinate_ascent_eh] [1/1] [t = 3] id = 0, 338 to 5786 after 58 swaps,  f(S) = 0.81064\n",
      "2021-02-27 12:28:47,157 [INFO] [OPT-EXP-DSGN - coordinate_ascent_eh] [1/1] [t = 3] id = 1, 4004 to 4151 after 4 swaps,  f(S) = 0.81138\n",
      "2021-02-27 12:28:47,173 [INFO] [OPT-EXP-DSGN - coordinate_ascent_eh] [1/1] [t = 3] id = 2, 181 to 8350 after 16 swaps,  f(S) = 0.81311\n",
      "2021-02-27 12:28:47,290 [INFO] [OPT-EXP-DSGN - coordinate_ascent_eh] [1/1] [t = 3] id = 3, 8067 to 5938 after 138 swaps,  f(S) = 0.81335\n",
      "2021-02-27 12:28:47,388 [INFO] [OPT-EXP-DSGN - coordinate_ascent_eh] [1/1] [t = 3] id = 4, 4234 to 7878 after 115 swaps,  f(S) = 0.81341\n",
      "2021-02-27 12:28:47,392 [INFO] [OPT-EXP-DSGN - coordinate_ascent_eh] [1/1] [t = 3] id = 5, 7749 to 3113 after 2 swaps,  f(S) = 0.81671\n",
      "2021-02-27 12:28:47,408 [INFO] [OPT-EXP-DSGN - coordinate_ascent_eh] [1/1] [t = 3] id = 6, 4519 to 181 after 16 swaps,  f(S) = 0.81679\n",
      "2021-02-27 12:28:47,520 [INFO] [OPT-EXP-DSGN - coordinate_ascent_eh] [1/1] [t = 3] id = 7, 6864 to 6599 after 132 swaps,  f(S) = 0.81680\n",
      "2021-02-27 12:28:47,528 [INFO] [OPT-EXP-DSGN - coordinate_ascent_eh] [1/1] [t = 3] id = 8, 3453 to 2133 after 6 swaps,  f(S) = 0.81940\n",
      "2021-02-27 12:28:47,546 [INFO] [OPT-EXP-DSGN - coordinate_ascent_eh] [1/1] [t = 3] id = 9, 214 to 109 after 19 swaps,  f(S) = 0.82417\n",
      "2021-02-27 12:28:47,549 [INFO] [OPT-EXP-DSGN - coordinate_ascent_eh] [1/1] [t = 3] id = 10, 5788 to 5576 after 0 swaps,  f(S) = 0.82445\n",
      "2021-02-27 12:28:47,562 [INFO] [OPT-EXP-DSGN - coordinate_ascent_eh] [1/1] [t = 3] id = 11, 8061 to 5237 after 13 swaps,  f(S) = 0.82467\n",
      "2021-02-27 12:28:47,582 [INFO] [OPT-EXP-DSGN - coordinate_ascent_eh] [1/1] [t = 3] id = 12, 6173 to 5388 after 20 swaps,  f(S) = 0.82496\n",
      "2021-02-27 12:28:47,586 [INFO] [OPT-EXP-DSGN - coordinate_ascent_eh] [1/1] [t = 3] id = 13, 342 to 6087 after 2 swaps,  f(S) = 0.82502\n",
      "2021-02-27 12:28:47,609 [INFO] [OPT-EXP-DSGN - coordinate_ascent_eh] [1/1] [t = 3] id = 14, 5193 to 6100 after 24 swaps,  f(S) = 0.82515\n",
      "2021-02-27 12:28:47,805 [INFO] [OPT-EXP-DSGN - coordinate_ascent_eh] [1/1] [t = 3] id = 15, 7500 to 4332 after 233 swaps,  f(S) = 0.82762\n",
      "2021-02-27 12:28:47,809 [INFO] [OPT-EXP-DSGN - coordinate_ascent_eh] [1/1] [t = 3] id = 16, 2352 to 7177 after 1 swaps,  f(S) = 0.83062\n",
      "2021-02-27 12:28:47,812 [INFO] [OPT-EXP-DSGN - coordinate_ascent_eh] [1/1] [t = 3] id = 17, 353 to 2104 after 1 swaps,  f(S) = 0.83259\n",
      "2021-02-27 12:28:47,823 [INFO] [OPT-EXP-DSGN - coordinate_ascent_eh] [1/1] [t = 3] id = 18, 2696 to 3924 after 10 swaps,  f(S) = 0.83380\n",
      "2021-02-27 12:28:48,030 [INFO] [OPT-EXP-DSGN - coordinate_ascent_eh] [1/1] [t = 3] id = 19, 2276 to 4240 after 246 swaps,  f(S) = 0.83429\n",
      "2021-02-27 12:28:48,032 [INFO] [OPT-EXP-DSGN - coordinate_ascent_eh] [1/1] [t = 3] id = 20, 7921 to 7500 after 0 swaps,  f(S) = 0.84301\n",
      "2021-02-27 12:28:48,044 [INFO] [OPT-EXP-DSGN - coordinate_ascent_eh] [1/1] [t = 3] id = 21, 3692 to 8061 after 11 swaps,  f(S) = 0.84392\n",
      "2021-02-27 12:28:48,108 [INFO] [OPT-EXP-DSGN - coordinate_ascent_eh] [1/1] [t = 3] id = 22, 4041 to 198 after 74 swaps,  f(S) = 0.84540\n",
      "2021-02-27 12:28:48,126 [INFO] [OPT-EXP-DSGN - coordinate_ascent_eh] [1/1] [t = 3] id = 23, 6019 to 6825 after 18 swaps,  f(S) = 0.84588\n",
      "2021-02-27 12:28:48,190 [INFO] [OPT-EXP-DSGN - coordinate_ascent_eh] [1/1] [t = 3] id = 24, 1529 to 2276 after 74 swaps,  f(S) = 0.84663\n",
      "2021-02-27 12:28:48,196 [INFO] [OPT-EXP-DSGN - coordinate_ascent_eh] [1/1] [t = 3] id = 25, 2312 to 755 after 4 swaps,  f(S) = 0.84677\n",
      "2021-02-27 12:28:48,205 [INFO] [OPT-EXP-DSGN - coordinate_ascent_eh] [1/1] [t = 3] id = 26, 5683 to 5509 after 7 swaps,  f(S) = 0.84732\n",
      "2021-02-27 12:28:48,208 [INFO] [OPT-EXP-DSGN - coordinate_ascent_eh] [1/1] [t = 3] id = 27, 2887 to 148 after 0 swaps,  f(S) = 0.85029\n",
      "2021-02-27 12:28:48,230 [INFO] [OPT-EXP-DSGN - coordinate_ascent_eh] [1/1] [t = 3] id = 28, 2635 to 474 after 23 swaps,  f(S) = 0.85360\n",
      "2021-02-27 12:28:48,282 [INFO] [OPT-EXP-DSGN - coordinate_ascent_eh] [1/1] [t = 3] id = 29, 4369 to 612 after 59 swaps,  f(S) = 0.85406\n",
      "2021-02-27 12:28:48,286 [INFO] [OPT-EXP-DSGN - coordinate_ascent_eh] [1/1] [t = 3] id = 30, 4110 to 1918 after 2 swaps,  f(S) = 0.85492\n",
      "2021-02-27 12:28:48,302 [INFO] [OPT-EXP-DSGN - coordinate_ascent_eh] [1/1] [t = 3] id = 31, 6064 to 3874 after 16 swaps,  f(S) = 0.85501\n",
      "2021-02-27 12:28:48,312 [INFO] [OPT-EXP-DSGN - coordinate_ascent_eh] [1/1] [t = 3] id = 32, 2602 to 3029 after 8 swaps,  f(S) = 0.85658\n",
      "2021-02-27 12:28:48,324 [INFO] [OPT-EXP-DSGN - coordinate_ascent_eh] [1/1] [t = 3] id = 33, 6625 to 5088 after 11 swaps,  f(S) = 0.85699\n",
      "2021-02-27 12:28:48,353 [INFO] [OPT-EXP-DSGN - coordinate_ascent_eh] [1/1] [t = 3] id = 34, 4595 to 2030 after 32 swaps,  f(S) = 0.85714\n",
      "2021-02-27 12:28:48,356 [INFO] [OPT-EXP-DSGN - coordinate_ascent_eh] [1/1] [t = 3] id = 35, 1589 to 3329 after 0 swaps,  f(S) = 0.86242\n",
      "2021-02-27 12:28:48,383 [INFO] [OPT-EXP-DSGN - coordinate_ascent_eh] [1/1] [t = 3] id = 36, 6142 to 2690 after 30 swaps,  f(S) = 0.86315\n",
      "2021-02-27 12:28:48,394 [INFO] [OPT-EXP-DSGN - coordinate_ascent_eh] [1/1] [t = 3] id = 37, 5644 to 3820 after 9 swaps,  f(S) = 0.86375\n",
      "2021-02-27 12:28:50,133 [INFO] [OPT-EXP-DSGN - coordinate_ascent_eh] [1/1] [t = 3] id = 38, 1776 to 3451 after 2091 swaps,  f(S) = 0.86741\n",
      "2021-02-27 12:28:50,139 [INFO] [OPT-EXP-DSGN - coordinate_ascent_eh] [1/1] [t = 3] id = 39, 4477 to 7538 after 3 swaps,  f(S) = 0.86839\n",
      "2021-02-27 12:28:50,184 [INFO] [OPT-EXP-DSGN - coordinate_ascent_eh] [1/1] [t = 3] id = 40, 2862 to 141 after 51 swaps,  f(S) = 0.86909\n",
      "2021-02-27 12:28:50,189 [INFO] [OPT-EXP-DSGN - coordinate_ascent_eh] [1/1] [t = 3] id = 41, 7389 to 4960 after 2 swaps,  f(S) = 0.87031\n",
      "2021-02-27 12:28:50,193 [INFO] [OPT-EXP-DSGN - coordinate_ascent_eh] [1/1] [t = 3] id = 42, 1028 to 4460 after 1 swaps,  f(S) = 0.87135\n",
      "2021-02-27 12:28:50,205 [INFO] [OPT-EXP-DSGN - coordinate_ascent_eh] [1/1] [t = 3] id = 43, 6679 to 7143 after 11 swaps,  f(S) = 0.87353\n",
      "2021-02-27 12:28:50,235 [INFO] [OPT-EXP-DSGN - coordinate_ascent_eh] [1/1] [t = 3] id = 44, 1600 to 3807 after 33 swaps,  f(S) = 0.87546\n",
      "2021-02-27 12:28:50,239 [INFO] [OPT-EXP-DSGN - coordinate_ascent_eh] [1/1] [t = 3] id = 45, 6677 to 3275 after 2 swaps,  f(S) = 0.87848\n",
      "2021-02-27 12:28:50,591 [INFO] [OPT-EXP-DSGN - coordinate_ascent_eh] [1/1] [t = 3] id = 46, 3980 to 447 after 420 swaps,  f(S) = 0.87885\n",
      "2021-02-27 12:28:50,593 [INFO] [OPT-EXP-DSGN - coordinate_ascent_eh] [1/1] [t = 3] id = 47, 5900 to 73 after 0 swaps,  f(S) = 0.88652\n",
      "2021-02-27 12:28:50,612 [INFO] [OPT-EXP-DSGN - coordinate_ascent_eh] [1/1] [t = 3] id = 48, 7034 to 1070 after 19 swaps,  f(S) = 0.88712\n",
      "2021-02-27 12:28:50,658 [INFO] [OPT-EXP-DSGN - coordinate_ascent_eh] [1/1] [t = 3] id = 49, 3136 to 7419 after 53 swaps,  f(S) = 0.88792\n",
      "2021-02-27 12:28:50,659 [INFO] [OPT-EXP-DSGN - coordinate_ascent_eh] loop 3 done, loop total time 3.566492, f(S) = 0.88792\n",
      "2021-02-27 12:28:50,679 [INFO] [OPT-EXP-DSGN - coordinate_ascent_eh] [1/1] [t = 4] id = 0, 198 to 3150 after 20 swaps,  f(S) = 0.88818\n",
      "2021-02-27 12:28:50,683 [INFO] [OPT-EXP-DSGN - coordinate_ascent_eh] [1/1] [t = 4] id = 1, 4151 to 872 after 2 swaps,  f(S) = 0.88863\n",
      "2021-02-27 12:28:50,842 [INFO] [OPT-EXP-DSGN - coordinate_ascent_eh] [1/1] [t = 4] id = 2, 7500 to 5027 after 187 swaps,  f(S) = 0.88883\n",
      "2021-02-27 12:28:50,862 [INFO] [OPT-EXP-DSGN - coordinate_ascent_eh] [1/1] [t = 4] id = 3, 7143 to 1 after 21 swaps,  f(S) = 0.88957\n",
      "2021-02-27 12:28:51,173 [INFO] [OPT-EXP-DSGN - coordinate_ascent_eh] [1/1] [t = 4] id = 4, 2104 to 1719 after 369 swaps,  f(S) = 0.88972\n",
      "2021-02-27 12:28:51,403 [INFO] [OPT-EXP-DSGN - coordinate_ascent_eh] [1/1] [t = 4] id = 5, 612 to 6653 after 284 swaps,  f(S) = 0.89040\n",
      "2021-02-27 12:28:51,450 [INFO] [OPT-EXP-DSGN - coordinate_ascent_eh] [1/1] [t = 4] id = 6, 3113 to 3134 after 56 swaps,  f(S) = 0.89373\n",
      "2021-02-27 12:28:51,517 [INFO] [OPT-EXP-DSGN - coordinate_ascent_eh] [1/1] [t = 4] id = 7, 8061 to 717 after 80 swaps,  f(S) = 0.89430\n",
      "2021-02-27 12:28:51,546 [INFO] [OPT-EXP-DSGN - coordinate_ascent_eh] [1/1] [t = 4] id = 8, 2133 to 7358 after 33 swaps,  f(S) = 0.89523\n",
      "2021-02-27 12:28:51,552 [INFO] [OPT-EXP-DSGN - coordinate_ascent_eh] [1/1] [t = 4] id = 9, 73 to 265 after 4 swaps,  f(S) = 0.89633\n",
      "2021-02-27 12:28:51,554 [INFO] [OPT-EXP-DSGN - coordinate_ascent_eh] [1/1] [t = 4] id = 10, 6087 to 1371 after 0 swaps,  f(S) = 0.89744\n",
      "2021-02-27 12:28:51,564 [INFO] [OPT-EXP-DSGN - coordinate_ascent_eh] [1/1] [t = 4] id = 11, 4960 to 665 after 8 swaps,  f(S) = 0.89791\n",
      "2021-02-27 12:28:51,566 [INFO] [OPT-EXP-DSGN - coordinate_ascent_eh] [1/1] [t = 4] id = 12, 5388 to 5770 after 0 swaps,  f(S) = 0.89820\n",
      "2021-02-27 12:28:51,573 [INFO] [OPT-EXP-DSGN - coordinate_ascent_eh] [1/1] [t = 4] id = 13, 5576 to 7218 after 5 swaps,  f(S) = 0.89828\n",
      "2021-02-27 12:28:51,629 [INFO] [OPT-EXP-DSGN - coordinate_ascent_eh] [1/1] [t = 4] id = 14, 6825 to 4087 after 66 swaps,  f(S) = 0.89837\n",
      "2021-02-27 12:28:51,781 [INFO] [OPT-EXP-DSGN - coordinate_ascent_eh] [1/1] [t = 4] id = 15, 6599 to 6549 after 187 swaps,  f(S) = 0.89889\n",
      "2021-02-27 12:28:51,971 [INFO] [OPT-EXP-DSGN - coordinate_ascent_eh] [1/1] [t = 4] id = 16, 5088 to 1222 after 234 swaps,  f(S) = 0.89900\n",
      "2021-02-27 12:28:51,975 [INFO] [OPT-EXP-DSGN - coordinate_ascent_eh] [1/1] [t = 4] id = 17, 4460 to 1792 after 2 swaps,  f(S) = 0.89927\n",
      "2021-02-27 12:28:51,993 [INFO] [OPT-EXP-DSGN - coordinate_ascent_eh] [1/1] [t = 4] id = 18, 3874 to 2862 after 19 swaps,  f(S) = 0.89954\n",
      "2021-02-27 12:28:52,156 [INFO] [OPT-EXP-DSGN - coordinate_ascent_eh] [1/1] [t = 4] id = 19, 2690 to 1446 after 200 swaps,  f(S) = 0.89982\n",
      "2021-02-27 12:28:52,161 [INFO] [OPT-EXP-DSGN - coordinate_ascent_eh] [1/1] [t = 4] id = 20, 1918 to 5608 after 3 swaps,  f(S) = 0.90278\n",
      "2021-02-27 12:28:52,200 [INFO] [OPT-EXP-DSGN - coordinate_ascent_eh] [1/1] [t = 4] id = 21, 447 to 1776 after 45 swaps,  f(S) = 0.90654\n",
      "2021-02-27 12:28:52,226 [INFO] [OPT-EXP-DSGN - coordinate_ascent_eh] [1/1] [t = 4] id = 22, 2276 to 6785 after 29 swaps,  f(S) = 0.90675\n",
      "2021-02-27 12:28:52,248 [INFO] [OPT-EXP-DSGN - coordinate_ascent_eh] [1/1] [t = 4] id = 23, 5509 to 145 after 25 swaps,  f(S) = 0.90682\n",
      "2021-02-27 12:28:52,279 [INFO] [OPT-EXP-DSGN - coordinate_ascent_eh] [1/1] [t = 4] id = 24, 2030 to 5333 after 35 swaps,  f(S) = 0.90719\n",
      "2021-02-27 12:28:52,291 [INFO] [OPT-EXP-DSGN - coordinate_ascent_eh] [1/1] [t = 4] id = 25, 7419 to 6842 after 11 swaps,  f(S) = 0.90821\n",
      "2021-02-27 12:28:52,299 [INFO] [OPT-EXP-DSGN - coordinate_ascent_eh] [1/1] [t = 4] id = 26, 148 to 4605 after 7 swaps,  f(S) = 0.90898\n",
      "2021-02-27 12:28:52,510 [INFO] [OPT-EXP-DSGN - coordinate_ascent_eh] [1/1] [t = 4] id = 27, 8350 to 8162 after 255 swaps,  f(S) = 0.91003\n",
      "2021-02-27 12:28:55,316 [INFO] [OPT-EXP-DSGN - coordinate_ascent_eh] [1/1] [t = 4] id = 28, 3807 to 3371 after 3434 swaps,  f(S) = 0.91016\n",
      "2021-02-27 12:28:55,728 [INFO] [OPT-EXP-DSGN - coordinate_ascent_eh] [1/1] [t = 4] id = 29, 141 to 6154 after 501 swaps,  f(S) = 0.91043\n",
      "2021-02-27 12:28:55,769 [INFO] [OPT-EXP-DSGN - coordinate_ascent_eh] [1/1] [t = 4] id = 30, 7878 to 3628 after 46 swaps,  f(S) = 0.91055\n",
      "2021-02-27 12:28:55,773 [INFO] [OPT-EXP-DSGN - coordinate_ascent_eh] [1/1] [t = 4] id = 31, 7177 to 7570 after 2 swaps,  f(S) = 0.91307\n",
      "2021-02-27 12:28:55,803 [INFO] [OPT-EXP-DSGN - coordinate_ascent_eh] [1/1] [t = 4] id = 32, 3329 to 452 after 33 swaps,  f(S) = 0.91392\n",
      "2021-02-27 12:29:01,180 [INFO] [OPT-EXP-DSGN - coordinate_ascent_eh] [1/1] [t = 4] id = 33, 5938 to 2873 after 6467 swaps,  f(S) = 0.91442\n",
      "2021-02-27 12:29:01,832 [INFO] [OPT-EXP-DSGN - coordinate_ascent_eh] [1/1] [t = 4] id = 34, 474 to 2624 after 790 swaps,  f(S) = 0.91620\n",
      "2021-02-27 12:29:01,888 [INFO] [OPT-EXP-DSGN - coordinate_ascent_eh] [1/1] [t = 4] id = 35, 1070 to 5768 after 64 swaps,  f(S) = 0.91637\n",
      "2021-02-27 12:29:01,896 [INFO] [OPT-EXP-DSGN - coordinate_ascent_eh] [1/1] [t = 4] id = 36, 755 to 3152 after 6 swaps,  f(S) = 0.91917\n",
      "2021-02-27 12:29:03,868 [INFO] [OPT-EXP-DSGN - coordinate_ascent_eh] [1/1] [t = 4] id = 37, 109 to 6763 after 2176 swaps,  f(S) = 0.91918\n",
      "2021-02-27 12:29:03,872 [INFO] [OPT-EXP-DSGN - coordinate_ascent_eh] [1/1] [t = 4] id = 38, 6100 to 3305 after 2 swaps,  f(S) = 0.92073\n",
      "2021-02-27 12:29:03,875 [INFO] [OPT-EXP-DSGN - coordinate_ascent_eh] [1/1] [t = 4] id = 39, 3820 to 5606 after 0 swaps,  f(S) = 0.92228\n",
      "2021-02-27 12:29:04,248 [INFO] [OPT-EXP-DSGN - coordinate_ascent_eh] [1/1] [t = 4] id = 40, 5786 to 7199 after 461 swaps,  f(S) = 0.92300\n",
      "2021-02-27 12:29:04,255 [INFO] [OPT-EXP-DSGN - coordinate_ascent_eh] [1/1] [t = 4] id = 41, 181 to 2415 after 5 swaps,  f(S) = 0.92514\n",
      "2021-02-27 12:29:04,265 [INFO] [OPT-EXP-DSGN - coordinate_ascent_eh] [1/1] [t = 4] id = 42, 3924 to 4991 after 9 swaps,  f(S) = 0.92615\n",
      "2021-02-27 12:29:04,269 [INFO] [OPT-EXP-DSGN - coordinate_ascent_eh] [1/1] [t = 4] id = 43, 3275 to 1388 after 2 swaps,  f(S) = 0.92633\n",
      "2021-02-27 12:29:11,822 [INFO] [OPT-EXP-DSGN - coordinate_ascent_eh] [1/1] [t = 4] id = 44 f(s) 4332 didnt change after all 8359 swaps,  f(S) = 0.92633\n",
      "2021-02-27 12:29:19,484 [INFO] [OPT-EXP-DSGN - coordinate_ascent_eh] [1/1] [t = 4] id = 45 f(s) 3451 didnt change after all 8359 swaps,  f(S) = 0.92633\n",
      "2021-02-27 12:29:19,498 [INFO] [OPT-EXP-DSGN - coordinate_ascent_eh] [1/1] [t = 4] id = 46, 7538 to 6599 after 13 swaps,  f(S) = 0.92794\n",
      "2021-02-27 12:29:27,063 [INFO] [OPT-EXP-DSGN - coordinate_ascent_eh] [1/1] [t = 4] id = 47 f(s) 4240 didnt change after all 8359 swaps,  f(S) = 0.92794\n",
      "2021-02-27 12:29:27,072 [INFO] [OPT-EXP-DSGN - coordinate_ascent_eh] [1/1] [t = 4] id = 48, 3029 to 2127 after 5 swaps,  f(S) = 0.92814\n",
      "2021-02-27 12:29:27,151 [INFO] [OPT-EXP-DSGN - coordinate_ascent_eh] [1/1] [t = 4] id = 49, 5237 to 2612 after 85 swaps,  f(S) = 0.92837\n",
      "2021-02-27 12:29:27,152 [INFO] [OPT-EXP-DSGN - coordinate_ascent_eh] loop 4 done, loop total time 36.510682, f(S) = 0.92837\n",
      "2021-02-27 12:29:27,160 [INFO] [OPT-EXP-DSGN - coordinate_ascent_eh] [1/1] [t = 5] id = 0, 3152 to 3866 after 5 swaps,  f(S) = 0.92936\n",
      "2021-02-27 12:29:27,326 [INFO] [OPT-EXP-DSGN - coordinate_ascent_eh] [1/1] [t = 5] id = 1, 2612 to 105 after 189 swaps,  f(S) = 0.93150\n",
      "2021-02-27 12:29:35,020 [INFO] [OPT-EXP-DSGN - coordinate_ascent_eh] [1/1] [t = 5] id = 2 f(s) 7218 didnt change after all 8359 swaps,  f(S) = 0.93150\n",
      "2021-02-27 12:29:35,046 [INFO] [OPT-EXP-DSGN - coordinate_ascent_eh] [1/1] [t = 5] id = 3, 5768 to 1967 after 26 swaps,  f(S) = 0.93287\n",
      "2021-02-27 12:29:36,060 [INFO] [OPT-EXP-DSGN - coordinate_ascent_eh] [1/1] [t = 5] id = 4, 6549 to 4326 after 1177 swaps,  f(S) = 0.93497\n",
      "2021-02-27 12:29:36,070 [INFO] [OPT-EXP-DSGN - coordinate_ascent_eh] [1/1] [t = 5] id = 5, 2415 to 990 after 6 swaps,  f(S) = 0.93529\n",
      "2021-02-27 12:29:42,570 [INFO] [OPT-EXP-DSGN - coordinate_ascent_eh] [1/1] [t = 5] id = 6, 4087 to 7021 after 7112 swaps,  f(S) = 0.93543\n",
      "2021-02-27 12:29:42,578 [INFO] [OPT-EXP-DSGN - coordinate_ascent_eh] [1/1] [t = 5] id = 7, 665 to 7425 after 5 swaps,  f(S) = 0.93629\n",
      "2021-02-27 12:29:42,603 [INFO] [OPT-EXP-DSGN - coordinate_ascent_eh] [1/1] [t = 5] id = 8, 1388 to 4716 after 25 swaps,  f(S) = 0.93662\n",
      "2021-02-27 12:29:42,606 [INFO] [OPT-EXP-DSGN - coordinate_ascent_eh] [1/1] [t = 5] id = 9, 265 to 4275 after 0 swaps,  f(S) = 0.93672\n",
      "2021-02-27 12:29:42,689 [INFO] [OPT-EXP-DSGN - coordinate_ascent_eh] [1/1] [t = 5] id = 10, 1719 to 5237 after 90 swaps,  f(S) = 0.93700\n",
      "2021-02-27 12:29:50,313 [INFO] [OPT-EXP-DSGN - coordinate_ascent_eh] [1/1] [t = 5] id = 11 f(s) 2624 didnt change after all 8359 swaps,  f(S) = 0.93700\n",
      "2021-02-27 12:29:57,907 [INFO] [OPT-EXP-DSGN - coordinate_ascent_eh] [1/1] [t = 5] id = 12 f(s) 3628 didnt change after all 8359 swaps,  f(S) = 0.93700\n",
      "2021-02-27 12:30:05,525 [INFO] [OPT-EXP-DSGN - coordinate_ascent_eh] [1/1] [t = 5] id = 13 f(s) 3134 didnt change after all 8359 swaps,  f(S) = 0.93700\n",
      "2021-02-27 12:30:05,572 [INFO] [OPT-EXP-DSGN - coordinate_ascent_eh] [1/1] [t = 5] id = 14, 872 to 5472 after 42 swaps,  f(S) = 0.93720\n",
      "2021-02-27 12:30:05,628 [INFO] [OPT-EXP-DSGN - coordinate_ascent_eh] [1/1] [t = 5] id = 15, 6842 to 3729 after 54 swaps,  f(S) = 0.93747\n",
      "2021-02-27 12:30:05,631 [INFO] [OPT-EXP-DSGN - coordinate_ascent_eh] [1/1] [t = 5] id = 16, 7358 to 4133 after 0 swaps,  f(S) = 0.93747\n",
      "2021-02-27 12:30:13,241 [INFO] [OPT-EXP-DSGN - coordinate_ascent_eh] [1/1] [t = 5] id = 17 f(s) 7199 didnt change after all 8359 swaps,  f(S) = 0.93747\n",
      "2021-02-27 12:30:13,279 [INFO] [OPT-EXP-DSGN - coordinate_ascent_eh] [1/1] [t = 5] id = 18, 5608 to 5715 after 35 swaps,  f(S) = 0.93778\n",
      "2021-02-27 12:30:16,274 [INFO] [OPT-EXP-DSGN - coordinate_ascent_eh] [1/1] [t = 5] id = 19, 6763 to 109 after 3238 swaps,  f(S) = 0.93946\n",
      "2021-02-27 12:30:23,940 [INFO] [OPT-EXP-DSGN - coordinate_ascent_eh] [1/1] [t = 5] id = 20 f(s) 4240 didnt change after all 8359 swaps,  f(S) = 0.93946\n",
      "2021-02-27 12:30:23,985 [INFO] [OPT-EXP-DSGN - coordinate_ascent_eh] [1/1] [t = 5] id = 21, 452 to 1681 after 49 swaps,  f(S) = 0.93960\n",
      "2021-02-27 12:30:23,998 [INFO] [OPT-EXP-DSGN - coordinate_ascent_eh] [1/1] [t = 5] id = 22, 4605 to 2451 after 12 swaps,  f(S) = 0.94064\n",
      "2021-02-27 12:30:31,658 [INFO] [OPT-EXP-DSGN - coordinate_ascent_eh] [1/1] [t = 5] id = 23 f(s) 6653 didnt change after all 8359 swaps,  f(S) = 0.94064\n",
      "2021-02-27 12:30:31,669 [INFO] [OPT-EXP-DSGN - coordinate_ascent_eh] [1/1] [t = 5] id = 24, 1446 to 2846 after 9 swaps,  f(S) = 0.94095\n",
      "2021-02-27 12:30:31,691 [INFO] [OPT-EXP-DSGN - coordinate_ascent_eh] [1/1] [t = 5] id = 25, 1 to 4751 after 21 swaps,  f(S) = 0.94097\n",
      "2021-02-27 12:30:31,721 [INFO] [OPT-EXP-DSGN - coordinate_ascent_eh] [1/1] [t = 5] id = 26, 1792 to 3742 after 30 swaps,  f(S) = 0.94146\n",
      "2021-02-27 12:30:32,144 [INFO] [OPT-EXP-DSGN - coordinate_ascent_eh] [1/1] [t = 5] id = 27, 2862 to 3219 after 500 swaps,  f(S) = 0.94203\n",
      "2021-02-27 12:30:32,166 [INFO] [OPT-EXP-DSGN - coordinate_ascent_eh] [1/1] [t = 5] id = 28, 5027 to 5008 after 23 swaps,  f(S) = 0.94371\n",
      "2021-02-27 12:30:32,586 [INFO] [OPT-EXP-DSGN - coordinate_ascent_eh] [1/1] [t = 5] id = 29, 1371 to 685 after 460 swaps,  f(S) = 0.94426\n",
      "2021-02-27 12:30:32,701 [INFO] [OPT-EXP-DSGN - coordinate_ascent_eh] [1/1] [t = 5] id = 30, 1222 to 8086 after 116 swaps,  f(S) = 0.94441\n",
      "2021-02-27 12:30:32,942 [INFO] [OPT-EXP-DSGN - coordinate_ascent_eh] [1/1] [t = 5] id = 31, 3150 to 1 after 241 swaps,  f(S) = 0.94445\n",
      "2021-02-27 12:30:32,967 [INFO] [OPT-EXP-DSGN - coordinate_ascent_eh] [1/1] [t = 5] id = 32, 5606 to 3150 after 22 swaps,  f(S) = 0.94583\n",
      "2021-02-27 12:30:33,101 [INFO] [OPT-EXP-DSGN - coordinate_ascent_eh] [1/1] [t = 5] id = 33, 6785 to 4343 after 131 swaps,  f(S) = 0.94583\n",
      "2021-02-27 12:30:33,107 [INFO] [OPT-EXP-DSGN - coordinate_ascent_eh] [1/1] [t = 5] id = 34, 5770 to 8023 after 2 swaps,  f(S) = 0.94710\n",
      "2021-02-27 12:30:33,110 [INFO] [OPT-EXP-DSGN - coordinate_ascent_eh] [1/1] [t = 5] id = 35, 145 to 6817 after 0 swaps,  f(S) = 0.94762\n",
      "2021-02-27 12:30:40,681 [INFO] [OPT-EXP-DSGN - coordinate_ascent_eh] [1/1] [t = 5] id = 36 f(s) 3451 didnt change after all 8359 swaps,  f(S) = 0.94762\n",
      "2021-02-27 12:30:48,381 [INFO] [OPT-EXP-DSGN - coordinate_ascent_eh] [1/1] [t = 5] id = 37 f(s) 1776 didnt change after all 8359 swaps,  f(S) = 0.94762\n",
      "2021-02-27 12:30:56,035 [INFO] [OPT-EXP-DSGN - coordinate_ascent_eh] [1/1] [t = 5] id = 38 f(s) 2873 didnt change after all 8359 swaps,  f(S) = 0.94762\n",
      "2021-02-27 12:30:56,042 [INFO] [OPT-EXP-DSGN - coordinate_ascent_eh] [1/1] [t = 5] id = 39, 717 to 1256 after 2 swaps,  f(S) = 0.95029\n",
      "2021-02-27 12:30:56,108 [INFO] [OPT-EXP-DSGN - coordinate_ascent_eh] [1/1] [t = 5] id = 40, 6599 to 7245 after 62 swaps,  f(S) = 0.95079\n",
      "2021-02-27 12:30:56,200 [INFO] [OPT-EXP-DSGN - coordinate_ascent_eh] [1/1] [t = 5] id = 41, 3305 to 8288 after 89 swaps,  f(S) = 0.95088\n",
      "2021-02-27 12:30:57,183 [INFO] [OPT-EXP-DSGN - coordinate_ascent_eh] [1/1] [t = 5] id = 42, 6154 to 7938 after 1105 swaps,  f(S) = 0.95178\n",
      "2021-02-27 12:30:57,190 [INFO] [OPT-EXP-DSGN - coordinate_ascent_eh] [1/1] [t = 5] id = 43, 2127 to 3275 after 2 swaps,  f(S) = 0.95216\n",
      "2021-02-27 12:30:58,489 [INFO] [OPT-EXP-DSGN - coordinate_ascent_eh] [1/1] [t = 5] id = 44, 4991 to 3743 after 1431 swaps,  f(S) = 0.95230\n",
      "2021-02-27 12:31:06,125 [INFO] [OPT-EXP-DSGN - coordinate_ascent_eh] [1/1] [t = 5] id = 45 f(s) 4332 didnt change after all 8359 swaps,  f(S) = 0.95230\n",
      "2021-02-27 12:31:13,760 [INFO] [OPT-EXP-DSGN - coordinate_ascent_eh] [1/1] [t = 5] id = 46 f(s) 8162 didnt change after all 8359 swaps,  f(S) = 0.95230\n",
      "2021-02-27 12:31:19,098 [INFO] [OPT-EXP-DSGN - coordinate_ascent_eh] [1/1] [t = 5] id = 47, 3371 to 5083 after 5885 swaps,  f(S) = 0.95300\n",
      "2021-02-27 12:31:19,814 [INFO] [OPT-EXP-DSGN - coordinate_ascent_eh] [1/1] [t = 5] id = 48, 5333 to 7303 after 807 swaps,  f(S) = 0.95414\n",
      "2021-02-27 12:31:26,814 [INFO] [OPT-EXP-DSGN - coordinate_ascent_eh] [1/1] [t = 5] id = 49, 7570 to 8152 after 7723 swaps,  f(S) = 0.95429\n",
      "2021-02-27 12:31:26,816 [INFO] [OPT-EXP-DSGN - coordinate_ascent_eh] loop 5 done, loop total time 119.715352, f(S) = 0.95429\n",
      "2021-02-27 12:31:26,947 [INFO] [OPT-EXP-DSGN - coordinate_ascent_eh] [1/1] [t = 6] id = 0, 8086 to 7089 after 131 swaps,  f(S) = 0.95435\n",
      "2021-02-27 12:31:26,980 [INFO] [OPT-EXP-DSGN - coordinate_ascent_eh] [1/1] [t = 6] id = 1, 1256 to 7369 after 31 swaps,  f(S) = 0.95449\n",
      "2021-02-27 12:31:27,078 [INFO] [OPT-EXP-DSGN - coordinate_ascent_eh] [1/1] [t = 6] id = 2, 4133 to 1473 after 93 swaps,  f(S) = 0.95588\n",
      "2021-02-27 12:31:34,712 [INFO] [OPT-EXP-DSGN - coordinate_ascent_eh] [1/1] [t = 6] id = 3 f(s) 2873 didnt change after all 8359 swaps,  f(S) = 0.95588\n",
      "2021-02-27 12:31:35,558 [INFO] [OPT-EXP-DSGN - coordinate_ascent_eh] [1/1] [t = 6] id = 4, 7021 to 1959 after 828 swaps,  f(S) = 0.95594\n",
      "2021-02-27 12:31:35,566 [INFO] [OPT-EXP-DSGN - coordinate_ascent_eh] [1/1] [t = 6] id = 5, 3866 to 4917 after 5 swaps,  f(S) = 0.95633\n",
      "2021-02-27 12:31:39,349 [INFO] [OPT-EXP-DSGN - coordinate_ascent_eh] [1/1] [t = 6] id = 6, 3219 to 6330 after 4171 swaps,  f(S) = 0.95676\n",
      "2021-02-27 12:31:39,518 [INFO] [OPT-EXP-DSGN - coordinate_ascent_eh] [1/1] [t = 6] id = 7, 3742 to 5389 after 171 swaps,  f(S) = 0.95681\n",
      "2021-02-27 12:31:39,616 [INFO] [OPT-EXP-DSGN - coordinate_ascent_eh] [1/1] [t = 6] id = 8, 3150 to 3455 after 95 swaps,  f(S) = 0.95712\n",
      "2021-02-27 12:31:41,427 [INFO] [OPT-EXP-DSGN - coordinate_ascent_eh] [1/1] [t = 6] id = 9, 1 to 4283 after 1965 swaps,  f(S) = 0.95712\n",
      "2021-02-27 12:31:41,434 [INFO] [OPT-EXP-DSGN - coordinate_ascent_eh] [1/1] [t = 6] id = 10, 6817 to 6743 after 3 swaps,  f(S) = 0.95866\n",
      "2021-02-27 12:31:49,019 [INFO] [OPT-EXP-DSGN - coordinate_ascent_eh] [1/1] [t = 6] id = 11 f(s) 1776 didnt change after all 8359 swaps,  f(S) = 0.95866\n",
      "2021-02-27 12:31:49,082 [INFO] [OPT-EXP-DSGN - coordinate_ascent_eh] [1/1] [t = 6] id = 12, 3729 to 1792 after 67 swaps,  f(S) = 0.95953\n",
      "2021-02-27 12:31:56,822 [INFO] [OPT-EXP-DSGN - coordinate_ascent_eh] [1/1] [t = 6] id = 13 f(s) 5237 didnt change after all 8359 swaps,  f(S) = 0.95953\n",
      "2021-02-27 12:32:04,407 [INFO] [OPT-EXP-DSGN - coordinate_ascent_eh] [1/1] [t = 6] id = 14 f(s) 7199 didnt change after all 8359 swaps,  f(S) = 0.95953\n",
      "2021-02-27 12:32:05,947 [INFO] [OPT-EXP-DSGN - coordinate_ascent_eh] [1/1] [t = 6] id = 15, 1681 to 447 after 1680 swaps,  f(S) = 0.96037\n",
      "2021-02-27 12:32:05,958 [INFO] [OPT-EXP-DSGN - coordinate_ascent_eh] [1/1] [t = 6] id = 16, 3275 to 5761 after 8 swaps,  f(S) = 0.96057\n",
      "2021-02-27 12:32:08,799 [INFO] [OPT-EXP-DSGN - coordinate_ascent_eh] [1/1] [t = 6] id = 17, 8152 to 7570 after 3107 swaps,  f(S) = 0.96112\n",
      "2021-02-27 12:32:08,804 [INFO] [OPT-EXP-DSGN - coordinate_ascent_eh] [1/1] [t = 6] id = 18, 8023 to 2452 after 2 swaps,  f(S) = 0.96178\n",
      "2021-02-27 12:32:08,836 [INFO] [OPT-EXP-DSGN - coordinate_ascent_eh] [1/1] [t = 6] id = 19, 4716 to 6219 after 34 swaps,  f(S) = 0.96313\n",
      "2021-02-27 12:32:08,841 [INFO] [OPT-EXP-DSGN - coordinate_ascent_eh] [1/1] [t = 6] id = 20, 7425 to 3050 after 3 swaps,  f(S) = 0.96341\n",
      "2021-02-27 12:32:09,649 [INFO] [OPT-EXP-DSGN - coordinate_ascent_eh] [1/1] [t = 6] id = 21, 4751 to 4099 after 841 swaps,  f(S) = 0.96396\n",
      "2021-02-27 12:32:16,987 [INFO] [OPT-EXP-DSGN - coordinate_ascent_eh] [1/1] [t = 6] id = 22 f(s) 3451 didnt change after all 8359 swaps,  f(S) = 0.96396\n",
      "2021-02-27 12:32:23,853 [INFO] [OPT-EXP-DSGN - coordinate_ascent_eh] [1/1] [t = 6] id = 23 f(s) 109 didnt change after all 8359 swaps,  f(S) = 0.96396\n",
      "2021-02-27 12:32:24,223 [INFO] [OPT-EXP-DSGN - coordinate_ascent_eh] [1/1] [t = 6] id = 24, 6653 to 1075 after 450 swaps,  f(S) = 0.96416\n",
      "2021-02-27 12:32:24,999 [INFO] [OPT-EXP-DSGN - coordinate_ascent_eh] [1/1] [t = 6] id = 25, 7218 to 7548 after 956 swaps,  f(S) = 0.96588\n",
      "2021-02-27 12:32:31,803 [INFO] [OPT-EXP-DSGN - coordinate_ascent_eh] [1/1] [t = 6] id = 26 f(s) 2624 didnt change after all 8359 swaps,  f(S) = 0.96588\n",
      "2021-02-27 12:32:38,587 [INFO] [OPT-EXP-DSGN - coordinate_ascent_eh] [1/1] [t = 6] id = 27 f(s) 4326 didnt change after all 8359 swaps,  f(S) = 0.96588\n",
      "2021-02-27 12:32:39,593 [INFO] [OPT-EXP-DSGN - coordinate_ascent_eh] [1/1] [t = 6] id = 28, 685 to 8152 after 1158 swaps,  f(S) = 0.96613\n",
      "2021-02-27 12:32:39,686 [INFO] [OPT-EXP-DSGN - coordinate_ascent_eh] [1/1] [t = 6] id = 29, 1967 to 7968 after 109 swaps,  f(S) = 0.96704\n",
      "2021-02-27 12:32:39,689 [INFO] [OPT-EXP-DSGN - coordinate_ascent_eh] [1/1] [t = 6] id = 30, 2451 to 7575 after 0 swaps,  f(S) = 0.96770\n",
      "2021-02-27 12:32:39,722 [INFO] [OPT-EXP-DSGN - coordinate_ascent_eh] [1/1] [t = 6] id = 31, 3743 to 2546 after 37 swaps,  f(S) = 0.96779\n",
      "2021-02-27 12:32:39,736 [INFO] [OPT-EXP-DSGN - coordinate_ascent_eh] [1/1] [t = 6] id = 32, 5472 to 5001 after 13 swaps,  f(S) = 0.96842\n",
      "2021-02-27 12:32:46,901 [INFO] [OPT-EXP-DSGN - coordinate_ascent_eh] [1/1] [t = 6] id = 33 f(s) 4332 didnt change after all 8359 swaps,  f(S) = 0.96842\n",
      "2021-02-27 12:32:47,064 [INFO] [OPT-EXP-DSGN - coordinate_ascent_eh] [1/1] [t = 6] id = 34, 4240 to 8399 after 198 swaps,  f(S) = 0.96848\n",
      "2021-02-27 12:32:47,077 [INFO] [OPT-EXP-DSGN - coordinate_ascent_eh] [1/1] [t = 6] id = 35, 2846 to 4402 after 11 swaps,  f(S) = 0.96910\n",
      "2021-02-27 12:32:50,130 [INFO] [OPT-EXP-DSGN - coordinate_ascent_eh] [1/1] [t = 6] id = 36, 105 to 7218 after 3504 swaps,  f(S) = 0.96942\n",
      "2021-02-27 12:32:57,604 [INFO] [OPT-EXP-DSGN - coordinate_ascent_eh] [1/1] [t = 6] id = 37 f(s) 5083 didnt change after all 8359 swaps,  f(S) = 0.96942\n",
      "2021-02-27 12:32:57,635 [INFO] [OPT-EXP-DSGN - coordinate_ascent_eh] [1/1] [t = 6] id = 38, 7938 to 3691 after 31 swaps,  f(S) = 0.96979\n",
      "2021-02-27 12:32:57,722 [INFO] [OPT-EXP-DSGN - coordinate_ascent_eh] [1/1] [t = 6] id = 39, 8288 to 6358 after 100 swaps,  f(S) = 0.97023\n",
      "2021-02-27 12:32:58,987 [INFO] [OPT-EXP-DSGN - coordinate_ascent_eh] [1/1] [t = 6] id = 40, 7245 to 8005 after 1475 swaps,  f(S) = 0.97061\n",
      "2021-02-27 12:32:59,208 [INFO] [OPT-EXP-DSGN - coordinate_ascent_eh] [1/1] [t = 6] id = 41, 3628 to 3847 after 237 swaps,  f(S) = 0.97062\n",
      "2021-02-27 12:32:59,261 [INFO] [OPT-EXP-DSGN - coordinate_ascent_eh] [1/1] [t = 6] id = 42, 5715 to 3980 after 53 swaps,  f(S) = 0.97083\n",
      "2021-02-27 12:33:05,065 [INFO] [OPT-EXP-DSGN - coordinate_ascent_eh] [1/1] [t = 6] id = 43, 3134 to 8288 after 6649 swaps,  f(S) = 0.97127\n",
      "2021-02-27 12:33:07,478 [INFO] [OPT-EXP-DSGN - coordinate_ascent_eh] [1/1] [t = 6] id = 44, 7303 to 7245 after 2630 swaps,  f(S) = 0.97129\n",
      "2021-02-27 12:33:07,605 [INFO] [OPT-EXP-DSGN - coordinate_ascent_eh] [1/1] [t = 6] id = 45, 4275 to 3006 after 135 swaps,  f(S) = 0.97157\n",
      "2021-02-27 12:33:07,615 [INFO] [OPT-EXP-DSGN - coordinate_ascent_eh] [1/1] [t = 6] id = 46, 5008 to 3353 after 7 swaps,  f(S) = 0.97160\n",
      "2021-02-27 12:33:15,243 [INFO] [OPT-EXP-DSGN - coordinate_ascent_eh] [1/1] [t = 6] id = 47 f(s) 8162 didnt change after all 8359 swaps,  f(S) = 0.97160\n",
      "2021-02-27 12:33:15,249 [INFO] [OPT-EXP-DSGN - coordinate_ascent_eh] [1/1] [t = 6] id = 48, 990 to 6962 after 2 swaps,  f(S) = 0.97285\n",
      "2021-02-27 12:33:15,349 [INFO] [OPT-EXP-DSGN - coordinate_ascent_eh] [1/1] [t = 6] id = 49, 4343 to 3034 after 106 swaps,  f(S) = 0.97348\n",
      "2021-02-27 12:33:15,350 [INFO] [OPT-EXP-DSGN - coordinate_ascent_eh] loop 6 done, loop total time 108.586177, f(S) = 0.97348\n",
      "2021-02-27 12:33:15,731 [INFO] [OPT-EXP-DSGN - coordinate_ascent_eh] [1/1] [t = 7] id = 0, 7245 to 7717 after 413 swaps,  f(S) = 0.97396\n",
      "2021-02-27 12:33:17,179 [INFO] [OPT-EXP-DSGN - coordinate_ascent_eh] [1/1] [t = 7] id = 1, 4326 to 3134 after 1590 swaps,  f(S) = 0.97400\n",
      "2021-02-27 12:33:24,578 [INFO] [OPT-EXP-DSGN - coordinate_ascent_eh] [1/1] [t = 7] id = 2 f(s) 109 didnt change after all 8359 swaps,  f(S) = 0.97400\n",
      "2021-02-27 12:33:24,584 [INFO] [OPT-EXP-DSGN - coordinate_ascent_eh] [1/1] [t = 7] id = 3, 2452 to 6413 after 2 swaps,  f(S) = 0.97402\n",
      "2021-02-27 12:33:30,199 [INFO] [OPT-EXP-DSGN - coordinate_ascent_eh] [1/1] [t = 7] id = 4, 7218 to 4326 after 6276 swaps,  f(S) = 0.97427\n",
      "2021-02-27 12:33:37,755 [INFO] [OPT-EXP-DSGN - coordinate_ascent_eh] [1/1] [t = 7] id = 5 f(s) 2624 didnt change after all 8359 swaps,  f(S) = 0.97427\n",
      "2021-02-27 12:33:38,256 [INFO] [OPT-EXP-DSGN - coordinate_ascent_eh] [1/1] [t = 7] id = 6, 4402 to 7218 after 543 swaps,  f(S) = 0.97446\n",
      "2021-02-27 12:33:38,768 [INFO] [OPT-EXP-DSGN - coordinate_ascent_eh] [1/1] [t = 7] id = 7, 7968 to 1438 after 559 swaps,  f(S) = 0.97497\n",
      "2021-02-27 12:33:40,860 [INFO] [OPT-EXP-DSGN - coordinate_ascent_eh] [1/1] [t = 7] id = 8, 3980 to 2925 after 2298 swaps,  f(S) = 0.97503\n",
      "2021-02-27 12:33:48,261 [INFO] [OPT-EXP-DSGN - coordinate_ascent_eh] [1/1] [t = 7] id = 9 f(s) 7570 didnt change after all 8359 swaps,  f(S) = 0.97503\n",
      "2021-02-27 12:33:48,386 [INFO] [OPT-EXP-DSGN - coordinate_ascent_eh] [1/1] [t = 7] id = 10, 2546 to 7439 after 134 swaps,  f(S) = 0.97513\n",
      "2021-02-27 12:33:48,652 [INFO] [OPT-EXP-DSGN - coordinate_ascent_eh] [1/1] [t = 7] id = 11, 1473 to 2298 after 289 swaps,  f(S) = 0.97602\n",
      "2021-02-27 12:33:48,669 [INFO] [OPT-EXP-DSGN - coordinate_ascent_eh] [1/1] [t = 7] id = 12, 6219 to 4594 after 15 swaps,  f(S) = 0.97669\n",
      "2021-02-27 12:33:48,808 [INFO] [OPT-EXP-DSGN - coordinate_ascent_eh] [1/1] [t = 7] id = 13, 1792 to 567 after 158 swaps,  f(S) = 0.97774\n",
      "2021-02-27 12:33:56,208 [INFO] [OPT-EXP-DSGN - coordinate_ascent_eh] [1/1] [t = 7] id = 14 f(s) 8288 didnt change after all 8359 swaps,  f(S) = 0.97774\n",
      "2021-02-27 12:33:56,353 [INFO] [OPT-EXP-DSGN - coordinate_ascent_eh] [1/1] [t = 7] id = 15, 7089 to 7133 after 155 swaps,  f(S) = 0.97823\n",
      "2021-02-27 12:34:03,820 [INFO] [OPT-EXP-DSGN - coordinate_ascent_eh] [1/1] [t = 7] id = 16 f(s) 6358 didnt change after all 8359 swaps,  f(S) = 0.97823\n",
      "2021-02-27 12:34:04,870 [INFO] [OPT-EXP-DSGN - coordinate_ascent_eh] [1/1] [t = 7] id = 17, 8399 to 3572 after 1229 swaps,  f(S) = 0.97839\n",
      "2021-02-27 12:34:04,897 [INFO] [OPT-EXP-DSGN - coordinate_ascent_eh] [1/1] [t = 7] id = 18, 6330 to 7303 after 25 swaps,  f(S) = 0.97895\n",
      "2021-02-27 12:34:04,905 [INFO] [OPT-EXP-DSGN - coordinate_ascent_eh] [1/1] [t = 7] id = 19, 5761 to 3908 after 5 swaps,  f(S) = 0.97913\n",
      "2021-02-27 12:34:12,404 [INFO] [OPT-EXP-DSGN - coordinate_ascent_eh] [1/1] [t = 7] id = 20 f(s) 5001 didnt change after all 8359 swaps,  f(S) = 0.97913\n",
      "2021-02-27 12:34:12,469 [INFO] [OPT-EXP-DSGN - coordinate_ascent_eh] [1/1] [t = 7] id = 21, 3034 to 3556 after 66 swaps,  f(S) = 0.97955\n",
      "2021-02-27 12:34:12,535 [INFO] [OPT-EXP-DSGN - coordinate_ascent_eh] [1/1] [t = 7] id = 22, 5237 to 3980 after 69 swaps,  f(S) = 0.97964\n",
      "2021-02-27 12:34:12,549 [INFO] [OPT-EXP-DSGN - coordinate_ascent_eh] [1/1] [t = 7] id = 23, 7575 to 6493 after 11 swaps,  f(S) = 0.97970\n",
      "2021-02-27 12:34:19,943 [INFO] [OPT-EXP-DSGN - coordinate_ascent_eh] [1/1] [t = 7] id = 24 f(s) 4332 didnt change after all 8359 swaps,  f(S) = 0.97970\n",
      "2021-02-27 12:34:19,975 [INFO] [OPT-EXP-DSGN - coordinate_ascent_eh] [1/1] [t = 7] id = 25, 1075 to 1718 after 31 swaps,  f(S) = 0.98183\n",
      "2021-02-27 12:34:20,109 [INFO] [OPT-EXP-DSGN - coordinate_ascent_eh] [1/1] [t = 7] id = 26, 4283 to 6704 after 143 swaps,  f(S) = 0.98212\n",
      "2021-02-27 12:34:20,185 [INFO] [OPT-EXP-DSGN - coordinate_ascent_eh] [1/1] [t = 7] id = 27, 3006 to 2410 after 78 swaps,  f(S) = 0.98259\n",
      "2021-02-27 12:34:27,590 [INFO] [OPT-EXP-DSGN - coordinate_ascent_eh] [1/1] [t = 7] id = 28 f(s) 7199 didnt change after all 8359 swaps,  f(S) = 0.98259\n",
      "2021-02-27 12:34:27,609 [INFO] [OPT-EXP-DSGN - coordinate_ascent_eh] [1/1] [t = 7] id = 29, 5389 to 2107 after 17 swaps,  f(S) = 0.98363\n",
      "2021-02-27 12:34:27,735 [INFO] [OPT-EXP-DSGN - coordinate_ascent_eh] [1/1] [t = 7] id = 30, 3691 to 6392 after 134 swaps,  f(S) = 0.98403\n",
      "2021-02-27 12:34:34,868 [INFO] [OPT-EXP-DSGN - coordinate_ascent_eh] [1/1] [t = 7] id = 31 f(s) 8005 didnt change after all 8359 swaps,  f(S) = 0.98403\n",
      "2021-02-27 12:34:42,121 [INFO] [OPT-EXP-DSGN - coordinate_ascent_eh] [1/1] [t = 7] id = 32 f(s) 3455 didnt change after all 8359 swaps,  f(S) = 0.98403\n",
      "2021-02-27 12:34:42,186 [INFO] [OPT-EXP-DSGN - coordinate_ascent_eh] [1/1] [t = 7] id = 33, 3353 to 5778 after 73 swaps,  f(S) = 0.98460\n",
      "2021-02-27 12:34:49,511 [INFO] [OPT-EXP-DSGN - coordinate_ascent_eh] [1/1] [t = 7] id = 34 f(s) 7548 didnt change after all 8359 swaps,  f(S) = 0.98460\n",
      "2021-02-27 12:34:49,561 [INFO] [OPT-EXP-DSGN - coordinate_ascent_eh] [1/1] [t = 7] id = 35, 3050 to 6688 after 56 swaps,  f(S) = 0.98487\n",
      "2021-02-27 12:34:49,870 [INFO] [OPT-EXP-DSGN - coordinate_ascent_eh] [1/1] [t = 7] id = 36, 4099 to 7880 after 363 swaps,  f(S) = 0.98554\n",
      "2021-02-27 12:34:57,231 [INFO] [OPT-EXP-DSGN - coordinate_ascent_eh] [1/1] [t = 7] id = 37 f(s) 5083 didnt change after all 8359 swaps,  f(S) = 0.98554\n",
      "2021-02-27 12:35:04,636 [INFO] [OPT-EXP-DSGN - coordinate_ascent_eh] [1/1] [t = 7] id = 38 f(s) 8162 didnt change after all 8359 swaps,  f(S) = 0.98554\n",
      "2021-02-27 12:35:07,017 [INFO] [OPT-EXP-DSGN - coordinate_ascent_eh] [1/1] [t = 7] id = 39, 4917 to 1968 after 2725 swaps,  f(S) = 0.98569\n",
      "2021-02-27 12:35:08,781 [INFO] [OPT-EXP-DSGN - coordinate_ascent_eh] [1/1] [t = 7] id = 40, 3847 to 638 after 1926 swaps,  f(S) = 0.98624\n",
      "2021-02-27 12:35:16,271 [INFO] [OPT-EXP-DSGN - coordinate_ascent_eh] [1/1] [t = 7] id = 41 f(s) 3451 didnt change after all 8359 swaps,  f(S) = 0.98624\n",
      "2021-02-27 12:35:16,380 [INFO] [OPT-EXP-DSGN - coordinate_ascent_eh] [1/1] [t = 7] id = 42, 447 to 3334 after 116 swaps,  f(S) = 0.98624\n",
      "2021-02-27 12:35:16,464 [INFO] [OPT-EXP-DSGN - coordinate_ascent_eh] [1/1] [t = 7] id = 43, 6962 to 1482 after 88 swaps,  f(S) = 0.98674\n",
      "2021-02-27 12:35:23,136 [INFO] [OPT-EXP-DSGN - coordinate_ascent_eh] [1/1] [t = 7] id = 44, 2873 to 5938 after 7451 swaps,  f(S) = 0.98725\n",
      "2021-02-27 12:35:24,669 [INFO] [OPT-EXP-DSGN - coordinate_ascent_eh] [1/1] [t = 7] id = 45, 1959 to 4111 after 1722 swaps,  f(S) = 0.98740\n",
      "2021-02-27 12:35:24,674 [INFO] [OPT-EXP-DSGN - coordinate_ascent_eh] [1/1] [t = 7] id = 46, 6743 to 8286 after 2 swaps,  f(S) = 0.98742\n",
      "2021-02-27 12:35:24,718 [INFO] [OPT-EXP-DSGN - coordinate_ascent_eh] [1/1] [t = 7] id = 47, 7369 to 7696 after 48 swaps,  f(S) = 0.98753\n",
      "2021-02-27 12:35:32,109 [INFO] [OPT-EXP-DSGN - coordinate_ascent_eh] [1/1] [t = 7] id = 48 f(s) 8152 didnt change after all 8359 swaps,  f(S) = 0.98753\n",
      "2021-02-27 12:35:39,611 [INFO] [OPT-EXP-DSGN - coordinate_ascent_eh] [1/1] [t = 7] id = 49 f(s) 1776 didnt change after all 8359 swaps,  f(S) = 0.98753\n",
      "2021-02-27 12:35:39,613 [INFO] [OPT-EXP-DSGN - coordinate_ascent_eh] loop 7 done, loop total time 144.337104, f(S) = 0.98753\n",
      "2021-02-27 12:35:39,908 [INFO] [OPT-EXP-DSGN - coordinate_ascent_eh] [1/1] [t = 8] id = 0, 3334 to 2716 after 319 swaps,  f(S) = 0.98759\n",
      "2021-02-27 12:35:40,060 [INFO] [OPT-EXP-DSGN - coordinate_ascent_eh] [1/1] [t = 8] id = 1, 2298 to 4619 after 163 swaps,  f(S) = 0.98796\n",
      "2021-02-27 12:35:47,495 [INFO] [OPT-EXP-DSGN - coordinate_ascent_eh] [1/1] [t = 8] id = 2 f(s) 7548 didnt change after all 8359 swaps,  f(S) = 0.98796\n",
      "2021-02-27 12:35:54,891 [INFO] [OPT-EXP-DSGN - coordinate_ascent_eh] [1/1] [t = 8] id = 3 f(s) 3455 didnt change after all 8359 swaps,  f(S) = 0.98796\n",
      "2021-02-27 12:36:01,801 [INFO] [OPT-EXP-DSGN - coordinate_ascent_eh] [1/1] [t = 8] id = 4, 6704 to 447 after 7799 swaps,  f(S) = 0.98807\n",
      "2021-02-27 12:36:01,807 [INFO] [OPT-EXP-DSGN - coordinate_ascent_eh] [1/1] [t = 8] id = 5, 7696 to 3149 after 3 swaps,  f(S) = 0.98822\n",
      "2021-02-27 12:36:08,943 [INFO] [OPT-EXP-DSGN - coordinate_ascent_eh] [1/1] [t = 8] id = 6 f(s) 3451 didnt change after all 8359 swaps,  f(S) = 0.98822\n",
      "2021-02-27 12:36:10,636 [INFO] [OPT-EXP-DSGN - coordinate_ascent_eh] [1/1] [t = 8] id = 7, 1718 to 6704 after 1977 swaps,  f(S) = 0.98851\n",
      "2021-02-27 12:36:11,844 [INFO] [OPT-EXP-DSGN - coordinate_ascent_eh] [1/1] [t = 8] id = 8, 567 to 1718 after 1417 swaps,  f(S) = 0.98861\n",
      "2021-02-27 12:36:13,311 [INFO] [OPT-EXP-DSGN - coordinate_ascent_eh] [1/1] [t = 8] id = 9, 7570 to 3738 after 1704 swaps,  f(S) = 0.98863\n",
      "2021-02-27 12:36:13,400 [INFO] [OPT-EXP-DSGN - coordinate_ascent_eh] [1/1] [t = 8] id = 10, 3980 to 1275 after 103 swaps,  f(S) = 0.99005\n",
      "2021-02-27 12:36:15,085 [INFO] [OPT-EXP-DSGN - coordinate_ascent_eh] [1/1] [t = 8] id = 11, 6358 to 6840 after 1932 swaps,  f(S) = 0.99038\n",
      "2021-02-27 12:36:22,456 [INFO] [OPT-EXP-DSGN - coordinate_ascent_eh] [1/1] [t = 8] id = 12 f(s) 7880 didnt change after all 8359 swaps,  f(S) = 0.99038\n",
      "2021-02-27 12:36:24,397 [INFO] [OPT-EXP-DSGN - coordinate_ascent_eh] [1/1] [t = 8] id = 13, 3908 to 5112 after 2240 swaps,  f(S) = 0.99044\n",
      "2021-02-27 12:36:31,722 [INFO] [OPT-EXP-DSGN - coordinate_ascent_eh] [1/1] [t = 8] id = 14 f(s) 2624 didnt change after all 8359 swaps,  f(S) = 0.99044\n",
      "2021-02-27 12:36:39,310 [INFO] [OPT-EXP-DSGN - coordinate_ascent_eh] [1/1] [t = 8] id = 15 f(s) 8288 didnt change after all 8359 swaps,  f(S) = 0.99044\n",
      "2021-02-27 12:36:46,708 [INFO] [OPT-EXP-DSGN - coordinate_ascent_eh] [1/1] [t = 8] id = 16 f(s) 638 didnt change after all 8359 swaps,  f(S) = 0.99044\n",
      "2021-02-27 12:36:54,106 [INFO] [OPT-EXP-DSGN - coordinate_ascent_eh] [1/1] [t = 8] id = 17 f(s) 1776 didnt change after all 8359 swaps,  f(S) = 0.99044\n",
      "2021-02-27 12:36:54,495 [INFO] [OPT-EXP-DSGN - coordinate_ascent_eh] [1/1] [t = 8] id = 18, 3572 to 4917 after 422 swaps,  f(S) = 0.99057\n",
      "2021-02-27 12:37:01,901 [INFO] [OPT-EXP-DSGN - coordinate_ascent_eh] [1/1] [t = 8] id = 19 f(s) 8162 didnt change after all 8359 swaps,  f(S) = 0.99057\n",
      "2021-02-27 12:37:09,412 [INFO] [OPT-EXP-DSGN - coordinate_ascent_eh] [1/1] [t = 8] id = 20 f(s) 5001 didnt change after all 8359 swaps,  f(S) = 0.99057\n",
      "2021-02-27 12:37:09,507 [INFO] [OPT-EXP-DSGN - coordinate_ascent_eh] [1/1] [t = 8] id = 21, 7303 to 6825 after 99 swaps,  f(S) = 0.99090\n",
      "2021-02-27 12:37:09,527 [INFO] [OPT-EXP-DSGN - coordinate_ascent_eh] [1/1] [t = 8] id = 22, 2410 to 4283 after 18 swaps,  f(S) = 0.99123\n",
      "2021-02-27 12:37:09,539 [INFO] [OPT-EXP-DSGN - coordinate_ascent_eh] [1/1] [t = 8] id = 23, 3556 to 1961 after 9 swaps,  f(S) = 0.99235\n",
      "2021-02-27 12:37:12,720 [INFO] [OPT-EXP-DSGN - coordinate_ascent_eh] [1/1] [t = 8] id = 24, 5083 to 3371 after 3611 swaps,  f(S) = 0.99238\n",
      "2021-02-27 12:37:13,139 [INFO] [OPT-EXP-DSGN - coordinate_ascent_eh] [1/1] [t = 8] id = 25, 6392 to 4736 after 456 swaps,  f(S) = 0.99280\n",
      "2021-02-27 12:37:13,437 [INFO] [OPT-EXP-DSGN - coordinate_ascent_eh] [1/1] [t = 8] id = 26, 2107 to 6358 after 323 swaps,  f(S) = 0.99379\n",
      "2021-02-27 12:37:14,287 [INFO] [OPT-EXP-DSGN - coordinate_ascent_eh] [1/1] [t = 8] id = 27, 4594 to 8086 after 990 swaps,  f(S) = 0.99444\n",
      "2021-02-27 12:37:17,111 [INFO] [OPT-EXP-DSGN - coordinate_ascent_eh] [1/1] [t = 8] id = 28, 7439 to 8264 after 3160 swaps,  f(S) = 0.99504\n",
      "2021-02-27 12:37:24,520 [INFO] [OPT-EXP-DSGN - coordinate_ascent_eh] [1/1] [t = 8] id = 29 f(s) 7218 didnt change after all 8359 swaps,  f(S) = 0.99504\n",
      "2021-02-27 12:37:29,239 [INFO] [OPT-EXP-DSGN - coordinate_ascent_eh] [1/1] [t = 8] id = 30, 7717 to 198 after 5252 swaps,  f(S) = 0.99538\n",
      "2021-02-27 12:37:36,629 [INFO] [OPT-EXP-DSGN - coordinate_ascent_eh] [1/1] [t = 8] id = 31 f(s) 8005 didnt change after all 8359 swaps,  f(S) = 0.99538\n",
      "2021-02-27 12:37:44,043 [INFO] [OPT-EXP-DSGN - coordinate_ascent_eh] [1/1] [t = 8] id = 32 f(s) 2925 didnt change after all 8359 swaps,  f(S) = 0.99538\n",
      "2021-02-27 12:37:51,140 [INFO] [OPT-EXP-DSGN - coordinate_ascent_eh] [1/1] [t = 8] id = 33 f(s) 7199 didnt change after all 8359 swaps,  f(S) = 0.99538\n",
      "2021-02-27 12:37:51,874 [INFO] [OPT-EXP-DSGN - coordinate_ascent_eh] [1/1] [t = 8] id = 34, 6688 to 922 after 834 swaps,  f(S) = 0.99566\n",
      "2021-02-27 12:37:59,169 [INFO] [OPT-EXP-DSGN - coordinate_ascent_eh] [1/1] [t = 8] id = 35 f(s) 1438 didnt change after all 8359 swaps,  f(S) = 0.99566\n",
      "2021-02-27 12:38:06,670 [INFO] [OPT-EXP-DSGN - coordinate_ascent_eh] [1/1] [t = 8] id = 36 f(s) 5938 didnt change after all 8359 swaps,  f(S) = 0.99566\n",
      "2021-02-27 12:38:07,388 [INFO] [OPT-EXP-DSGN - coordinate_ascent_eh] [1/1] [t = 8] id = 37, 1968 to 2107 after 786 swaps,  f(S) = 0.99608\n",
      "2021-02-27 12:38:13,608 [INFO] [OPT-EXP-DSGN - coordinate_ascent_eh] [1/1] [t = 8] id = 38, 4111 to 3443 after 6836 swaps,  f(S) = 0.99633\n",
      "2021-02-27 12:38:21,005 [INFO] [OPT-EXP-DSGN - coordinate_ascent_eh] [1/1] [t = 8] id = 39 f(s) 8152 didnt change after all 8359 swaps,  f(S) = 0.99633\n",
      "2021-02-27 12:38:21,181 [INFO] [OPT-EXP-DSGN - coordinate_ascent_eh] [1/1] [t = 8] id = 40, 4326 to 1179 after 189 swaps,  f(S) = 0.99706\n",
      "2021-02-27 12:38:21,881 [INFO] [OPT-EXP-DSGN - coordinate_ascent_eh] [1/1] [t = 8] id = 41, 7133 to 567 after 766 swaps,  f(S) = 0.99720\n",
      "2021-02-27 12:38:29,334 [INFO] [OPT-EXP-DSGN - coordinate_ascent_eh] [1/1] [t = 8] id = 42 f(s) 4332 didnt change after all 8359 swaps,  f(S) = 0.99720\n",
      "2021-02-27 12:38:31,631 [INFO] [OPT-EXP-DSGN - coordinate_ascent_eh] [1/1] [t = 8] id = 43, 109 to 4397 after 2583 swaps,  f(S) = 0.99722\n",
      "2021-02-27 12:38:31,720 [INFO] [OPT-EXP-DSGN - coordinate_ascent_eh] [1/1] [t = 8] id = 44, 6493 to 3739 after 85 swaps,  f(S) = 0.99751\n",
      "2021-02-27 12:38:31,765 [INFO] [OPT-EXP-DSGN - coordinate_ascent_eh] [1/1] [t = 8] id = 45, 1482 to 6392 after 45 swaps,  f(S) = 0.99830\n",
      "2021-02-27 12:38:39,162 [INFO] [OPT-EXP-DSGN - coordinate_ascent_eh] [1/1] [t = 8] id = 46 f(s) 5778 didnt change after all 8359 swaps,  f(S) = 0.99830\n",
      "2021-02-27 12:38:44,141 [INFO] [OPT-EXP-DSGN - coordinate_ascent_eh] [1/1] [t = 8] id = 47, 6413 to 7968 after 5582 swaps,  f(S) = 0.99862\n",
      "2021-02-27 12:38:44,156 [INFO] [OPT-EXP-DSGN - coordinate_ascent_eh] [1/1] [t = 8] id = 48, 8286 to 5260 after 12 swaps,  f(S) = 0.99915\n",
      "2021-02-27 12:38:51,033 [INFO] [OPT-EXP-DSGN - coordinate_ascent_eh] [1/1] [t = 8] id = 49, 3134 to 5410 after 7782 swaps,  f(S) = 0.99992\n",
      "2021-02-27 12:38:51,034 [INFO] [OPT-EXP-DSGN - coordinate_ascent_eh] loop 8 done, loop total time 191.515881, f(S) = 0.99992\n",
      "2021-02-27 12:38:53,056 [INFO] [OPT-EXP-DSGN - coordinate_ascent_eh] [1/1] [t = 9] id = 0, 1179 to 7021 after 2270 swaps,  f(S) = 1.00088\n",
      "2021-02-27 12:39:00,512 [INFO] [OPT-EXP-DSGN - coordinate_ascent_eh] [1/1] [t = 9] id = 1 f(s) 3443 didnt change after all 8359 swaps,  f(S) = 1.00088\n",
      "2021-02-27 12:39:07,917 [INFO] [OPT-EXP-DSGN - coordinate_ascent_eh] [1/1] [t = 9] id = 2 f(s) 7968 didnt change after all 8359 swaps,  f(S) = 1.00088\n",
      "2021-02-27 12:39:15,525 [INFO] [OPT-EXP-DSGN - coordinate_ascent_eh] [1/1] [t = 9] id = 3 f(s) 638 didnt change after all 8359 swaps,  f(S) = 1.00088\n",
      "2021-02-27 12:39:18,445 [INFO] [OPT-EXP-DSGN - coordinate_ascent_eh] [1/1] [t = 9] id = 4, 1961 to 3572 after 3318 swaps,  f(S) = 1.00098\n",
      "2021-02-27 12:39:22,048 [INFO] [OPT-EXP-DSGN - coordinate_ascent_eh] [1/1] [t = 9] id = 5, 922 to 7200 after 3953 swaps,  f(S) = 1.00130\n",
      "2021-02-27 12:39:22,056 [INFO] [OPT-EXP-DSGN - coordinate_ascent_eh] [1/1] [t = 9] id = 6, 2925 to 4532 after 5 swaps,  f(S) = 1.00144\n",
      "2021-02-27 12:39:29,552 [INFO] [OPT-EXP-DSGN - coordinate_ascent_eh] [1/1] [t = 9] id = 7 f(s) 198 didnt change after all 8359 swaps,  f(S) = 1.00144\n",
      "2021-02-27 12:39:29,984 [INFO] [OPT-EXP-DSGN - coordinate_ascent_eh] [1/1] [t = 9] id = 8, 4736 to 7516 after 502 swaps,  f(S) = 1.00223\n",
      "2021-02-27 12:39:37,412 [INFO] [OPT-EXP-DSGN - coordinate_ascent_eh] [1/1] [t = 9] id = 9 f(s) 5410 didnt change after all 8359 swaps,  f(S) = 1.00223\n",
      "2021-02-27 12:39:44,677 [INFO] [OPT-EXP-DSGN - coordinate_ascent_eh] [1/1] [t = 9] id = 10 f(s) 4917 didnt change after all 8359 swaps,  f(S) = 1.00223\n",
      "2021-02-27 12:39:45,045 [INFO] [OPT-EXP-DSGN - coordinate_ascent_eh] [1/1] [t = 9] id = 11, 4283 to 1179 after 434 swaps,  f(S) = 1.00233\n",
      "2021-02-27 12:39:52,203 [INFO] [OPT-EXP-DSGN - coordinate_ascent_eh] [1/1] [t = 9] id = 12 f(s) 5778 didnt change after all 8359 swaps,  f(S) = 1.00233\n",
      "2021-02-27 12:39:59,551 [INFO] [OPT-EXP-DSGN - coordinate_ascent_eh] [1/1] [t = 9] id = 13 f(s) 7880 didnt change after all 8359 swaps,  f(S) = 1.00233\n",
      "2021-02-27 12:40:06,911 [INFO] [OPT-EXP-DSGN - coordinate_ascent_eh] [1/1] [t = 9] id = 14 f(s) 8005 didnt change after all 8359 swaps,  f(S) = 1.00233\n",
      "2021-02-27 12:40:08,908 [INFO] [OPT-EXP-DSGN - coordinate_ascent_eh] [1/1] [t = 9] id = 15, 6392 to 5765 after 2238 swaps,  f(S) = 1.00275\n",
      "2021-02-27 12:40:16,349 [INFO] [OPT-EXP-DSGN - coordinate_ascent_eh] [1/1] [t = 9] id = 16 f(s) 6825 didnt change after all 8359 swaps,  f(S) = 1.00275\n",
      "2021-02-27 12:40:23,750 [INFO] [OPT-EXP-DSGN - coordinate_ascent_eh] [1/1] [t = 9] id = 17 f(s) 2624 didnt change after all 8359 swaps,  f(S) = 1.00275\n",
      "2021-02-27 12:40:31,151 [INFO] [OPT-EXP-DSGN - coordinate_ascent_eh] [1/1] [t = 9] id = 18 f(s) 5001 didnt change after all 8359 swaps,  f(S) = 1.00275\n",
      "2021-02-27 12:40:38,647 [INFO] [OPT-EXP-DSGN - coordinate_ascent_eh] [1/1] [t = 9] id = 19 f(s) 1438 didnt change after all 8359 swaps,  f(S) = 1.00275\n",
      "2021-02-27 12:40:40,901 [INFO] [OPT-EXP-DSGN - coordinate_ascent_eh] [1/1] [t = 9] id = 20, 567 to 1698 after 2573 swaps,  f(S) = 1.00306\n",
      "2021-02-27 12:40:48,304 [INFO] [OPT-EXP-DSGN - coordinate_ascent_eh] [1/1] [t = 9] id = 21 f(s) 2716 didnt change after all 8359 swaps,  f(S) = 1.00306\n",
      "2021-02-27 12:40:48,527 [INFO] [OPT-EXP-DSGN - coordinate_ascent_eh] [1/1] [t = 9] id = 22, 6704 to 3686 after 241 swaps,  f(S) = 1.00321\n",
      "2021-02-27 12:40:55,923 [INFO] [OPT-EXP-DSGN - coordinate_ascent_eh] [1/1] [t = 9] id = 23 f(s) 447 didnt change after all 8359 swaps,  f(S) = 1.00321\n",
      "2021-02-27 12:40:56,014 [INFO] [OPT-EXP-DSGN - coordinate_ascent_eh] [1/1] [t = 9] id = 24, 3739 to 6466 after 95 swaps,  f(S) = 1.00324\n",
      "2021-02-27 12:41:03,411 [INFO] [OPT-EXP-DSGN - coordinate_ascent_eh] [1/1] [t = 9] id = 25 f(s) 7548 didnt change after all 8359 swaps,  f(S) = 1.00324\n",
      "2021-02-27 12:41:10,917 [INFO] [OPT-EXP-DSGN - coordinate_ascent_eh] [1/1] [t = 9] id = 26 f(s) 4619 didnt change after all 8359 swaps,  f(S) = 1.00324\n",
      "2021-02-27 12:41:18,304 [INFO] [OPT-EXP-DSGN - coordinate_ascent_eh] [1/1] [t = 9] id = 27 f(s) 7199 didnt change after all 8359 swaps,  f(S) = 1.00324\n",
      "2021-02-27 12:41:25,414 [INFO] [OPT-EXP-DSGN - coordinate_ascent_eh] [1/1] [t = 9] id = 28 f(s) 3455 didnt change after all 8359 swaps,  f(S) = 1.00324\n",
      "2021-02-27 12:41:32,746 [INFO] [OPT-EXP-DSGN - coordinate_ascent_eh] [1/1] [t = 9] id = 29 f(s) 1776 didnt change after all 8359 swaps,  f(S) = 1.00324\n",
      "2021-02-27 12:41:40,096 [INFO] [OPT-EXP-DSGN - coordinate_ascent_eh] [1/1] [t = 9] id = 30 f(s) 3371 didnt change after all 8359 swaps,  f(S) = 1.00324\n",
      "2021-02-27 12:41:47,561 [INFO] [OPT-EXP-DSGN - coordinate_ascent_eh] [1/1] [t = 9] id = 31 f(s) 8288 didnt change after all 8359 swaps,  f(S) = 1.00324\n",
      "2021-02-27 12:41:55,008 [INFO] [OPT-EXP-DSGN - coordinate_ascent_eh] [1/1] [t = 9] id = 32 f(s) 8086 didnt change after all 8359 swaps,  f(S) = 1.00324\n",
      "2021-02-27 12:42:02,404 [INFO] [OPT-EXP-DSGN - coordinate_ascent_eh] [1/1] [t = 9] id = 33 f(s) 4332 didnt change after all 8359 swaps,  f(S) = 1.00324\n",
      "2021-02-27 12:42:07,036 [INFO] [OPT-EXP-DSGN - coordinate_ascent_eh] [1/1] [t = 9] id = 34, 3738 to 3753 after 5201 swaps,  f(S) = 1.00325\n",
      "2021-02-27 12:42:14,533 [INFO] [OPT-EXP-DSGN - coordinate_ascent_eh] [1/1] [t = 9] id = 35 f(s) 1275 didnt change after all 8359 swaps,  f(S) = 1.00325\n",
      "2021-02-27 12:42:15,586 [INFO] [OPT-EXP-DSGN - coordinate_ascent_eh] [1/1] [t = 9] id = 36, 5112 to 3006 after 1225 swaps,  f(S) = 1.00335\n",
      "2021-02-27 12:42:23,056 [INFO] [OPT-EXP-DSGN - coordinate_ascent_eh] [1/1] [t = 9] id = 37 f(s) 8264 didnt change after all 8359 swaps,  f(S) = 1.00335\n",
      "2021-02-27 12:42:30,449 [INFO] [OPT-EXP-DSGN - coordinate_ascent_eh] [1/1] [t = 9] id = 38 f(s) 3451 didnt change after all 8359 swaps,  f(S) = 1.00335\n",
      "2021-02-27 12:42:37,947 [INFO] [OPT-EXP-DSGN - coordinate_ascent_eh] [1/1] [t = 9] id = 39 f(s) 1718 didnt change after all 8359 swaps,  f(S) = 1.00335\n",
      "2021-02-27 12:42:41,901 [INFO] [OPT-EXP-DSGN - coordinate_ascent_eh] [1/1] [t = 9] id = 40, 4397 to 109 after 4449 swaps,  f(S) = 1.00337\n",
      "2021-02-27 12:42:49,306 [INFO] [OPT-EXP-DSGN - coordinate_ascent_eh] [1/1] [t = 9] id = 41 f(s) 7218 didnt change after all 8359 swaps,  f(S) = 1.00337\n",
      "2021-02-27 12:42:51,175 [INFO] [OPT-EXP-DSGN - coordinate_ascent_eh] [1/1] [t = 9] id = 42, 3149 to 6903 after 2048 swaps,  f(S) = 1.00341\n",
      "2021-02-27 12:42:58,568 [INFO] [OPT-EXP-DSGN - coordinate_ascent_eh] [1/1] [t = 9] id = 43 f(s) 6840 didnt change after all 8359 swaps,  f(S) = 1.00341\n",
      "2021-02-27 12:43:05,649 [INFO] [OPT-EXP-DSGN - coordinate_ascent_eh] [1/1] [t = 9] id = 44 f(s) 5938 didnt change after all 8359 swaps,  f(S) = 1.00341\n",
      "2021-02-27 12:43:12,949 [INFO] [OPT-EXP-DSGN - coordinate_ascent_eh] [1/1] [t = 9] id = 45 f(s) 8162 didnt change after all 8359 swaps,  f(S) = 1.00341\n",
      "2021-02-27 12:43:12,976 [INFO] [OPT-EXP-DSGN - coordinate_ascent_eh] [1/1] [t = 9] id = 46, 5260 to 6958 after 28 swaps,  f(S) = 1.00404\n",
      "2021-02-27 12:43:20,226 [INFO] [OPT-EXP-DSGN - coordinate_ascent_eh] [1/1] [t = 9] id = 47 f(s) 8152 didnt change after all 8359 swaps,  f(S) = 1.00404\n",
      "2021-02-27 12:43:20,256 [INFO] [OPT-EXP-DSGN - coordinate_ascent_eh] [1/1] [t = 9] id = 48, 2107 to 7717 after 31 swaps,  f(S) = 1.00500\n",
      "2021-02-27 12:43:27,665 [INFO] [OPT-EXP-DSGN - coordinate_ascent_eh] [1/1] [t = 9] id = 49 f(s) 6358 didnt change after all 8359 swaps,  f(S) = 1.00500\n",
      "2021-02-27 12:43:27,666 [INFO] [OPT-EXP-DSGN - coordinate_ascent_eh] loop 9 done, loop total time 276.765183, f(S) = 1.00500\n",
      "2021-02-27 12:43:35,174 [INFO] [OPT-EXP-DSGN - coordinate_ascent_eh] [1/1] [t = 10] id = 0 f(s) 198 didnt change after all 8359 swaps,  f(S) = 1.00500\n",
      "2021-02-27 12:43:42,576 [INFO] [OPT-EXP-DSGN - coordinate_ascent_eh] [1/1] [t = 10] id = 1 f(s) 5778 didnt change after all 8359 swaps,  f(S) = 1.00500\n",
      "2021-02-27 12:43:50,043 [INFO] [OPT-EXP-DSGN - coordinate_ascent_eh] [1/1] [t = 10] id = 2 f(s) 7516 didnt change after all 8359 swaps,  f(S) = 1.00500\n",
      "2021-02-27 12:43:57,483 [INFO] [OPT-EXP-DSGN - coordinate_ascent_eh] [1/1] [t = 10] id = 3 f(s) 3455 didnt change after all 8359 swaps,  f(S) = 1.00500\n",
      "2021-02-27 12:44:01,002 [INFO] [OPT-EXP-DSGN - coordinate_ascent_eh] [1/1] [t = 10] id = 4, 109 to 4397 after 3969 swaps,  f(S) = 1.00515\n",
      "2021-02-27 12:44:08,408 [INFO] [OPT-EXP-DSGN - coordinate_ascent_eh] [1/1] [t = 10] id = 5 f(s) 8264 didnt change after all 8359 swaps,  f(S) = 1.00515\n",
      "2021-02-27 12:44:15,784 [INFO] [OPT-EXP-DSGN - coordinate_ascent_eh] [1/1] [t = 10] id = 6 f(s) 5410 didnt change after all 8359 swaps,  f(S) = 1.00515\n",
      "2021-02-27 12:44:15,869 [INFO] [OPT-EXP-DSGN - coordinate_ascent_eh] [1/1] [t = 10] id = 7, 3443 to 6938 after 92 swaps,  f(S) = 1.00594\n",
      "2021-02-27 12:44:23,239 [INFO] [OPT-EXP-DSGN - coordinate_ascent_eh] [1/1] [t = 10] id = 8 f(s) 7717 didnt change after all 8359 swaps,  f(S) = 1.00594\n",
      "2021-02-27 12:44:30,754 [INFO] [OPT-EXP-DSGN - coordinate_ascent_eh] [1/1] [t = 10] id = 9 f(s) 8288 didnt change after all 8359 swaps,  f(S) = 1.00594\n",
      "2021-02-27 12:44:38,126 [INFO] [OPT-EXP-DSGN - coordinate_ascent_eh] [1/1] [t = 10] id = 10 f(s) 1179 didnt change after all 8359 swaps,  f(S) = 1.00594\n",
      "2021-02-27 12:44:45,079 [INFO] [OPT-EXP-DSGN - coordinate_ascent_eh] [1/1] [t = 10] id = 11 f(s) 7218 didnt change after all 8359 swaps,  f(S) = 1.00594\n",
      "2021-02-27 12:44:47,559 [INFO] [OPT-EXP-DSGN - coordinate_ascent_eh] [1/1] [t = 10] id = 12, 7200 to 2355 after 2918 swaps,  f(S) = 1.00600\n",
      "2021-02-27 12:44:54,891 [INFO] [OPT-EXP-DSGN - coordinate_ascent_eh] [1/1] [t = 10] id = 13 f(s) 8086 didnt change after all 8359 swaps,  f(S) = 1.00600\n",
      "2021-02-27 12:45:02,233 [INFO] [OPT-EXP-DSGN - coordinate_ascent_eh] [1/1] [t = 10] id = 14 f(s) 638 didnt change after all 8359 swaps,  f(S) = 1.00600\n",
      "2021-02-27 12:45:09,613 [INFO] [OPT-EXP-DSGN - coordinate_ascent_eh] [1/1] [t = 10] id = 15 f(s) 6358 didnt change after all 8359 swaps,  f(S) = 1.00600\n",
      "2021-02-27 12:45:09,780 [INFO] [OPT-EXP-DSGN - coordinate_ascent_eh] [1/1] [t = 10] id = 16, 1718 to 7200 after 178 swaps,  f(S) = 1.00610\n",
      "2021-02-27 12:45:17,321 [INFO] [OPT-EXP-DSGN - coordinate_ascent_eh] [1/1] [t = 10] id = 17 f(s) 7199 didnt change after all 8359 swaps,  f(S) = 1.00610\n",
      "2021-02-27 12:45:24,838 [INFO] [OPT-EXP-DSGN - coordinate_ascent_eh] [1/1] [t = 10] id = 18 f(s) 447 didnt change after all 8359 swaps,  f(S) = 1.00610\n",
      "2021-02-27 12:45:32,217 [INFO] [OPT-EXP-DSGN - coordinate_ascent_eh] [1/1] [t = 10] id = 19 f(s) 5938 didnt change after all 8359 swaps,  f(S) = 1.00610\n",
      "2021-02-27 12:45:39,874 [INFO] [OPT-EXP-DSGN - coordinate_ascent_eh] [1/1] [t = 10] id = 20 f(s) 6825 didnt change after all 8359 swaps,  f(S) = 1.00610\n"
     ]
    }
   ],
   "source": [
    "S_opt_d, DS_opt_d = optimizer_obj()"
   ]
  },
  {
   "cell_type": "code",
   "execution_count": 96,
   "metadata": {},
   "outputs": [],
   "source": [
    "optim_results = dict(extractor_name=extractor_id,\n",
    "                        model_spec=extractor_obj.model_spec,\n",
    "                         layer_spec=extractor_obj.layer_spec,\n",
    "                         data_type=extractor_obj.extract_type,\n",
    "                        benchmark=extractor_obj.extract_benchmark,\n",
    "                         average=extractor_obj.average_sentence,\n",
    "                         optimizatin_name=optimizer_id,\n",
    "                         optimized_S=S_opt_d,\n",
    "                         optimized_d=DS_opt_d)\n",
    "optim_file=os.path.join(RESULTS_DIR,f\"results_{extractor_id}_{optimizer_id}.pkl\")\n",
    "save_obj(optim_results, optim_file)\n"
   ]
  },
  {
   "cell_type": "code",
   "execution_count": 97,
   "metadata": {},
   "outputs": [
    {
     "name": "stdout",
     "output_type": "stream",
     "text": [
      "loading /om/user/ehoseini/MyData/sent_sampling/results/results_group=gpt2-xl_layer_compare_v2-dataset=ud_sentencez_token_filter_v3-activation-bench=None-ave=False_coordinate_ascent_eh-obj=D_s_var-n_iter=500-n_samples=50-n_init=1-run_gpu=True.pkl\n"
     ]
    }
   ],
   "source": [
    "optim_file=os.path.join(RESULTS_DIR,f\"results_{extractor_id}_{optimizer_id}.pkl\")\n",
    "optim_results=load_obj(optim_file)\n",
    "S_opt_d=optim_results['optimized_S']"
   ]
  },
  {
   "cell_type": "code",
   "execution_count": 100,
   "metadata": {},
   "outputs": [],
   "source": [
    "optim_act_list_norm=[x[S_opt_d,:] for x in act_list_norm]\n"
   ]
  },
  {
   "cell_type": "code",
   "execution_count": 101,
   "metadata": {},
   "outputs": [],
   "source": [
    "layer_similarity=[pt_create_corr_rdm_short(x) for x in optim_act_list_norm]\n"
   ]
  },
  {
   "cell_type": "code",
   "execution_count": 102,
   "metadata": {},
   "outputs": [],
   "source": [
    "optim_pairs = torch.combinations(torch.tensor(np.arange(len(S_opt_d))), with_replacement=False)"
   ]
  },
  {
   "cell_type": "code",
   "execution_count": 35,
   "metadata": {},
   "outputs": [],
   "source": [
    "torch.cuda.empty_cache()"
   ]
  },
  {
   "cell_type": "markdown",
   "metadata": {},
   "source": [
    "## compute the layerwise values for the selected sentences "
   ]
  },
  {
   "cell_type": "code",
   "execution_count": null,
   "metadata": {},
   "outputs": [],
   "source": [
    "layer_optim_dist=[]\n",
    "for idx in tqdm_notebook(range(len(activation_list))):\n",
    "    pair_optim_dist=[]\n",
    "    for idy in tqdm_notebook(range(len(activation_list)),position=1):\n",
    "        pair_similarity=[layer_similarity[idx],layer_similarity[idy]]\n",
    "        XY_corr_sample = [XY_corr[optim_pairs[:, 0], optim_pairs[:, 1]] for XY_corr in pair_similarity]\n",
    "        XY_corr_sample_tensor=torch.stack(XY_corr_sample)\n",
    "        d_mat = pt_create_corr_rdm_short(XY_corr_sample_tensor, device=XY_corr_sample_tensor.device)\n",
    "        d_val =d_mat[0,1].cpu()\n",
    "        pair_optim_dist.append([d_val])\n",
    "    layer_optim_dist.append(pair_optim_dist)\n",
    "print(\"Done!\")"
   ]
  },
  {
   "cell_type": "code",
   "execution_count": null,
   "metadata": {},
   "outputs": [],
   "source": []
  },
  {
   "cell_type": "code",
   "execution_count": 104,
   "metadata": {},
   "outputs": [
    {
     "name": "stderr",
     "output_type": "stream",
     "text": [
      "/om/user/ehoseini/miniconda3/lib/python3.7/site-packages/ipykernel_launcher.py:20: MatplotlibDeprecationWarning: savefig() got unexpected keyword argument \"frameon\" which is no longer supported as of 3.3 and will become an error two minor releases later\n"
     ]
    },
    {
     "data": {
      "image/png": ",
      "text/plain": [
       "<Figure size 720x864 with 3 Axes>"
      ]
     },
     "metadata": {
      "needs_background": "light"
     },
     "output_type": "display_data"
    }
   ],
   "source": [
    "from mpl_toolkits.axes_grid1 import make_axes_locatable\n",
    "fig = plt.figure(figsize=(10,12))\n",
    "ax = fig.add_axes((.2,.1,.8,.6))\n",
    "divider = make_axes_locatable(ax)\n",
    "cax = divider.append_axes('right', size=\"2%\", pad=0.5,)\n",
    "im = ax.imshow(torch.stack([torch.stack([x[0] for x in y]) for y in layer_optim_dist]).cpu(),aspect='auto',interpolation='none')\n",
    "ax.set_yticks(np.arange(var_explained.shape[0]))\n",
    "ax.set_xticks(np.arange(var_explained.shape[0]))\n",
    "ax.set_yticklabels([f\"{optim_obj.activations[idx]['model_name']}, Layer {optim_obj.activations[idx]['layer']}\" for idx,x in enumerate(var_explained) ])\n",
    "ax.set_xticklabels([f\"{optim_obj.activations[idx]['model_name']}, Layer {optim_obj.activations[idx]['layer']}\" for idx,x in enumerate(var_explained) ],rotation=90)\n",
    "\n",
    "\n",
    "cbar = fig.colorbar(im, cax=cax);\n",
    "ax = fig.add_axes((.2,.72,.73,.15))\n",
    "ax.errorbar(np.arange(len(layer_id_list)),score_score[layer_id_list],yerr=score_error[layer_id_list],markersize=10,marker='o',linewidth=0,elinewidth=2,label=f'score {score_benchmark[0]}')\n",
    "ax.set_ylabel('score')\n",
    "plt.savefig(os.path.join(ANALYZE_DIR,f\"{name}_optimized_layerwise_v2_similiarty_dist_vs_score.png\"), dpi=None, facecolor='w', edgecolor='w',\n",
    "        orientation='landscape',\n",
    "        transparent=True, bbox_inches=None, pad_inches=0.1,\n",
    "        frameon=False)"
   ]
  },
  {
   "cell_type": "code",
   "execution_count": 105,
   "metadata": {},
   "outputs": [],
   "source": [
    "optim_similairities=torch.stack([torch.stack([x[0] for x in y]) for y in layer_optim_dist])\n",
    "selected_optim_similarities=optim_similairities[selected_layers,:]\n",
    "selected_optim_similarities=selected_optim_similarities[:,selected_layers]"
   ]
  },
  {
   "cell_type": "code",
   "execution_count": 106,
   "metadata": {},
   "outputs": [
    {
     "name": "stderr",
     "output_type": "stream",
     "text": [
      "/om/user/ehoseini/miniconda3/lib/python3.7/site-packages/ipykernel_launcher.py:1: UserWarning: To copy construct from a tensor, it is recommended to use sourceTensor.clone().detach() or sourceTensor.clone().detach().requires_grad_(True), rather than torch.tensor(sourceTensor).\n",
      "  \"\"\"Entry point for launching an IPython kernel.\n"
     ]
    }
   ],
   "source": [
    "Pereira_dist_optim=torch.tensor([torch.stack([x[0] for x in y]) for y in layer_optim_dist][pereira_layer_id])"
   ]
  },
  {
   "cell_type": "code",
   "execution_count": 107,
   "metadata": {},
   "outputs": [],
   "source": [
    "dist_val_optim,dist_idx_optim=torch.sort(Pereira_dist_optim)\n",
    "Pereira_ordered=Pereira_dist_optim[dist_idx]\n",
    "assert(dist_idx[0]==pereira_layer_id)"
   ]
  },
  {
   "cell_type": "code",
   "execution_count": 108,
   "metadata": {},
   "outputs": [
    {
     "data": {
      "text/plain": [
       "tensor([44, 43, 45, 42, 41, 46, 47, 40, 39, 38, 37, 36, 35, 34, 33, 32, 31, 30,\n",
       "        29, 27, 48, 28, 26, 25, 23, 24, 19, 22, 11, 13, 21, 18,  8, 14, 10,  6,\n",
       "        12, 20, 16,  9,  2, 17,  5,  7, 15,  4,  3,  1,  0], device='cuda:0')"
      ]
     },
     "execution_count": 108,
     "metadata": {},
     "output_type": "execute_result"
    }
   ],
   "source": [
    "dist_idx"
   ]
  },
  {
   "cell_type": "code",
   "execution_count": 109,
   "metadata": {},
   "outputs": [
    {
     "data": {
      "text/plain": [
       "tensor([1.0141445108, 1.0188509073, 0.9995056740, 0.9628605610, 0.9443940705,\n",
       "        0.9338515614, 0.9257343066, 0.9215409904, 0.9166062269, 0.9320243767,\n",
       "        0.9317063606, 0.9566385716, 0.9589507742, 0.9715962753, 0.9689846740,\n",
       "        0.9387637869, 0.9283380794, 0.9320359071, 0.9427789491, 0.9350516487,\n",
       "        0.9330633737, 0.9192788986, 0.9001545098, 0.8955523583, 0.8895596360,\n",
       "        0.8843616349, 0.8482318946, 0.8179795567, 0.7971450983, 0.7454028249,\n",
       "        0.6657849461, 0.6021174637, 0.5179787799, 0.4525248050, 0.3976723743,\n",
       "        0.3228575425, 0.2675745788, 0.1983567076, 0.1516132580, 0.1001979301,\n",
       "        0.0619432389, 0.0296564542, 0.0156294386, 0.0047541980, 0.0000000000,\n",
       "        0.0045760741, 0.0303181176, 0.0589290872, 0.5510032199],\n",
       "       dtype=torch.float64)"
      ]
     },
     "execution_count": 109,
     "metadata": {},
     "output_type": "execute_result"
    }
   ],
   "source": [
    "Pereira_dist_optim"
   ]
  },
  {
   "cell_type": "code",
   "execution_count": 110,
   "metadata": {},
   "outputs": [
    {
     "data": {
      "text/plain": [
       "[[<matplotlib.lines.Line2D at 0x2ac64cf15b90>],\n",
       " [<matplotlib.lines.Line2D at 0x2ac64cf23a10>],\n",
       " [<matplotlib.lines.Line2D at 0x2ac64cf1e510>],\n",
       " [<matplotlib.lines.Line2D at 0x2ac64cf27650>]]"
      ]
     },
     "execution_count": 110,
     "metadata": {},
     "output_type": "execute_result"
    },
    {
     "data": {
      "image/png": "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\n",
      "text/plain": [
       "<Figure size 1080x576 with 1 Axes>"
      ]
     },
     "metadata": {
      "needs_background": "light"
     },
     "output_type": "display_data"
    }
   ],
   "source": [
    "fig = plt.figure(figsize=(15,8))\n",
    "ax = fig.add_axes((.2,.1,.8,.6))\n",
    "\n",
    "\n",
    "ax.scatter(np.arange(dist_val.cpu().shape[0]),dist_val.cpu(),zorder=3)\n",
    "ax.scatter(np.arange(dist_val_optim.cpu().shape[0]),Pereira_ordered.cpu(),zorder=4)\n",
    "\n",
    "ax.set_xlim((-1,dist_val_optim.cpu().shape[0]+1))\n",
    "ax.set_ylim((0-.05,np.max(dist_val_optim.cpu().numpy())+.05))\n",
    "#[ax.plot(plt.xlim(),[x,x],'k--') for x in cuts]\n",
    "#closest_points=[np.argmin(np.abs(dist_val.cpu()-x)) for x in cuts]\n",
    "#optimized_dist=torch.tensor([dist_val_optim[dist_idx_optim==x] for x in extractor_obj.layer_spec])\n",
    "#optimized_dist_loc=torch.tensor([torch.where(dist_idx_optim==x) for x in extractor_obj.layer_spec])\n",
    "#ax.scatter(optimized_dist_loc.cpu(),optimized_dist.cpu(),50,color=(0,0,0))\n",
    "\n",
    "\n",
    "[ax.scatter(x.cpu().numpy(),dist_val[int(x.cpu().numpy())].cpu().numpy(),50,color=(0,0,0),zorder=5) for x in closest_points]\n",
    "[ax.scatter(x.cpu().numpy(),Pereira_ordered[int(x.cpu().numpy())].cpu().numpy(),50,color=(1,0,0),zorder=5) for x in closest_points]\n",
    "\n",
    "\n",
    "ax.set_xticks(tuple(np.arange(dist_val.cpu().shape[0])))\n",
    "ax.set_xticklabels(dist_idx.cpu().numpy())\n",
    "ax.set_xticklabels([model_layers[int(x)] for x in dist_idx.cpu().numpy()],rotation=90)\n",
    "[ax.plot([x.cpu().numpy(),x.cpu().numpy()],plt.ylim(),'k-',zorder=2) for x in closest_points]"
   ]
  },
  {
   "cell_type": "code",
   "execution_count": 111,
   "metadata": {},
   "outputs": [
    {
     "data": {
      "text/plain": [
       "<matplotlib.colorbar.Colorbar at 0x2ac64cffcd90>"
      ]
     },
     "execution_count": 111,
     "metadata": {},
     "output_type": "execute_result"
    },
    {
     "data": {
      "image/png": "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\n",
      "text/plain": [
       "<Figure size 432x288 with 4 Axes>"
      ]
     },
     "metadata": {
      "needs_background": "light"
     },
     "output_type": "display_data"
    }
   ],
   "source": [
    "plt.figure()\n",
    "ax=plt.subplot(1,2,1)\n",
    "plt.imshow(selected_similarities.cpu(),aspect= 1,interpolation='none',vmin=0,vmax=1)\n",
    "plt.colorbar()\n",
    "\n",
    "ax=plt.subplot(1,2,2)\n",
    "plt.imshow(selected_optim_similarities.cpu(),aspect= 1,interpolation='none',vmin=0,vmax=1)\n",
    "plt.colorbar()"
   ]
  },
  {
   "cell_type": "code",
   "execution_count": 49,
   "metadata": {},
   "outputs": [
    {
     "ename": "NameError",
     "evalue": "name 'selected_optim_similarities' is not defined",
     "output_type": "error",
     "traceback": [
      "\u001b[0;31m---------------------------------------------------------------------------\u001b[0m",
      "\u001b[0;31mNameError\u001b[0m                                 Traceback (most recent call last)",
      "\u001b[0;32m<ipython-input-49-bf953ebabeda>\u001b[0m in \u001b[0;36m<module>\u001b[0;34m\u001b[0m\n\u001b[0;32m----> 1\u001b[0;31m \u001b[0mselected_optim_similarities\u001b[0m\u001b[0;34m\u001b[0m\u001b[0;34m\u001b[0m\u001b[0m\n\u001b[0m",
      "\u001b[0;31mNameError\u001b[0m: name 'selected_optim_similarities' is not defined"
     ]
    }
   ],
   "source": []
  },
  {
   "cell_type": "code",
   "execution_count": 92,
   "metadata": {},
   "outputs": [],
   "source": [
    "data=optimizer_obj.gpu_object_function_debug(S_opt_d)"
   ]
  },
  {
   "cell_type": "code",
   "execution_count": 82,
   "metadata": {},
   "outputs": [],
   "source": [
    "d_mat = pt_create_corr_rdm_short(data[1], device=selected_similarities.device)\n"
   ]
  },
  {
   "cell_type": "code",
   "execution_count": 84,
   "metadata": {},
   "outputs": [
    {
     "data": {
      "text/plain": [
       "tensor(1.1221092003, device='cuda:0', dtype=torch.float64)"
      ]
     },
     "execution_count": 84,
     "metadata": {},
     "output_type": "execute_result"
    }
   ],
   "source": [
    "n1 = d_mat.shape[1]\n",
    "correction = n1 * n1 / (n1 * (n1 - 1) / 2)\n",
    "d_val = correction * d_mat.mean(dim=(0, 1))\n",
    "d_val"
   ]
  },
  {
   "cell_type": "code",
   "execution_count": 70,
   "metadata": {},
   "outputs": [],
   "source": [
    "pairs = torch.combinations(torch.tensor(np.arange(d_mat.shape[0])), with_replacement=False)"
   ]
  },
  {
   "cell_type": "code",
   "execution_count": 78,
   "metadata": {},
   "outputs": [
    {
     "data": {
      "text/plain": [
       "tensor(0.5119484275, device='cuda:0', dtype=torch.float64)"
      ]
     },
     "execution_count": 78,
     "metadata": {},
     "output_type": "execute_result"
    }
   ],
   "source": [
    "torch.std(d_mat[pairs[:,0],pairs[:,1]])\n"
   ]
  },
  {
   "cell_type": "code",
   "execution_count": 94,
   "metadata": {},
   "outputs": [
    {
     "data": {
      "text/plain": [
       "1.019719514745371"
      ]
     },
     "execution_count": 94,
     "metadata": {},
     "output_type": "execute_result"
    }
   ],
   "source": [
    "optimizer_obj.gpu_object_function(S_opt_d)"
   ]
  },
  {
   "cell_type": "code",
   "execution_count": 93,
   "metadata": {},
   "outputs": [
    {
     "data": {
      "text/plain": [
       "(1.1221092002532447,\n",
       " tensor([[0.5856224936, 0.4651200972, 0.4922711968,  ..., 0.5714550531,\n",
       "          0.6286386734, 0.5673412061],\n",
       "         [0.5453451352, 0.5036340224, 0.5035275668,  ..., 0.5307695810,\n",
       "          0.6171229221, 0.5972186164],\n",
       "         [0.5736748145, 0.6117348706, 0.5770302102,  ..., 0.4808075663,\n",
       "          0.5632351748, 0.5671890837],\n",
       "         [0.5048829507, 0.5865461981, 0.6363698787,  ..., 0.3152591932,\n",
       "          0.3930069371, 0.4396589600]], device='cuda:0', dtype=torch.float64),\n",
       " [tensor([[-1.3322676296e-15,  5.8562249360e-01,  4.6512009721e-01,\n",
       "            ...,  5.7392904205e-01,  5.0722612921e-01,\n",
       "            4.9166923947e-01],\n",
       "          [ 5.8562249360e-01,  3.3306690739e-16,  6.2520420678e-01,\n",
       "            ...,  6.5028091350e-01,  6.4879570092e-01,\n",
       "            6.2639104146e-01],\n",
       "          [ 4.6512009721e-01,  6.2520420678e-01,  6.6613381478e-16,\n",
       "            ...,  5.9419286445e-01,  5.2773161919e-01,\n",
       "            5.5887754798e-01],\n",
       "          ...,\n",
       "          [ 5.7392904205e-01,  6.5028091350e-01,  5.9419286445e-01,\n",
       "            ...,  1.3322676296e-15,  5.7145505307e-01,\n",
       "            6.2863867343e-01],\n",
       "          [ 5.0722612921e-01,  6.4879570092e-01,  5.2773161919e-01,\n",
       "            ...,  5.7145505307e-01,  0.0000000000e+00,\n",
       "            5.6734120615e-01],\n",
       "          [ 4.9166923947e-01,  6.2639104146e-01,  5.5887754798e-01,\n",
       "            ...,  6.2863867343e-01,  5.6734120615e-01,\n",
       "           -2.2204460493e-16]], device='cuda:0', dtype=torch.float64),\n",
       "  tensor([[ 1.1102230246e-16,  5.4534513523e-01,  5.0363402240e-01,\n",
       "            ...,  5.9391480902e-01,  5.6075020202e-01,\n",
       "            5.4297755973e-01],\n",
       "          [ 5.4534513523e-01,  4.4408920985e-16,  5.2814071666e-01,\n",
       "            ...,  5.6309681792e-01,  5.9471307623e-01,\n",
       "            5.6957885802e-01],\n",
       "          [ 5.0363402240e-01,  5.2814071666e-01, -4.4408920985e-16,\n",
       "            ...,  5.5963008545e-01,  5.3154970788e-01,\n",
       "            5.4109505009e-01],\n",
       "          ...,\n",
       "          [ 5.9391480902e-01,  5.6309681792e-01,  5.5963008545e-01,\n",
       "            ..., -6.6613381478e-16,  5.3076958102e-01,\n",
       "            6.1712292210e-01],\n",
       "          [ 5.6075020202e-01,  5.9471307623e-01,  5.3154970788e-01,\n",
       "            ...,  5.3076958102e-01, -1.7763568394e-15,\n",
       "            5.9721861635e-01],\n",
       "          [ 5.4297755973e-01,  5.6957885802e-01,  5.4109505009e-01,\n",
       "            ...,  6.1712292210e-01,  5.9721861635e-01,\n",
       "           -1.5543122345e-15]], device='cuda:0', dtype=torch.float64),\n",
       "  tensor([[-6.6613381478e-16,  5.7367481449e-01,  6.1173487056e-01,\n",
       "            ...,  5.9553384023e-01,  6.0235762437e-01,\n",
       "            5.8812004952e-01],\n",
       "          [ 5.7367481449e-01,  6.6613381478e-16,  5.3347335684e-01,\n",
       "            ...,  4.7160500641e-01,  5.3533799180e-01,\n",
       "            5.2008186689e-01],\n",
       "          [ 6.1173487056e-01,  5.3347335684e-01,  0.0000000000e+00,\n",
       "            ...,  5.5127138975e-01,  5.4441128730e-01,\n",
       "            5.7230566201e-01],\n",
       "          ...,\n",
       "          [ 5.9553384023e-01,  4.7160500641e-01,  5.5127138975e-01,\n",
       "            ..., -6.6613381478e-16,  4.8080756631e-01,\n",
       "            5.6323517482e-01],\n",
       "          [ 6.0235762437e-01,  5.3533799180e-01,  5.4441128730e-01,\n",
       "            ...,  4.8080756631e-01,  1.3322676296e-15,\n",
       "            5.6718908373e-01],\n",
       "          [ 5.8812004952e-01,  5.2008186689e-01,  5.7230566201e-01,\n",
       "            ...,  5.6323517482e-01,  5.6718908373e-01,\n",
       "           -1.1102230246e-15]], device='cuda:0', dtype=torch.float64),\n",
       "  tensor([[-8.8817841970e-16,  5.0488295071e-01,  5.8654619809e-01,\n",
       "            ...,  4.9442203589e-01,  5.2214500779e-01,\n",
       "            5.0661520830e-01],\n",
       "          [ 5.0488295071e-01,  9.9920072216e-16,  5.3701575931e-01,\n",
       "            ...,  2.8934810782e-01,  3.3958170901e-01,\n",
       "            3.7363623514e-01],\n",
       "          [ 5.8654619809e-01,  5.3701575931e-01, -1.7763568394e-15,\n",
       "            ...,  5.3596153613e-01,  5.5464930914e-01,\n",
       "            5.8043760678e-01],\n",
       "          ...,\n",
       "          [ 4.9442203589e-01,  2.8934810782e-01,  5.3596153613e-01,\n",
       "            ...,  3.3306690739e-16,  3.1525919321e-01,\n",
       "            3.9300693712e-01],\n",
       "          [ 5.2214500779e-01,  3.3958170901e-01,  5.5464930914e-01,\n",
       "            ...,  3.1525919321e-01, -4.4408920985e-16,\n",
       "            4.3965895996e-01],\n",
       "          [ 5.0661520830e-01,  3.7363623514e-01,  5.8043760678e-01,\n",
       "            ...,  3.9300693712e-01,  4.3965895996e-01,\n",
       "            2.2204460493e-16]], device='cuda:0', dtype=torch.float64)])"
      ]
     },
     "execution_count": 93,
     "metadata": {},
     "output_type": "execute_result"
    }
   ],
   "source": []
  },
  {
   "cell_type": "code",
   "execution_count": null,
   "metadata": {},
   "outputs": [],
   "source": []
  }
 ],
 "metadata": {
  "kernelspec": {
   "display_name": "Python (base)",
   "language": "python",
   "name": "base"
  },
  "language_info": {
   "codemirror_mode": {
    "name": "ipython",
    "version": 3
   },
   "file_extension": ".py",
   "mimetype": "text/x-python",
   "name": "python",
   "nbconvert_exporter": "python",
   "pygments_lexer": "ipython3",
   "version": "3.7.9"
  }
 },
 "nbformat": 4,
 "nbformat_minor": 4
}
