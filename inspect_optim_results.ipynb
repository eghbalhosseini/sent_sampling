{
 "cells": [
  {
   "cell_type": "code",
   "execution_count": null,
   "metadata": {},
   "outputs": [],
   "source": [
    "import os \n",
    "import numpy as np\n",
    "from utils.data_utils import load_obj, SAVE_DIR, UD_PARENT, RESULTS_DIR, LEX_PATH_SET, save_obj\n",
    "from utils import extract_pool\n",
    "from utils.optim_utils import optim_pool\n",
    "import matplotlib.pyplot as plt\n",
    "import matplotlib.cm as cm\n",
    "import matplotlib as mpl\n",
    "import seaborn\n",
    "from tqdm import tqdm \n",
    "import pandas as pd "
   ]
  },
  {
   "cell_type": "code",
   "execution_count": null,
   "metadata": {},
   "outputs": [],
   "source": [
    "extract_id=['group=best_performing_pereira_1-dataset=ud_sentencez_token_filter_v3-activation-bench=None-ave=False',\n",
    "            'group=best_performing_pereira_2-dataset=ud_sentencez_token_filter_v3-activation-bench=None-ave=False',\n",
    "            'group=best_performing_pereira_3-dataset=ud_sentencez_token_filter_v3-activation-bench=None-ave=False',\n",
    "            'group=best_performing_pereira_4-dataset=ud_sentencez_token_filter_v3-activation-bench=None-ave=False',\n",
    "            'group=best_performing_pereira_5-dataset=ud_sentencez_token_filter_v3-activation-bench=None-ave=False']\n",
    "\n",
    "#Pereira_control=['group=best_performing_pereira-dataset=ud_sentences_token_filter_v3-brain_resp_Pereira_exp1-bench=Pereira2018-encoding-weights-ave=False',\n",
    "#                'group=best_performing_pereira-dataset=ud_sentences_token_filter_v3-brain_resp_Pereira_exp2-bench=Pereira2018-encoding-weights-ave=False']\n",
    "\n",
    "#'group=best_performing_pereira-dataset=ud_sentences_token_filter_v3-brain_resp-bench=Pereira2018-encoding-weights-ave=False',\n",
    "#'group=best_performing_pereira-dataset=ud_sentences_token_filter_v3-activation-bench=None-ave=False',\n",
    "#'group=best_performing_pereira-dataset=ud_sentences_token_filter_v3-brain_resp-bench=Fedorenko2016v3-encoding-weights-ave=False',\n",
    "\n",
    "#control=['group=second_best_performing_pereira-dataset=ud_sentences_token_filter_v3-activation-bench=None-ave=False',\n",
    "#'group=second_best_performing_pereira-dataset=ud_sentences_token_filter_v3-brain_resp-bench=Fedorenko2016v3-encoding-weights-ave=False',\n",
    "#'group=second_best_performing_pereira-dataset=ud_sentences_token_filter_v3-brain_resp-bench=Pereira2018-encoding-weights-ave=False']"
   ]
  },
  {
   "cell_type": "code",
   "execution_count": null,
   "metadata": {},
   "outputs": [],
   "source": [
    "#extract_id=['group=set_3-dataset=ud_sentences_filter_v2-brain_resp-bench=Fedorenko2016v3-encoding-weights_v2-ave=False',\n",
    "#           'group=set_3-dataset=ud_sentences_filter_v2-network_act-bench=None-ave=False']\n",
    "optim_id=['coordinate_ascent-obj=D_s-n_iter=2000-n_samples=300-n_init=2']"
   ]
  },
  {
   "cell_type": "code",
   "execution_count": null,
   "metadata": {},
   "outputs": [],
   "source": [
    "optim_files=[]\n",
    "optim_results=[]\n",
    "for ext in extract_id:\n",
    "    for optim in optim_id:\n",
    "        optim_file=os.path.join(RESULTS_DIR,f\"results_{ext}_{optim}.pkl\")\n",
    "        optim_files.append(optim_file)\n",
    "        optim_results.append(load_obj(optim_file))"
   ]
  },
  {
   "cell_type": "code",
   "execution_count": null,
   "metadata": {},
   "outputs": [],
   "source": []
  },
  {
   "cell_type": "code",
   "execution_count": null,
   "metadata": {},
   "outputs": [],
   "source": [
    "fig = plt.figure(figsize=[15,8])\n",
    "ax = fig.add_axes([.1,.1,.4,.6])\n",
    "\n",
    "cmap=cm.get_cmap('viridis_r')\n",
    "\n",
    "alph_col=cmap(np.divide(range(len(optim_results)),len(optim_results)))\n",
    "tick_l=[]\n",
    "tick=[]\n",
    "for idx, res in enumerate(optim_results):\n",
    "    ax.barh(idx,res['optimized_d'],color=alph_col[[idx],:],label=res['optimizatin_name'])\n",
    "    ext_obj=extract_pool[res['extractor_name']]()\n",
    "    tick_l.append(f\"extract type: {ext_obj.extract_type},\\nbenchmark: extract type: {ext_obj.extract_benchmark}\\n value:{res['optimized_d']}\")\n",
    "    tick.append(idx)\n",
    "\n",
    "    \n",
    "ax.set_xlabel(f\"D_s \\n\\n  models:{ext_obj.model_spec}\\nlayers:{ext_obj.layer_spec} averaging : {ext_obj.average_sentence}\",fontsize=12)\n",
    "ax.set_yticklabels(tick_l,fontsize=12)\n",
    "ax.set_yticks(tick)\n",
    "ax.set_title(res['optimizatin_name'],fontsize=12)\n",
    "ax.spines[\"top\"].set_visible(False)\n",
    "ax.spines[\"right\"].set_visible(False)\n",
    "#ax.legend(bbox_to _anchor=(1.1, .85), frameon=True,fontsize=12)\n",
    "ax.invert_yaxis()\n",
    "#fig.savefig(os.path.join(Analysis_path,'DV_test_gamma_alpha_is_0.pdf'))"
   ]
  },
  {
   "cell_type": "code",
   "execution_count": null,
   "metadata": {},
   "outputs": [],
   "source": []
  },
  {
   "cell_type": "code",
   "execution_count": null,
   "metadata": {},
   "outputs": [],
   "source": [
    "xy_val=[[len(set(x['optimized_S']).intersection(set(y['optimized_S']))) for y in optim_results] for x in optim_results ]\n",
    "x_cord=[[(idx,f\"{x['extractor_name']}\\n{x['data_type']}\\n\") for y in optim_results] for idx, x in enumerate(optim_results) ]\n",
    "y_cord=[[(idy,f\"{x['data_type']}\\n{x['optimizatin_name']}\") for idy,y in enumerate(optim_results)] for x in optim_results ]\n",
    "x_cord1=[x[0] for x in x_cord]\n",
    "y_cord1=y_cord[0]"
   ]
  },
  {
   "cell_type": "code",
   "execution_count": null,
   "metadata": {},
   "outputs": [],
   "source": [
    "fig = plt.figure(figsize=[15,8])\n",
    "ax = fig.add_axes([.1,.1,.4,.6])\n",
    "cmap=cm.get_cmap('viridis_r')\n",
    "tick_l=[]\n",
    "tick=[]\n",
    "im=ax.imshow(np.stack(xy_val))\n",
    "ytick=[y[0] for y in y_cord1]\n",
    "yticklabel=[y[1] for y in y_cord1]\n",
    "\n",
    "xtick=[x[0] for x in x_cord1]\n",
    "xticklabel=[x[1] for x in x_cord1]\n",
    "\n",
    "ax.set_xticks(xtick)\n",
    "ax.set_xticklabels(xticklabel,rotation = 90)\n",
    "\n",
    "ax.set_yticks(xtick)\n",
    "ax.set_yticklabels(xticklabel,rotation = 0)\n",
    "fig.colorbar(im , orientation='vertical')\n",
    "\n",
    "for i in range(np.stack(xy_val).shape[0]):\n",
    "    for j in range(np.stack(xy_val).shape[1]):\n",
    "        text = ax.text(j, i, np.stack(xy_val)[i,j],\n",
    "                       ha=\"center\", va=\"center\", color=\"w\",fontsize=18)\n",
    "\n"
   ]
  },
  {
   "cell_type": "code",
   "execution_count": null,
   "metadata": {},
   "outputs": [],
   "source": [
    "np.stack(xy_val)"
   ]
  },
  {
   "cell_type": "code",
   "execution_count": null,
   "metadata": {},
   "outputs": [],
   "source": [
    "lex_names=[x['name'] for x in LEX_PATH_SET]\n",
    "sample_values=[]\n",
    "for idx, res in enumerate(optim_results):\n",
    "    ext_obj=extract_pool[res['extractor_name']]()\n",
    "    ext_obj.load_dataset()\n",
    "    lex_values=[[np.nanmean(sent_dat[lex_name]) for lex_name in lex_names] for sent_dat in ext_obj.data_]\n",
    "    values=[lex_values[id] for id in res['optimized_S']]\n",
    "    sample_values.append(np.stack(values))"
   ]
  },
  {
   "cell_type": "code",
   "execution_count": null,
   "metadata": {
    "pycharm": {
     "name": "#%%\n"
    }
   },
   "outputs": [],
   "source": []
  },
  {
   "cell_type": "code",
   "execution_count": null,
   "metadata": {},
   "outputs": [],
   "source": [
    "plt.figure(num=None, figsize=(15, 15), dpi=80, facecolor='w', edgecolor='k')\n",
    "for i in range(1, len(lex_names)+1):\n",
    "    plt.subplot(4, 2, i)\n",
    "    \n",
    "    seaborn.distplot(np.stack(lex_values)[:,i-1],bins=50,label='full',norm_hist=True,hist=False,kde_kws={\"lw\": 5,\"color\":'k'})\n",
    "    for idx,val in enumerate(sample_values):\n",
    "        optim_spec=optim_results[idx]['optimizatin_name'].split('-')\n",
    "        name=f\"{optim_results[idx]['benchmark']}\\n{optim_results[idx]['data_type']}\"\n",
    "        seaborn.distplot(val[:,i-1],bins=50,label=name,norm_hist=True,hist=False,kde_kws={\"lw\": 3})   \n",
    "    #seaborn.distplot(select_s_feat_mean_new[i-1],bins=50,label='sample',norm_hist=True)\n",
    "    #ax=plt.gca()\n",
    "    #ax.set_xticks(np.linspace(s_with_all_feat[i-1].min(),s_with_all_feat[i-1].max(),num=10))\n",
    "    random_set=np.random.randint(0,np.stack(lex_values).shape[0],200)\n",
    "    seaborn.distplot(np.stack(lex_values)[random_set,i-1],bins=50,label='random',norm_hist=True,hist=False,kde_kws={\"lw\": 2,\"color\": (.5,.5,.5)})\n",
    "    if i==len(lex_names):\n",
    "        plt.legend(loc='upper right')\n",
    "    plt.ylabel(lex_names[i-1],fontsize=14);\n"
   ]
  },
  {
   "cell_type": "markdown",
   "metadata": {
    "pycharm": {
     "name": "#%% md\n"
    }
   },
   "source": [
    "# compute the predicted brain based on neural activation list"
   ]
  },
  {
   "cell_type": "code",
   "execution_count": null,
   "metadata": {},
   "outputs": [],
   "source": [
    "benmarks=[x['benchmark'] for x in optim_results]\n",
    "data_type=[x['data_type'] for x in optim_results]"
   ]
  },
  {
   "cell_type": "code",
   "execution_count": null,
   "metadata": {},
   "outputs": [],
   "source": [
    "extract_id=['group=best_performing_pereira-dataset=ud_sentencez_token_filter_v3-brain_resp-bench=Pereira2018-encoding-weights-ave=False',\n",
    "'group=best_performing_pereira-dataset=ud_sentencez_token_filter_v3-activation-bench=None-ave=False',\n",
    "'group=best_performing_pereira-dataset=ud_sentencez_token_filter_v3-brain_resp-bench=Fedorenko2016v3-encoding-weights-ave=False'\n",
    "]\n",
    "\n",
    "Pereira_control=['group=best_performing_pereira-dataset=ud_sentencez_token_filter_v3-brain_resp_Pereira_exp1-bench=Pereira2018-encoding-weights-ave=False',\n",
    "                'group=best_performing_pereira-dataset=ud_sentencez_token_filter_v3-brain_resp_Pereira_exp2-bench=Pereira2018-encoding-weights-ave=False']\n"
   ]
  },
  {
   "cell_type": "code",
   "execution_count": null,
   "metadata": {},
   "outputs": [],
   "source": [
    "ds_transform=[dict(src='group=best_performing_pereira-dataset=ud_sentencez_token_filter_v3-brain_resp-bench=Pereira2018-encoding-weights-ave=False',\n",
    "                  trgs=['group=best_performing_pereira-dataset=ud_sentencez_token_filter_v3-activation-bench=None-ave=False',\n",
    "                      'group=best_performing_pereira-dataset=ud_sentencez_token_filter_v3-brain_resp-bench=Fedorenko2016v3-encoding-weights-ave=False'],\n",
    "                  optim='coordinate_ascent-obj=D_s-n_iter=1000-n_samples=300-n_init=1'),\n",
    "              dict(src='group=best_performing_pereira-dataset=ud_sentencez_token_filter_v3-activation-bench=None-ave=False',\n",
    "                   trgs=['group=best_performing_pereira-dataset=ud_sentencez_token_filter_v3-brain_resp-bench=Fedorenko2016v3-encoding-weights-ave=False',\n",
    "                       'group=best_performing_pereira-dataset=ud_sentencez_token_filter_v3-brain_resp-bench=Pereira2018-encoding-weights-ave=False'],\n",
    "                  optim='coordinate_ascent-obj=D_s-n_iter=1000-n_samples=300-n_init=1'),\n",
    "              \n",
    "             dict(src='group=best_performing_pereira-dataset=ud_sentencez_token_filter_v3-brain_resp-bench=Fedorenko2016v3-encoding-weights-ave=False',\n",
    "                  trgs=['group=best_performing_pereira-dataset=ud_sentencez_token_filter_v3-activation-bench=None-ave=False',\n",
    "                      'group=best_performing_pereira-dataset=ud_sentencez_token_filter_v3-brain_resp-bench=Pereira2018-encoding-weights-ave=False'],\n",
    "                  optim='coordinate_ascent-obj=D_s-n_iter=1000-n_samples=300-n_init=1'),\n",
    "]\n"
   ]
  },
  {
   "cell_type": "code",
   "execution_count": null,
   "metadata": {},
   "outputs": [],
   "source": [
    "ds_transform=[dict(src='group=best_performing_pereira_1-dataset=ud_sentencez_token_filter_v3-activation-bench=None-ave=False',\n",
    "                  trgs=['group=best_performing_pereira_2-dataset=ud_sentencez_token_filter_v3-activation-bench=None-ave=False',\n",
    "                      'group=best_performing_pereira_3-dataset=ud_sentencez_token_filter_v3-activation-bench=None-ave=False',\n",
    "                       'group=best_performing_pereira_4-dataset=ud_sentencez_token_filter_v3-activation-bench=None-ave=False',\n",
    "                       'group=best_performing_pereira_5-dataset=ud_sentencez_token_filter_v3-activation-bench=None-ave=False'],\n",
    "                  optim='coordinate_ascent-obj=D_s-n_iter=2000-n_samples=300-n_init=2'),\n",
    "              dict(src='group=best_performing_pereira_2-dataset=ud_sentencez_token_filter_v3-activation-bench=None-ave=False',\n",
    "                  trgs=['group=best_performing_pereira_1-dataset=ud_sentencez_token_filter_v3-activation-bench=None-ave=False',\n",
    "                      'group=best_performing_pereira_3-dataset=ud_sentencez_token_filter_v3-activation-bench=None-ave=False',\n",
    "                       'group=best_performing_pereira_4-dataset=ud_sentencez_token_filter_v3-activation-bench=None-ave=False',\n",
    "                       'group=best_performing_pereira_5-dataset=ud_sentencez_token_filter_v3-activation-bench=None-ave=False'],\n",
    "                  optim='coordinate_ascent-obj=D_s-n_iter=2000-n_samples=300-n_init=2'),\n",
    "           \n",
    "]\n"
   ]
  },
  {
   "cell_type": "code",
   "execution_count": null,
   "metadata": {},
   "outputs": [],
   "source": [
    "PAIR_COMPARISON=[]\n",
    "for idx, ds_t in enumerate(ds_transform):\n",
    "    result=dict()\n",
    "    result['idx']=idx\n",
    "    optim_file=os.path.join(RESULTS_DIR,f\"results_{ds_t['src']}_{ds_t['optim']}.pkl\")\n",
    "    res=load_obj(optim_file)\n",
    "    ext_obj=extract_pool[res['extractor_name']]()\n",
    "    ext_obj.load_dataset()\n",
    "    ext_obj()\n",
    "    optimizer_obj = optim_pool[ds_t['optim']]()\n",
    "    optimizer_obj.load_extractor(ext_obj)\n",
    "    ds_src=optimizer_obj.mod_objective_function(res['optimized_S'])\n",
    "    result[f\"SRC: {res['data_type']}; {res['benchmark']}\"]=ds_src\n",
    "    # \n",
    "    for trg in ds_t['trgs']:\n",
    "            optim_file=os.path.join(RESULTS_DIR,f\"results_{trg}_{optim}.pkl\")\n",
    "            res_trg=load_obj(optim_file)\n",
    "            ds_trg=optimizer_obj.mod_objective_function(res_trg['optimized_S'])\n",
    "            result[f\"TRG: {res_trg['data_type']}; {res_trg['benchmark']}\"]=ds_trg\n",
    "    # get the random set\n",
    "    ds_rand=[]\n",
    "    for k in tqdm(enumerate(range(50))):\n",
    "        sent_random=list(np.random.choice(optimizer_obj.N_S,optimizer_obj.N_s))\n",
    "        ds_rand.append(optimizer_obj.mod_objective_function(sent_random))\n",
    "    result[f\"RND: {res['data_type']}; {res['benchmark']}\"]=ds_rand\n",
    "    PAIR_COMPARISON.append(result)"
   ]
  },
  {
   "cell_type": "code",
   "execution_count": null,
   "metadata": {},
   "outputs": [],
   "source": [
    "Pereira_rand=PAIR_COMPARISON[0]['RND: brain_resp; Pereira2018-encoding-weights']"
   ]
  },
  {
   "cell_type": "code",
   "execution_count": null,
   "metadata": {},
   "outputs": [],
   "source": [
    "fig = plt.figure(figsize=[15,8])\n",
    "ax = fig.add_axes([.1,.1,.4,.6])\n",
    "cmap=cm.get_cmap('viridis_r')\n",
    "alph_col=cmap(np.divide(range(len(PAIR_COMPARISON)),len(PAIR_COMPARISON)))\n",
    "tick_l=[]\n",
    "tick=[]\n",
    "src_tick=[]\n",
    "src_tick_l=[]\n",
    "alph_col1=alph_col[(1,0),:]\n",
    "for idx, pair in enumerate([PAIR_COMPARISON[0]]):\n",
    "    ds_t=ds_transform[pair['idx']]\n",
    "    optim_file=os.path.join(RESULTS_DIR,f\"results_{ds_t['src']}_{ds_t['optim']}.pkl\")\n",
    "    res=load_obj(optim_file)\n",
    "    src=[pair[f\"SRC: {res['data_type']}; {res['benchmark']}\"]]\n",
    "    src_tick_l.append(f\"SRC: {res['data_type']}; {res['benchmark']}\")\n",
    "    for trg in ds_t['trgs']:\n",
    "        optim_file=os.path.join(RESULTS_DIR,f\"results_{trg}_{optim}.pkl\")\n",
    "        res_trg=load_obj(optim_file)\n",
    "        pair[f\"TRG: {res_trg['data_type']}; {res_trg['benchmark']}\"]\n",
    "        src.append(pair[f\"TRG: {res_trg['data_type']}; {res_trg['benchmark']}\"])\n",
    "        src_tick_l.append(f\"TRG: {res_trg['data_type']}; {res_trg['benchmark']}\")\n",
    "    ax.barh(np.arange(len(src))+idx*5,src,edgecolor=(0,0,0),color=alph_col1[idx,:])\n",
    "    \n",
    "    ax.set_yticklabels(src_tick)\n",
    "    # random set \n",
    "    src_rand=pair[f\"RND: {res['data_type']}; {res['benchmark']}\"]\n",
    "    src_tick_l.append(f\"RND: {res['data_type']}; {res['benchmark']}\")\n",
    "    ax.barh(len(src)+idx*5,np.mean(src_rand),xerr=np.std(src_rand),color=(1,1,1),edgecolor=(0,0,0))\n",
    "    \n",
    "\n",
    "    src_tick.append(np.arange(len(src)+1)+idx*5)\n",
    "ax.invert_yaxis()\n",
    "    \n",
    "ax.set_xlabel('D_s')\n",
    "ax.set_yticks(np.array(src_tick).flatten())\n",
    "ax.set_yticklabels(src_tick_l,fontsize=14)\n",
    "ax.spines[\"top\"].set_visible(False)\n",
    "ax.spines[\"right\"].set_visible(False)\n",
    "#ax.set\n",
    "#ax.spines[\"top\"].set_visible(False)\n",
    "#ax.spines[\"right\"].set_visible(False)\n",
    "#ax.legend(bbox_to_anchor=(1.1, .85), frameon=True,fontsize=12)\n",
    "#fig.savefig(os.path.join(Analysis_path,'DV_test_gamma_alpha_is_0.pdf'))"
   ]
  },
  {
   "cell_type": "code",
   "execution_count": null,
   "metadata": {},
   "outputs": [],
   "source": []
  },
  {
   "cell_type": "markdown",
   "metadata": {},
   "source": [
    "# control 1 "
   ]
  },
  {
   "cell_type": "code",
   "execution_count": null,
   "metadata": {},
   "outputs": [],
   "source": [
    "extract_group=[['group=best_performing_pereira-dataset=ud_sentences_token_filter_v3-activation-bench=None-ave=False',\n",
    "            'group=second_best_performing_pereira-dataset=ud_sentences_token_filter_v3-activation-bench=None-ave=False'],\n",
    "            ['group=best_performing_pereira-dataset=ud_sentences_token_filter_v3-brain_resp-bench=Pereira2018-encoding-weights-ave=False',\n",
    "             'group=second_best_performing_pereira-dataset=ud_sentences_token_filter_v3-brain_resp-bench=Pereira2018-encoding-weights-ave=False'],\n",
    "['group=best_performing_pereira-dataset=ud_sentences_token_filter_v3-brain_resp-bench=Fedorenko2016v3-encoding-weights-ave=False',\n",
    "\n",
    "'group=second_best_performing_pereira-dataset=ud_sentences_token_filter_v3-brain_resp-bench=Fedorenko2016v3-encoding-weights-ave=False']]\n",
    "\n",
    "Pereira_control=['group=best_performing_pereira-dataset=ud_sentences_token_filter_v3-brain_resp_Pereira_exp1-bench=Pereira2018-encoding-weights-ave=False',\n",
    "                'group=best_performing_pereira-dataset=ud_sentences_token_filter_v3-brain_resp_Pereira_exp2-bench=Pereira2018-encoding-weights-ave=False']\n",
    "\n",
    "#'group=best_performing_pereira-dataset=ud_sentences_token_filter_v3-brain_resp-bench=Pereira2018-encoding-weights-ave=False',\n",
    "#'group=best_performing_pereira-dataset=ud_sentences_token_filter_v3-activation-bench=None-ave=False',\n",
    "#'group=best_performing_pereira-dataset=ud_sentences_token_filter_v3-brain_resp-bench=Fedorenko2016v3-encoding-weights-ave=False',\n",
    "\n",
    "control=['group=second_best_performing_pereira-dataset=ud_sentences_token_filter_v3-activation-bench=None-ave=False',\n",
    "'group=second_best_performing_pereira-dataset=ud_sentences_token_filter_v3-brain_resp-bench=Fedorenko2016v3-encoding-weights-ave=False',\n",
    "'group=second_best_performing_pereira-dataset=ud_sentences_token_filter_v3-brain_resp-bench=Pereira2018-encoding-weights-ave=False']"
   ]
  },
  {
   "cell_type": "code",
   "execution_count": null,
   "metadata": {
    "collapsed": false,
    "jupyter": {
     "outputs_hidden": false
    },
    "pycharm": {
     "name": "#%%\n"
    }
   },
   "outputs": [],
   "source": [
    "optim_files=[]\n",
    "optim_group=[]\n",
    "for ext in extract_group:\n",
    "    optim_results=[]\n",
    "    for ex in ext:\n",
    "        for optim in optim_id:\n",
    "            optim_file=os.path.join(RESULTS_DIR,f\"results_{ex}_{optim}.pkl\")\n",
    "            optim_files.append(optim_file)\n",
    "            optim_results.append(load_obj(optim_file))\n",
    "        \n",
    "    optim_group.append(optim_results)"
   ]
  },
  {
   "cell_type": "code",
   "execution_count": null,
   "metadata": {
    "collapsed": false,
    "jupyter": {
     "outputs_hidden": false
    },
    "pycharm": {
     "name": "#%%\n"
    }
   },
   "outputs": [],
   "source": [
    "fig = plt.figure(figsize=[15,8])\n",
    "ax = fig.add_axes([.1,.1,.4,.6])\n",
    "\n",
    "cmap=cm.get_cmap('viridis_r')\n",
    "\n",
    "alph_col=cmap(np.divide(range(len(optim_group)),len(optim_group)))\n",
    "tick_l=[]\n",
    "tick=[]\n",
    "for idx, results in enumerate(optim_group):\n",
    "    group_res=[]\n",
    "    for res in results:\n",
    "        group_res.append(res['optimized_d'])\n",
    "\n",
    "        \n",
    "        \n",
    "    #pair[f\"TRG: {res_trg['group']}; {res_trg['benchmark']}\"]\n",
    "    #    src.append(pair[f\"TRG: {res_trg['data_type']}; {res_trg['benchmark']}\"])\n",
    "        tick_l.append(res['extractor_name'])\n",
    "        tick\n",
    "    ax.barh(np.arange(len(group_res))+idx*5,group_res,edgecolor=(0,0,0),color=alph_col[idx,:])\n",
    "    tick.append(np.arange(len(group_res))+idx*5)\n",
    "    #ax.barh(idx,res['optimized_d'],color=alph_col[[idx],:],label=res['optimizatin_name'])\n",
    "    #ext_obj=extract_pool[res['extractor_name']]()\n",
    "    #tick_l.append(f\"extract type: {ext_obj.extract_type},\\nbenchmark: extract type: {ext_obj.extract_benchmark}\")\n",
    "    #tick.append(idx)\n",
    "ax.invert_yaxis()\n",
    "    \n",
    "ax.set_xlabel('D_s')\n",
    "ax.set_yticks(np.array(tick).flatten())\n",
    "ax.set_yticklabels(tick_l,fontsize=14)\n",
    "ax.spines[\"top\"].set_visible(False)\n",
    "ax.spines[\"right\"].set_visible(False)\n",
    "\n",
    "    \n",
    "#ax.set_xlabel(f\"D_s \\n\\n  models:{ext_obj.model_spec}\\nlayers:{ext_obj.layer_spec} averaging : {ext_obj.average_sentence}\",fontsize=12)\n",
    "#ax.set_yticklabels(tick_l,fontsize=12)\n",
    "#ax.set_yticks(tick)\n",
    "#ax.set_title(res['optimizatin_name'],fontsize=12)\n",
    "#ax.spines[\"top\"].set_visible(False)\n",
    "#ax.spines[\"right\"].set_visible(False)\n",
    "#ax.legend(bbox_to _anchor=(1.1, .85), frameon=True,fontsize=12)\n",
    "#ax.invert_yaxis()\n",
    "#fig.savefig(os.path.join(Analysis_path,'DV_test_gamma_alpha_is_0.pdf'))"
   ]
  },
  {
   "cell_type": "markdown",
   "metadata": {},
   "source": [
    "# control 2: inidividual Pereira results "
   ]
  },
  {
   "cell_type": "code",
   "execution_count": null,
   "metadata": {},
   "outputs": [],
   "source": [
    "Pereira_control=['group=best_performing_pereira-dataset=ud_sentences_token_filter_v3-brain_resp-bench=Pereira2018-encoding-weights-ave=False',\n",
    "    'group=best_performing_pereira-dataset=ud_sentences_token_filter_v3-brain_resp_Pereira_exp1-bench=Pereira2018-encoding-weights-ave=False',\n",
    "                'group=best_performing_pereira-dataset=ud_sentences_token_filter_v3-brain_resp_Pereira_exp2-bench=Pereira2018-encoding-weights-ave=False']"
   ]
  },
  {
   "cell_type": "code",
   "execution_count": null,
   "metadata": {},
   "outputs": [],
   "source": [
    "optim_files=[]\n",
    "optim_results=[]\n",
    "for ext in Pereira_control:\n",
    "    for optim in optim_id:\n",
    "        optim_file=os.path.join(RESULTS_DIR,f\"results_{ext}_{optim}.pkl\")\n",
    "        optim_files.append(optim_file)\n",
    "        optim_results.append(load_obj(optim_file))"
   ]
  },
  {
   "cell_type": "code",
   "execution_count": null,
   "metadata": {},
   "outputs": [],
   "source": [
    "fig = plt.figure(figsize=[15,8])\n",
    "ax = fig.add_axes([.1,.1,.4,.6])\n",
    "\n",
    "cmap=cm.get_cmap('Greys')\n",
    "\n",
    "alph_col=np.flipud(cmap(np.divide(range(len(optim_results)+2),len(optim_results)+2)))\n",
    "tick_l=[]\n",
    "tick=[]\n",
    "for idx, res in enumerate(optim_results):\n",
    "    ax.barh(idx,res['optimized_d'],color=alph_col[[idx],:],label=res['optimizatin_name'])\n",
    "    ext_obj=extract_pool[res['extractor_name']]()\n",
    "    tick_l.append(f\"extract name: {ext_obj.extract_name},\\nbenchmark: extract type: {ext_obj.extract_benchmark}\")\n",
    "    tick.append(idx)\n",
    "\n",
    "ax.barh(len(optim_results),np.mean(Pereira_rand),xerr=np.std(Pereira_rand),color=(1,1,1),edgecolor=(0,0,0),label=res['optimizatin_name'])\n",
    "tick_l.append(f\"random samples\")\n",
    "tick.append(len(optim_results))\n",
    "    \n",
    "ax.set_xlabel(f\"D_s \\n\\n  models:{ext_obj.model_spec}\\nlayers:{ext_obj.layer_spec} averaging : {ext_obj.average_sentence}\",fontsize=12)\n",
    "ax.set_yticklabels(tick_l,fontsize=12)\n",
    "ax.set_yticks(tick)\n",
    "ax.set_title(res['optimizatin_name'],fontsize=12)\n",
    "ax.spines[\"top\"].set_visible(False)\n",
    "ax.spines[\"right\"].set_visible(False)"
   ]
  },
  {
   "cell_type": "markdown",
   "metadata": {
    "pycharm": {
     "name": "#%% md\n"
    }
   },
   "source": [
    "# Example sentences : "
   ]
  },
  {
   "cell_type": "code",
   "execution_count": null,
   "metadata": {},
   "outputs": [],
   "source": []
  },
  {
   "cell_type": "code",
   "execution_count": null,
   "metadata": {},
   "outputs": [],
   "source": [
    "\n",
    "for idx, res in enumerate(optim_results):\n",
    "    select_sent=[]\n",
    "    values=[]\n",
    "    ext_obj=extract_pool[res['extractor_name']]()\n",
    "    ext_obj.load_dataset()\n",
    "    [values.append([id, ext_obj.data_[id]['text']]) for id in np.sort(res['optimized_S'])]\n",
    "    with open(os.path.join(RESULTS_DIR,f\"sentences_{res['extractor_name']}_{res['optimizatin_name']}.txt\"), 'w') as f:\n",
    "        for item in values:\n",
    "            f.write(\"%d, %s\\n\" % (item[0],item[1]))\n"
   ]
  },
  {
   "cell_type": "code",
   "execution_count": null,
   "metadata": {
    "collapsed": false,
    "jupyter": {
     "outputs_hidden": false
    },
    "pycharm": {
     "name": "#%%\n"
    }
   },
   "outputs": [],
   "source": [
    "os.path.join(RESULTS_DIR,f\"sentences_{res['extractor_name']}_{res['optimizatin_name']}.txt\")"
   ]
  },
  {
   "cell_type": "code",
   "execution_count": null,
   "metadata": {
    "collapsed": false,
    "jupyter": {
     "outputs_hidden": false
    },
    "pycharm": {
     "name": "#%%\n"
    }
   },
   "outputs": [],
   "source": [
    "\"%d, %s\\n\" % item[0],item[1]"
   ]
  },
  {
   "cell_type": "code",
   "execution_count": null,
   "metadata": {
    "collapsed": false,
    "jupyter": {
     "outputs_hidden": false
    },
    "pycharm": {
     "name": "#%%\n"
    }
   },
   "outputs": [],
   "source": [
    "all_sentences=[]\n",
    "select_sent=[]\n",
    "sentences=[]\n",
    "sentence_id=[]\n",
    "sentence_location=[]\n",
    "for idx, res in enumerate(optim_results):\n",
    "    ext_obj=extract_pool[res['extractor_name']]()\n",
    "    ext_obj.load_dataset()\n",
    "    sentences.append([ext_obj.data_[x]['text'] for x in np.sort(res['optimized_S'])])\n",
    "    sentence_location.append(np.sort(np.sort(res['optimized_S'])))\n",
    "    #all_sentences.append(values)"
   ]
  },
  {
   "cell_type": "code",
   "execution_count": null,
   "metadata": {},
   "outputs": [],
   "source": [
    "sentence_location_flat=[item for sublist in sentence_location for item in sublist]"
   ]
  },
  {
   "cell_type": "code",
   "execution_count": null,
   "metadata": {},
   "outputs": [],
   "source": [
    "unique_sentence_location=list(set(sentence_location_flat))"
   ]
  },
  {
   "cell_type": "code",
   "execution_count": null,
   "metadata": {},
   "outputs": [],
   "source": [
    "colB=[[idx+1 for idx, y in enumerate(sentence_location) if x in y] for x in unique_sentence_location]\n",
    "colC=[len(x) for x in colB]"
   ]
  },
  {
   "cell_type": "code",
   "execution_count": null,
   "metadata": {},
   "outputs": [],
   "source": [
    "colC_sort_idx=np.flipud(np.argsort(np.asarray(colC)))"
   ]
  },
  {
   "cell_type": "code",
   "execution_count": null,
   "metadata": {},
   "outputs": [],
   "source": [
    "colB_sort=[colB[x] for x in colC_sort_idx]"
   ]
  },
  {
   "cell_type": "code",
   "execution_count": null,
   "metadata": {},
   "outputs": [],
   "source": [
    "sentence_flat=[item for sublist in sentences for item in sublist]\n"
   ]
  },
  {
   "cell_type": "code",
   "execution_count": null,
   "metadata": {},
   "outputs": [],
   "source": [
    "test=list(set(sentence_flat))"
   ]
  },
  {
   "cell_type": "code",
   "execution_count": null,
   "metadata": {},
   "outputs": [],
   "source": [
    "[sentence_flat[x] for x in unique_sentence_location]"
   ]
  },
  {
   "cell_type": "code",
   "execution_count": null,
   "metadata": {},
   "outputs": [],
   "source": [
    "ColA=[ext_obj.data_[x]['text'] for x in unique_sentence_location]"
   ]
  },
  {
   "cell_type": "code",
   "execution_count": null,
   "metadata": {},
   "outputs": [],
   "source": [
    "colB_sort=[colB[x] for x in colC_sort_idx]\n",
    "colA_sort=[ColA[x] for x in colC_sort_idx]\n",
    "colC_sort=[colC[x] for x in colC_sort_idx]"
   ]
  },
  {
   "cell_type": "code",
   "execution_count": null,
   "metadata": {},
   "outputs": [],
   "source": [
    "df2 = pd.DataFrame(data=dict(sentence=ColA,set_num=colB,n_sets=colC))\n",
    "df2_sort = pd.DataFrame(data=dict(sentence=colA_sort,set_num=colB_sort,n_sets=colC_sort))"
   ]
  },
  {
   "cell_type": "code",
   "execution_count": null,
   "metadata": {},
   "outputs": [],
   "source": []
  },
  {
   "cell_type": "code",
   "execution_count": null,
   "metadata": {},
   "outputs": [],
   "source": []
  },
  {
   "cell_type": "code",
   "execution_count": null,
   "metadata": {},
   "outputs": [],
   "source": [
    "with open(os.path.join(RESULTS_DIR,f\"sentences_group=best_performing_pereira_1_through_5-dataset=ud_sentencez_token_filter_v3-activation-bench=None-ave=False_1_{res['optimizatin_name']}.csv\"), 'w') as f:\n",
    "    df2_sort.to_csv(f)   \n"
   ]
  },
  {
   "cell_type": "code",
   "execution_count": null,
   "metadata": {},
   "outputs": [],
   "source": [
    "df2_sort"
   ]
  },
  {
   "cell_type": "markdown",
   "metadata": {},
   "source": [
    "# Read Ev's file "
   ]
  },
  {
   "cell_type": "code",
   "execution_count": 12,
   "metadata": {},
   "outputs": [],
   "source": [
    "file_name='U01_sentselection_Dec18-2020_updDec23.xlsx'\n",
    "df_ev_selected=pd.read_excel(os.path.join(RESULTS_DIR,f\"{file_name}\"))"
   ]
  },
  {
   "cell_type": "code",
   "execution_count": 13,
   "metadata": {},
   "outputs": [
    {
     "data": {
      "text/html": [
       "<div>\n",
       "<style scoped>\n",
       "    .dataframe tbody tr th:only-of-type {\n",
       "        vertical-align: middle;\n",
       "    }\n",
       "\n",
       "    .dataframe tbody tr th {\n",
       "        vertical-align: top;\n",
       "    }\n",
       "\n",
       "    .dataframe thead th {\n",
       "        text-align: right;\n",
       "    }\n",
       "</style>\n",
       "<table border=\"1\" class=\"dataframe\">\n",
       "  <thead>\n",
       "    <tr style=\"text-align: right;\">\n",
       "      <th></th>\n",
       "      <th>Unnamed: 0</th>\n",
       "      <th>sentence</th>\n",
       "      <th>set_num</th>\n",
       "      <th>n_sets</th>\n",
       "      <th>previously_selected_by_ev</th>\n",
       "      <th>Unnamed: 5</th>\n",
       "      <th>Unnamed: 6</th>\n",
       "      <th>Unnamed: 7</th>\n",
       "      <th>Unnamed: 8</th>\n",
       "      <th>Unnamed: 9</th>\n",
       "    </tr>\n",
       "  </thead>\n",
       "  <tbody>\n",
       "    <tr>\n",
       "      <th>0</th>\n",
       "      <td>0</td>\n",
       "      <td>Failing in Syria, the Americans went to work i...</td>\n",
       "      <td>[1, 2, 3, 4, 5]</td>\n",
       "      <td>5</td>\n",
       "      <td>0</td>\n",
       "      <td>NaN</td>\n",
       "      <td>NaN</td>\n",
       "      <td>NaN</td>\n",
       "      <td>NaN</td>\n",
       "      <td>200.0</td>\n",
       "    </tr>\n",
       "    <tr>\n",
       "      <th>1</th>\n",
       "      <td>2</td>\n",
       "      <td>They wanted no excuse for being there. They we...</td>\n",
       "      <td>[1, 2, 3, 4, 5]</td>\n",
       "      <td>5</td>\n",
       "      <td>0</td>\n",
       "      <td>NaN</td>\n",
       "      <td>NaN</td>\n",
       "      <td>NaN</td>\n",
       "      <td>NaN</td>\n",
       "      <td>NaN</td>\n",
       "    </tr>\n",
       "    <tr>\n",
       "      <th>2</th>\n",
       "      <td>3</td>\n",
       "      <td>fyi... it sound like Bobby is in serious condi...</td>\n",
       "      <td>[1, 2, 3, 4, 5]</td>\n",
       "      <td>5</td>\n",
       "      <td>0</td>\n",
       "      <td>NaN</td>\n",
       "      <td>NaN</td>\n",
       "      <td>NaN</td>\n",
       "      <td>NaN</td>\n",
       "      <td>NaN</td>\n",
       "    </tr>\n",
       "    <tr>\n",
       "      <th>3</th>\n",
       "      <td>4</td>\n",
       "      <td>Let me know your thoughts....then I will run i...</td>\n",
       "      <td>[1, 2, 3, 4, 5]</td>\n",
       "      <td>5</td>\n",
       "      <td>0</td>\n",
       "      <td>NaN</td>\n",
       "      <td>NaN</td>\n",
       "      <td>NaN</td>\n",
       "      <td>NaN</td>\n",
       "      <td>NaN</td>\n",
       "    </tr>\n",
       "    <tr>\n",
       "      <th>4</th>\n",
       "      <td>5</td>\n",
       "      <td>This step will reapportion years of your life ...</td>\n",
       "      <td>[1, 2, 3, 4, 5]</td>\n",
       "      <td>5</td>\n",
       "      <td>0</td>\n",
       "      <td>NaN</td>\n",
       "      <td>NaN</td>\n",
       "      <td>NaN</td>\n",
       "      <td>NaN</td>\n",
       "      <td>NaN</td>\n",
       "    </tr>\n",
       "    <tr>\n",
       "      <th>...</th>\n",
       "      <td>...</td>\n",
       "      <td>...</td>\n",
       "      <td>...</td>\n",
       "      <td>...</td>\n",
       "      <td>...</td>\n",
       "      <td>...</td>\n",
       "      <td>...</td>\n",
       "      <td>...</td>\n",
       "      <td>...</td>\n",
       "      <td>...</td>\n",
       "    </tr>\n",
       "    <tr>\n",
       "      <th>707</th>\n",
       "      <td>699</td>\n",
       "      <td>As you can see from the Design Document, they ...</td>\n",
       "      <td>[5]</td>\n",
       "      <td>1</td>\n",
       "      <td>?</td>\n",
       "      <td>NaN</td>\n",
       "      <td>NaN</td>\n",
       "      <td>NaN</td>\n",
       "      <td>NaN</td>\n",
       "      <td>NaN</td>\n",
       "    </tr>\n",
       "    <tr>\n",
       "      <th>708</th>\n",
       "      <td>704</td>\n",
       "      <td>I declare the first international Olympic game...</td>\n",
       "      <td>[4]</td>\n",
       "      <td>1</td>\n",
       "      <td>?</td>\n",
       "      <td>NaN</td>\n",
       "      <td>NaN</td>\n",
       "      <td>NaN</td>\n",
       "      <td>NaN</td>\n",
       "      <td>NaN</td>\n",
       "    </tr>\n",
       "    <tr>\n",
       "      <th>709</th>\n",
       "      <td>705</td>\n",
       "      <td>even if they did, our risk is limited to the p...</td>\n",
       "      <td>[2]</td>\n",
       "      <td>1</td>\n",
       "      <td>?</td>\n",
       "      <td>NaN</td>\n",
       "      <td>NaN</td>\n",
       "      <td>NaN</td>\n",
       "      <td>NaN</td>\n",
       "      <td>NaN</td>\n",
       "    </tr>\n",
       "    <tr>\n",
       "      <th>710</th>\n",
       "      <td>707</td>\n",
       "      <td>From the first pad, many more will form.</td>\n",
       "      <td>[2]</td>\n",
       "      <td>1</td>\n",
       "      <td>?</td>\n",
       "      <td>NaN</td>\n",
       "      <td>NaN</td>\n",
       "      <td>NaN</td>\n",
       "      <td>NaN</td>\n",
       "      <td>NaN</td>\n",
       "    </tr>\n",
       "    <tr>\n",
       "      <th>711</th>\n",
       "      <td>708</td>\n",
       "      <td>They screwed up by not accepting his surrender...</td>\n",
       "      <td>[3]</td>\n",
       "      <td>1</td>\n",
       "      <td>?</td>\n",
       "      <td>NaN</td>\n",
       "      <td>NaN</td>\n",
       "      <td>NaN</td>\n",
       "      <td>NaN</td>\n",
       "      <td>NaN</td>\n",
       "    </tr>\n",
       "  </tbody>\n",
       "</table>\n",
       "<p>712 rows × 10 columns</p>\n",
       "</div>"
      ],
      "text/plain": [
       "     Unnamed: 0                                           sentence  \\\n",
       "0             0  Failing in Syria, the Americans went to work i...   \n",
       "1             2  They wanted no excuse for being there. They we...   \n",
       "2             3  fyi... it sound like Bobby is in serious condi...   \n",
       "3             4  Let me know your thoughts....then I will run i...   \n",
       "4             5  This step will reapportion years of your life ...   \n",
       "..          ...                                                ...   \n",
       "707         699  As you can see from the Design Document, they ...   \n",
       "708         704  I declare the first international Olympic game...   \n",
       "709         705  even if they did, our risk is limited to the p...   \n",
       "710         707           From the first pad, many more will form.   \n",
       "711         708  They screwed up by not accepting his surrender...   \n",
       "\n",
       "             set_num  n_sets previously_selected_by_ev  Unnamed: 5  \\\n",
       "0    [1, 2, 3, 4, 5]       5                         0         NaN   \n",
       "1    [1, 2, 3, 4, 5]       5                         0         NaN   \n",
       "2    [1, 2, 3, 4, 5]       5                         0         NaN   \n",
       "3    [1, 2, 3, 4, 5]       5                         0         NaN   \n",
       "4    [1, 2, 3, 4, 5]       5                         0         NaN   \n",
       "..               ...     ...                       ...         ...   \n",
       "707              [5]       1                         ?         NaN   \n",
       "708              [4]       1                         ?         NaN   \n",
       "709              [2]       1                         ?         NaN   \n",
       "710              [2]       1                         ?         NaN   \n",
       "711              [3]       1                         ?         NaN   \n",
       "\n",
       "     Unnamed: 6  Unnamed: 7  Unnamed: 8  Unnamed: 9  \n",
       "0           NaN         NaN         NaN       200.0  \n",
       "1           NaN         NaN         NaN         NaN  \n",
       "2           NaN         NaN         NaN         NaN  \n",
       "3           NaN         NaN         NaN         NaN  \n",
       "4           NaN         NaN         NaN         NaN  \n",
       "..          ...         ...         ...         ...  \n",
       "707         NaN         NaN         NaN         NaN  \n",
       "708         NaN         NaN         NaN         NaN  \n",
       "709         NaN         NaN         NaN         NaN  \n",
       "710         NaN         NaN         NaN         NaN  \n",
       "711         NaN         NaN         NaN         NaN  \n",
       "\n",
       "[712 rows x 10 columns]"
      ]
     },
     "execution_count": 13,
     "metadata": {},
     "output_type": "execute_result"
    }
   ],
   "source": [
    "df_ev_selected"
   ]
  },
  {
   "cell_type": "code",
   "execution_count": 8,
   "metadata": {},
   "outputs": [
    {
     "data": {
      "text/plain": [
       "304     Or they weren't eyewitnesses and are just lying.\n",
       "305           Kerry saved a man's life while under fire.\n",
       "306     I know now where to get all of my wine and beer.\n",
       "307        You'll have to tell me what it's about first.\n",
       "308    The next day, no one could find my wheel lock ...\n",
       "                             ...                        \n",
       "538    They are sick of the partisanship and nonsense...\n",
       "546    Driving into the city centre itself is somethi...\n",
       "583    The proposal put forward by the Commission is ...\n",
       "606    A blinding sunlight drowned all this at times ...\n",
       "629    I am not going to go pick up a horse I can't a...\n",
       "Name: sentence, Length: 200, dtype: object"
      ]
     },
     "execution_count": 8,
     "metadata": {},
     "output_type": "execute_result"
    }
   ],
   "source": [
    "ev_sentences=df_ev_selected.sentence[df_ev_selected.previously_selected_by_ev==1]\n",
    "ev_sentences"
   ]
  },
  {
   "cell_type": "code",
   "execution_count": 9,
   "metadata": {},
   "outputs": [],
   "source": [
    "ds_transform=[dict(src='group=best_performing_pereira_1-dataset=ud_sentencez_token_filter_v3-activation-bench=None-ave=False',\n",
    "                  optim='coordinate_ascent-obj=D_s-n_iter=2000-n_samples=300-n_init=2')]\n"
   ]
  },
  {
   "cell_type": "code",
   "execution_count": 10,
   "metadata": {},
   "outputs": [
    {
     "name": "stdout",
     "output_type": "stream",
     "text": [
      "loading /Users/eghbalhosseini/MyData/sent_sampling/results/results_group=best_performing_pereira_1-dataset=ud_sentencez_token_filter_v3-activation-bench=None-ave=False_coordinate_ascent-obj=D_s-n_iter=2000-n_samples=300-n_init=2.pkl\n",
      "loading /Users/eghbalhosseini/MyData/Universal Dependencies 2.6/ud_sentencez_data_token_filter_v3_no_dup.pkl\n"
     ]
    },
    {
     "name": "stderr",
     "output_type": "stream",
     "text": [
      "934it [00:00, 222710.63it/s]\n",
      "934it [00:00, 229656.46it/s]\n",
      "935it [00:00, 224275.09it/s]\n",
      "934it [00:00, 221689.77it/s]\n",
      "934it [00:00, 215601.54it/s]\n",
      "935it [00:00, 221513.46it/s]\n",
      "934it [00:00, 222647.34it/s]\n",
      "934it [00:00, 221702.32it/s]\n",
      "935it [00:00, 221563.52it/s]\n"
     ]
    },
    {
     "name": "stdout",
     "output_type": "stream",
     "text": [
      "extracting network activations for roberta-base\n",
      "ud_sentencez_token_filter_v3_roberta-base_layer_2_activation_ave_False.pkl already exists, loading...\n",
      "loading /Users/eghbalhosseini/MyData/sent_sampling/ud_sentencez_token_filter_v3_roberta-base_layer_2_activation_ave_False.pkl\n",
      "adding activations to set\n",
      "extracting network activations for xlnet-large-cased\n",
      "ud_sentencez_token_filter_v3_xlnet-large-cased_layer_24_activation_ave_False.pkl already exists, loading...\n",
      "loading /Users/eghbalhosseini/MyData/sent_sampling/ud_sentencez_token_filter_v3_xlnet-large-cased_layer_24_activation_ave_False.pkl\n",
      "adding activations to set\n",
      "extracting network activations for bert-large-uncased-whole-word-masking\n",
      "ud_sentencez_token_filter_v3_bert-large-uncased-whole-word-masking_layer_12_activation_ave_False.pkl already exists, loading...\n",
      "loading /Users/eghbalhosseini/MyData/sent_sampling/ud_sentencez_token_filter_v3_bert-large-uncased-whole-word-masking_layer_12_activation_ave_False.pkl\n",
      "adding activations to set\n",
      "extracting network activations for xlm-mlm-en-2048\n",
      "ud_sentencez_token_filter_v3_xlm-mlm-en-2048_layer_12_activation_ave_False.pkl already exists, loading...\n",
      "loading /Users/eghbalhosseini/MyData/sent_sampling/ud_sentencez_token_filter_v3_xlm-mlm-en-2048_layer_12_activation_ave_False.pkl\n",
      "adding activations to set\n",
      "extracting network activations for gpt2-xl\n",
      "ud_sentencez_token_filter_v3_gpt2-xl_layer_44_activation_ave_False.pkl already exists, loading...\n",
      "loading /Users/eghbalhosseini/MyData/sent_sampling/ud_sentencez_token_filter_v3_gpt2-xl_layer_44_activation_ave_False.pkl\n",
      "adding activations to set\n",
      "extracting network activations for albert-xxlarge-v2\n",
      "ud_sentencez_token_filter_v3_albert-xxlarge-v2_layer_5_activation_ave_False.pkl already exists, loading...\n",
      "loading /Users/eghbalhosseini/MyData/sent_sampling/ud_sentencez_token_filter_v3_albert-xxlarge-v2_layer_5_activation_ave_False.pkl\n",
      "adding activations to set\n",
      "extracting network activations for ctrl\n",
      "ud_sentencez_token_filter_v3_ctrl_layer_47_activation_ave_False.pkl already exists, loading...\n",
      "loading /Users/eghbalhosseini/MyData/sent_sampling/ud_sentencez_token_filter_v3_ctrl_layer_47_activation_ave_False.pkl\n",
      "adding activations to set\n"
     ]
    },
    {
     "name": "stderr",
     "output_type": "stream",
     "text": [
      "50it [00:26,  1.88it/s]\n"
     ]
    }
   ],
   "source": [
    "\n",
    "for idx, ds_t in enumerate(ds_transform):\n",
    "    result=dict()\n",
    "    optim_file=os.path.join(RESULTS_DIR,f\"results_{ds_t['src']}_{ds_t['optim']}.pkl\")\n",
    "    res=load_obj(optim_file)\n",
    "    ext_obj=extract_pool[res['extractor_name']]()\n",
    "    ext_obj.load_dataset()\n",
    "    ext_obj()\n",
    "    optimizer_obj = optim_pool[ds_t['optim']]()\n",
    "    optimizer_obj.load_extractor(ext_obj)\n",
    "    ds_src=optimizer_obj.mod_objective_function(res['optimized_S'])\n",
    "    result[f\"originial\"]=ds_src\n",
    "    sentences=[x['text'] for x in ext_obj.data_]\n",
    "    ev_sent_id=([sentences.index(ev_sent) for ev_sent in ev_sentences])\n",
    "    ds_ev=optimizer_obj.mod_objective_function(ev_sent_id)\n",
    "    result[f\"filtering by Ev\"]=ds_ev\n",
    "    # \n",
    "    # get the random set \n",
    "    ds_rand=[]\n",
    "    for k in tqdm(enumerate(range(50))):\n",
    "        sent_random=list(np.random.choice(optimizer_obj.N_S,optimizer_obj.N_s))\n",
    "        ds_rand.append(optimizer_obj.mod_objective_function(sent_random))\n",
    "    result[f\"random\"]=ds_rand\n"
   ]
  },
  {
   "cell_type": "code",
   "execution_count": 14,
   "metadata": {},
   "outputs": [
    {
     "data": {
      "text/plain": [
       "Text(0.5, 1.0, 'sentence from U01_sentselection_Dec18-2020_updDec23.xlsx')"
      ]
     },
     "execution_count": 14,
     "metadata": {},
     "output_type": "execute_result"
    },
    {
     "data": {
      "image/png": "[encoded data removed]",
      "text/plain": [
       "<Figure size 1080x576 with 1 Axes>"
      ]
     },
     "metadata": {
      "needs_background": "light"
     },
     "output_type": "display_data"
    }
   ],
   "source": [
    "fig = plt.figure(figsize=[15,8])\n",
    "ax = fig.add_axes([.1,.1,.4,.6])\n",
    "\n",
    "cmap=cm.get_cmap('viridis_r')\n",
    "\n",
    "alph_col=cmap(np.divide(range(len(result)),len(result)))\n",
    "tick_l=[]\n",
    "\n",
    "\n",
    "ax.barh(0,result['originial'],color=alph_col[[0],:],label='originial')\n",
    "tick_l.append('original')\n",
    "ax.barh(1,result['filtering by Ev'],color=alph_col[[1],:],label='filtering by Ev')\n",
    "tick_l.append('filtering by Ev')\n",
    "\n",
    "ax.barh(2,np.mean(result['random']),xerr=np.std(result['random']),color=alph_col[[2],:],label='random')\n",
    "tick_l.append('random')\n",
    "\n",
    "ax.invert_yaxis()\n",
    "    \n",
    "ax.set_xlabel('D_s')\n",
    "ax.set_yticks([0,1,2])\n",
    "ax.set_yticklabels(tick_l,fontsize=14)\n",
    "ax.spines[\"top\"].set_visible(False)\n",
    "ax.spines[\"right\"].set_visible(False)\n",
    "ax.set_title(f\"sentence from {file_name}\")\n"
   ]
  },
  {
   "cell_type": "code",
   "execution_count": null,
   "metadata": {},
   "outputs": [],
   "source": [
    "result"
   ]
  },
  {
   "cell_type": "code",
   "execution_count": null,
   "metadata": {},
   "outputs": [],
   "source": []
  },
  {
   "cell_type": "code",
   "execution_count": null,
   "metadata": {},
   "outputs": [],
   "source": []
  },
  {
   "cell_type": "code",
   "execution_count": null,
   "metadata": {},
   "outputs": [],
   "source": []
  },
  {
   "cell_type": "markdown",
   "metadata": {},
   "source": [
    "# fix the sentences to sentencez "
   ]
  },
  {
   "cell_type": "code",
   "execution_count": null,
   "metadata": {},
   "outputs": [],
   "source": [
    "df_ev_selected=pd.read_excel(os.path.join(RESULTS_DIR,f\"sentences_group_evselection_Dec7-2020.xlsx\"))"
   ]
  },
  {
   "cell_type": "code",
   "execution_count": null,
   "metadata": {},
   "outputs": [],
   "source": [
    "ev_sentences=df_ev_selected.sentence[df_ev_selected.ev_selected==1]"
   ]
  },
  {
   "cell_type": "code",
   "execution_count": null,
   "metadata": {},
   "outputs": [],
   "source": [
    "ev_sentences"
   ]
  },
  {
   "cell_type": "code",
   "execution_count": null,
   "metadata": {},
   "outputs": [],
   "source": [
    "df2_sort"
   ]
  },
  {
   "cell_type": "code",
   "execution_count": null,
   "metadata": {},
   "outputs": [],
   "source": []
  },
  {
   "cell_type": "code",
   "execution_count": null,
   "metadata": {},
   "outputs": [],
   "source": [
    "selected_by_ev=[int(any(ev_sentences.isin([x]))) for x in df2_sort.sentence]"
   ]
  },
  {
   "cell_type": "code",
   "execution_count": null,
   "metadata": {},
   "outputs": [],
   "source": []
  },
  {
   "cell_type": "code",
   "execution_count": null,
   "metadata": {},
   "outputs": [],
   "source": [
    "df2_sort=df2_sort.assign(previously_selected_by_ev=selected_by_ev)"
   ]
  },
  {
   "cell_type": "code",
   "execution_count": null,
   "metadata": {},
   "outputs": [],
   "source": [
    "with open(os.path.join(RESULTS_DIR,f\"sentences_group=best_performing_pereira_1_through_5-dataset=ud_sentencez_token_filter_v3-activation-bench=None-ave=False_1_{res['optimizatin_name']}.csv\"), 'w') as f:\n",
    "    df2_sort.to_csv(f)   "
   ]
  },
  {
   "cell_type": "code",
   "execution_count": null,
   "metadata": {},
   "outputs": [],
   "source": [
    "df2_sort"
   ]
  },
  {
   "cell_type": "code",
   "execution_count": null,
   "metadata": {},
   "outputs": [],
   "source": []
  }
 ],
 "metadata": {
  "kernelspec": {
   "display_name": "neural-nlp-master",
   "language": "python",
   "name": "neural-nlp-master"
  },
  "language_info": {
   "codemirror_mode": {
    "name": "ipython",
    "version": 3
   },
   "file_extension": ".py",
   "mimetype": "text/x-python",
   "name": "python",
   "nbconvert_exporter": "python",
   "pygments_lexer": "ipython3",
   "version": "3.7.9"
  }
 },
 "nbformat": 4,
 "nbformat_minor": 4
}
