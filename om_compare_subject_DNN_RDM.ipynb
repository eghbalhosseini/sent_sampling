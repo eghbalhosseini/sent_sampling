{
 "cells": [
  {
   "cell_type": "code",
   "execution_count": 65,
   "metadata": {},
   "outputs": [],
   "source": [
    "import os \n",
    "import numpy as np\n",
    "from sent_sampling.utils.data_utils import load_obj, SAVE_DIR, UD_PARENT, RESULTS_DIR, LEX_PATH_SET, save_obj, ANALYZE_DIR\n",
    "from sent_sampling.utils import extract_pool\n",
    "from sent_sampling.utils.optim_utils import optim_pool\n",
    "import matplotlib.pyplot as plt\n",
    "import matplotlib.cm as cm\n",
    "import matplotlib as mpl\n",
    "import seaborn\n",
    "from tqdm import tqdm \n",
    "import pandas as pd \n",
    "import pickle\n",
    "import xarray as xr \n",
    "import ftfy\n",
    "from scipy.spatial.distance import pdist, squareform\n",
    "import scipy\n",
    "import copy "
   ]
  },
  {
   "cell_type": "code",
   "execution_count": 8,
   "metadata": {},
   "outputs": [
    {
     "data": {
      "text/plain": [
       "'/om/user/ehoseini/MyData/sent_sampling/results'"
      ]
     },
     "execution_count": 8,
     "metadata": {},
     "output_type": "execute_result"
    }
   ],
   "source": [
    "RESULTS_DIR=os.path.join(SAVE_DIR,'results')\n",
    "RESULTS_DIR"
   ]
  },
  {
   "cell_type": "markdown",
   "metadata": {},
   "source": [
    "# Read Ev's file "
   ]
  },
  {
   "cell_type": "code",
   "execution_count": 6,
   "metadata": {},
   "outputs": [],
   "source": [
    "file_name='U01_sentselection_Dec18-2020_updDec23.xlsx'\n",
    "df_ev_selected=pd.read_excel(os.path.join(RESULTS_DIR,f\"{file_name}\"))"
   ]
  },
  {
   "cell_type": "code",
   "execution_count": null,
   "metadata": {},
   "outputs": [],
   "source": []
  },
  {
   "cell_type": "code",
   "execution_count": 7,
   "metadata": {},
   "outputs": [
    {
     "name": "stderr",
     "output_type": "stream",
     "text": [
      "934it [00:00, 207790.80it/s]\n",
      "934it [00:00, 203770.09it/s]\n",
      "935it [00:00, 206089.35it/s]\n",
      "934it [00:00, 207812.84it/s]\n",
      "934it [00:00, 203420.91it/s]\n",
      "935it [00:00, 170856.72it/s]\n",
      "934it [00:00, 208865.43it/s]\n",
      "934it [00:00, 203241.50it/s]\n",
      "935it [00:00, 177910.19it/s]\n"
     ]
    },
    {
     "name": "stdout",
     "output_type": "stream",
     "text": [
      "extracting network activations for roberta-base\n",
      "ud_sentencez_token_filter_v3_roberta-base_layer_2_activation_ave_False.pkl already exists, loading...\n",
      "loading /om/user/ehoseini/MyData/sent_sampling/ud_sentencez_token_filter_v3_roberta-base_layer_2_activation_ave_False.pkl\n",
      "adding activations to set\n",
      "extracting network activations for xlnet-large-cased\n",
      "ud_sentencez_token_filter_v3_xlnet-large-cased_layer_24_activation_ave_False.pkl already exists, loading...\n",
      "loading /om/user/ehoseini/MyData/sent_sampling/ud_sentencez_token_filter_v3_xlnet-large-cased_layer_24_activation_ave_False.pkl\n",
      "adding activations to set\n",
      "extracting network activations for bert-large-uncased-whole-word-masking\n",
      "ud_sentencez_token_filter_v3_bert-large-uncased-whole-word-masking_layer_12_activation_ave_False.pkl already exists, loading...\n",
      "loading /om/user/ehoseini/MyData/sent_sampling/ud_sentencez_token_filter_v3_bert-large-uncased-whole-word-masking_layer_12_activation_ave_False.pkl\n",
      "adding activations to set\n",
      "extracting network activations for xlm-mlm-en-2048\n",
      "ud_sentencez_token_filter_v3_xlm-mlm-en-2048_layer_12_activation_ave_False.pkl already exists, loading...\n",
      "loading /om/user/ehoseini/MyData/sent_sampling/ud_sentencez_token_filter_v3_xlm-mlm-en-2048_layer_12_activation_ave_False.pkl\n",
      "adding activations to set\n",
      "extracting network activations for gpt2-xl\n",
      "ud_sentencez_token_filter_v3_gpt2-xl_layer_44_activation_ave_False.pkl already exists, loading...\n",
      "loading /om/user/ehoseini/MyData/sent_sampling/ud_sentencez_token_filter_v3_gpt2-xl_layer_44_activation_ave_False.pkl\n",
      "adding activations to set\n",
      "extracting network activations for albert-xxlarge-v2\n",
      "ud_sentencez_token_filter_v3_albert-xxlarge-v2_layer_5_activation_ave_False.pkl already exists, loading...\n",
      "loading /om/user/ehoseini/MyData/sent_sampling/ud_sentencez_token_filter_v3_albert-xxlarge-v2_layer_5_activation_ave_False.pkl\n",
      "adding activations to set\n",
      "extracting network activations for ctrl\n",
      "ud_sentencez_token_filter_v3_ctrl_layer_47_activation_ave_False.pkl already exists, loading...\n",
      "loading /om/user/ehoseini/MyData/sent_sampling/ud_sentencez_token_filter_v3_ctrl_layer_47_activation_ave_False.pkl\n",
      "adding activations to set\n"
     ]
    }
   ],
   "source": [
    "ev_sentences=df_ev_selected.sentence[df_ev_selected.previously_selected_by_ev==1]\n",
    "extractor_name='group=best_performing_pereira_1-dataset=ud_sentencez_token_filter_v3-activation-bench=None-ave=False'\n",
    "ext_obj=extract_pool[extractor_name]()\n",
    "ext_obj.load_dataset()\n",
    "ext_obj()"
   ]
  },
  {
   "cell_type": "code",
   "execution_count": 10,
   "metadata": {},
   "outputs": [],
   "source": [
    "optimizer_obj = optim_pool['coordinate_ascent-obj=D_s-n_iter=2000-n_samples=300-n_init=2-run_gpu=False']()\n",
    "optimizer_obj.load_extractor(ext_obj)"
   ]
  },
  {
   "cell_type": "code",
   "execution_count": 11,
   "metadata": {},
   "outputs": [],
   "source": [
    "sentences=[x['text'] for x in ext_obj.data_]\n",
    "ev_sent_id=([sentences.index(ev_sent) for ev_sent in ev_sentences])"
   ]
  },
  {
   "cell_type": "code",
   "execution_count": null,
   "metadata": {},
   "outputs": [],
   "source": []
  },
  {
   "cell_type": "code",
   "execution_count": 12,
   "metadata": {},
   "outputs": [],
   "source": [
    "sentence_keys=[x['word_FORM'] for x in ext_obj.data_]\n",
    "ev_sentence_keys=[sentence_keys[x] for x in ev_sent_id]\n"
   ]
  },
  {
   "cell_type": "code",
   "execution_count": 64,
   "metadata": {},
   "outputs": [
    {
     "name": "stderr",
     "output_type": "stream",
     "text": [
      "/usr/local/lib/python3.7/site-packages/numpy/core/_asarray.py:136: VisibleDeprecationWarning: Creating an ndarray from ragged nested sequences (which is a list-or-tuple of lists-or-tuples-or ndarrays with different lengths or shapes) is deprecated. If you meant to do this, you must specify 'dtype=object' when creating the ndarray\n",
      "  return array(a, dtype, copy=False, order=order, subok=True)\n"
     ]
    }
   ],
   "source": [
    "# get activations for ev sentences \n",
    "model_name_list=[]\n",
    "activation_list=[]\n",
    "for act in optimizer_obj.activations:\n",
    "    model_name_list.append(act['model_name'])\n",
    "    activation=act['activations']\n",
    "    activation_list.append(np.stack([activation[x] for x in ev_sent_id]))"
   ]
  },
  {
   "cell_type": "code",
   "execution_count": 14,
   "metadata": {},
   "outputs": [],
   "source": [
    "with open('/om/user/ehoseini/MyData/ecog_DNN/crunched/EM1049_ecog_ANNSET1_auditory_stim_resp_struct.pkl','rb') as fid:\n",
    "    sub_dat=pickle.load(fid)"
   ]
  },
  {
   "cell_type": "code",
   "execution_count": 15,
   "metadata": {},
   "outputs": [],
   "source": [
    "# select significant electrodes \n",
    "elec_data_dec=sub_dat.elec_data_dec\n",
    "sig_elecs=sub_dat.elec_data_zs_dec_s_vs_n.isin(1).values\n",
    "good_elecs=elec_data_dec.elec_ch_label[sig_elecs]\n",
    "sig_electrodes=elec_data_dec.sel(elec_ch_label=good_elecs)"
   ]
  },
  {
   "cell_type": "code",
   "execution_count": 16,
   "metadata": {},
   "outputs": [
    {
     "name": "stderr",
     "output_type": "stream",
     "text": [
      "/usr/local/lib/python3.7/site-packages/ipykernel_launcher.py:6: FutureWarning: the `dim` argument to `concat` will be required in a future version of xarray; for now, setting it to the old default of 'concat_dim'\n",
      "  \n"
     ]
    }
   ],
   "source": [
    "# select last word \n",
    "grouped=sig_electrodes.groupby(sig_electrodes.sentence_id,squeeze=True)\n",
    "group_set=[]\n",
    "for name, group in grouped:\n",
    "    group_set.append(group[-1,:])\n",
    "elec_data_dec_last=xr.concat(group_set)\n"
   ]
  },
  {
   "cell_type": "code",
   "execution_count": 17,
   "metadata": {},
   "outputs": [],
   "source": [
    "correspondance=[]\n",
    "loc_corres=[]\n",
    "for x in np.unique(elec_data_dec.sentence_id.values):\n",
    "    ex=elec_data_dec.where(elec_data_dec.sentence_id==x,drop=True).string.values.tolist()\n",
    "    xs=[]\n",
    "    for sent_keys in ev_sentence_keys:\n",
    "        x=np.asarray([elem in sent_keys for elem in ex])\n",
    "        xs.append(x.sum())\n",
    "    correspondance.append([' '.join(ex),\n",
    "        ev_sentences.tolist()[np.asarray(xs).argmax()]])\n",
    "    loc_corres.append(np.asarray(xs).argmax())"
   ]
  },
  {
   "cell_type": "code",
   "execution_count": 18,
   "metadata": {},
   "outputs": [
    {
     "data": {
      "text/plain": [
       "<xarray.DataArray 'string' ()>\n",
       "array('budget', dtype='<U16')\n",
       "Coordinates:\n",
       "    sentence_id  int64 11\n",
       "    key          <U7 'word_10'\n",
       "    string       <U16 'budget'"
      ]
     },
     "execution_count": 18,
     "metadata": {},
     "output_type": "execute_result"
    }
   ],
   "source": [
    "# reorder the data based on evsentences: \n",
    "elec_data_dec_last.string[10]\n"
   ]
  },
  {
   "cell_type": "code",
   "execution_count": 19,
   "metadata": {},
   "outputs": [
    {
     "data": {
      "text/plain": [
       "array([102, 107, 129, 139])"
      ]
     },
     "execution_count": 19,
     "metadata": {},
     "output_type": "execute_result"
    }
   ],
   "source": [
    "mismatch=np.where(np.asarray([ev_sentence_keys[x][-1] for x in loc_corres])!=elec_data_dec_last.string.values)[0]\n",
    "mismatch"
   ]
  },
  {
   "cell_type": "code",
   "execution_count": 20,
   "metadata": {},
   "outputs": [
    {
     "data": {
      "text/plain": [
       "<xarray.DataArray 'elec_data_dec' (concat_dims: 200, elec_ch_label: 43)>\n",
       "array([[1.050939, 0.316552, 0.53669 , ..., 0.327903, 0.421479, 0.472974],\n",
       "       [0.808003, 0.32005 , 0.587307, ..., 0.36979 , 0.54108 , 0.563186],\n",
       "       [0.980192, 0.367036, 0.60057 , ..., 0.350946, 0.500173, 0.398446],\n",
       "       ...,\n",
       "       [0.968806, 0.368922, 0.475369, ..., 0.315522, 0.536447, 0.391728],\n",
       "       [0.85131 , 0.304012, 0.547084, ..., 0.40276 , 0.555275, 0.439646],\n",
       "       [0.835805, 0.39997 , 0.660798, ..., 0.367074, 0.525117, 0.39376 ]])\n",
       "Coordinates:\n",
       "  * elec_ch_label  (elec_ch_label) object 'LFIa1' 'LFIb6' ... 'LTP9' 'LTP10'\n",
       "    sentence_id    (concat_dims) int64 1 2 3 4 5 6 7 ... 195 196 197 198 199 200\n",
       "    key            (concat_dims) <U7 'word_11' 'word_13' ... 'word_6' 'word_14'\n",
       "    string         (concat_dims) <U16 'face' 'afford' ... 'far' 'investigated'\n",
       "Dimensions without coordinates: concat_dims"
      ]
     },
     "execution_count": 20,
     "metadata": {},
     "output_type": "execute_result"
    }
   ],
   "source": [
    "elec_data_dec_last"
   ]
  },
  {
   "cell_type": "code",
   "execution_count": 21,
   "metadata": {},
   "outputs": [
    {
     "data": {
      "text/plain": [
       "\"Her left arm looked like the front window of Tiffany 's\""
      ]
     },
     "execution_count": 21,
     "metadata": {},
     "output_type": "execute_result"
    }
   ],
   "source": [
    "ev_sentence_reorder=[' '.join(ev_sentence_keys[x]) for x in loc_corres]\n",
    "ev_sentence_reorder[139]"
   ]
  },
  {
   "cell_type": "code",
   "execution_count": 22,
   "metadata": {},
   "outputs": [
    {
     "data": {
      "text/plain": [
       "<xarray.DataArray 'elec_data_dec' (elec_ch_label: 126)>\n",
       "array([0.848429, 0.765663, 0.339164, 0.316129, 0.32603 , 0.33419 , 0.282434,\n",
       "       0.279201, 0.423018, 0.33317 , 0.300991, 0.599692, 0.54112 , 0.694383,\n",
       "       0.458684, 0.679506, 0.417404, 0.439016, 0.47244 , 0.576683, 0.302358,\n",
       "       0.353904, 0.572206, 0.672607, 0.424037, 0.509382, 0.342481, 0.768057,\n",
       "       0.382584, 0.443446, 0.464365, 0.45949 , 1.352317, 1.683111, 1.394609,\n",
       "       0.756948, 0.74048 , 0.735696, 0.698315, 1.234574, 0.95204 , 1.028133,\n",
       "       0.704788, 0.759211, 1.391191, 1.323002, 0.777524, 0.400619, 0.338611,\n",
       "       0.278375, 0.287862, 0.303731, 0.302842, 0.272513, 0.323725, 0.364867,\n",
       "       0.319672, 0.410871, 0.604126, 0.751009, 0.646955, 0.698013, 0.798032,\n",
       "       0.499603, 0.365257, 0.201945, 0.204811, 0.20619 , 0.18668 , 0.204885,\n",
       "       0.269033, 0.298178, 0.441538, 0.381184, 1.573895, 2.438745, 0.70902 ,\n",
       "       0.462748, 0.414119, 0.376987, 0.368363, 0.443855, 0.511173, 0.530419,\n",
       "       0.430174, 0.6184  , 0.744684, 0.497163, 2.35339 , 2.918285, 1.241977,\n",
       "       0.28699 , 0.283539, 0.252237, 0.253724, 0.255756, 0.34221 , 0.340497,\n",
       "       0.367312, 0.368401, 1.271613, 1.086274, 1.0291  , 1.510427, 1.242524,\n",
       "       0.616206, 0.299553, 0.282851, 0.307962, 0.270501, 0.263306, 0.381664,\n",
       "       0.491403, 0.561994, 0.450874, 0.454039, 0.575114, 0.566341, 0.669364,\n",
       "       0.545716, 0.36417 , 0.304706, 0.413818, 0.402371, 0.430088, 0.531477])\n",
       "Coordinates:\n",
       "    sentence_id    int64 10\n",
       "  * elec_ch_label  (elec_ch_label) object 'LFIa1' 'LFIa2' ... 'LTP11' 'LTP12'\n",
       "    key            <U7 'word_12'\n",
       "    string         <U16 'she'"
      ]
     },
     "execution_count": 22,
     "metadata": {},
     "output_type": "execute_result"
    }
   ],
   "source": [
    "elec_data_dec[mismatch[0],:]"
   ]
  },
  {
   "cell_type": "code",
   "execution_count": 20,
   "metadata": {},
   "outputs": [
    {
     "data": {
      "text/plain": [
       "array([102, 107, 129, 139])"
      ]
     },
     "execution_count": 20,
     "metadata": {},
     "output_type": "execute_result"
    }
   ],
   "source": [
    "mismatch"
   ]
  },
  {
   "cell_type": "code",
   "execution_count": 23,
   "metadata": {},
   "outputs": [],
   "source": [
    "# select last word \n",
    "grouped=sig_electrodes.groupby(sig_electrodes.sentence_id,squeeze=True)\n",
    "sentence_set=[]\n",
    "for name, group in grouped:\n",
    "    sentence_set.append(' '.join(group.string.values))\n"
   ]
  },
  {
   "cell_type": "code",
   "execution_count": 26,
   "metadata": {},
   "outputs": [],
   "source": [
    "activation_reorder=[x[loc_corres,:] for x in activation_list]"
   ]
  },
  {
   "cell_type": "code",
   "execution_count": 27,
   "metadata": {},
   "outputs": [],
   "source": [
    "activaton_fix=[]\n",
    "for x in activation_reorder: \n",
    "    new_act=[]\n",
    "    for y in x:\n",
    "        if len(y)==3:\n",
    "            y=y[0]\n",
    "            \n",
    "        else:\n",
    "            y=y\n",
    "        new_act.append(y)\n",
    "    activaton_fix.append(np.stack(new_act))"
   ]
  },
  {
   "cell_type": "code",
   "execution_count": 28,
   "metadata": {},
   "outputs": [],
   "source": [
    "\n",
    "\n",
    "model_corr=[pdist(x,'correlation') for x in activaton_fix]"
   ]
  },
  {
   "cell_type": "code",
   "execution_count": 29,
   "metadata": {},
   "outputs": [],
   "source": [
    "test=pd.DataFrame(np.transpose(elec_data_dec_last.values))\n",
    "sub_corr=np.asarray(test.corr())"
   ]
  },
  {
   "cell_type": "code",
   "execution_count": 30,
   "metadata": {},
   "outputs": [],
   "source": [
    "sub_corrr=np.triu(sub_corr,k=1)+np.transpose(np.triu(sub_corr,k=1))"
   ]
  },
  {
   "cell_type": "code",
   "execution_count": 31,
   "metadata": {},
   "outputs": [],
   "source": [
    "sub_corr_vec=squareform(sub_corrr,checks=False)\n"
   ]
  },
  {
   "cell_type": "code",
   "execution_count": 57,
   "metadata": {},
   "outputs": [
    {
     "data": {
      "text/plain": [
       "(1, 19900)"
      ]
     },
     "execution_count": 57,
     "metadata": {},
     "output_type": "execute_result"
    }
   ],
   "source": [
    "np.expand_dims(sub_corr_vec,axis=0).shape"
   ]
  },
  {
   "cell_type": "code",
   "execution_count": 70,
   "metadata": {},
   "outputs": [],
   "source": [
    "model_plus_sub=np.concatenate((np.asarray(model_corr),np.expand_dims(sub_corr_vec,axis=0)),axis=0)\n",
    "model_sub_list=copy.deepcopy(model_name_list)\n",
    "model_sub_list.append('subject')\n",
    "\n"
   ]
  },
  {
   "cell_type": "code",
   "execution_count": 72,
   "metadata": {},
   "outputs": [],
   "source": [
    "mode_subj_corr=pd.DataFrame(np.transpose(model_plus_sub),columns=model_sub_list)"
   ]
  },
  {
   "cell_type": "code",
   "execution_count": 75,
   "metadata": {},
   "outputs": [
    {
     "data": {
      "text/html": [
       "<div>\n",
       "<style scoped>\n",
       "    .dataframe tbody tr th:only-of-type {\n",
       "        vertical-align: middle;\n",
       "    }\n",
       "\n",
       "    .dataframe tbody tr th {\n",
       "        vertical-align: top;\n",
       "    }\n",
       "\n",
       "    .dataframe thead th {\n",
       "        text-align: right;\n",
       "    }\n",
       "</style>\n",
       "<table border=\"1\" class=\"dataframe\">\n",
       "  <thead>\n",
       "    <tr style=\"text-align: right;\">\n",
       "      <th></th>\n",
       "      <th>roberta-base</th>\n",
       "      <th>xlnet-large-cased</th>\n",
       "      <th>bert-large-uncased-whole-word-masking</th>\n",
       "      <th>xlm-mlm-en-2048</th>\n",
       "      <th>gpt2-xl</th>\n",
       "      <th>albert-xxlarge-v2</th>\n",
       "      <th>ctrl</th>\n",
       "      <th>subject</th>\n",
       "    </tr>\n",
       "  </thead>\n",
       "  <tbody>\n",
       "    <tr>\n",
       "      <th>roberta-base</th>\n",
       "      <td>1.000000</td>\n",
       "      <td>-0.253057</td>\n",
       "      <td>0.406880</td>\n",
       "      <td>-0.164958</td>\n",
       "      <td>-0.061608</td>\n",
       "      <td>-0.075345</td>\n",
       "      <td>-0.186081</td>\n",
       "      <td>-0.028120</td>\n",
       "    </tr>\n",
       "    <tr>\n",
       "      <th>xlnet-large-cased</th>\n",
       "      <td>-0.253057</td>\n",
       "      <td>1.000000</td>\n",
       "      <td>-0.239365</td>\n",
       "      <td>-0.063039</td>\n",
       "      <td>-0.195530</td>\n",
       "      <td>0.021580</td>\n",
       "      <td>-0.205474</td>\n",
       "      <td>0.031606</td>\n",
       "    </tr>\n",
       "    <tr>\n",
       "      <th>bert-large-uncased-whole-word-masking</th>\n",
       "      <td>0.406880</td>\n",
       "      <td>-0.239365</td>\n",
       "      <td>1.000000</td>\n",
       "      <td>0.012942</td>\n",
       "      <td>-0.079668</td>\n",
       "      <td>-0.042384</td>\n",
       "      <td>-0.238746</td>\n",
       "      <td>-0.005927</td>\n",
       "    </tr>\n",
       "    <tr>\n",
       "      <th>xlm-mlm-en-2048</th>\n",
       "      <td>-0.164958</td>\n",
       "      <td>-0.063039</td>\n",
       "      <td>0.012942</td>\n",
       "      <td>1.000000</td>\n",
       "      <td>-0.007963</td>\n",
       "      <td>0.014400</td>\n",
       "      <td>-0.066774</td>\n",
       "      <td>0.061260</td>\n",
       "    </tr>\n",
       "    <tr>\n",
       "      <th>gpt2-xl</th>\n",
       "      <td>-0.061608</td>\n",
       "      <td>-0.195530</td>\n",
       "      <td>-0.079668</td>\n",
       "      <td>-0.007963</td>\n",
       "      <td>1.000000</td>\n",
       "      <td>-0.040437</td>\n",
       "      <td>-0.059265</td>\n",
       "      <td>-0.042409</td>\n",
       "    </tr>\n",
       "    <tr>\n",
       "      <th>albert-xxlarge-v2</th>\n",
       "      <td>-0.075345</td>\n",
       "      <td>0.021580</td>\n",
       "      <td>-0.042384</td>\n",
       "      <td>0.014400</td>\n",
       "      <td>-0.040437</td>\n",
       "      <td>1.000000</td>\n",
       "      <td>-0.123571</td>\n",
       "      <td>0.030001</td>\n",
       "    </tr>\n",
       "    <tr>\n",
       "      <th>ctrl</th>\n",
       "      <td>-0.186081</td>\n",
       "      <td>-0.205474</td>\n",
       "      <td>-0.238746</td>\n",
       "      <td>-0.066774</td>\n",
       "      <td>-0.059265</td>\n",
       "      <td>-0.123571</td>\n",
       "      <td>1.000000</td>\n",
       "      <td>0.012159</td>\n",
       "    </tr>\n",
       "    <tr>\n",
       "      <th>subject</th>\n",
       "      <td>-0.028120</td>\n",
       "      <td>0.031606</td>\n",
       "      <td>-0.005927</td>\n",
       "      <td>0.061260</td>\n",
       "      <td>-0.042409</td>\n",
       "      <td>0.030001</td>\n",
       "      <td>0.012159</td>\n",
       "      <td>1.000000</td>\n",
       "    </tr>\n",
       "  </tbody>\n",
       "</table>\n",
       "</div>"
      ],
      "text/plain": [
       "                                       roberta-base  xlnet-large-cased  \\\n",
       "roberta-base                               1.000000          -0.253057   \n",
       "xlnet-large-cased                         -0.253057           1.000000   \n",
       "bert-large-uncased-whole-word-masking      0.406880          -0.239365   \n",
       "xlm-mlm-en-2048                           -0.164958          -0.063039   \n",
       "gpt2-xl                                   -0.061608          -0.195530   \n",
       "albert-xxlarge-v2                         -0.075345           0.021580   \n",
       "ctrl                                      -0.186081          -0.205474   \n",
       "subject                                   -0.028120           0.031606   \n",
       "\n",
       "                                       bert-large-uncased-whole-word-masking  \\\n",
       "roberta-base                                                        0.406880   \n",
       "xlnet-large-cased                                                  -0.239365   \n",
       "bert-large-uncased-whole-word-masking                               1.000000   \n",
       "xlm-mlm-en-2048                                                     0.012942   \n",
       "gpt2-xl                                                            -0.079668   \n",
       "albert-xxlarge-v2                                                  -0.042384   \n",
       "ctrl                                                               -0.238746   \n",
       "subject                                                            -0.005927   \n",
       "\n",
       "                                       xlm-mlm-en-2048   gpt2-xl  \\\n",
       "roberta-base                                 -0.164958 -0.061608   \n",
       "xlnet-large-cased                            -0.063039 -0.195530   \n",
       "bert-large-uncased-whole-word-masking         0.012942 -0.079668   \n",
       "xlm-mlm-en-2048                               1.000000 -0.007963   \n",
       "gpt2-xl                                      -0.007963  1.000000   \n",
       "albert-xxlarge-v2                             0.014400 -0.040437   \n",
       "ctrl                                         -0.066774 -0.059265   \n",
       "subject                                       0.061260 -0.042409   \n",
       "\n",
       "                                       albert-xxlarge-v2      ctrl   subject  \n",
       "roberta-base                                   -0.075345 -0.186081 -0.028120  \n",
       "xlnet-large-cased                               0.021580 -0.205474  0.031606  \n",
       "bert-large-uncased-whole-word-masking          -0.042384 -0.238746 -0.005927  \n",
       "xlm-mlm-en-2048                                 0.014400 -0.066774  0.061260  \n",
       "gpt2-xl                                        -0.040437 -0.059265 -0.042409  \n",
       "albert-xxlarge-v2                               1.000000 -0.123571  0.030001  \n",
       "ctrl                                           -0.123571  1.000000  0.012159  \n",
       "subject                                         0.030001  0.012159  1.000000  "
      ]
     },
     "execution_count": 75,
     "metadata": {},
     "output_type": "execute_result"
    }
   ],
   "source": []
  },
  {
   "cell_type": "code",
   "execution_count": null,
   "metadata": {},
   "outputs": [],
   "source": []
  },
  {
   "cell_type": "code",
   "execution_count": null,
   "metadata": {},
   "outputs": [],
   "source": []
  },
  {
   "cell_type": "code",
   "execution_count": null,
   "metadata": {},
   "outputs": [],
   "source": []
  },
  {
   "cell_type": "code",
   "execution_count": null,
   "metadata": {},
   "outputs": [],
   "source": []
  },
  {
   "cell_type": "code",
   "execution_count": null,
   "metadata": {},
   "outputs": [],
   "source": []
  },
  {
   "cell_type": "code",
   "execution_count": null,
   "metadata": {},
   "outputs": [],
   "source": []
  }
 ],
 "metadata": {
  "kernelspec": {
   "display_name": "Python 3",
   "language": "python",
   "name": "python3"
  },
  "language_info": {
   "codemirror_mode": {
    "name": "ipython",
    "version": 3
   },
   "file_extension": ".py",
   "mimetype": "text/x-python",
   "name": "python",
   "nbconvert_exporter": "python",
   "pygments_lexer": "ipython3",
   "version": "3.7.9"
  }
 },
 "nbformat": 4,
 "nbformat_minor": 4
}
