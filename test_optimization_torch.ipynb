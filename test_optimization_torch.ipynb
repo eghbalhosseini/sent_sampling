{
 "cells": [
  {
   "cell_type": "code",
   "execution_count": 1,
   "metadata": {},
   "outputs": [
    {
     "name": "stderr",
     "output_type": "stream",
     "text": [
      "/usr/local/lib/python3.7/site-packages/xarray/core/merge.py:16: FutureWarning: The Panel class is removed from pandas. Accessing it from the top-level namespace will also be removed in the next version\n",
      "  PANDAS_TYPES = (pd.Series, pd.DataFrame, pd.Panel)\n"
     ]
    },
    {
     "name": "stdout",
     "output_type": "stream",
     "text": [
      "Loading lookup from /usr/local/lib/python3.7/site-packages/brainio_collection/lookup.csv\n"
     ]
    },
    {
     "name": "stderr",
     "output_type": "stream",
     "text": [
      "/usr/local/lib/python3.7/site-packages/brainio_base/assemblies.py:224: FutureWarning: The inplace argument has been deprecated and will be removed in a future version of xarray.\n",
      "  xr_data.set_index(append=True, inplace=True, **coords_d)\n"
     ]
    }
   ],
   "source": [
    "import torch \n",
    "from utils import extract_pool\n",
    "import matplotlib.pyplot as plt \n",
    "import time\n",
    "from scipy.spatial.distance import pdist, squareform\n",
    "import numpy as np "
   ]
  },
  {
   "cell_type": "code",
   "execution_count": 2,
   "metadata": {},
   "outputs": [],
   "source": [
    "\n",
    "def create_rdm(patterns, vec=False, distance='correlation'):\n",
    "    rdm_vec = pdist(patterns, distance)\n",
    "    if not vec:\n",
    "        return squareform(rdm_vec)\n",
    "    return rdm_vec\n",
    "\n",
    "\n",
    "def second_order_rdm(patterns_list, vec=False, distance='correlation'):\n",
    "    rdm_vecs = np.array([create_rdm(patterns, True, distance) for patterns in patterns_list])\n",
    "    rdm2_vec = pdist(rdm_vecs, distance)\n",
    "    if not vec:\n",
    "        return squareform(rdm2_vec)\n",
    "    return rdm2_vec"
   ]
  },
  {
   "cell_type": "code",
   "execution_count": 50,
   "metadata": {},
   "outputs": [],
   "source": [
    "@torch.no_grad()\n",
    "def pt_create_corr_rdm_v2(X,Y=None,vec=False):\n",
    "    X_demean=(X-X.mean(axis=1,keepdim=True))\n",
    "    #X_norm=torch.div(X_demean,X_demean.norm(dim=1,keepdim=True))\n",
    "    X_norm=torch.nn.functional.normalize(X_demean)\n",
    "    if Y is not None:\n",
    "            Y_demean=(Y-Y.mean(axis=1,keepdim=True))\n",
    "            #Y_norm=torch.div(Y_demean,Y_demean.norm(dim=1,keepdim=True))\n",
    "            Y_norm=torch.nn.functional.normalize(Y_demean)\n",
    "    else:\n",
    "        Y_norm=X_norm\n",
    "        \n",
    "    #XY_corr=1-torch.mm(X_norm,torch.transpose(Y_norm,1,0))\n",
    "    XY_corr=torch.mm(X_norm,torch.transpose(Y_norm,1,0))\n",
    "    N=XY_corr.shape[1]\n",
    "    #fixer=torch.ones(N,N,dtype=float,device=device,requires_grad=False)\n",
    "    XY_corr=torch.triu(torch.sub(fixer,XY_corr),diagonal=1)\n",
    "    XY_corr=torch.triu(torch.sub(fixer,XY_corr),diagonal=1)\n",
    "    if vec:\n",
    "        return torch.clamp(torch.reshape(XY_corr,(1,-1)), 0.0, np.inf)\n",
    "    return torch.clamp(XY_corr, 0.0, np.inf)\n",
    "\n"
   ]
  },
  {
   "cell_type": "code",
   "execution_count": 81,
   "metadata": {},
   "outputs": [],
   "source": [
    "@torch.no_grad()\n",
    "def pt_create_corr_rdm_short(X,Y=None,vec=False):\n",
    "    X=(X-X.mean(axis=1,keepdim=True))\n",
    "    #X=torch.nn.functional.normalize(X)\n",
    "    if Y is not None:\n",
    "            Y=(Y-Y.mean(axis=1,keepdim=True))\n",
    "            #Y_norm=torch.div(Y_demean,Y_demean.norm(dim=1,keepdim=True))\n",
    "            Y=torch.nn.functional.normalize(Y)\n",
    "    else:\n",
    "        Y=X\n",
    "    XY_corr=1-torch.mm(X,torch.transpose(Y,1,0))\n",
    "    XY_corr=torch.triu(XY_corr,diagonal=1)\n",
    "    if vec:\n",
    "        return torch.clamp(torch.reshape(XY_corr,(1,-1)), 0.0, np.inf)\n",
    "    return torch.clamp(XY_corr, 0.0, np.inf)"
   ]
  },
  {
   "cell_type": "code",
   "execution_count": null,
   "metadata": {},
   "outputs": [],
   "source": [
    "@torch.no_grad()\n",
    "def pt_create_corr_rdm_short(X,Y=None,vec=False,device=None):\n",
    "    X=(X-X.mean(axis=1,keepdim=True))\n",
    "    X=torch.nn.functional.normalize(X)\n",
    "    if Y is not None:\n",
    "            Y=(Y-Y.mean(axis=1,keepdim=True))\n",
    "            Y=torch.nn.functional.normalize(Y)\n",
    "    else:\n",
    "        Y=X\n",
    "    XY_corr=torch.tensor(1,device=device,dtype=float)-torch.mm(X,torch.transpose(X,1,0))\n",
    "    XY_corr=torch.triu(XY_corr,diagonal=1)\n",
    "    if vec:\n",
    "        return torch.clamp(torch.reshape(XY_corr,(1,-1)), 0.0, np.inf)\n",
    "    return torch.clamp(XY_corr, 0.0, np.inf)"
   ]
  },
  {
   "cell_type": "code",
   "execution_count": 85,
   "metadata": {},
   "outputs": [],
   "source": [
    "@torch.no_grad()\n",
    "def pt_second_order_rdm_v2(X_list):\n",
    "    XY_corr_list=torch.stack([pt_create_corr_rdm_short(p,vec=False) for p in X_list])\n",
    "    N1=XY_corr_list.shape[1]\n",
    "    correction=N1*N1/(N1*(N1-1)/2)\n",
    "    XY_fix=correction*XY_corr_list.mean(dim=(1,2)).unsqueeze(0)\n",
    "    fix_mat=torch.triu(1-torch.eye(N1,N1,dtype=float,device=device,requires_grad=False)).unsqueeze(0)\n",
    "    new=(fix_mat.permute(2,1,0).matmul(XY_fix)).permute(2,1,0)\n",
    "    XY_corr_demean=XY_corr_list-new\n",
    "    XY_mean=torch.flatten(XY_corr_demean,start_dim=1)\n",
    "    XY_norm=torch.nn.functional.normalize(XY_mean,dim=1)\n",
    "    XY_corr=1-torch.mm(XY_norm,torch.transpose(XY_norm,1,0))\n",
    "    return XY_corr"
   ]
  },
  {
   "cell_type": "code",
   "execution_count": 32,
   "metadata": {},
   "outputs": [],
   "source": [
    "@torch.jit.script\n",
    "def rdm_sub(x):\n",
    "    return torch.sub(1,x)"
   ]
  },
  {
   "cell_type": "code",
   "execution_count": 5,
   "metadata": {},
   "outputs": [
    {
     "data": {
      "text/plain": [
       "'GeForce GTX 1080 Ti'"
      ]
     },
     "execution_count": 5,
     "metadata": {},
     "output_type": "execute_result"
    }
   ],
   "source": [
    "device = torch.device(\"cuda:0\" if torch.cuda.is_available() else \"cpu\")\n",
    "device\n",
    "torch.cuda.get_device_name(0)"
   ]
  },
  {
   "cell_type": "code",
   "execution_count": 6,
   "metadata": {},
   "outputs": [],
   "source": [
    "N=8\n",
    "D=1000\n",
    "x=np.random.normal(size=(N, D))\n",
    "y=np.random.normal(size=(N, D))\n",
    "x_list=[np.random.normal(size=( N, D)) for k in range(7)]\n",
    "X_list=[torch.tensor(x).to(device) for x in x_list]\n",
    "X = torch.tensor(x).to(device)\n",
    "Y = torch.tensor(y).to(device)"
   ]
  },
  {
   "cell_type": "code",
   "execution_count": 7,
   "metadata": {},
   "outputs": [
    {
     "data": {
      "text/plain": [
       "array([0.87044187])"
      ]
     },
     "execution_count": 7,
     "metadata": {},
     "output_type": "execute_result"
    }
   ],
   "source": [
    "x_corr=create_rdm(x,vec=True)\n",
    "y_corr=create_rdm(y,vec=True)\n",
    "pdist(np.array([x_corr,y_corr]),'correlation')"
   ]
  },
  {
   "cell_type": "code",
   "execution_count": 83,
   "metadata": {},
   "outputs": [
    {
     "name": "stdout",
     "output_type": "stream",
     "text": [
      "380 µs ± 214 µs per loop (mean ± std. dev. of 7 runs, 10 loops each)\n"
     ]
    }
   ],
   "source": [
    "timeit -n 10 pt_create_corr_rdm_short(X)"
   ]
  },
  {
   "cell_type": "code",
   "execution_count": 288,
   "metadata": {},
   "outputs": [
    {
     "data": {
      "text/plain": [
       "tensor([1.], device='cuda:0', dtype=torch.float64)"
      ]
     },
     "execution_count": 288,
     "metadata": {},
     "output_type": "execute_result"
    }
   ],
   "source": []
  },
  {
   "cell_type": "code",
   "execution_count": 8,
   "metadata": {},
   "outputs": [
    {
     "name": "stdout",
     "output_type": "stream",
     "text": [
      "x mean: 1.0012642745753249\n",
      "x norm: 0.04757941602566812\n",
      "y mean: 0.9989058531920175\n",
      "y norm: 0.03750213827806507\n",
      "x_dmean *y_dmean: 0.00023117443010475266\n"
     ]
    },
    {
     "data": {
      "text/plain": [
       "0.8704418739999557"
      ]
     },
     "execution_count": 8,
     "metadata": {},
     "output_type": "execute_result"
    }
   ],
   "source": [
    "x_dmean=x_corr-np.mean(x_corr)\n",
    "print(f\"x mean: {np.mean(x_corr)}\")\n",
    "print(f\"x norm: {np.linalg.norm(x_dmean)}\")\n",
    "x_norm=x_dmean/np.linalg.norm(x_dmean)\n",
    "\n",
    "y_dmean=y_corr-np.mean(y_corr)\n",
    "print(f\"y mean: {np.mean(y_corr)}\")\n",
    "print(f\"y norm: {np.linalg.norm(y_dmean)}\")\n",
    "y_norm=y_dmean/np.linalg.norm(y_dmean)\n",
    "\n",
    "print(f\"x_dmean *y_dmean: {np.matmul(x_dmean,y_dmean)}\")\n",
    "1-np.matmul(x_norm,y_norm)\n",
    "\n"
   ]
  },
  {
   "cell_type": "code",
   "execution_count": 87,
   "metadata": {},
   "outputs": [
    {
     "name": "stdout",
     "output_type": "stream",
     "text": [
      "555 µs ± 267 µs per loop (mean ± std. dev. of 7 runs, 10 loops each)\n"
     ]
    }
   ],
   "source": [
    "%timeit -n 10 pt_create_corr_rdm_v2(X,vec=False)\n"
   ]
  },
  {
   "cell_type": "code",
   "execution_count": 88,
   "metadata": {},
   "outputs": [
    {
     "name": "stdout",
     "output_type": "stream",
     "text": [
      "1.55 ms ± 651 µs per loop (mean ± std. dev. of 7 runs, 10 loops each)\n"
     ]
    }
   ],
   "source": [
    "%timeit -n 10 pt_second_order_rdm_v2([X,Y])"
   ]
  },
  {
   "cell_type": "code",
   "execution_count": 91,
   "metadata": {},
   "outputs": [
    {
     "name": "stdout",
     "output_type": "stream",
     "text": [
      "4.71 ms ± 1.8 ms per loop (mean ± std. dev. of 7 runs, 10 loops each)\n"
     ]
    }
   ],
   "source": [
    "%timeit -n 10 pt_second_order_rdm_v2(X_list)"
   ]
  },
  {
   "cell_type": "code",
   "execution_count": 92,
   "metadata": {},
   "outputs": [
    {
     "name": "stdout",
     "output_type": "stream",
     "text": [
      "171 ms ± 6.35 ms per loop (mean ± std. dev. of 7 runs, 10 loops each)\n"
     ]
    }
   ],
   "source": [
    "%timeit -n 10 second_order_rdm(x_list)"
   ]
  },
  {
   "cell_type": "code",
   "execution_count": 228,
   "metadata": {},
   "outputs": [
    {
     "data": {
      "text/plain": [
       "<matplotlib.image.AxesImage at 0x2ab4e0512710>"
      ]
     },
     "execution_count": 228,
     "metadata": {},
     "output_type": "execute_result"
    },
    {
     "data": {
      "image/png": "[encoded data removed]",
      "text/plain": [
       "<Figure size 432x288 with 1 Axes>"
      ]
     },
     "metadata": {
      "needs_background": "light"
     },
     "output_type": "display_data"
    }
   ],
   "source": [
    "plt.imshow(pt_second_order_rdm_v2(X_list).cpu())\n"
   ]
  },
  {
   "cell_type": "code",
   "execution_count": 234,
   "metadata": {},
   "outputs": [
    {
     "data": {
      "text/plain": [
       "<matplotlib.image.AxesImage at 0x2ab4e0728750>"
      ]
     },
     "execution_count": 234,
     "metadata": {},
     "output_type": "execute_result"
    },
    {
     "data": {
      "image/png": "[encoded data removed]",
      "text/plain": [
       "<Figure size 432x288 with 1 Axes>"
      ]
     },
     "metadata": {
      "needs_background": "light"
     },
     "output_type": "display_data"
    }
   ],
   "source": [
    "plt.imshow(second_order_rdm(x_list)-pt_second_order_rdm_v2(X_list).cpu().numpy())\n"
   ]
  },
  {
   "cell_type": "code",
   "execution_count": 57,
   "metadata": {},
   "outputs": [],
   "source": [
    "X1_demean=X_corr-X1.mean()*torch.triu(1 - torch.eye(N, N)).to(device)\n",
    "X1_norm=torch.div(X1_demean,X1_demean.norm()).reshape(1,-1)\n",
    "Y1_demean=Y_corr-(correction*Y_corr).mean()*torch.triu(1 - torch.eye(N, N)).to(device)\n",
    "Y1_norm=torch.div(Y1_demean,Y1_demean.norm()).reshape(1,-1)"
   ]
  },
  {
   "cell_type": "code",
   "execution_count": 60,
   "metadata": {},
   "outputs": [
    {
     "data": {
      "text/plain": [
       "tensor([[0.8704]], device='cuda:0', dtype=torch.float64)"
      ]
     },
     "execution_count": 60,
     "metadata": {},
     "output_type": "execute_result"
    }
   ],
   "source": [
    "1-torch.mm(X1_norm,torch.transpose(Y1_norm,1,0))"
   ]
  },
  {
   "cell_type": "code",
   "execution_count": 74,
   "metadata": {},
   "outputs": [],
   "source": [
    "X_list=[X,Y]\n",
    "XY_corr_list=torch.stack([pt_create_corr_rdm_v2(p,vec=False) for p in X_list])"
   ]
  },
  {
   "cell_type": "code",
   "execution_count": 135,
   "metadata": {},
   "outputs": [],
   "source": [
    "XY_fix=correction*XY_corr_list.mean(dim=(1,2)).unsqueeze(0)\n",
    "fix_mat=torch.triu(1-torch.eye(N,N,dtype=float,device=device)).unsqueeze(0)\n",
    "new=(fix_mat.permute(2,1,0).matmul(XY_fix)).permute(2,1,0)\n",
    "XY_corr_demean=XY_corr_list-new"
   ]
  },
  {
   "cell_type": "code",
   "execution_count": 154,
   "metadata": {},
   "outputs": [],
   "source": [
    "XY_mean=torch.flatten(XY_corr_demean,start_dim=1)\n",
    "XY_mean.norm()"
   ]
  },
  {
   "cell_type": "code",
   "execution_count": 126,
   "metadata": {},
   "outputs": [],
   "source": [
    "fix_mat=torch.triu(1-torch.eye(N,N,dtype=float,device=device)).unsqueeze(0)\n",
    "new=fix_mat.permute(2,1,0).matmul(XY_fix)"
   ]
  },
  {
   "cell_type": "code",
   "execution_count": 173,
   "metadata": {},
   "outputs": [
    {
     "data": {
      "text/plain": [
       "tensor([[ 0.0000,  0.2909, -0.1420,  0.3509, -0.5265,  0.0000,  0.0000,  0.1834,\n",
       "         -0.1653,  0.1295,  0.0000,  0.0000,  0.0000, -0.4274, -0.1530,  0.0000,\n",
       "          0.0000,  0.0000,  0.0000,  0.4594,  0.0000,  0.0000,  0.0000,  0.0000,\n",
       "          0.0000],\n",
       "        [ 0.0000, -0.0053,  0.1783,  0.3919, -0.0936,  0.0000,  0.0000, -0.8178,\n",
       "         -0.1823,  0.2644,  0.0000,  0.0000,  0.0000,  0.0317,  0.0623,  0.0000,\n",
       "          0.0000,  0.0000,  0.0000,  0.1704,  0.0000,  0.0000,  0.0000,  0.0000,\n",
       "          0.0000]], device='cuda:0', dtype=torch.float64)"
      ]
     },
     "execution_count": 173,
     "metadata": {},
     "output_type": "execute_result"
    }
   ],
   "source": [
    "XY_norm=torch.nn.functional.normalize(XY_mean,dim=1)\n",
    "XY_norm"
   ]
  },
  {
   "cell_type": "code",
   "execution_count": 174,
   "metadata": {},
   "outputs": [
    {
     "data": {
      "text/plain": [
       "array([-0.00532935,  0.1782659 ,  0.39194706, -0.09358579, -0.81776212,\n",
       "       -0.18232929,  0.26442186,  0.03168882,  0.062307  ,  0.17037591])"
      ]
     },
     "execution_count": 174,
     "metadata": {},
     "output_type": "execute_result"
    }
   ],
   "source": []
  },
  {
   "cell_type": "code",
   "execution_count": 162,
   "metadata": {},
   "outputs": [
    {
     "data": {
      "text/plain": [
       "tensor(560.4345, device='cuda:0', dtype=torch.float64)"
      ]
     },
     "execution_count": 162,
     "metadata": {},
     "output_type": "execute_result"
    }
   ],
   "source": [
    "XY_mean.norm(dim=1).prod()"
   ]
  },
  {
   "cell_type": "markdown",
   "metadata": {},
   "source": [
    "# profiling "
   ]
  },
  {
   "cell_type": "code",
   "execution_count": 7,
   "metadata": {},
   "outputs": [],
   "source": [
    "import torch.autograd.profiler as profiler"
   ]
  },
  {
   "cell_type": "code",
   "execution_count": 243,
   "metadata": {},
   "outputs": [],
   "source": [
    "with profiler.profile(record_shapes=True) as prof:\n",
    "    with profiler.record_function(\"model_inference\"):\n",
    "        pt_second_order_rdm_v2(X_list)"
   ]
  },
  {
   "cell_type": "code",
   "execution_count": 246,
   "metadata": {},
   "outputs": [
    {
     "name": "stdout",
     "output_type": "stream",
     "text": [
      "------------------------------------  ---------------  ---------------  ---------------  ---------------  ---------------  ---------------  \n",
      "Name                                  Self CPU total %  Self CPU total   CPU total %      CPU total        CPU time avg     Number of Calls  \n",
      "------------------------------------  ---------------  ---------------  ---------------  ---------------  ---------------  ---------------  \n",
      "profiler::_record_function_enter      0.13%            52.137us         0.13%            52.137us         52.137us         1                \n",
      "model_inference                       24.12%           10.026ms         99.87%           41.515ms         41.515ms         1                \n",
      "mean                                  70.26%           29.203ms         70.26%           29.203ms         3.650ms          8                \n",
      "sub                                   0.53%            222.049us        0.53%            222.049us        27.756us         8                \n",
      "norm                                  0.46%            189.149us        0.46%            189.149us        23.644us         8                \n",
      "clamp_min                             0.51%            210.091us        0.51%            210.091us        26.261us         8                \n",
      "expand_as                             0.05%            20.621us         0.19%            79.959us         9.995us          8                \n",
      "expand                                0.14%            59.338us         0.14%            59.338us         7.417us          8                \n",
      "div                                   0.44%            181.310us        0.44%            181.310us        22.664us         8                \n",
      "transpose                             0.10%            40.903us         0.10%            40.903us         5.113us          8                \n",
      "mm                                    0.94%            390.391us        0.94%            390.391us        43.377us         9                \n",
      "rsub                                  0.79%            329.383us        0.79%            329.383us        36.598us         9                \n",
      "triu                                  0.45%            187.971us        0.45%            187.971us        23.496us         8                \n",
      "clamp                                 0.39%            162.475us        0.39%            162.475us        23.211us         7                \n",
      "stack                                 0.30%            126.028us        0.30%            126.028us        126.028us        1                \n",
      "unsqueeze                             0.03%            13.773us         0.03%            13.773us         6.887us          2                \n",
      "mul                                   0.07%            29.203us         0.07%            29.203us         29.203us         1                \n",
      "permute                               0.03%            13.038us         0.03%            13.038us         6.519us          2                \n",
      "matmul                                0.04%            17.846us         0.28%            114.699us        114.699us        1                \n",
      "contiguous                            0.10%            40.720us         0.12%            48.415us         48.415us         1                \n",
      "empty_like                            0.01%            3.080us          0.02%            7.695us          7.695us          1                \n",
      "empty                                 0.01%            4.615us          0.01%            4.615us          4.615us          1                \n",
      "view                                  0.06%            23.102us         0.06%            23.102us         11.551us         2                \n",
      "_unsafe_view                          0.02%            7.646us          0.02%            7.646us          7.646us          1                \n",
      "flatten                               0.01%            6.128us          0.04%            18.413us         18.413us         1                \n",
      "reshape                               0.01%            4.273us          0.03%            12.285us         12.285us         1                \n",
      "profiler::_record_function_exit       0.01%            2.582us          0.01%            2.582us          2.582us          1                \n",
      "------------------------------------  ---------------  ---------------  ---------------  ---------------  ---------------  ---------------  \n",
      "Self CPU time total: 41.567ms\n",
      "\n"
     ]
    }
   ],
   "source": [
    "print(prof.key_averages().table())"
   ]
  },
  {
   "cell_type": "code",
   "execution_count": 250,
   "metadata": {},
   "outputs": [],
   "source": [
    "import torch.autograd.profiler as gpu_profiler\n"
   ]
  },
  {
   "cell_type": "code",
   "execution_count": 96,
   "metadata": {},
   "outputs": [
    {
     "name": "stdout",
     "output_type": "stream",
     "text": [
      "----------------  ---------------  ---------------  ---------------  ---------------  ---------------  ---------------  ---------------  ---------------  ---------------  \n",
      "Name              Self CPU total %  Self CPU total   CPU total %      CPU total        CPU time avg     CUDA total %     CUDA total       CUDA time avg    Number of Calls  \n",
      "----------------  ---------------  ---------------  ---------------  ---------------  ---------------  ---------------  ---------------  ---------------  ---------------  \n",
      "mean              13.23%           544.907us        13.23%           544.907us        68.113us         2.76%            229.376us        28.672us         8                \n",
      "sub               11.54%           474.983us        11.54%           474.983us        59.373us         3.48%            288.608us        36.076us         8                \n",
      "transpose         4.23%            174.129us        4.23%            174.129us        21.766us         0.58%            48.321us         6.040us          8                \n",
      "mm                16.97%           698.621us        16.97%           698.621us        77.625us         72.38%           6.010ms          667.747us        9                \n",
      "rsub              16.80%           691.969us        16.80%           691.969us        76.885us         0.72%            59.391us         6.599us          9                \n",
      "triu              10.47%           431.161us        10.47%           431.161us        53.895us         0.65%            54.272us         6.784us          8                \n",
      "clamp             8.99%            370.176us        8.99%            370.176us        52.882us         0.43%            35.840us         5.120us          7                \n",
      "stack             3.43%            141.243us        3.43%            141.243us        141.243us        0.52%            43.008us         43.008us         1                \n",
      "unsqueeze         0.97%            40.082us         0.97%            40.082us         20.041us         0.04%            3.072us          1.536us          2                \n",
      "mul               1.36%            55.860us         1.36%            55.860us         55.860us         0.05%            4.096us          4.096us          1                \n",
      "permute           0.89%            36.468us         0.89%            36.468us         18.234us         0.02%            2.048us          1.024us          2                \n",
      "matmul            1.34%            55.057us         5.84%            240.663us        240.663us        0.74%            61.440us         61.440us         1                \n",
      "contiguous        1.42%            58.528us         2.23%            91.888us         91.888us         0.16%            13.312us         13.312us         1                \n",
      "empty_like        0.42%            17.317us         0.81%            33.360us         33.360us         0.06%            5.120us          5.120us          1                \n",
      "empty             0.39%            16.043us         0.39%            16.043us         16.043us         0.01%            1.024us          1.024us          1                \n",
      "view              1.28%            52.811us         1.28%            52.811us         26.405us         0.02%            2.048us          1.024us          2                \n",
      "_unsafe_view      0.52%            21.230us         0.52%            21.230us         21.230us         0.01%            1.024us          1.024us          1                \n",
      "flatten           0.46%            18.785us         1.49%            61.450us         61.450us         0.09%            7.168us          7.168us          1                \n",
      "reshape           0.43%            17.550us         1.04%            42.665us         42.665us         0.05%            4.096us          4.096us          1                \n",
      "norm              1.49%            61.494us         1.49%            61.494us         61.494us         16.43%           1.364ms          1.364ms          1                \n",
      "clamp_min         1.23%            50.773us         1.23%            50.773us         50.773us         0.05%            4.096us          4.096us          1                \n",
      "expand_as         0.40%            16.284us         0.87%            35.780us         35.780us         0.05%            4.096us          4.096us          1                \n",
      "expand            0.47%            19.496us         0.47%            19.496us         19.496us         0.01%            1.023us          1.023us          1                \n",
      "div               1.28%            52.782us         1.28%            52.782us         52.782us         0.69%            57.345us         57.345us         1                \n",
      "----------------  ---------------  ---------------  ---------------  ---------------  ---------------  ---------------  ---------------  ---------------  ---------------  \n",
      "Self CPU time total: 4.118ms\n",
      "CUDA time total: 8.304ms\n",
      "\n"
     ]
    }
   ],
   "source": [
    "with torch.autograd.profiler.profile(use_cuda=True) as prof:\n",
    "    pt_second_order_rdm_v2(X_list)\n",
    "print(prof.key_averages().table()) "
   ]
  },
  {
   "cell_type": "code",
   "execution_count": 261,
   "metadata": {},
   "outputs": [
    {
     "data": {
      "text/plain": [
       "'1.4.0'"
      ]
     },
     "execution_count": 261,
     "metadata": {},
     "output_type": "execute_result"
    }
   ],
   "source": [
    "torch.__version__"
   ]
  },
  {
   "cell_type": "code",
   "execution_count": 101,
   "metadata": {},
   "outputs": [
    {
     "data": {
      "text/plain": [
       "torch.Size([21, 2])"
      ]
     },
     "execution_count": 101,
     "metadata": {},
     "output_type": "execute_result"
    }
   ],
   "source": [
    "torch.combinations(torch.tensor([1,2,3,4,5,6,7]))"
   ]
  },
  {
   "cell_type": "code",
   "execution_count": 102,
   "metadata": {},
   "outputs": [
    {
     "data": {
      "text/plain": [
       "21.0"
      ]
     },
     "execution_count": 102,
     "metadata": {},
     "output_type": "execute_result"
    }
   ],
   "source": []
  },
  {
   "cell_type": "code",
   "execution_count": null,
   "metadata": {},
   "outputs": [],
   "source": []
  }
 ],
 "metadata": {
  "kernelspec": {
   "display_name": "Python 3",
   "language": "python",
   "name": "python3"
  },
  "language_info": {
   "codemirror_mode": {
    "name": "ipython",
    "version": 3
   },
   "file_extension": ".py",
   "mimetype": "text/x-python",
   "name": "python",
   "nbconvert_exporter": "python",
   "pygments_lexer": "ipython3",
   "version": "3.6.10"
  }
 },
 "nbformat": 4,
 "nbformat_minor": 4
}
