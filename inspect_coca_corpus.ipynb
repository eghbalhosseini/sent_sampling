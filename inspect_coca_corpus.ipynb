{
 "cells": [
  {
   "cell_type": "code",
   "execution_count": 12,
   "metadata": {},
   "outputs": [],
   "source": [
    "import os \n",
    "import numpy as np\n",
    "from utils.data_utils import load_obj, SAVE_DIR, UD_PARENT, RESULTS_DIR, LEX_PATH_SET, save_obj, COCA_CORPUS_DIR\n",
    "from utils import extract_pool\n",
    "from utils.optim_utils import optim_pool\n",
    "import matplotlib.pyplot as plt\n",
    "import matplotlib.cm as cm\n",
    "import matplotlib as mpl\n",
    "import seaborn\n",
    "from tqdm import tqdm \n",
    "import pandas as pd \n",
    "import glob \n",
    "import pickle"
   ]
  },
  {
   "cell_type": "code",
   "execution_count": 6,
   "metadata": {},
   "outputs": [],
   "source": [
    "coca_spoke_files=glob.glob(os.path.join(COCA_CORPUS_DIR,'coca_spok_'+('[0-9]' * 4)+'.pkl'));\n",
    "coca_spoke_files.append('/Users/eghbalhosseini/MyData/COCA_corpus/parsed/coca_spok_2012b.pkl')\n",
    "coca_spoke_files=sorted(coca_spoke_files)\n",
    "coca_spoke_filter_ngram_files=sorted(coca_spoke_filter_ngram_files)"
   ]
  },
  {
   "cell_type": "code",
   "execution_count": 7,
   "metadata": {},
   "outputs": [
    {
     "data": {
      "text/plain": [
       "['/Users/eghbalhosseini/MyData/COCA_corpus/parsed/coca_spok_1990.pkl',\n",
       " '/Users/eghbalhosseini/MyData/COCA_corpus/parsed/coca_spok_1991.pkl',\n",
       " '/Users/eghbalhosseini/MyData/COCA_corpus/parsed/coca_spok_1992.pkl',\n",
       " '/Users/eghbalhosseini/MyData/COCA_corpus/parsed/coca_spok_1993.pkl',\n",
       " '/Users/eghbalhosseini/MyData/COCA_corpus/parsed/coca_spok_1994.pkl',\n",
       " '/Users/eghbalhosseini/MyData/COCA_corpus/parsed/coca_spok_1995.pkl',\n",
       " '/Users/eghbalhosseini/MyData/COCA_corpus/parsed/coca_spok_1996.pkl',\n",
       " '/Users/eghbalhosseini/MyData/COCA_corpus/parsed/coca_spok_1997.pkl',\n",
       " '/Users/eghbalhosseini/MyData/COCA_corpus/parsed/coca_spok_1998.pkl',\n",
       " '/Users/eghbalhosseini/MyData/COCA_corpus/parsed/coca_spok_1999.pkl',\n",
       " '/Users/eghbalhosseini/MyData/COCA_corpus/parsed/coca_spok_2000.pkl',\n",
       " '/Users/eghbalhosseini/MyData/COCA_corpus/parsed/coca_spok_2001.pkl',\n",
       " '/Users/eghbalhosseini/MyData/COCA_corpus/parsed/coca_spok_2002.pkl',\n",
       " '/Users/eghbalhosseini/MyData/COCA_corpus/parsed/coca_spok_2003.pkl',\n",
       " '/Users/eghbalhosseini/MyData/COCA_corpus/parsed/coca_spok_2004.pkl',\n",
       " '/Users/eghbalhosseini/MyData/COCA_corpus/parsed/coca_spok_2005.pkl',\n",
       " '/Users/eghbalhosseini/MyData/COCA_corpus/parsed/coca_spok_2006.pkl',\n",
       " '/Users/eghbalhosseini/MyData/COCA_corpus/parsed/coca_spok_2007.pkl',\n",
       " '/Users/eghbalhosseini/MyData/COCA_corpus/parsed/coca_spok_2008.pkl',\n",
       " '/Users/eghbalhosseini/MyData/COCA_corpus/parsed/coca_spok_2009.pkl',\n",
       " '/Users/eghbalhosseini/MyData/COCA_corpus/parsed/coca_spok_2010.pkl',\n",
       " '/Users/eghbalhosseini/MyData/COCA_corpus/parsed/coca_spok_2011.pkl',\n",
       " '/Users/eghbalhosseini/MyData/COCA_corpus/parsed/coca_spok_2012.pkl',\n",
       " '/Users/eghbalhosseini/MyData/COCA_corpus/parsed/coca_spok_2012b.pkl',\n",
       " '/Users/eghbalhosseini/MyData/COCA_corpus/parsed/coca_spok_2013.pkl',\n",
       " '/Users/eghbalhosseini/MyData/COCA_corpus/parsed/coca_spok_2014.pkl',\n",
       " '/Users/eghbalhosseini/MyData/COCA_corpus/parsed/coca_spok_2015.pkl',\n",
       " '/Users/eghbalhosseini/MyData/COCA_corpus/parsed/coca_spok_2016.pkl',\n",
       " '/Users/eghbalhosseini/MyData/COCA_corpus/parsed/coca_spok_2017.pkl']"
      ]
     },
     "execution_count": 7,
     "metadata": {},
     "output_type": "execute_result"
    }
   ],
   "source": [
    "coca_spoke_files"
   ]
  },
  {
   "cell_type": "code",
   "execution_count": null,
   "metadata": {},
   "outputs": [],
   "source": []
  },
  {
   "cell_type": "code",
   "execution_count": 9,
   "metadata": {},
   "outputs": [
    {
     "name": "stderr",
     "output_type": "stream",
     "text": [
      "0it [00:00, ?it/s]"
     ]
    },
    {
     "name": "stdout",
     "output_type": "stream",
     "text": [
      "loading /Users/eghbalhosseini/MyData/COCA_corpus/parsed/coca_spok_1990.pkl\n",
      "loading /Users/eghbalhosseini/MyData/COCA_corpus/parsed/coca_spok_1990_filter_ngram.pkl\n"
     ]
    },
    {
     "name": "stderr",
     "output_type": "stream",
     "text": [
      "1it [00:06,  6.78s/it]"
     ]
    },
    {
     "name": "stdout",
     "output_type": "stream",
     "text": [
      "loading /Users/eghbalhosseini/MyData/COCA_corpus/parsed/coca_spok_1991.pkl\n",
      "loading /Users/eghbalhosseini/MyData/COCA_corpus/parsed/coca_spok_1991_filter_ngram.pkl\n"
     ]
    },
    {
     "name": "stderr",
     "output_type": "stream",
     "text": [
      "2it [00:13,  6.73s/it]"
     ]
    },
    {
     "name": "stdout",
     "output_type": "stream",
     "text": [
      "loading /Users/eghbalhosseini/MyData/COCA_corpus/parsed/coca_spok_1992.pkl\n",
      "loading /Users/eghbalhosseini/MyData/COCA_corpus/parsed/coca_spok_1992_filter_ngram.pkl\n"
     ]
    },
    {
     "name": "stderr",
     "output_type": "stream",
     "text": [
      "3it [00:20,  6.80s/it]"
     ]
    },
    {
     "name": "stdout",
     "output_type": "stream",
     "text": [
      "loading /Users/eghbalhosseini/MyData/COCA_corpus/parsed/coca_spok_1993.pkl\n",
      "loading /Users/eghbalhosseini/MyData/COCA_corpus/parsed/coca_spok_1993_filter_ngram.pkl\n"
     ]
    },
    {
     "name": "stderr",
     "output_type": "stream",
     "text": [
      "4it [00:27,  6.93s/it]"
     ]
    },
    {
     "name": "stdout",
     "output_type": "stream",
     "text": [
      "loading /Users/eghbalhosseini/MyData/COCA_corpus/parsed/coca_spok_1994.pkl\n",
      "loading /Users/eghbalhosseini/MyData/COCA_corpus/parsed/coca_spok_1994_filter_ngram.pkl\n"
     ]
    },
    {
     "name": "stderr",
     "output_type": "stream",
     "text": [
      "5it [00:35,  7.10s/it]"
     ]
    },
    {
     "name": "stdout",
     "output_type": "stream",
     "text": [
      "loading /Users/eghbalhosseini/MyData/COCA_corpus/parsed/coca_spok_1995.pkl\n",
      "loading /Users/eghbalhosseini/MyData/COCA_corpus/parsed/coca_spok_1995_filter_ngram.pkl\n"
     ]
    },
    {
     "name": "stderr",
     "output_type": "stream",
     "text": [
      "6it [00:43,  7.41s/it]"
     ]
    },
    {
     "name": "stdout",
     "output_type": "stream",
     "text": [
      "loading /Users/eghbalhosseini/MyData/COCA_corpus/parsed/coca_spok_1996.pkl\n",
      "loading /Users/eghbalhosseini/MyData/COCA_corpus/parsed/coca_spok_1996_filter_ngram.pkl\n"
     ]
    },
    {
     "name": "stderr",
     "output_type": "stream",
     "text": [
      "7it [00:49,  7.19s/it]"
     ]
    },
    {
     "name": "stdout",
     "output_type": "stream",
     "text": [
      "loading /Users/eghbalhosseini/MyData/COCA_corpus/parsed/coca_spok_1997.pkl\n",
      "loading /Users/eghbalhosseini/MyData/COCA_corpus/parsed/coca_spok_1997_filter_ngram.pkl\n"
     ]
    },
    {
     "name": "stderr",
     "output_type": "stream",
     "text": [
      "8it [00:57,  7.24s/it]"
     ]
    },
    {
     "name": "stdout",
     "output_type": "stream",
     "text": [
      "loading /Users/eghbalhosseini/MyData/COCA_corpus/parsed/coca_spok_1998.pkl\n",
      "loading /Users/eghbalhosseini/MyData/COCA_corpus/parsed/coca_spok_1998_filter_ngram.pkl\n"
     ]
    },
    {
     "name": "stderr",
     "output_type": "stream",
     "text": [
      "9it [01:05,  7.41s/it]"
     ]
    },
    {
     "name": "stdout",
     "output_type": "stream",
     "text": [
      "loading /Users/eghbalhosseini/MyData/COCA_corpus/parsed/coca_spok_1999.pkl\n",
      "loading /Users/eghbalhosseini/MyData/COCA_corpus/parsed/coca_spok_1999_filter_ngram.pkl\n"
     ]
    },
    {
     "name": "stderr",
     "output_type": "stream",
     "text": [
      "10it [01:13,  7.70s/it]"
     ]
    },
    {
     "name": "stdout",
     "output_type": "stream",
     "text": [
      "loading /Users/eghbalhosseini/MyData/COCA_corpus/parsed/coca_spok_2000.pkl\n",
      "loading /Users/eghbalhosseini/MyData/COCA_corpus/parsed/coca_spok_2000_filter_ngram.pkl\n"
     ]
    },
    {
     "name": "stderr",
     "output_type": "stream",
     "text": [
      "11it [01:20,  7.59s/it]"
     ]
    },
    {
     "name": "stdout",
     "output_type": "stream",
     "text": [
      "loading /Users/eghbalhosseini/MyData/COCA_corpus/parsed/coca_spok_2001.pkl\n",
      "loading /Users/eghbalhosseini/MyData/COCA_corpus/parsed/coca_spok_2001_filter_ngram.pkl\n"
     ]
    },
    {
     "name": "stderr",
     "output_type": "stream",
     "text": [
      "12it [01:29,  8.02s/it]"
     ]
    },
    {
     "name": "stdout",
     "output_type": "stream",
     "text": [
      "loading /Users/eghbalhosseini/MyData/COCA_corpus/parsed/coca_spok_2002.pkl\n",
      "loading /Users/eghbalhosseini/MyData/COCA_corpus/parsed/coca_spok_2002_filter_ngram.pkl\n"
     ]
    },
    {
     "name": "stderr",
     "output_type": "stream",
     "text": [
      "13it [01:37,  8.03s/it]"
     ]
    },
    {
     "name": "stdout",
     "output_type": "stream",
     "text": [
      "loading /Users/eghbalhosseini/MyData/COCA_corpus/parsed/coca_spok_2003.pkl\n",
      "loading /Users/eghbalhosseini/MyData/COCA_corpus/parsed/coca_spok_2003_filter_ngram.pkl\n"
     ]
    },
    {
     "name": "stderr",
     "output_type": "stream",
     "text": [
      "14it [01:45,  8.01s/it]"
     ]
    },
    {
     "name": "stdout",
     "output_type": "stream",
     "text": [
      "loading /Users/eghbalhosseini/MyData/COCA_corpus/parsed/coca_spok_2004.pkl\n",
      "loading /Users/eghbalhosseini/MyData/COCA_corpus/parsed/coca_spok_2004_filter_ngram.pkl\n"
     ]
    },
    {
     "name": "stderr",
     "output_type": "stream",
     "text": [
      "15it [01:54,  8.22s/it]"
     ]
    },
    {
     "name": "stdout",
     "output_type": "stream",
     "text": [
      "loading /Users/eghbalhosseini/MyData/COCA_corpus/parsed/coca_spok_2005.pkl\n",
      "loading /Users/eghbalhosseini/MyData/COCA_corpus/parsed/coca_spok_2005_filter_ngram.pkl\n"
     ]
    },
    {
     "name": "stderr",
     "output_type": "stream",
     "text": [
      "16it [02:03,  8.45s/it]"
     ]
    },
    {
     "name": "stdout",
     "output_type": "stream",
     "text": [
      "loading /Users/eghbalhosseini/MyData/COCA_corpus/parsed/coca_spok_2006.pkl\n",
      "loading /Users/eghbalhosseini/MyData/COCA_corpus/parsed/coca_spok_2006_filter_ngram.pkl\n"
     ]
    },
    {
     "name": "stderr",
     "output_type": "stream",
     "text": [
      "17it [02:12,  8.46s/it]"
     ]
    },
    {
     "name": "stdout",
     "output_type": "stream",
     "text": [
      "loading /Users/eghbalhosseini/MyData/COCA_corpus/parsed/coca_spok_2007.pkl\n",
      "loading /Users/eghbalhosseini/MyData/COCA_corpus/parsed/coca_spok_2007_filter_ngram.pkl\n"
     ]
    },
    {
     "name": "stderr",
     "output_type": "stream",
     "text": [
      "18it [02:20,  8.60s/it]"
     ]
    },
    {
     "name": "stdout",
     "output_type": "stream",
     "text": [
      "loading /Users/eghbalhosseini/MyData/COCA_corpus/parsed/coca_spok_2008.pkl\n",
      "loading /Users/eghbalhosseini/MyData/COCA_corpus/parsed/coca_spok_2008_filter_ngram.pkl\n"
     ]
    },
    {
     "name": "stderr",
     "output_type": "stream",
     "text": [
      "19it [02:27,  8.06s/it]"
     ]
    },
    {
     "name": "stdout",
     "output_type": "stream",
     "text": [
      "loading /Users/eghbalhosseini/MyData/COCA_corpus/parsed/coca_spok_2009.pkl\n",
      "loading /Users/eghbalhosseini/MyData/COCA_corpus/parsed/coca_spok_2009_filter_ngram.pkl\n"
     ]
    },
    {
     "name": "stderr",
     "output_type": "stream",
     "text": [
      "20it [02:37,  8.48s/it]"
     ]
    },
    {
     "name": "stdout",
     "output_type": "stream",
     "text": [
      "loading /Users/eghbalhosseini/MyData/COCA_corpus/parsed/coca_spok_2010.pkl\n",
      "loading /Users/eghbalhosseini/MyData/COCA_corpus/parsed/coca_spok_2010_filter_ngram.pkl\n"
     ]
    },
    {
     "name": "stderr",
     "output_type": "stream",
     "text": [
      "21it [02:44,  8.24s/it]"
     ]
    },
    {
     "name": "stdout",
     "output_type": "stream",
     "text": [
      "loading /Users/eghbalhosseini/MyData/COCA_corpus/parsed/coca_spok_2011.pkl\n",
      "loading /Users/eghbalhosseini/MyData/COCA_corpus/parsed/coca_spok_2011_filter_ngram.pkl\n"
     ]
    },
    {
     "name": "stderr",
     "output_type": "stream",
     "text": [
      "22it [02:54,  8.70s/it]"
     ]
    },
    {
     "name": "stdout",
     "output_type": "stream",
     "text": [
      "loading /Users/eghbalhosseini/MyData/COCA_corpus/parsed/coca_spok_2012.pkl\n",
      "loading /Users/eghbalhosseini/MyData/COCA_corpus/parsed/coca_spok_2012_filter_ngram.pkl\n"
     ]
    },
    {
     "name": "stderr",
     "output_type": "stream",
     "text": [
      "23it [03:00,  7.76s/it]"
     ]
    },
    {
     "name": "stdout",
     "output_type": "stream",
     "text": [
      "loading /Users/eghbalhosseini/MyData/COCA_corpus/parsed/coca_spok_2012b.pkl\n",
      "loading /Users/eghbalhosseini/MyData/COCA_corpus/parsed/coca_spok_2012b_filter_ngram.pkl\n"
     ]
    },
    {
     "name": "stderr",
     "output_type": "stream",
     "text": [
      "24it [03:04,  6.73s/it]"
     ]
    },
    {
     "name": "stdout",
     "output_type": "stream",
     "text": [
      "loading /Users/eghbalhosseini/MyData/COCA_corpus/parsed/coca_spok_2013.pkl\n",
      "loading /Users/eghbalhosseini/MyData/COCA_corpus/parsed/coca_spok_2013_filter_ngram.pkl\n"
     ]
    },
    {
     "name": "stderr",
     "output_type": "stream",
     "text": [
      "25it [03:13,  7.50s/it]"
     ]
    },
    {
     "name": "stdout",
     "output_type": "stream",
     "text": [
      "loading /Users/eghbalhosseini/MyData/COCA_corpus/parsed/coca_spok_2014.pkl\n",
      "loading /Users/eghbalhosseini/MyData/COCA_corpus/parsed/coca_spok_2014_filter_ngram.pkl\n"
     ]
    },
    {
     "name": "stderr",
     "output_type": "stream",
     "text": [
      "26it [03:22,  7.92s/it]"
     ]
    },
    {
     "name": "stdout",
     "output_type": "stream",
     "text": [
      "loading /Users/eghbalhosseini/MyData/COCA_corpus/parsed/coca_spok_2015.pkl\n",
      "loading /Users/eghbalhosseini/MyData/COCA_corpus/parsed/coca_spok_2015_filter_ngram.pkl\n"
     ]
    },
    {
     "name": "stderr",
     "output_type": "stream",
     "text": [
      "27it [03:31,  8.24s/it]"
     ]
    },
    {
     "name": "stdout",
     "output_type": "stream",
     "text": [
      "loading /Users/eghbalhosseini/MyData/COCA_corpus/parsed/coca_spok_2016.pkl\n",
      "loading /Users/eghbalhosseini/MyData/COCA_corpus/parsed/coca_spok_2016_filter_ngram.pkl\n"
     ]
    },
    {
     "name": "stderr",
     "output_type": "stream",
     "text": [
      "28it [03:42,  8.89s/it]"
     ]
    },
    {
     "name": "stdout",
     "output_type": "stream",
     "text": [
      "loading /Users/eghbalhosseini/MyData/COCA_corpus/parsed/coca_spok_2017.pkl\n",
      "loading /Users/eghbalhosseini/MyData/COCA_corpus/parsed/coca_spok_2017_filter_ngram.pkl\n"
     ]
    },
    {
     "name": "stderr",
     "output_type": "stream",
     "text": [
      "29it [03:51,  7.99s/it]\n"
     ]
    }
   ],
   "source": [
    "# get sentences that are within a range \n",
    "sentences=[]\n",
    "sentence_dat=''\n",
    "for idx, file in tqdm(enumerate(coca_spoke_files)):\n",
    "    temp=load_obj(file)\n",
    "    temp1=load_obj(coca_spoke_filter_ngram_files[idx])\n",
    "    sentence_dat=sentence_dat+f\"{temp['corpus_id']} : # original sentences : {len(temp['data'])}, after filtering {len(temp1['data'])}\\n\" \n",
    "    for k in temp1['data']:\n",
    "        sentences.append(k['text'])"
   ]
  },
  {
   "cell_type": "code",
   "execution_count": 10,
   "metadata": {},
   "outputs": [
    {
     "name": "stdout",
     "output_type": "stream",
     "text": [
      "spok_1990 : # original sentences : 185536, after filtering 47266\n",
      "spok_1991 : # original sentences : 176019, after filtering 44099\n",
      "spok_1992 : # original sentences : 227969, after filtering 61993\n",
      "spok_1993 : # original sentences : 223719, after filtering 58695\n",
      "spok_1994 : # original sentences : 233787, after filtering 59176\n",
      "spok_1995 : # original sentences : 242041, after filtering 60635\n",
      "spok_1996 : # original sentences : 220521, after filtering 56538\n",
      "spok_1997 : # original sentences : 221211, after filtering 63392\n",
      "spok_1998 : # original sentences : 240791, after filtering 68180\n",
      "spok_1999 : # original sentences : 252647, after filtering 74116\n",
      "spok_2000 : # original sentences : 221162, after filtering 62995\n",
      "spok_2001 : # original sentences : 211008, after filtering 59116\n",
      "spok_2002 : # original sentences : 229601, after filtering 66365\n",
      "spok_2003 : # original sentences : 238565, after filtering 68933\n",
      "spok_2004 : # original sentences : 229680, after filtering 69534\n",
      "spok_2005 : # original sentences : 229721, after filtering 70595\n",
      "spok_2006 : # original sentences : 241001, after filtering 82393\n",
      "spok_2007 : # original sentences : 249921, after filtering 83687\n",
      "spok_2008 : # original sentences : 215302, after filtering 74842\n",
      "spok_2009 : # original sentences : 247096, after filtering 83926\n",
      "spok_2010 : # original sentences : 262030, after filtering 89549\n",
      "spok_2011 : # original sentences : 267346, after filtering 93259\n",
      "spok_2012 : # original sentences : 153123, after filtering 53427\n",
      "spok_2012b : # original sentences : 122178, after filtering 43666\n",
      "spok_2013 : # original sentences : 258410, after filtering 91295\n",
      "spok_2014 : # original sentences : 264042, after filtering 91776\n",
      "spok_2015 : # original sentences : 272574, after filtering 96450\n",
      "spok_2016 : # original sentences : 279839, after filtering 105055\n",
      "spok_2017 : # original sentences : 277862, after filtering 99990\n",
      "\n"
     ]
    }
   ],
   "source": [
    "print(sentence_dat)"
   ]
  },
  {
   "cell_type": "code",
   "execution_count": 11,
   "metadata": {},
   "outputs": [],
   "source": [
    "sample_sentence=[sentences[x] for x in list(np.random.choice(len(sentences),1000))]\n",
    "\n",
    "with open(os.path.join(SAVE_DIR,'coca',f\"coca_sample_spok_filter_ngram_2.txt\"), 'w') as f:\n",
    "        for item in sample_sentence:\n",
    "            f.write(\" %s\\n\" % item)"
   ]
  },
  {
   "cell_type": "code",
   "execution_count": 7,
   "metadata": {},
   "outputs": [
    {
     "name": "stdout",
     "output_type": "stream",
     "text": [
      "loading /Users/eghbalhosseini/MyData/COCA_corpus/parsed/coca_spok_1991.pkl\n"
     ]
    }
   ],
   "source": [
    "temp=load_obj(coca_spoke_files[1])"
   ]
  },
  {
   "cell_type": "code",
   "execution_count": 8,
   "metadata": {},
   "outputs": [
    {
     "data": {
      "text/plain": [
       "2294993"
      ]
     },
     "execution_count": 8,
     "metadata": {},
     "output_type": "execute_result"
    }
   ],
   "source": [
    "len(sentences)"
   ]
  },
  {
   "cell_type": "code",
   "execution_count": null,
   "metadata": {},
   "outputs": [],
   "source": [
    "coca_spoke_files=glob.glob(os.path.join(COCA_CORPUS_DIR,'coca_fic_*'));\n",
    "total_sent=0\n",
    "for idx, file in tqdm(enumerate(coca_spoke_files)):\n",
    "    temp=load_obj(file)\n",
    "    total_sent=total_sent+len(temp['data'])\n",
    "total_sent"
   ]
  },
  {
   "cell_type": "code",
   "execution_count": 17,
   "metadata": {},
   "outputs": [
    {
     "ename": "NameError",
     "evalue": "name 'total_sent' is not defined",
     "output_type": "error",
     "traceback": [
      "\u001b[0;31m---------------------------------------------------------------------------\u001b[0m",
      "\u001b[0;31mNameError\u001b[0m                                 Traceback (most recent call last)",
      "\u001b[0;32m<ipython-input-17-58822a951879>\u001b[0m in \u001b[0;36m<module>\u001b[0;34m\u001b[0m\n\u001b[0;32m----> 1\u001b[0;31m \u001b[0mtotal_sent\u001b[0m\u001b[0;34m\u001b[0m\u001b[0;34m\u001b[0m\u001b[0m\n\u001b[0m",
      "\u001b[0;31mNameError\u001b[0m: name 'total_sent' is not defined"
     ]
    }
   ],
   "source": [
    "total_sent"
   ]
  },
  {
   "cell_type": "code",
   "execution_count": null,
   "metadata": {},
   "outputs": [],
   "source": []
  },
  {
   "cell_type": "code",
   "execution_count": null,
   "metadata": {},
   "outputs": [],
   "source": []
  },
  {
   "cell_type": "code",
   "execution_count": null,
   "metadata": {},
   "outputs": [],
   "source": []
  },
  {
   "cell_type": "code",
   "execution_count": 12,
   "metadata": {},
   "outputs": [
    {
     "data": {
      "text/plain": [
       "6694702"
      ]
     },
     "execution_count": 12,
     "metadata": {},
     "output_type": "execute_result"
    }
   ],
   "source": [
    "total_sent"
   ]
  },
  {
   "cell_type": "code",
   "execution_count": 37,
   "metadata": {
    "pycharm": {
     "name": "#%%\n"
    }
   },
   "outputs": [],
   "source": [
    "with open(os.path.join('/Users/eghbalhosseini/MyData/COCA_corpus/parsed/', f\"coca_spok_data_filter_ngram_punct.pkl\"), 'rb') as f_in:\n",
    "    coca_spoken=pickle.load(f_in)"
   ]
  },
  {
   "cell_type": "code",
   "execution_count": 38,
   "metadata": {},
   "outputs": [],
   "source": [
    "sentences=[]\n",
    "for k in coca_spoken['data']:\n",
    "    sentences.append(k['text'])"
   ]
  },
  {
   "cell_type": "code",
   "execution_count": 44,
   "metadata": {
    "pycharm": {
     "name": "#%% md\n"
    }
   },
   "outputs": [],
   "source": [
    "sample_sentence=[sentences[x] for x in list(np.random.choice(len(sentences),1000))]\n",
    "\n",
    "with open(os.path.join(SAVE_DIR,'coca',f\"coca_sample_spok_filter_ngram_punct_5.txt\"), 'w') as f:\n",
    "        for item in sample_sentence:\n",
    "            f.write(\" %s\\n\" % item)"
   ]
  },
  {
   "cell_type": "code",
   "execution_count": 28,
   "metadata": {},
   "outputs": [],
   "source": [
    "import re\n",
    "invalid_word_flag = np.argwhere([True if re.match(r'n\\'t', x) else False for x in sample_sentence[15].split(' ')])"
   ]
  },
  {
   "cell_type": "code",
   "execution_count": null,
   "metadata": {},
   "outputs": [],
   "source": [
    "invalid_word_flag = np.argwhere([True if re.match(r'n\\'t', x) else False for x in sample_sentence[15].split(' ')])\n",
    "if any(invalid_word_flag):\n",
    "\n",
    "    ind_to_remove = [int(y) for y in invalid_word_flag]\n",
    "    for k in ind_to_remove:\n",
    "        word_pair_idx = [k - 1, k]\n",
    "        prior_word_idx = k - 1\n",
    "        sent_word[prior_word_idx] = ''.join([sent_word[x] for x in word_pair_idx])\n",
    "        # remove occur\n",
    "    valid_word_flag = np.argwhere([False if re.match(r'\\:', x) else True for x in sent_word])\n",
    "    sent_word = [sent_word[int(x)] for x in valid_word_flag]"
   ]
  },
  {
   "cell_type": "code",
   "execution_count": 29,
   "metadata": {},
   "outputs": [
    {
     "data": {
      "text/plain": [
       "array([[2]])"
      ]
     },
     "execution_count": 29,
     "metadata": {},
     "output_type": "execute_result"
    }
   ],
   "source": []
  },
  {
   "cell_type": "code",
   "execution_count": null,
   "metadata": {},
   "outputs": [],
   "source": []
  }
 ],
 "metadata": {
  "kernelspec": {
   "display_name": "neural-nlp-master",
   "language": "python",
   "name": "neural-nlp-master"
  },
  "language_info": {
   "codemirror_mode": {
    "name": "ipython",
    "version": 3
   },
   "file_extension": ".py",
   "mimetype": "text/x-python",
   "name": "python",
   "nbconvert_exporter": "python",
   "pygments_lexer": "ipython3",
   "version": "3.7.9"
  }
 },
 "nbformat": 4,
 "nbformat_minor": 4
}
