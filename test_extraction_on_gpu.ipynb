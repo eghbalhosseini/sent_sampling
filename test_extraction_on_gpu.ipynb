{
 "cells": [
  {
   "cell_type": "code",
   "execution_count": 26,
   "metadata": {},
   "outputs": [],
   "source": [
    "import importlib\n",
    "from utils import extract_pool\n",
    "from utils.data_utils import SENTENCE_CONFIG\n",
    "from neural_nlp.models import model_pool\n",
    "import torch \n",
    "import utils.extract_utils\n",
    "importlib.reload(utils.extract_utils)\n",
    "from utils.extract_utils import model_extractor\n",
    "dataset='coca_spok_filter_punct_sample'\n",
    "datafile=[x['file_loc'] for x in SENTENCE_CONFIG if x['name']==dataset][0]\n",
    "model_name='distilgpt2'\n",
    "\n",
    "from neural_nlp.models import model_pool, model_layers\n",
    "from neural_nlp import FixedLayer"
   ]
  },
  {
   "cell_type": "code",
   "execution_count": 27,
   "metadata": {},
   "outputs": [
    {
     "data": {
      "text/plain": [
       "'GeForce RTX 2080'"
      ]
     },
     "execution_count": 27,
     "metadata": {},
     "output_type": "execute_result"
    }
   ],
   "source": [
    "torch.cuda.get_device_name(0)"
   ]
  },
  {
   "cell_type": "code",
   "execution_count": 28,
   "metadata": {},
   "outputs": [
    {
     "name": "stderr",
     "output_type": "stream",
     "text": [
      "11it [00:00, 56265.05it/s]\n",
      "11it [00:00, 62347.76it/s]\n",
      "11it [00:00, 57313.47it/s]\n",
      "11it [00:00, 72657.23it/s]\n",
      "11it [00:00, 75883.79it/s]\n",
      "11it [00:00, 19385.44it/s]\n",
      "11it [00:00, 20387.69it/s]\n",
      "11it [00:00, 68554.75it/s]\n",
      "12it [00:00, 79764.89it/s]"
     ]
    },
    {
     "name": "stdout",
     "output_type": "stream",
     "text": [
      "loading /om/user/ehoseini/MyData/COCA_corpus/parsed/coca_spok_data_filter_ngram_punct_sample.pkl\n"
     ]
    },
    {
     "name": "stderr",
     "output_type": "stream",
     "text": [
      "\n"
     ]
    }
   ],
   "source": [
    "\n",
    "test=model_extractor(dataset=dataset,datafile=datafile,model_spec=model_name,average_sentence=True)\n",
    "test.load_dataset()\n",
    "\n"
   ]
  },
  {
   "cell_type": "code",
   "execution_count": 29,
   "metadata": {},
   "outputs": [],
   "source": [
    "model_impl=model_pool[test.model_spec]\n",
    "layers=model_layers[test.model_spec]\n",
    "i=0\n",
    "candidate = FixedLayer(model_impl, layers[0], prerun=layers if i==0 else None)"
   ]
  },
  {
   "cell_type": "code",
   "execution_count": 25,
   "metadata": {},
   "outputs": [
    {
     "data": {
      "text/plain": [
       "device(type='cuda', index=0)"
      ]
     },
     "execution_count": 25,
     "metadata": {},
     "output_type": "execute_result"
    }
   ],
   "source": [
    "candidate._model._model.device"
   ]
  },
  {
   "cell_type": "code",
   "execution_count": 4,
   "metadata": {},
   "outputs": [],
   "source": []
  },
  {
   "cell_type": "code",
   "execution_count": null,
   "metadata": {},
   "outputs": [],
   "source": []
  },
  {
   "cell_type": "code",
   "execution_count": 30,
   "metadata": {},
   "outputs": [
    {
     "name": "stderr",
     "output_type": "stream",
     "text": [
      "layers:   0%|          | 0/7 [00:00<?, ?it/s]"
     ]
    },
    {
     "name": "stdout",
     "output_type": "stream",
     "text": [
      "\n",
      "extracting network activations for distilgpt2\n",
      "\n",
      "\n",
      "coca_spok_filter_punct_sample_distilgpt2_layer_0_activation_ave_True.pkl doesn't exists, creating...\n",
      "\n",
      "running coca_spok_filter_punct_sample_group_0-0 : What we're really talking about is character.\n",
      "\n"
     ]
    },
    {
     "name": "stderr",
     "output_type": "stream",
     "text": [
      "Some weights of GPT2Model were not initialized from the model checkpoint at distilgpt2 and are newly initialized: ['transformer.h.0.attn.masked_bias', 'transformer.h.1.attn.masked_bias', 'transformer.h.2.attn.masked_bias', 'transformer.h.3.attn.masked_bias', 'transformer.h.4.attn.masked_bias', 'transformer.h.5.attn.masked_bias']\n",
      "You should probably TRAIN this model on a down-stream task to be able to use it for predictions and inference.\n",
      "Using cls_token, but it is not set yet.\n",
      "\n",
      "token features:   0%|          | 0/9 [00:00<?, ?it/s]\u001b[A\n",
      "token features: 100%|██████████| 9/9 [00:00<00:00, 28.36it/s]\u001b[A\n",
      "\n",
      "layer packaging:   0%|          | 0/7 [00:00<?, ?it/s]\u001b[A/usr/local/lib/python3.7/site-packages/brainio_base/assemblies.py:224: FutureWarning: The inplace argument has been deprecated and will be removed in a future version of xarray.\n",
      "  xr_data.set_index(append=True, inplace=True, **coords_d)\n",
      "layer packaging: 100%|██████████| 7/7 [00:00<00:00, 103.01it/s]\n",
      "layers:   0%|          | 0/7 [00:05<?, ?it/s]\n"
     ]
    },
    {
     "ename": "ValueError",
     "evalue": "conflicting sizes for dimension 'presentation': length 7 on 'stimulus_id' and length 1 on 'presentation'",
     "output_type": "error",
     "traceback": [
      "\u001b[0;31m---------------------------------------------------------------------------\u001b[0m",
      "\u001b[0;31mValueError\u001b[0m                                Traceback (most recent call last)",
      "\u001b[0;32m<ipython-input-30-fbd55f77ab7c>\u001b[0m in \u001b[0;36m<module>\u001b[0;34m\u001b[0m\n\u001b[0;32m----> 1\u001b[0;31m \u001b[0mtest\u001b[0m\u001b[0;34m(\u001b[0m\u001b[0;34m)\u001b[0m\u001b[0;34m\u001b[0m\u001b[0;34m\u001b[0m\u001b[0m\n\u001b[0m",
      "\u001b[0;32m/om/user/ehoseini/sent_sampling/utils/extract_utils.py\u001b[0m in \u001b[0;36m__call__\u001b[0;34m(self, *args, **kwargs)\u001b[0m\n\u001b[1;32m    202\u001b[0m                 \u001b[0mcandidate\u001b[0m \u001b[0;34m=\u001b[0m \u001b[0mFixedLayer\u001b[0m\u001b[0;34m(\u001b[0m\u001b[0mmodel_impl\u001b[0m\u001b[0;34m,\u001b[0m \u001b[0mlayer\u001b[0m\u001b[0;34m,\u001b[0m \u001b[0mprerun\u001b[0m\u001b[0;34m=\u001b[0m\u001b[0mlayers\u001b[0m \u001b[0;32mif\u001b[0m \u001b[0mi\u001b[0m\u001b[0;34m==\u001b[0m\u001b[0;36m0\u001b[0m \u001b[0;32melse\u001b[0m \u001b[0;32mNone\u001b[0m\u001b[0;34m)\u001b[0m\u001b[0;34m\u001b[0m\u001b[0;34m\u001b[0m\u001b[0m\n\u001b[1;32m    203\u001b[0m                 \u001b[0;32mfor\u001b[0m \u001b[0mstim_id\u001b[0m\u001b[0;34m,\u001b[0m \u001b[0mstim\u001b[0m \u001b[0;32min\u001b[0m \u001b[0menumerate\u001b[0m\u001b[0;34m(\u001b[0m\u001b[0mself\u001b[0m\u001b[0;34m.\u001b[0m\u001b[0mextractor\u001b[0m\u001b[0;34m.\u001b[0m\u001b[0mstimuli_set\u001b[0m\u001b[0;34m)\u001b[0m\u001b[0;34m:\u001b[0m\u001b[0;34m\u001b[0m\u001b[0;34m\u001b[0m\u001b[0m\n\u001b[0;32m--> 204\u001b[0;31m                     \u001b[0mmodel_activations\u001b[0m \u001b[0;34m=\u001b[0m \u001b[0mread_words\u001b[0m\u001b[0;34m(\u001b[0m\u001b[0mcandidate\u001b[0m\u001b[0;34m,\u001b[0m \u001b[0mstim\u001b[0m\u001b[0;34m,\u001b[0m \u001b[0mcopy_columns\u001b[0m\u001b[0;34m=\u001b[0m\u001b[0;34m[\u001b[0m\u001b[0;34m'stimulus_id'\u001b[0m\u001b[0;34m]\u001b[0m\u001b[0;34m,\u001b[0m\u001b[0maverage_sentence\u001b[0m\u001b[0;34m=\u001b[0m\u001b[0mself\u001b[0m\u001b[0;34m.\u001b[0m\u001b[0maverage_sentence\u001b[0m\u001b[0;34m)\u001b[0m  \u001b[0;31m#\u001b[0m\u001b[0;34m\u001b[0m\u001b[0;34m\u001b[0m\u001b[0m\n\u001b[0m\u001b[1;32m    205\u001b[0m                     \u001b[0;32mif\u001b[0m \u001b[0mself\u001b[0m\u001b[0;34m.\u001b[0m\u001b[0maverage_sentence\u001b[0m\u001b[0;34m:\u001b[0m\u001b[0;34m\u001b[0m\u001b[0;34m\u001b[0m\u001b[0m\n\u001b[1;32m    206\u001b[0m                         \u001b[0mmodel_activations\u001b[0m \u001b[0;34m=\u001b[0m \u001b[0mself\u001b[0m\u001b[0;34m.\u001b[0m\u001b[0mextractor\u001b[0m\u001b[0;34m.\u001b[0m\u001b[0mget_mean_activations\u001b[0m\u001b[0;34m(\u001b[0m\u001b[0mmodel_activations\u001b[0m\u001b[0;34m)\u001b[0m\u001b[0;34m\u001b[0m\u001b[0;34m\u001b[0m\u001b[0m\n",
      "\u001b[0;32m~/neural-nlp-master/neural-nlp/neural_nlp/benchmarks/neural.py\u001b[0m in \u001b[0;36mread_words\u001b[0;34m(candidate, stimulus_set, reset_column, copy_columns, average_sentence)\u001b[0m\n\u001b[1;32m    628\u001b[0m         \u001b[0msentence_activations\u001b[0m \u001b[0;34m=\u001b[0m \u001b[0mcandidate\u001b[0m\u001b[0;34m(\u001b[0m\u001b[0mstimuli\u001b[0m\u001b[0;34m=\u001b[0m\u001b[0msentence_stimuli\u001b[0m\u001b[0;34m,\u001b[0m \u001b[0maverage_sentence\u001b[0m\u001b[0;34m=\u001b[0m\u001b[0maverage_sentence\u001b[0m\u001b[0;34m)\u001b[0m\u001b[0;34m\u001b[0m\u001b[0;34m\u001b[0m\u001b[0m\n\u001b[1;32m    629\u001b[0m         \u001b[0;32mfor\u001b[0m \u001b[0mcolumn\u001b[0m \u001b[0;32min\u001b[0m \u001b[0mcopy_columns\u001b[0m\u001b[0;34m:\u001b[0m\u001b[0;34m\u001b[0m\u001b[0;34m\u001b[0m\u001b[0m\n\u001b[0;32m--> 630\u001b[0;31m             \u001b[0msentence_activations\u001b[0m\u001b[0;34m[\u001b[0m\u001b[0mcolumn\u001b[0m\u001b[0;34m]\u001b[0m \u001b[0;34m=\u001b[0m \u001b[0;34m(\u001b[0m\u001b[0;34m'presentation'\u001b[0m\u001b[0;34m,\u001b[0m \u001b[0mpart_stimuli\u001b[0m\u001b[0;34m[\u001b[0m\u001b[0mcolumn\u001b[0m\u001b[0;34m]\u001b[0m\u001b[0;34m)\u001b[0m\u001b[0;34m\u001b[0m\u001b[0;34m\u001b[0m\u001b[0m\n\u001b[0m\u001b[1;32m    631\u001b[0m         \u001b[0mactivations\u001b[0m\u001b[0;34m.\u001b[0m\u001b[0mappend\u001b[0m\u001b[0;34m(\u001b[0m\u001b[0msentence_activations\u001b[0m\u001b[0;34m)\u001b[0m\u001b[0;34m\u001b[0m\u001b[0;34m\u001b[0m\u001b[0m\n\u001b[1;32m    632\u001b[0m     \u001b[0mmodel_activations\u001b[0m \u001b[0;34m=\u001b[0m \u001b[0mmerge_data_arrays\u001b[0m\u001b[0;34m(\u001b[0m\u001b[0mactivations\u001b[0m\u001b[0;34m)\u001b[0m\u001b[0;34m\u001b[0m\u001b[0;34m\u001b[0m\u001b[0m\n",
      "\u001b[0;32m/usr/local/lib/python3.7/site-packages/xarray/core/dataarray.py\u001b[0m in \u001b[0;36m__setitem__\u001b[0;34m(self, key, value)\u001b[0m\n\u001b[1;32m    483\u001b[0m     \u001b[0;32mdef\u001b[0m \u001b[0m__setitem__\u001b[0m\u001b[0;34m(\u001b[0m\u001b[0mself\u001b[0m\u001b[0;34m,\u001b[0m \u001b[0mkey\u001b[0m\u001b[0;34m,\u001b[0m \u001b[0mvalue\u001b[0m\u001b[0;34m)\u001b[0m\u001b[0;34m:\u001b[0m\u001b[0;34m\u001b[0m\u001b[0;34m\u001b[0m\u001b[0m\n\u001b[1;32m    484\u001b[0m         \u001b[0;32mif\u001b[0m \u001b[0misinstance\u001b[0m\u001b[0;34m(\u001b[0m\u001b[0mkey\u001b[0m\u001b[0;34m,\u001b[0m \u001b[0mstr\u001b[0m\u001b[0;34m)\u001b[0m\u001b[0;34m:\u001b[0m\u001b[0;34m\u001b[0m\u001b[0;34m\u001b[0m\u001b[0m\n\u001b[0;32m--> 485\u001b[0;31m             \u001b[0mself\u001b[0m\u001b[0;34m.\u001b[0m\u001b[0mcoords\u001b[0m\u001b[0;34m[\u001b[0m\u001b[0mkey\u001b[0m\u001b[0;34m]\u001b[0m \u001b[0;34m=\u001b[0m \u001b[0mvalue\u001b[0m\u001b[0;34m\u001b[0m\u001b[0;34m\u001b[0m\u001b[0m\n\u001b[0m\u001b[1;32m    486\u001b[0m         \u001b[0;32melse\u001b[0m\u001b[0;34m:\u001b[0m\u001b[0;34m\u001b[0m\u001b[0;34m\u001b[0m\u001b[0m\n\u001b[1;32m    487\u001b[0m             \u001b[0;31m# Coordinates in key, value and self[key] should be consistent.\u001b[0m\u001b[0;34m\u001b[0m\u001b[0;34m\u001b[0m\u001b[0;34m\u001b[0m\u001b[0m\n",
      "\u001b[0;32m/usr/local/lib/python3.7/site-packages/xarray/core/coordinates.py\u001b[0m in \u001b[0;36m__setitem__\u001b[0;34m(self, key, value)\u001b[0m\n\u001b[1;32m     21\u001b[0m \u001b[0;34m\u001b[0m\u001b[0m\n\u001b[1;32m     22\u001b[0m     \u001b[0;32mdef\u001b[0m \u001b[0m__setitem__\u001b[0m\u001b[0;34m(\u001b[0m\u001b[0mself\u001b[0m\u001b[0;34m,\u001b[0m \u001b[0mkey\u001b[0m\u001b[0;34m,\u001b[0m \u001b[0mvalue\u001b[0m\u001b[0;34m)\u001b[0m\u001b[0;34m:\u001b[0m\u001b[0;34m\u001b[0m\u001b[0;34m\u001b[0m\u001b[0m\n\u001b[0;32m---> 23\u001b[0;31m         \u001b[0mself\u001b[0m\u001b[0;34m.\u001b[0m\u001b[0mupdate\u001b[0m\u001b[0;34m(\u001b[0m\u001b[0;34m{\u001b[0m\u001b[0mkey\u001b[0m\u001b[0;34m:\u001b[0m \u001b[0mvalue\u001b[0m\u001b[0;34m}\u001b[0m\u001b[0;34m)\u001b[0m\u001b[0;34m\u001b[0m\u001b[0;34m\u001b[0m\u001b[0m\n\u001b[0m\u001b[1;32m     24\u001b[0m \u001b[0;34m\u001b[0m\u001b[0m\n\u001b[1;32m     25\u001b[0m     \u001b[0;34m@\u001b[0m\u001b[0mproperty\u001b[0m\u001b[0;34m\u001b[0m\u001b[0;34m\u001b[0m\u001b[0m\n",
      "\u001b[0;32m/usr/local/lib/python3.7/site-packages/xarray/core/coordinates.py\u001b[0m in \u001b[0;36mupdate\u001b[0;34m(self, other)\u001b[0m\n\u001b[1;32m     89\u001b[0m         coords = merge_coords([self.variables, other_vars],\n\u001b[1;32m     90\u001b[0m                               priority_arg=1, indexes=self.indexes)\n\u001b[0;32m---> 91\u001b[0;31m         \u001b[0mself\u001b[0m\u001b[0;34m.\u001b[0m\u001b[0m_update_coords\u001b[0m\u001b[0;34m(\u001b[0m\u001b[0mcoords\u001b[0m\u001b[0;34m)\u001b[0m\u001b[0;34m\u001b[0m\u001b[0;34m\u001b[0m\u001b[0m\n\u001b[0m\u001b[1;32m     92\u001b[0m \u001b[0;34m\u001b[0m\u001b[0m\n\u001b[1;32m     93\u001b[0m     \u001b[0;32mdef\u001b[0m \u001b[0m_merge_raw\u001b[0m\u001b[0;34m(\u001b[0m\u001b[0mself\u001b[0m\u001b[0;34m,\u001b[0m \u001b[0mother\u001b[0m\u001b[0;34m)\u001b[0m\u001b[0;34m:\u001b[0m\u001b[0;34m\u001b[0m\u001b[0;34m\u001b[0m\u001b[0m\n",
      "\u001b[0;32m/usr/local/lib/python3.7/site-packages/xarray/core/coordinates.py\u001b[0m in \u001b[0;36m_update_coords\u001b[0;34m(self, coords)\u001b[0m\n\u001b[1;32m    231\u001b[0m         \u001b[0mcoords_plus_data\u001b[0m \u001b[0;34m=\u001b[0m \u001b[0mcoords\u001b[0m\u001b[0;34m.\u001b[0m\u001b[0mcopy\u001b[0m\u001b[0;34m(\u001b[0m\u001b[0;34m)\u001b[0m\u001b[0;34m\u001b[0m\u001b[0;34m\u001b[0m\u001b[0m\n\u001b[1;32m    232\u001b[0m         \u001b[0mcoords_plus_data\u001b[0m\u001b[0;34m[\u001b[0m\u001b[0m_THIS_ARRAY\u001b[0m\u001b[0;34m]\u001b[0m \u001b[0;34m=\u001b[0m \u001b[0mself\u001b[0m\u001b[0;34m.\u001b[0m\u001b[0m_data\u001b[0m\u001b[0;34m.\u001b[0m\u001b[0mvariable\u001b[0m\u001b[0;34m\u001b[0m\u001b[0;34m\u001b[0m\u001b[0m\n\u001b[0;32m--> 233\u001b[0;31m         \u001b[0mdims\u001b[0m \u001b[0;34m=\u001b[0m \u001b[0mcalculate_dimensions\u001b[0m\u001b[0;34m(\u001b[0m\u001b[0mcoords_plus_data\u001b[0m\u001b[0;34m)\u001b[0m\u001b[0;34m\u001b[0m\u001b[0;34m\u001b[0m\u001b[0m\n\u001b[0m\u001b[1;32m    234\u001b[0m         \u001b[0;32mif\u001b[0m \u001b[0;32mnot\u001b[0m \u001b[0mset\u001b[0m\u001b[0;34m(\u001b[0m\u001b[0mdims\u001b[0m\u001b[0;34m)\u001b[0m \u001b[0;34m<=\u001b[0m \u001b[0mset\u001b[0m\u001b[0;34m(\u001b[0m\u001b[0mself\u001b[0m\u001b[0;34m.\u001b[0m\u001b[0mdims\u001b[0m\u001b[0;34m)\u001b[0m\u001b[0;34m:\u001b[0m\u001b[0;34m\u001b[0m\u001b[0;34m\u001b[0m\u001b[0m\n\u001b[1;32m    235\u001b[0m             raise ValueError('cannot add coordinates with new dimensions to '\n",
      "\u001b[0;32m/usr/local/lib/python3.7/site-packages/xarray/core/dataset.py\u001b[0m in \u001b[0;36mcalculate_dimensions\u001b[0;34m(variables)\u001b[0m\n\u001b[1;32m    117\u001b[0m                 raise ValueError('conflicting sizes for dimension %r: '\n\u001b[1;32m    118\u001b[0m                                  \u001b[0;34m'length %s on %r and length %s on %r'\u001b[0m \u001b[0;34m%\u001b[0m\u001b[0;34m\u001b[0m\u001b[0;34m\u001b[0m\u001b[0m\n\u001b[0;32m--> 119\u001b[0;31m                                  (dim, size, k, dims[dim], last_used[dim]))\n\u001b[0m\u001b[1;32m    120\u001b[0m     \u001b[0;32mreturn\u001b[0m \u001b[0mdims\u001b[0m\u001b[0;34m\u001b[0m\u001b[0;34m\u001b[0m\u001b[0m\n\u001b[1;32m    121\u001b[0m \u001b[0;34m\u001b[0m\u001b[0m\n",
      "\u001b[0;31mValueError\u001b[0m: conflicting sizes for dimension 'presentation': length 7 on 'stimulus_id' and length 1 on 'presentation'"
     ]
    }
   ],
   "source": [
    "test()"
   ]
  },
  {
   "cell_type": "code",
   "execution_count": 32,
   "metadata": {},
   "outputs": [
    {
     "data": {
      "text/plain": [
       "[     sentence_id  stimulus_id      word\n",
       " 0              0            0      What\n",
       " 1              0            1     we're\n",
       " 2              0            2    really\n",
       " 3              0            3   talking\n",
       " 4              0            4     about\n",
       " ..           ...          ...       ...\n",
       " 98            10           98  possibly\n",
       " 99            10           99      have\n",
       " 100           10          100      even\n",
       " 101           10          101      been\n",
       " 102           10          102  buddies.\n",
       " \n",
       " [103 rows x 3 columns],\n",
       "      sentence_id  stimulus_id         word\n",
       " 0             11            0          And\n",
       " 1             11            1           so\n",
       " 2             11            2           we\n",
       " 3             11            3         went\n",
       " 4             11            4           in\n",
       " ..           ...          ...          ...\n",
       " 96            21           96   candidates\n",
       " 97            21           97          win\n",
       " 98            21           98        their\n",
       " 99            21           99      party's\n",
       " 100           21          100  nomination.\n",
       " \n",
       " [101 rows x 3 columns],\n",
       "      sentence_id  stimulus_id       word\n",
       " 0             22            0       They\n",
       " 1             22            1        can\n",
       " 2             22            2    survive\n",
       " 3             22            3    without\n",
       " 4             22            4       food\n",
       " ..           ...          ...        ...\n",
       " 96            31           96    number.\n",
       " 97            32           97      Lucia\n",
       " 98            32           98    Newman,\n",
       " 99            32           99       CNN,\n",
       " 100           32          100  Santiago.\n",
       " \n",
       " [101 rows x 3 columns],\n",
       "      sentence_id  stimulus_id          word\n",
       " 0             33            0          Just\n",
       " 1             33            1            so\n",
       " 2             33            2           you\n",
       " 3             33            3         know,\n",
       " 4             33            4       Shawn's\n",
       " ..           ...          ...           ...\n",
       " 108           43          108            up\n",
       " 109           43          109          with\n",
       " 110           43          110     something\n",
       " 111           43          111        really\n",
       " 112           43          112  interesting.\n",
       " \n",
       " [113 rows x 3 columns],\n",
       "     sentence_id  stimulus_id        word\n",
       " 0            44            0          Be\n",
       " 1            44            1       happy\n",
       " 2            44            2          to\n",
       " 3            44            3        send\n",
       " 4            44            4         you\n",
       " ..          ...          ...         ...\n",
       " 95           54           95       about\n",
       " 96           54           96  everything\n",
       " 97           54           97         but\n",
       " 98           54           98        race\n",
       " 99           54           99    tonight.\n",
       " \n",
       " [100 rows x 3 columns],\n",
       "     sentence_id  stimulus_id       word\n",
       " 0            55            0     What's\n",
       " 1            55            1      more,\n",
       " 2            55            2      she's\n",
       " 3            55            3  divorced.\n",
       " 4            56            4        And\n",
       " ..          ...          ...        ...\n",
       " 80           65           80       will\n",
       " 81           65           81       talk\n",
       " 82           65           82         to\n",
       " 83           65           83        her\n",
       " 84           65           84      next.\n",
       " \n",
       " [85 rows x 3 columns],\n",
       "      sentence_id  stimulus_id      word\n",
       " 0             66            0       The\n",
       " 1             66            1      fire\n",
       " 2             66            2      that\n",
       " 3             66            3  occurred\n",
       " 4             66            4        in\n",
       " ..           ...          ...       ...\n",
       " 97            76           97       him\n",
       " 98            76           98        do\n",
       " 99            76           99        it\n",
       " 100           76          100      with\n",
       " 101           76          101  Carrier.\n",
       " \n",
       " [102 rows x 3 columns],\n",
       "     sentence_id  stimulus_id             word\n",
       " 0            77            0       Obviously,\n",
       " 1            77            1              had\n",
       " 2            77            2              she\n",
       " 3            77            3            lived\n",
       " 4            77            4                a\n",
       " ..          ...          ...              ...\n",
       " 91           87           91         happened\n",
       " 92           87           92               in\n",
       " 93           87           93  Czechoslovakia,\n",
       " 94           87           94         Hungary,\n",
       " 95           87           95          Poland.\n",
       " \n",
       " [96 rows x 3 columns],\n",
       "      sentence_id  stimulus_id      word\n",
       " 0             88            0       You\n",
       " 1             88            1     asked\n",
       " 2             88            2      with\n",
       " 3             88            3         a\n",
       " 4             88            4  question\n",
       " ..           ...          ...       ...\n",
       " 116           99          116        be\n",
       " 117           99          117    mostly\n",
       " 118           99          118         a\n",
       " 119           99          119      rain\n",
       " 120           99          120    event.\n",
       " \n",
       " [121 rows x 3 columns]]"
      ]
     },
     "execution_count": 32,
     "metadata": {},
     "output_type": "execute_result"
    }
   ],
   "source": [
    "test.extractor.stimuli_set"
   ]
  },
  {
   "cell_type": "code",
   "execution_count": null,
   "metadata": {},
   "outputs": [],
   "source": []
  }
 ],
 "metadata": {
  "kernelspec": {
   "display_name": "Python 3",
   "language": "python",
   "name": "python3"
  },
  "language_info": {
   "codemirror_mode": {
    "name": "ipython",
    "version": 3
   },
   "file_extension": ".py",
   "mimetype": "text/x-python",
   "name": "python",
   "nbconvert_exporter": "python",
   "pygments_lexer": "ipython3",
   "version": "3.7.9"
  }
 },
 "nbformat": 4,
 "nbformat_minor": 4
}
