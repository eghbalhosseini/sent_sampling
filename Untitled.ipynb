{
 "cells": [
  {
   "cell_type": "code",
   "execution_count": 126,
   "metadata": {},
   "outputs": [],
   "source": [
    "import importlib\n",
    "#import utils\n",
    "#importlib.reload(utils)\n",
    "from utils.data_utils import SENTENCE_CONFIG\n",
    "from neural_nlp.models import model_pool\n",
    "import utils.extract_utils\n",
    "importlib.reload(utils.extract_utils)\n",
    "from utils.extract_utils import model_extractor_parallel\n",
    "\n",
    "from neural_nlp.utils import ordered_set\n",
    "from neural_nlp.stimuli import load_stimuli, StimulusSet\n",
    "from neural_nlp.models import model_pool, model_layers\n",
    "from neural_nlp import FixedLayer\n",
    "from brainio_base.assemblies import DataAssembly, walk_coords, merge_data_arrays, array_is_element\n"
   ]
  },
  {
   "cell_type": "code",
   "execution_count": null,
   "metadata": {},
   "outputs": [],
   "source": []
  },
  {
   "cell_type": "code",
   "execution_count": 127,
   "metadata": {},
   "outputs": [],
   "source": [
    "\n",
    "dataset='ud_sentencez_token_filter_v3_sample'\n",
    "#dataset='coca_spok_filter_punct_sample'\n",
    "datafile=[x['file_loc'] for x in SENTENCE_CONFIG if x['name']==dataset][0]\n",
    "model_name='gpt2'\n"
   ]
  },
  {
   "cell_type": "code",
   "execution_count": null,
   "metadata": {},
   "outputs": [],
   "source": [
    "test=model_extractor_parallel(dataset=dataset,datafile=datafile,model_spec=model_name,average_sentence=False)\n",
    "\n",
    "test.load_dataset()\n"
   ]
  },
  {
   "cell_type": "code",
   "execution_count": 130,
   "metadata": {},
   "outputs": [],
   "source": [
    "stimulus_set=test.extractor.stimuli_set[1]"
   ]
  },
  {
   "cell_type": "code",
   "execution_count": 131,
   "metadata": {},
   "outputs": [],
   "source": [
    "model_impl = model_pool[test.model_spec]\n",
    "layers = model_layers[test.model_spec]\n"
   ]
  },
  {
   "cell_type": "code",
   "execution_count": 132,
   "metadata": {},
   "outputs": [],
   "source": [
    "i=0\n",
    "candidate = FixedLayer(model_impl, layers[0], prerun=layers if i==0 else None)\n"
   ]
  },
  {
   "cell_type": "code",
   "execution_count": null,
   "metadata": {},
   "outputs": [],
   "source": [
    "reset_column='sentence_id'\n",
    "copy_columns=['stimulus_id']\n",
    "activations = []\n",
    "for i, reset_id in enumerate(ordered_set(stimulus_set[reset_column].values)):\n",
    "    part_stimuli = stimulus_set[stimulus_set[reset_column] == reset_id]\n",
    "    stimulus_ids = part_stimuli['stimulus_id']\n",
    "    sentence_stimuli = StimulusSet({'sentence': ' '.join(part_stimuli['word']),\n",
    "                                        reset_column: list(set(part_stimuli[reset_column]))})\n",
    "    sentence_stimuli.name = f\"{stimulus_set.name}-{reset_id}\"\n",
    "    print(f\"running {sentence_stimuli.name} : {' '.join(part_stimuli['word'])}\\n\")\n",
    "    sentence_activations = candidate(stimuli=sentence_stimuli, average_sentence=False)\n",
    "    for column in copy_columns:\n",
    "            sentence_activations[column] = ('presentation', part_stimuli[column])\n",
    "    activations.append(sentence_activations)"
   ]
  },
  {
   "cell_type": "code",
   "execution_count": null,
   "metadata": {},
   "outputs": [],
   "source": [
    "model_activations = merge_data_arrays(activations)"
   ]
  },
  {
   "cell_type": "code",
   "execution_count": null,
   "metadata": {},
   "outputs": [],
   "source": []
  },
  {
   "cell_type": "code",
   "execution_count": null,
   "metadata": {},
   "outputs": [],
   "source": [
    "test(group_id=2)"
   ]
  },
  {
   "cell_type": "code",
   "execution_count": null,
   "metadata": {},
   "outputs": [],
   "source": []
  }
 ],
 "metadata": {
  "kernelspec": {
   "display_name": "neural-nlp-master",
   "language": "python",
   "name": "neural-nlp-master"
  },
  "language_info": {
   "codemirror_mode": {
    "name": "ipython",
    "version": 3
   },
   "file_extension": ".py",
   "mimetype": "text/x-python",
   "name": "python",
   "nbconvert_exporter": "python",
   "pygments_lexer": "ipython3",
   "version": "3.7.9"
  }
 },
 "nbformat": 4,
 "nbformat_minor": 4
}
